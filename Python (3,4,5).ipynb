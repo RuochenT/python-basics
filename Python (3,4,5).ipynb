{
 "cells": [
  {
   "cell_type": "markdown",
   "id": "d348acac",
   "metadata": {},
   "source": [
    "# Chapter 3: List "
   ]
  },
  {
   "cell_type": "markdown",
   "id": "10e4f7cb",
   "metadata": {},
   "source": [
    "A list is a collection of items."
   ]
  },
  {
   "cell_type": "code",
   "execution_count": 1,
   "id": "dc5ec3a7",
   "metadata": {},
   "outputs": [
    {
     "name": "stdout",
     "output_type": "stream",
     "text": [
      "['trek', 'cannondale', 'redline', 'specialized']\n"
     ]
    }
   ],
   "source": [
    "bicycles = ['trek','cannondale','redline','specialized']\n",
    "print(bicycles)"
   ]
  },
  {
   "cell_type": "code",
   "execution_count": 2,
   "id": "82392a5e",
   "metadata": {},
   "outputs": [
    {
     "name": "stdout",
     "output_type": "stream",
     "text": [
      "trek\n"
     ]
    }
   ],
   "source": [
    "print(bicycles[0])"
   ]
  },
  {
   "cell_type": "code",
   "execution_count": 3,
   "id": "46a29bd0",
   "metadata": {},
   "outputs": [
    {
     "name": "stdout",
     "output_type": "stream",
     "text": [
      "Trek\n"
     ]
    }
   ],
   "source": [
    "print(bicycles[0].title())"
   ]
  },
  {
   "cell_type": "code",
   "execution_count": 9,
   "id": "94d6cad9",
   "metadata": {},
   "outputs": [
    {
     "name": "stdout",
     "output_type": "stream",
     "text": [
      "redline\n"
     ]
    }
   ],
   "source": [
    "print(bicycles[-2])"
   ]
  },
  {
   "cell_type": "code",
   "execution_count": 11,
   "id": "8ca6c635",
   "metadata": {},
   "outputs": [
    {
     "name": "stdout",
     "output_type": "stream",
     "text": [
      "My first bicycle was a Trek.\n"
     ]
    }
   ],
   "source": [
    "message = f\"My first bicycle was a {bicycles[0].title()}.\"\n",
    "print(message)"
   ]
  },
  {
   "cell_type": "markdown",
   "id": "613c3dc8",
   "metadata": {},
   "source": [
    "**Practice 1**"
   ]
  },
  {
   "cell_type": "code",
   "execution_count": 14,
   "id": "11f2b080",
   "metadata": {},
   "outputs": [
    {
     "name": "stdout",
     "output_type": "stream",
     "text": [
      "Fai is a very sacrastic and funny person.\n"
     ]
    }
   ],
   "source": [
    "names = ['Chen','May','Mind','Fai','Tong']\n",
    "text = f\"{names[3].title()} is a very sacrastic and funny person.\"\n",
    "print(text)"
   ]
  },
  {
   "cell_type": "markdown",
   "id": "bf5d75c5",
   "metadata": {},
   "source": [
    "## Modifying, Adding, Removing elements"
   ]
  },
  {
   "cell_type": "markdown",
   "id": "ef1ece71",
   "metadata": {},
   "source": [
    "Most lists are dynamic. You can build a list and then add and remove elements."
   ]
  },
  {
   "cell_type": "code",
   "execution_count": 15,
   "id": "10de1c34",
   "metadata": {},
   "outputs": [],
   "source": [
    "motocycles = ['honda','yamaha','suzuki']"
   ]
  },
  {
   "cell_type": "code",
   "execution_count": 18,
   "id": "5d352cfc",
   "metadata": {},
   "outputs": [
    {
     "name": "stdout",
     "output_type": "stream",
     "text": [
      "['ducati', 'yamaha', 'suzuki']\n"
     ]
    }
   ],
   "source": [
    "motocycles[0] = 'ducati'\n",
    "print(motocycles)"
   ]
  },
  {
   "cell_type": "code",
   "execution_count": 21,
   "id": "a9e072bd",
   "metadata": {},
   "outputs": [
    {
     "name": "stdout",
     "output_type": "stream",
     "text": [
      "['honda', 'yamaha', 'suzuki', 'ducati']\n"
     ]
    }
   ],
   "source": [
    "motocycles = ['honda','yamaha','suzuki']\n",
    "motocycles.append('ducati')\n",
    "print(motocycles)"
   ]
  },
  {
   "cell_type": "code",
   "execution_count": 22,
   "id": "697736a8",
   "metadata": {},
   "outputs": [
    {
     "name": "stdout",
     "output_type": "stream",
     "text": [
      "['honda', 'yamaha', 'suzuki']\n"
     ]
    }
   ],
   "source": [
    "motorcycles = []\n",
    "\n",
    "motorcycles.append('honda')\n",
    "motorcycles.append('yamaha')\n",
    "motorcycles.append('suzuki')\n",
    "\n",
    "print(motorcycles)"
   ]
  },
  {
   "cell_type": "code",
   "execution_count": 23,
   "id": "b1ef841c",
   "metadata": {},
   "outputs": [
    {
     "name": "stdout",
     "output_type": "stream",
     "text": [
      "['ducati', 'honda', 'yamaha', 'suzuki']\n"
     ]
    }
   ],
   "source": [
    "motorcycles.insert(0, 'ducati')\n",
    "print(motorcycles)"
   ]
  },
  {
   "cell_type": "markdown",
   "id": "0e8ef30e",
   "metadata": {},
   "source": [
    "### Removing an item"
   ]
  },
  {
   "cell_type": "markdown",
   "id": "9d1a91d3",
   "metadata": {},
   "source": [
    "1.) Removing by index"
   ]
  },
  {
   "cell_type": "code",
   "execution_count": 24,
   "id": "fcfc75b7",
   "metadata": {},
   "outputs": [
    {
     "name": "stdout",
     "output_type": "stream",
     "text": [
      "['honda', 'yamaha', 'suzuki']\n"
     ]
    }
   ],
   "source": [
    "del motorcycles[0]\n",
    "print(motorcycles)"
   ]
  },
  {
   "cell_type": "markdown",
   "id": "58088de1",
   "metadata": {},
   "source": [
    "2.) Removing the **last item** by pop() method and store it to use it later"
   ]
  },
  {
   "cell_type": "code",
   "execution_count": 28,
   "id": "cd1de033",
   "metadata": {},
   "outputs": [
    {
     "name": "stdout",
     "output_type": "stream",
     "text": [
      "['honda', 'yamaha', 'suzuki']\n",
      "['honda', 'yamaha']\n",
      "suzuki\n"
     ]
    }
   ],
   "source": [
    "motorcycles = ['honda','yamaha','suzuki']\n",
    "print(motorcycles)\n",
    "popped_motorcycle = motorcycles.pop()\n",
    "print(motorcycles)\n",
    "print(popped_motorcycle)"
   ]
  },
  {
   "cell_type": "code",
   "execution_count": 33,
   "id": "b3e52a0a",
   "metadata": {},
   "outputs": [
    {
     "name": "stdout",
     "output_type": "stream",
     "text": [
      "My last motorcycle brand was a Suzuki.\n"
     ]
    }
   ],
   "source": [
    "motorcycles = ['honda','yamaha','suzuki']\n",
    "last_owned = motorcycles.pop()\n",
    "print(f\"My last motorcycle brand was a {last_owned.title()}.\")"
   ]
  },
  {
   "cell_type": "code",
   "execution_count": 36,
   "id": "518394e4",
   "metadata": {},
   "outputs": [
    {
     "name": "stdout",
     "output_type": "stream",
     "text": [
      "My first owned motorcycle was a Honda.\n"
     ]
    }
   ],
   "source": [
    "motorcycles = ['honda','yamaha','suzuki']\n",
    "first_owned = motorcycles.pop(0)\n",
    "print(f\"My first owned motorcycle was a {first_owned.title()}.\")"
   ]
  },
  {
   "cell_type": "markdown",
   "id": "7286e3e0",
   "metadata": {},
   "source": [
    "### Removing an item by value"
   ]
  },
  {
   "cell_type": "code",
   "execution_count": 37,
   "id": "64f6733a",
   "metadata": {},
   "outputs": [
    {
     "name": "stdout",
     "output_type": "stream",
     "text": [
      "['honda', 'yamaha', 'suzuki', 'ducati']\n",
      "['honda', 'yamaha', 'suzuki']\n"
     ]
    }
   ],
   "source": [
    "motorcycles = ['honda','yamaha','suzuki','ducati']\n",
    "print(motorcycles)\n",
    "\n",
    "motorcycles.remove('ducati')\n",
    "print(motorcycles)"
   ]
  },
  {
   "cell_type": "code",
   "execution_count": 42,
   "id": "2f39e225",
   "metadata": {},
   "outputs": [
    {
     "name": "stdout",
     "output_type": "stream",
     "text": [
      "['honda', 'yamaha', 'suzuki']\n",
      "\n",
      " A Ducati is too expensive for me\n"
     ]
    }
   ],
   "source": [
    "motorcycles = ['honda','yamaha','suzuki','ducati']\n",
    "too_expensive = 'ducati'\n",
    "motorcycles.remove(too_expensive)\n",
    "print(motorcycles)\n",
    "print(f'\\n A {too_expensive.title()} is too expensive for me') # \\n is new line"
   ]
  },
  {
   "cell_type": "code",
   "execution_count": 50,
   "id": "3061a4fa",
   "metadata": {},
   "outputs": [
    {
     "name": "stdout",
     "output_type": "stream",
     "text": [
      "['honda', 'yamaha', 'suzuki', 'suzuki']\n",
      "['honda', 'yamaha', 'suzuki']\n",
      "\n",
      " remove() only remove the first occurence word\n"
     ]
    }
   ],
   "source": [
    "motorcycles = ['honda','yamaha','suzuki','suzuki']\n",
    "print(motorcycles)\n",
    "\n",
    "motorcycles.remove('suzuki')\n",
    "print(motorcycles)\n",
    "\n",
    "print('\\n remove() only remove the first occurence word')"
   ]
  },
  {
   "cell_type": "markdown",
   "id": "c82c45e1",
   "metadata": {},
   "source": [
    "You will need to tuse a loop to make sure all occurences of the values are removed."
   ]
  },
  {
   "cell_type": "markdown",
   "id": "90b831a3",
   "metadata": {},
   "source": [
    "**Pracetice 2**"
   ]
  },
  {
   "cell_type": "markdown",
   "id": "8791e087",
   "metadata": {},
   "source": [
    "3-4 Guest list "
   ]
  },
  {
   "cell_type": "code",
   "execution_count": 52,
   "id": "489b5e0a",
   "metadata": {},
   "outputs": [
    {
     "name": "stdout",
     "output_type": "stream",
     "text": [
      "\n",
      " Hi Beyonce, your music helps me! let me treat you a nice dinner\n",
      "\n",
      " How are you doing Joey?\n"
     ]
    }
   ],
   "source": [
    "guest_list = ['Beyonce','Joey','Chandler']\n",
    "print(f'\\n Hi {guest_list[0]}, your music helps me! let me treat you a nice dinner')\n",
    "print(f'\\n How are you doing {guest_list[1]}?')"
   ]
  },
  {
   "cell_type": "markdown",
   "id": "d75e20e6",
   "metadata": {},
   "source": [
    "3-5 Changing guests"
   ]
  },
  {
   "cell_type": "code",
   "execution_count": 56,
   "id": "981c5644",
   "metadata": {},
   "outputs": [
    {
     "name": "stdout",
     "output_type": "stream",
     "text": [
      " so Beyonce cannot make it...\n",
      " Rachel will come instead if you guys do not mind\n"
     ]
    }
   ],
   "source": [
    "guest_list = ['Beyonce','Joey','Chandler']\n",
    "print(f' so {guest_list[0]} cannot make it...')\n",
    "guest_list[0] = 'Rachel'\n",
    "print(f' {guest_list[0]} will come instead if you guys do not mind')"
   ]
  },
  {
   "cell_type": "markdown",
   "id": "3d6eb40d",
   "metadata": {},
   "source": [
    "3-6 More guests "
   ]
  },
  {
   "cell_type": "code",
   "execution_count": 61,
   "id": "01ed7611",
   "metadata": {},
   "outputs": [
    {
     "name": "stdout",
     "output_type": "stream",
     "text": [
      "['Monica', 'Beyonce', 'Joey', 'Chandler']\n",
      "['Monica', 'Beyonce', 'Ross', 'Joey', 'Chandler']\n"
     ]
    }
   ],
   "source": [
    "guest_list = ['Beyonce','Joey','Chandler']\n",
    "guest_list.insert(0,'Monica')\n",
    "print(guest_list)\n",
    "guest_list.insert(2,'Ross') # use 2 since the position starts from 0 \n",
    "print(guest_list)"
   ]
  },
  {
   "cell_type": "markdown",
   "id": "7599d4bb",
   "metadata": {},
   "source": [
    "3-7 shrinking guest list"
   ]
  },
  {
   "cell_type": "code",
   "execution_count": 76,
   "id": "0620f77b",
   "metadata": {},
   "outputs": [
    {
     "name": "stdout",
     "output_type": "stream",
     "text": [
      "I am so sorry to cancel the invitation Chandler.\n",
      "I am sorry we do not host anymore Joey.\n",
      "I am sorry sorry but Monica do not want to eat with u Ross.\n",
      "\n",
      "Btw You are still invited Beyonce\n",
      "You have a chance to eat with Beyonce Monica.\n",
      "['Monica', 'Beyonce']\n",
      "[]\n"
     ]
    }
   ],
   "source": [
    "guest_list = ['Monica', 'Beyonce', 'Ross', 'Joey', 'Chandler']\n",
    "p1 = guest_list.pop()\n",
    "print(f'I am so sorry to cancel the invitation {p1}.')\n",
    "p2 = guest_list.pop()\n",
    "print(f'I am sorry we do not host anymore {p2}.')\n",
    "p3 = guest_list.pop()\n",
    "print(f'I am sorry sorry but Monica do not want to eat with u {p3}.')\n",
    "print(f'\\nBtw You are still invited {guest_list[1]}')\n",
    "print(f'You have a chance to eat with {guest_list[1]} {guest_list[0]}.')\n",
    "print(guest_list)\n",
    "del guest_list[0:2] # delete 0 and 1 position \n",
    "print(guest_list)"
   ]
  },
  {
   "cell_type": "markdown",
   "id": "a9f3ff5f",
   "metadata": {},
   "source": [
    "### Organizing a list "
   ]
  },
  {
   "cell_type": "markdown",
   "id": "10dddc5e",
   "metadata": {},
   "source": [
    "**Alphabetically**"
   ]
  },
  {
   "cell_type": "markdown",
   "id": "8a2b844a",
   "metadata": {},
   "source": [
    "Affect the **original order** of the list with .sort()"
   ]
  },
  {
   "cell_type": "code",
   "execution_count": 77,
   "id": "7e91310d",
   "metadata": {},
   "outputs": [
    {
     "name": "stdout",
     "output_type": "stream",
     "text": [
      "['audi', 'bmw', 'subaru', 'toyota']\n"
     ]
    }
   ],
   "source": [
    "cars = ['bmw','audi','toyota','subaru']\n",
    "cars.sort()\n",
    "print(cars)"
   ]
  },
  {
   "cell_type": "code",
   "execution_count": 78,
   "id": "e331fd3c",
   "metadata": {},
   "outputs": [
    {
     "name": "stdout",
     "output_type": "stream",
     "text": [
      "['toyota', 'subaru', 'bmw', 'audi']\n"
     ]
    }
   ],
   "source": [
    "cars.sort(reverse = True)\n",
    "print(cars)"
   ]
  },
  {
   "cell_type": "markdown",
   "id": "a29f5379",
   "metadata": {},
   "source": [
    "Not affect the original order of the list with sorted() function"
   ]
  },
  {
   "cell_type": "code",
   "execution_count": 79,
   "id": "aa20f4bc",
   "metadata": {},
   "outputs": [
    {
     "name": "stdout",
     "output_type": "stream",
     "text": [
      "here is the original list:\n",
      "['bmw', 'audi', 'toyota', 'subaru']\n",
      "\n",
      "Here is the sorted list:\n",
      "['audi', 'bmw', 'subaru', 'toyota']\n",
      "\n",
      "Here is the original list again:\n",
      "['bmw', 'audi', 'toyota', 'subaru']\n"
     ]
    }
   ],
   "source": [
    "cars = ['bmw','audi','toyota','subaru']\n",
    "print('here is the original list:')\n",
    "print(cars)\n",
    "\n",
    "print('\\nHere is the sorted list:')\n",
    "print(sorted(cars))\n",
    "\n",
    "print('\\nHere is the original list again:')\n",
    "print(cars)"
   ]
  },
  {
   "cell_type": "markdown",
   "id": "060de688",
   "metadata": {},
   "source": [
    "**Chronological order** : can reverse back and forth if you want the original order"
   ]
  },
  {
   "cell_type": "code",
   "execution_count": 80,
   "id": "c25aaec7",
   "metadata": {},
   "outputs": [
    {
     "name": "stdout",
     "output_type": "stream",
     "text": [
      "['bmw', 'audi', 'toyota', 'subaru']\n",
      "['subaru', 'toyota', 'audi', 'bmw']\n"
     ]
    }
   ],
   "source": [
    "cars = ['bmw','audi','toyota','subaru']\n",
    "print(cars)\n",
    "\n",
    "cars.reverse()\n",
    "print(cars)"
   ]
  },
  {
   "cell_type": "markdown",
   "id": "298eda06",
   "metadata": {},
   "source": [
    "length of a list "
   ]
  },
  {
   "cell_type": "code",
   "execution_count": 81,
   "id": "3bd55b10",
   "metadata": {},
   "outputs": [
    {
     "data": {
      "text/plain": [
       "4"
      ]
     },
     "execution_count": 81,
     "metadata": {},
     "output_type": "execute_result"
    }
   ],
   "source": [
    "len(cars)"
   ]
  },
  {
   "cell_type": "markdown",
   "id": "08973e10",
   "metadata": {},
   "source": [
    "**Practice 3**"
   ]
  },
  {
   "cell_type": "markdown",
   "id": "cec374ea",
   "metadata": {},
   "source": [
    "**3-8** seeing the world "
   ]
  },
  {
   "cell_type": "code",
   "execution_count": 90,
   "id": "b437a5c8",
   "metadata": {},
   "outputs": [
    {
     "name": "stdout",
     "output_type": "stream",
     "text": [
      "['Turkey', 'Hungary', 'China', 'Spain']\n"
     ]
    }
   ],
   "source": [
    "loc = ['Turkey','Hungary','China','Spain']\n",
    "print(loc)"
   ]
  },
  {
   "cell_type": "code",
   "execution_count": 85,
   "id": "9d681263",
   "metadata": {},
   "outputs": [
    {
     "name": "stdout",
     "output_type": "stream",
     "text": [
      "['China', 'Hungary', 'Spain', 'Turkey']\n"
     ]
    }
   ],
   "source": [
    "print(sorted(loc))"
   ]
  },
  {
   "cell_type": "code",
   "execution_count": 86,
   "id": "ce6f172f",
   "metadata": {},
   "outputs": [
    {
     "name": "stdout",
     "output_type": "stream",
     "text": [
      "['Turkey', 'Spain', 'Hungary', 'China']\n"
     ]
    }
   ],
   "source": [
    "print(sorted(loc,reverse = True))"
   ]
  },
  {
   "cell_type": "code",
   "execution_count": 95,
   "id": "f9c7217c",
   "metadata": {},
   "outputs": [
    {
     "name": "stdout",
     "output_type": "stream",
     "text": [
      "['Turkey', 'Hungary', 'China', 'Spain']\n",
      "['Spain', 'China', 'Hungary', 'Turkey']\n",
      "['Turkey', 'Hungary', 'China', 'Spain']\n"
     ]
    }
   ],
   "source": [
    "loc = ['Turkey','Hungary','China','Spain']\n",
    "print(loc)\n",
    "loc.reverse() # cannot use print(loc.reverse()) since loc change \n",
    "print(loc)\n",
    "loc.reverse()\n",
    "print(loc)"
   ]
  },
  {
   "cell_type": "code",
   "execution_count": 97,
   "id": "8db44796",
   "metadata": {},
   "outputs": [
    {
     "name": "stdout",
     "output_type": "stream",
     "text": [
      "['China', 'Hungary', 'Spain', 'Turkey']\n",
      "['Turkey', 'Spain', 'Hungary', 'China']\n"
     ]
    }
   ],
   "source": [
    "loc.sort()\n",
    "print(loc)\n",
    "loc.sort(reverse = True)\n",
    "print(loc)"
   ]
  },
  {
   "cell_type": "markdown",
   "id": "032d7e4a",
   "metadata": {},
   "source": [
    "**3-9** dinner guest!"
   ]
  },
  {
   "cell_type": "code",
   "execution_count": 101,
   "id": "ac48f1fd",
   "metadata": {},
   "outputs": [
    {
     "name": "stdout",
     "output_type": "stream",
     "text": [
      "5\n",
      "After we pop we got 4 left\n"
     ]
    }
   ],
   "source": [
    "guest_list = ['Monica', 'Beyonce', 'Ross', 'Joey', 'Chandler']\n",
    "print(len(guest_list))\n",
    "guest_list.pop(0)\n",
    "print(f'After we pop we got {len(guest_list)} left')"
   ]
  },
  {
   "cell_type": "markdown",
   "id": "93afc35d",
   "metadata": {},
   "source": [
    "**3-10** every function"
   ]
  },
  {
   "cell_type": "code",
   "execution_count": 108,
   "id": "52ba90c9",
   "metadata": {},
   "outputs": [
    {
     "name": "stdout",
     "output_type": "stream",
     "text": [
      "['Python', 'SQL', 'English', 'Thai', 'Chinese']\n",
      "['Chinese', 'English', 'Python', 'SQL', 'Thai']\n",
      "['Thai', 'SQL', 'Python', 'English', 'Chinese']\n",
      "['Chinese', 'English', 'Python', 'SQL', 'Thai']\n"
     ]
    }
   ],
   "source": [
    "language_list = ['Python','SQL','English','Thai','Chinese']\n",
    "print(language_list)\n",
    "language_list.sort()\n",
    "print(language_list)\n",
    "language_list.reverse()\n",
    "print(language_list)\n",
    "print(sorted(language_list))"
   ]
  },
  {
   "cell_type": "code",
   "execution_count": 113,
   "id": "5a427794",
   "metadata": {},
   "outputs": [
    {
     "name": "stdout",
     "output_type": "stream",
     "text": [
      "['Python', 'SQL', 'English', 'Thai', 'Chinese', 'C++']\n",
      "['Spanish', 'Python', 'SQL', 'English', 'Thai', 'Chinese', 'C++']\n"
     ]
    }
   ],
   "source": [
    "language_list = ['Python','SQL','English','Thai','Chinese']\n",
    "language_list.append('C++')\n",
    "print(language_list)\n",
    "language_list.insert(0, 'Spanish')\n",
    "print(language_list)"
   ]
  },
  {
   "cell_type": "code",
   "execution_count": 122,
   "id": "fd23b2b8",
   "metadata": {},
   "outputs": [
    {
     "name": "stdout",
     "output_type": "stream",
     "text": [
      "['Python', 'SQL', 'English', 'Thai', 'Chinese']\n",
      "['Python', 'SQL', 'English', 'Thai']\n",
      "['Python', 'SQL', 'English']\n",
      "\n",
      " My native language is Thai\n",
      "\n",
      " My second language is English.\n"
     ]
    }
   ],
   "source": [
    "language_list = ['Python','SQL','English','Thai','Chinese']\n",
    "print(language_list)\n",
    "del language_list[4]\n",
    "print(language_list)\n",
    "thai = language_list.pop(3)\n",
    "print(language_list)\n",
    "print(f'\\n My native language is {thai}.')\n",
    "eng = 'English'\n",
    "language_list.remove(eng)\n",
    "print(f'\\n My second language is {eng}.')"
   ]
  },
  {
   "cell_type": "markdown",
   "id": "afe0d8f6",
   "metadata": {},
   "source": [
    "### ERROR "
   ]
  },
  {
   "cell_type": "code",
   "execution_count": 123,
   "id": "07e2b210",
   "metadata": {},
   "outputs": [
    {
     "ename": "IndexError",
     "evalue": "list index out of range",
     "output_type": "error",
     "traceback": [
      "\u001b[0;31m---------------------------------------------------------------------------\u001b[0m",
      "\u001b[0;31mIndexError\u001b[0m                                Traceback (most recent call last)",
      "Cell \u001b[0;32mIn[123], line 2\u001b[0m\n\u001b[1;32m      1\u001b[0m motorcycle \u001b[38;5;241m=\u001b[39m [\u001b[38;5;124m'\u001b[39m\u001b[38;5;124mhonda\u001b[39m\u001b[38;5;124m'\u001b[39m,\u001b[38;5;124m'\u001b[39m\u001b[38;5;124myamaha\u001b[39m\u001b[38;5;124m'\u001b[39m,\u001b[38;5;124m'\u001b[39m\u001b[38;5;124msuzuki\u001b[39m\u001b[38;5;124m'\u001b[39m]\n\u001b[0;32m----> 2\u001b[0m \u001b[38;5;28mprint\u001b[39m(\u001b[43mmotorcycle\u001b[49m\u001b[43m[\u001b[49m\u001b[38;5;241;43m3\u001b[39;49m\u001b[43m]\u001b[49m)\n",
      "\u001b[0;31mIndexError\u001b[0m: list index out of range"
     ]
    }
   ],
   "source": [
    "motorcycle = ['honda','yamaha','suzuki']\n",
    "print(motorcycle[3])"
   ]
  },
  {
   "cell_type": "code",
   "execution_count": 125,
   "id": "7a118616",
   "metadata": {},
   "outputs": [
    {
     "ename": "IndexError",
     "evalue": "list index out of range",
     "output_type": "error",
     "traceback": [
      "\u001b[0;31m---------------------------------------------------------------------------\u001b[0m",
      "\u001b[0;31mIndexError\u001b[0m                                Traceback (most recent call last)",
      "Cell \u001b[0;32mIn[125], line 2\u001b[0m\n\u001b[1;32m      1\u001b[0m motorcycle \u001b[38;5;241m=\u001b[39m []\n\u001b[0;32m----> 2\u001b[0m \u001b[38;5;28mprint\u001b[39m(\u001b[43mmotorcycle\u001b[49m\u001b[43m[\u001b[49m\u001b[38;5;241;43m-\u001b[39;49m\u001b[38;5;241;43m1\u001b[39;49m\u001b[43m]\u001b[49m)\n\u001b[1;32m      3\u001b[0m \u001b[38;5;28mlen\u001b[39m(motorcycle)\n",
      "\u001b[0;31mIndexError\u001b[0m: list index out of range"
     ]
    }
   ],
   "source": [
    "motorcycle = []\n",
    "print(motorcycle[-1])"
   ]
  },
  {
   "cell_type": "code",
   "execution_count": 127,
   "id": "ce958653",
   "metadata": {},
   "outputs": [
    {
     "name": "stdout",
     "output_type": "stream",
     "text": [
      "0\n",
      "[]\n"
     ]
    }
   ],
   "source": [
    "print(len(motorcycle))\n",
    "print(motorcycle)"
   ]
  },
  {
   "cell_type": "markdown",
   "id": "5509a217",
   "metadata": {},
   "source": [
    "# Chapter 4: working with lists\n",
    "Focus first on writing code that you understand clearly, and does what you want it to do.\n",
    "Then look for more efficient approaches as you review your code. "
   ]
  },
  {
   "cell_type": "markdown",
   "id": "bb90159f",
   "metadata": {},
   "source": [
    "## Looping through an entire list"
   ]
  },
  {
   "cell_type": "markdown",
   "id": "f3172757",
   "metadata": {},
   "source": [
    "looping is important because it's one of the most common ways a computer automates repetitive tasks."
   ]
  },
  {
   "cell_type": "code",
   "execution_count": 1,
   "id": "072ed124",
   "metadata": {},
   "outputs": [
    {
     "name": "stdout",
     "output_type": "stream",
     "text": [
      "alice\n",
      "david\n",
      "carolina\n"
     ]
    }
   ],
   "source": [
    "magicians = ['alice','david','carolina']\n",
    "for magician in magicians:\n",
    "    print(magician)"
   ]
  },
  {
   "cell_type": "code",
   "execution_count": 2,
   "id": "bf83c71d",
   "metadata": {},
   "outputs": [
    {
     "name": "stdout",
     "output_type": "stream",
     "text": [
      "Alice, that was a great trick!\n",
      "David, that was a great trick!\n",
      "Carolina, that was a great trick!\n"
     ]
    }
   ],
   "source": [
    "magicians = ['alice','david','carolina']\n",
    "for magician in magicians:\n",
    "    print(f\"{magician.title()}, that was a great trick!\")"
   ]
  },
  {
   "cell_type": "code",
   "execution_count": 9,
   "id": "78c2a148",
   "metadata": {},
   "outputs": [
    {
     "name": "stdout",
     "output_type": "stream",
     "text": [
      "Alice, that was a great trick!\n",
      " I cannot wait to see your next trick, Alice\n",
      "\n",
      "David, that was a great trick!\n",
      " I cannot wait to see your next trick, David\n",
      "\n",
      "Carolina, that was a great trick!\n",
      " I cannot wait to see your next trick, Carolina\n",
      "\n"
     ]
    }
   ],
   "source": [
    "for magician in magicians:\n",
    "    print(f\"{magician.title()}, that was a great trick!\")\n",
    "    print(f\" I cannot wait to see your next trick, {magician.title()}\\n\")"
   ]
  },
  {
   "cell_type": "code",
   "execution_count": 10,
   "id": "964713c8",
   "metadata": {},
   "outputs": [
    {
     "name": "stdout",
     "output_type": "stream",
     "text": [
      "Alice, that was a great trick!\n",
      " I cannot wait to see your next trick, Alice\n",
      "\n",
      "David, that was a great trick!\n",
      " I cannot wait to see your next trick, David\n",
      "\n",
      "Carolina, that was a great trick!\n",
      " I cannot wait to see your next trick, Carolina\n",
      "\n",
      "thank you everyone\n"
     ]
    }
   ],
   "source": [
    "for magician in magicians:\n",
    "    print(f\"{magician.title()}, that was a great trick!\")\n",
    "    print(f\" I cannot wait to see your next trick, {magician.title()}\\n\")\n",
    "print(\"Thank you everyone\")"
   ]
  },
  {
   "cell_type": "markdown",
   "id": "79554818",
   "metadata": {},
   "source": [
    "Codes **Inside** the indentation will be repeated. Outside codes are executed once without repetition. "
   ]
  },
  {
   "cell_type": "code",
   "execution_count": 12,
   "id": "3a2e53e5",
   "metadata": {},
   "outputs": [
    {
     "name": "stdout",
     "output_type": "stream",
     "text": [
      "Alice, that was a great trick!\n",
      " I cannot wait to see your next trick, Alice\n",
      "\n",
      "Thank you everyone\n",
      "David, that was a great trick!\n",
      " I cannot wait to see your next trick, David\n",
      "\n",
      "Thank you everyone\n",
      "Carolina, that was a great trick!\n",
      " I cannot wait to see your next trick, Carolina\n",
      "\n",
      "Thank you everyone\n"
     ]
    }
   ],
   "source": [
    "for magician in magicians:\n",
    "    print(f\"{magician.title()}, that was a great trick!\")\n",
    "    print(f\" I cannot wait to see your next trick, {magician.title()}\\n\")\n",
    "    print(\"Thank you everyone\")"
   ]
  },
  {
   "cell_type": "code",
   "execution_count": 11,
   "id": "fadb3e51",
   "metadata": {},
   "outputs": [
    {
     "name": "stdout",
     "output_type": "stream",
     "text": [
      "Alice, that was a great trick!\n",
      "David, that was a great trick!\n",
      "Carolina, that was a great trick!\n",
      "I can't wait to see your next, Carolina\n",
      "\n"
     ]
    }
   ],
   "source": [
    "for magician in magicians:\n",
    "    print(f\"{magician.title()}, that was a great trick!\")\n",
    "print(f\"I can't wait to see your next, {magician.title()}\\n\") #logical error"
   ]
  },
  {
   "cell_type": "markdown",
   "id": "2bde9ce0",
   "metadata": {},
   "source": [
    "**Practice 1** "
   ]
  },
  {
   "cell_type": "markdown",
   "id": "4afa3725",
   "metadata": {},
   "source": [
    "**4-1**: Pizzas"
   ]
  },
  {
   "cell_type": "code",
   "execution_count": 13,
   "id": "3bbef505",
   "metadata": {},
   "outputs": [
    {
     "name": "stdout",
     "output_type": "stream",
     "text": [
      "Today I am going to eat Four Cheese Pizza\n",
      "\n",
      "Today I am going to eat Hawaiian\n",
      "\n",
      "Today I am going to eat Peporoni\n",
      "\n",
      "Today I am going to eat Magarita\n",
      "\n",
      "i really love pizza!\n"
     ]
    }
   ],
   "source": [
    "pizzas = ['four cheese pizza','Hawaiian','Peporoni','Magarita']\n",
    "for pizza in pizzas:\n",
    "    print(f\"Today I am going to eat {pizza.title()}\\n\")\n",
    "print(f\"i really love pizza!\")"
   ]
  },
  {
   "cell_type": "code",
   "execution_count": 16,
   "id": "4e1e36ec",
   "metadata": {},
   "outputs": [
    {
     "name": "stdout",
     "output_type": "stream",
     "text": [
      "I love Cat\n",
      "It would make a great pet :D\n",
      "\n",
      "I love Dog\n",
      "It would make a great pet :D\n",
      "\n",
      "I love Pig\n",
      "It would make a great pet :D\n",
      "\n"
     ]
    }
   ],
   "source": [
    "animals = ['cat','dog','pig']\n",
    "for animal in animals:\n",
    "    print(f\"I love {animal.title()}\")\n",
    "    print(f\"It would make a great pet :D\\n\")\n",
    "    "
   ]
  },
  {
   "cell_type": "markdown",
   "id": "897f6a53",
   "metadata": {},
   "source": [
    "### Making Numerical lists"
   ]
  },
  {
   "cell_type": "markdown",
   "id": "fd41d014",
   "metadata": {},
   "source": [
    "**range()** function"
   ]
  },
  {
   "cell_type": "code",
   "execution_count": 17,
   "id": "6a2ac3c9",
   "metadata": {},
   "outputs": [
    {
     "name": "stdout",
     "output_type": "stream",
     "text": [
      "1\n",
      "2\n",
      "3\n",
      "4\n"
     ]
    }
   ],
   "source": [
    "for value in range(1,5):\n",
    "    print(value)"
   ]
  },
  {
   "cell_type": "code",
   "execution_count": 19,
   "id": "81a61562",
   "metadata": {},
   "outputs": [
    {
     "name": "stdout",
     "output_type": "stream",
     "text": [
      "0\n",
      "1\n",
      "2\n",
      "3\n",
      "4\n"
     ]
    }
   ],
   "source": [
    "for value in range(5):\n",
    "    print(value)"
   ]
  },
  {
   "cell_type": "markdown",
   "id": "b6bd3408",
   "metadata": {},
   "source": [
    "make a list directly "
   ]
  },
  {
   "cell_type": "code",
   "execution_count": 20,
   "id": "4bac29ca",
   "metadata": {},
   "outputs": [
    {
     "name": "stdout",
     "output_type": "stream",
     "text": [
      "[1, 2, 3, 4, 5]\n"
     ]
    }
   ],
   "source": [
    "numbers = list(range(1,6))\n",
    "print(numbers)"
   ]
  },
  {
   "cell_type": "code",
   "execution_count": 21,
   "id": "44c64c35",
   "metadata": {},
   "outputs": [
    {
     "name": "stdout",
     "output_type": "stream",
     "text": [
      "[2, 4, 6, 8, 10]\n"
     ]
    }
   ],
   "source": [
    "even_numbers = list(range(2,11,2)) # add 2 repeatedly \n",
    "print(even_numbers)"
   ]
  },
  {
   "cell_type": "markdown",
   "id": "9757bc28",
   "metadata": {},
   "source": [
    "Make a list of the first 10 square numbers"
   ]
  },
  {
   "cell_type": "code",
   "execution_count": 24,
   "id": "c2079e94",
   "metadata": {},
   "outputs": [
    {
     "name": "stdout",
     "output_type": "stream",
     "text": [
      "[1, 4, 9, 16, 25, 36, 49, 64, 81, 100]\n"
     ]
    }
   ],
   "source": [
    "squares = []\n",
    "for value in range(1,11):\n",
    "    square = value ** 2\n",
    "    squares.append(square)\n",
    "print(squares)"
   ]
  },
  {
   "cell_type": "code",
   "execution_count": 25,
   "id": "ff7f3679",
   "metadata": {},
   "outputs": [
    {
     "name": "stdout",
     "output_type": "stream",
     "text": [
      "[1, 4, 9, 16, 25, 36, 49, 64, 81, 100]\n"
     ]
    }
   ],
   "source": [
    "squares = []\n",
    "for value in range(1,11):\n",
    "    squares.append(value**2)\n",
    "print(squares)"
   ]
  },
  {
   "cell_type": "markdown",
   "id": "61160318",
   "metadata": {},
   "source": [
    "### Statistics with a list of numbers"
   ]
  },
  {
   "cell_type": "code",
   "execution_count": 27,
   "id": "5bd70705",
   "metadata": {},
   "outputs": [
    {
     "name": "stdout",
     "output_type": "stream",
     "text": [
      "0\n",
      "9\n",
      "45\n"
     ]
    }
   ],
   "source": [
    "digits = [1,2,3,4,5,6,7,8,9,0]\n",
    "print(min(digits))\n",
    "print(max(digits))\n",
    "print(sum(digits))"
   ]
  },
  {
   "cell_type": "markdown",
   "id": "7d0baf63",
   "metadata": {},
   "source": [
    "### List Comprehensions:\n",
    "combine the for loop + the creation of new elements into one line, and automatically appends each new element."
   ]
  },
  {
   "cell_type": "code",
   "execution_count": 28,
   "id": "363f1095",
   "metadata": {},
   "outputs": [
    {
     "name": "stdout",
     "output_type": "stream",
     "text": [
      "[1, 4, 9, 16, 25, 36, 49, 64, 81, 100]\n"
     ]
    }
   ],
   "source": [
    "squares = [value**2 for value in range(1,11)] # no colon\n",
    "print(squares)"
   ]
  },
  {
   "cell_type": "markdown",
   "id": "2225afcf",
   "metadata": {},
   "source": [
    "**Practice 2**"
   ]
  },
  {
   "cell_type": "markdown",
   "id": "dde99a93",
   "metadata": {},
   "source": [
    "**4-3**: Counting to Twenty"
   ]
  },
  {
   "cell_type": "code",
   "execution_count": 29,
   "id": "8deb2c00",
   "metadata": {},
   "outputs": [
    {
     "name": "stdout",
     "output_type": "stream",
     "text": [
      "1\n",
      "2\n",
      "3\n",
      "4\n",
      "5\n",
      "6\n",
      "7\n",
      "8\n",
      "9\n",
      "10\n",
      "11\n",
      "12\n",
      "13\n",
      "14\n",
      "15\n",
      "16\n",
      "17\n",
      "18\n",
      "19\n",
      "20\n"
     ]
    }
   ],
   "source": [
    "for num in range(1,21):\n",
    "    print(num)\n",
    "    "
   ]
  },
  {
   "cell_type": "markdown",
   "id": "2299bc5a",
   "metadata": {},
   "source": [
    "**4-4**: One Million"
   ]
  },
  {
   "cell_type": "code",
   "execution_count": 3,
   "id": "d34a0370",
   "metadata": {},
   "outputs": [],
   "source": [
    "#for num in list(range(1,1000001)):\n",
    "   # print(num)"
   ]
  },
  {
   "cell_type": "code",
   "execution_count": 37,
   "id": "60155258",
   "metadata": {},
   "outputs": [
    {
     "name": "stdout",
     "output_type": "stream",
     "text": [
      "1000000\n",
      "1\n",
      "500000500000\n"
     ]
    }
   ],
   "source": [
    "numbers = list(range(1,1000001))\n",
    "print(max(numbers))\n",
    "print(min(numbers))\n",
    "print(sum(numbers))\n"
   ]
  },
  {
   "cell_type": "markdown",
   "id": "08a6cf31",
   "metadata": {},
   "source": [
    "4-6: odd numbers"
   ]
  },
  {
   "cell_type": "code",
   "execution_count": 44,
   "id": "ea3ed4fc",
   "metadata": {},
   "outputs": [
    {
     "name": "stdout",
     "output_type": "stream",
     "text": [
      "1\n",
      "3\n",
      "5\n",
      "7\n",
      "9\n",
      "11\n",
      "13\n",
      "15\n",
      "17\n",
      "19\n"
     ]
    }
   ],
   "source": [
    "for num in list(range(1,21,2)):\n",
    "    print(num)"
   ]
  },
  {
   "cell_type": "markdown",
   "id": "5a223bb1",
   "metadata": {},
   "source": [
    "4-7 Threes"
   ]
  },
  {
   "cell_type": "code",
   "execution_count": 50,
   "id": "04298344",
   "metadata": {},
   "outputs": [
    {
     "name": "stdout",
     "output_type": "stream",
     "text": [
      "[9, 12, 15, 18, 21, 24, 27, 30, 33, 36, 39, 42, 45, 48, 51, 54, 57, 60, 63, 66, 69, 72, 75, 78, 81, 84, 87, 90]\n"
     ]
    }
   ],
   "source": [
    "multiple = []\n",
    "for num in range(3,31):\n",
    "    mul = num*3\n",
    "    multiple.append(mul)\n",
    "print(multiple)"
   ]
  },
  {
   "cell_type": "markdown",
   "id": "355bde94",
   "metadata": {},
   "source": [
    "4-8 Cubes"
   ]
  },
  {
   "cell_type": "code",
   "execution_count": 51,
   "id": "a100a2ae",
   "metadata": {},
   "outputs": [
    {
     "name": "stdout",
     "output_type": "stream",
     "text": [
      "[1, 8, 27, 64, 125, 216, 343, 512, 729, 1000]\n"
     ]
    }
   ],
   "source": [
    "cubes = []\n",
    "for num in range(1,11): \n",
    "    mul = num**3\n",
    "    cubes.append(mul)\n",
    "print(cubes)"
   ]
  },
  {
   "cell_type": "markdown",
   "id": "9e698d23",
   "metadata": {},
   "source": [
    "4-9 Cube comprehension "
   ]
  },
  {
   "cell_type": "code",
   "execution_count": 53,
   "id": "16135d69",
   "metadata": {},
   "outputs": [
    {
     "name": "stdout",
     "output_type": "stream",
     "text": [
      "[1, 8, 27, 64, 125, 216, 343, 512, 729, 1000]\n"
     ]
    }
   ],
   "source": [
    "cubes = [val**3 for val in range(1,11)]\n",
    "print(cubes)"
   ]
  },
  {
   "cell_type": "markdown",
   "id": "0c8f2965",
   "metadata": {},
   "source": [
    "## Working with part of a list"
   ]
  },
  {
   "cell_type": "markdown",
   "id": "b5a102bc",
   "metadata": {},
   "source": [
    "### Slicing a list "
   ]
  },
  {
   "cell_type": "code",
   "execution_count": 65,
   "id": "7dfb05f8",
   "metadata": {},
   "outputs": [
    {
     "name": "stdout",
     "output_type": "stream",
     "text": [
      "['charles', 'martina', 'michael']\n",
      "['charles', 'martina', 'michael']\n",
      "['martina', 'michael']\n",
      "['martina', 'michael', 'florence', 'eli']\n",
      "['michael', 'florence', 'eli']\n",
      "['charles', 'michael', 'eli']\n"
     ]
    }
   ],
   "source": [
    "players = ['charles','martina','michael','florence','eli']\n",
    "print(players[0:3]) # exclude the last position (3)\n",
    "print(players[:3]) # show position 0,1,2\n",
    "print(players[1:3])\n",
    "print(players[1:])\n",
    "print(players[-3:]) # the last three players\n",
    "print(players[0::2]) # skip 1 person "
   ]
  },
  {
   "cell_type": "markdown",
   "id": "c79d2052",
   "metadata": {},
   "source": [
    "looping through a slice"
   ]
  },
  {
   "cell_type": "code",
   "execution_count": 66,
   "id": "c02bd15a",
   "metadata": {},
   "outputs": [
    {
     "name": "stdout",
     "output_type": "stream",
     "text": [
      "Here are the first three players on my team:\n",
      "Charles\n",
      "Martina\n",
      "Michael\n"
     ]
    }
   ],
   "source": [
    "print(\"Here are the first three players on my team:\")\n",
    "for player in players[:3]:\n",
    "    print(player.title())"
   ]
  },
  {
   "cell_type": "markdown",
   "id": "a28eb006",
   "metadata": {},
   "source": [
    "### Copying a list \n",
    "([:]) tells Python to make a slice that starts at the first item and ends with the last item."
   ]
  },
  {
   "cell_type": "code",
   "execution_count": 70,
   "id": "d9ec0862",
   "metadata": {},
   "outputs": [
    {
     "name": "stdout",
     "output_type": "stream",
     "text": [
      "my fave foods are:\n",
      "['pizza', 'falafel', 'carrot cake']\n",
      "\n",
      "My friend's fave foods are:\n",
      "['pizza', 'falafel', 'carrot cake']\n"
     ]
    }
   ],
   "source": [
    "my_foods = ['pizza','falafel','carrot cake']\n",
    "friend_foods = my_foods[:]\n",
    "\n",
    "print (\"my fave foods are:\")\n",
    "print(my_foods)\n",
    "\n",
    "print(\"\\nMy friend's fave foods are:\")\n",
    "print(friend_foods)"
   ]
  },
  {
   "cell_type": "markdown",
   "id": "8114e6ce",
   "metadata": {},
   "source": [
    "confirm thaat it really separated list!"
   ]
  },
  {
   "cell_type": "code",
   "execution_count": 71,
   "id": "800ec83e",
   "metadata": {},
   "outputs": [
    {
     "name": "stdout",
     "output_type": "stream",
     "text": [
      "['pizza', 'falafel', 'carrot cake', 'cannoli']\n",
      "['pizza', 'falafel', 'carrot cake', 'ice cream']\n"
     ]
    }
   ],
   "source": [
    "my_foods.append('cannoli')\n",
    "friend_foods.append('ice cream')\n",
    "\n",
    "print(my_foods)\n",
    "print(friend_foods)"
   ]
  },
  {
   "cell_type": "markdown",
   "id": "d551a3c8",
   "metadata": {},
   "source": [
    "if you dont have ':' it is not a separaate list. it is the same list!"
   ]
  },
  {
   "cell_type": "code",
   "execution_count": 76,
   "id": "0168e400",
   "metadata": {},
   "outputs": [
    {
     "name": "stdout",
     "output_type": "stream",
     "text": [
      "Here is the list of my foods['pizza', 'falafel', 'carrot cake', 'cannoli', 'ice cream']\n",
      "Here is the list of my friend foods ['pizza', 'falafel', 'carrot cake', 'cannoli', 'ice cream']\n",
      "\n",
      "it is now the same list with two names! so you need to be careful not to forget : \n"
     ]
    }
   ],
   "source": [
    "my_foods = ['pizza','falafel','carrot cake']\n",
    "friend_foods = my_foods\n",
    "\n",
    "my_foods.append('cannoli')\n",
    "friend_foods.append('ice cream')\n",
    "\n",
    "print(f\"Here is the list of my foods{my_foods}\")\n",
    "print(f\"Here is the list of my friend foods {friend_foods}\\n\")\n",
    "\n",
    "print(\"it is now the same list with two names! so you need to be careful not to forget : \")"
   ]
  },
  {
   "cell_type": "markdown",
   "id": "468e49e3",
   "metadata": {},
   "source": [
    "**Practice 3**"
   ]
  },
  {
   "cell_type": "markdown",
   "id": "f1a8d90b",
   "metadata": {},
   "source": [
    "4-10 Slices"
   ]
  },
  {
   "cell_type": "code",
   "execution_count": 85,
   "id": "fd837007",
   "metadata": {},
   "outputs": [
    {
     "name": "stdout",
     "output_type": "stream",
     "text": [
      "The first three items are['strawberry cake', 'capuccino', 'water']\n",
      "Three items in the middle of the list are['water', 'donuts', 'whipped cream']\n",
      "The last three items are['whipped cream', 'eggplants', 'shrimp']\n"
     ]
    }
   ],
   "source": [
    "item = ['strawberry cake', 'capuccino', 'water', 'donuts', 'whipped cream', 'eggplants', 'shrimp']\n",
    "print(f\"The first three items are{item[:3]}\")\n",
    "print(f\"Three items in the middle of the list are{item[2:5]}\")\n",
    "print(f\"The last three items are{item[4:7]}\")"
   ]
  },
  {
   "cell_type": "markdown",
   "id": "cdf1fa95",
   "metadata": {},
   "source": [
    "4-11 My Pizzas, Your Pizzas:"
   ]
  },
  {
   "cell_type": "code",
   "execution_count": 87,
   "id": "6fc290b0",
   "metadata": {},
   "outputs": [
    {
     "name": "stdout",
     "output_type": "stream",
     "text": [
      "my pizzas are:\n",
      "['Four Cheese', 'Hawaiian', 'Peporoni', 'Magarita', 'chocolate']\n",
      "my friend's pizza list is:\n",
      "['Four Cheese', 'Hawaiian', 'Peporoni', 'Magarita']\n"
     ]
    }
   ],
   "source": [
    "pizzas = ['Four Cheese','Hawaiian','Peporoni','Magarita']\n",
    "friend_pizzas = pizzas[:]\n",
    "pizzas.append('chocolate')\n",
    "print(f\"my pizzas are:\")\n",
    "print(pizzas)\n",
    "print(f\"my friend's pizza list is:\")\n",
    "print(friend_pizzas)"
   ]
  },
  {
   "cell_type": "markdown",
   "id": "2c47da46",
   "metadata": {},
   "source": [
    "4-12 More loops"
   ]
  },
  {
   "cell_type": "code",
   "execution_count": 96,
   "id": "c067ffbb",
   "metadata": {},
   "outputs": [
    {
     "name": "stdout",
     "output_type": "stream",
     "text": [
      "This is a list of my pizza\n",
      "Four Cheese\n",
      "Hawaiian\n",
      "Peporoni\n",
      "Magarita\n",
      "chocolate\n",
      "\n",
      "This is a list of item\n",
      "strawberry cake\n",
      "capuccino\n",
      "water\n",
      "donuts\n",
      "whipped cream\n",
      "eggplants\n",
      "shrimp\n"
     ]
    }
   ],
   "source": [
    "print(\"This is a list of my pizza\")\n",
    "for pizza in pizzas:\n",
    "    print(pizza)\n",
    "print(\"\\nThis is a list of item\")\n",
    "for i in item:\n",
    "    print(i)\n"
   ]
  },
  {
   "cell_type": "markdown",
   "id": "ecdfd396",
   "metadata": {},
   "source": [
    "## Tuples\n",
    "It is an **immutabe** list :D. \n",
    "\n",
    "Use it when you want to store a set of values that should not be changed through out the life of a program. "
   ]
  },
  {
   "cell_type": "code",
   "execution_count": 101,
   "id": "46ad6d43",
   "metadata": {},
   "outputs": [
    {
     "name": "stdout",
     "output_type": "stream",
     "text": [
      "200\n",
      "50\n",
      "(200, 50)\n"
     ]
    }
   ],
   "source": [
    "dimensions = (200,50)\n",
    "print(dimensions[0])\n",
    "print(dimensions[1])\n",
    "print(dimensions)"
   ]
  },
  {
   "cell_type": "code",
   "execution_count": 98,
   "id": "fa3e8d4b",
   "metadata": {},
   "outputs": [
    {
     "ename": "TypeError",
     "evalue": "'tuple' object does not support item assignment",
     "output_type": "error",
     "traceback": [
      "\u001b[0;31m---------------------------------------------------------------------------\u001b[0m",
      "\u001b[0;31mTypeError\u001b[0m                                 Traceback (most recent call last)",
      "Cell \u001b[0;32mIn[98], line 1\u001b[0m\n\u001b[0;32m----> 1\u001b[0m dimensions[\u001b[38;5;241m0\u001b[39m] \u001b[38;5;241m=\u001b[39m \u001b[38;5;241m250\u001b[39m\n",
      "\u001b[0;31mTypeError\u001b[0m: 'tuple' object does not support item assignment"
     ]
    }
   ],
   "source": [
    "dimensions[0] = 250"
   ]
  },
  {
   "cell_type": "markdown",
   "id": "0707d4c2",
   "metadata": {},
   "source": [
    "If you want to create a tuple with one element, you need to include a comma:"
   ]
  },
  {
   "cell_type": "code",
   "execution_count": 100,
   "id": "8297167c",
   "metadata": {},
   "outputs": [
    {
     "name": "stdout",
     "output_type": "stream",
     "text": [
      "(3,)\n"
     ]
    }
   ],
   "source": [
    "my_t = (3,)\n",
    "print(my_t)"
   ]
  },
  {
   "cell_type": "markdown",
   "id": "81c1a275",
   "metadata": {},
   "source": [
    "### Looping through all values in a Tuple"
   ]
  },
  {
   "cell_type": "code",
   "execution_count": 103,
   "id": "2905f0ce",
   "metadata": {},
   "outputs": [
    {
     "name": "stdout",
     "output_type": "stream",
     "text": [
      "200\n",
      "50\n"
     ]
    }
   ],
   "source": [
    "dimensions = (200,50)\n",
    "for dimension in dimensions:\n",
    "    print(dimension)"
   ]
  },
  {
   "cell_type": "markdown",
   "id": "4395735a",
   "metadata": {},
   "source": [
    "###  Writing over a tuple \n",
    "Although we cannot modify a tuple, we can assign a new value to a previous variable"
   ]
  },
  {
   "cell_type": "code",
   "execution_count": 104,
   "id": "d42d44e5",
   "metadata": {},
   "outputs": [
    {
     "name": "stdout",
     "output_type": "stream",
     "text": [
      "Original dimensions:\n",
      "200\n",
      "50\n",
      "\n",
      "Modified dimensions:\n",
      "400\n",
      "100\n"
     ]
    }
   ],
   "source": [
    "dimensions = (200,50)\n",
    "print(\"Original dimensions:\")\n",
    "for dimension in dimensions:\n",
    "    print(dimension)\n",
    "dimensions = (400,100)\n",
    "print(\"\\nModified dimensions:\")\n",
    "for dimension in dimensions:\n",
    "    print(dimension)"
   ]
  },
  {
   "cell_type": "markdown",
   "id": "e858153a",
   "metadata": {},
   "source": [
    "**Practice 4**"
   ]
  },
  {
   "cell_type": "markdown",
   "id": "c047bf12",
   "metadata": {},
   "source": [
    "**4-13** Buffet:"
   ]
  },
  {
   "cell_type": "code",
   "execution_count": 110,
   "id": "1c76378f",
   "metadata": {},
   "outputs": [
    {
     "name": "stdout",
     "output_type": "stream",
     "text": [
      "Foie Gras\n",
      "Salmon Sashimi\n",
      "Caramel Biscuit Ice Cream\n",
      "Lamb Chops\n",
      "Four Cheese Pizza\n"
     ]
    }
   ],
   "source": [
    "buffet = ('foie gras','salmon sashimi','caramel biscuit ice cream','lamb chops','four cheese pizza')\n",
    "for food in buffet:\n",
    "    print(food.title())"
   ]
  },
  {
   "cell_type": "code",
   "execution_count": 111,
   "id": "ff250534",
   "metadata": {},
   "outputs": [
    {
     "ename": "TypeError",
     "evalue": "'tuple' object does not support item assignment",
     "output_type": "error",
     "traceback": [
      "\u001b[0;31m---------------------------------------------------------------------------\u001b[0m",
      "\u001b[0;31mTypeError\u001b[0m                                 Traceback (most recent call last)",
      "Cell \u001b[0;32mIn[111], line 1\u001b[0m\n\u001b[0;32m----> 1\u001b[0m buffet[\u001b[38;5;241m2\u001b[39m] \u001b[38;5;241m=\u001b[39m \u001b[38;5;124m'\u001b[39m\u001b[38;5;124mtruffle pasta\u001b[39m\u001b[38;5;124m'\u001b[39m\n",
      "\u001b[0;31mTypeError\u001b[0m: 'tuple' object does not support item assignment"
     ]
    }
   ],
   "source": [
    "buffet[2] = 'truffle pasta'"
   ]
  },
  {
   "cell_type": "code",
   "execution_count": 114,
   "id": "af968f40",
   "metadata": {},
   "outputs": [
    {
     "name": "stdout",
     "output_type": "stream",
     "text": [
      "Here is the revised menu for the buffet program\n",
      "\n",
      "Double Cheese Bacon Burger\n",
      "Salmon Sashimi\n",
      "Truffle Pasta\n",
      "Lamb Chops\n",
      "Four Cheese Pizza\n"
     ]
    }
   ],
   "source": [
    "buffet = ('double cheese bacon burger','salmon sashimi','truffle pasta','lamb chops','four cheese pizza')\n",
    "print(\"Here is the revised menu for the buffet program\\n\")\n",
    "for food in buffet:\n",
    "    print(food.title())"
   ]
  },
  {
   "cell_type": "markdown",
   "id": "4017d33b",
   "metadata": {},
   "source": [
    "### Styling Your Code"
   ]
  },
  {
   "cell_type": "markdown",
   "id": "e7848ab1",
   "metadata": {},
   "source": [
    "Encourage to write code that's easier to read. \n",
    "- Four spaces per indentation level and each line should be less than 80 characters. \n",
    "- Group parts of the program with blank lines. "
   ]
  },
  {
   "cell_type": "markdown",
   "id": "ae598eb5",
   "metadata": {},
   "source": [
    "# Chapter 5: IF STATEMENT"
   ]
  },
  {
   "cell_type": "markdown",
   "id": "16ed6aac",
   "metadata": {},
   "source": [
    "allows you to examine the current state of a program and respond appro-\n",
    "priately to that state."
   ]
  },
  {
   "cell_type": "code",
   "execution_count": 115,
   "id": "f32154db",
   "metadata": {},
   "outputs": [
    {
     "name": "stdout",
     "output_type": "stream",
     "text": [
      "Audi\n",
      "BMW\n",
      "Subaru\n",
      "Toyota\n"
     ]
    }
   ],
   "source": [
    "cars = ['audi','bmw','subaru','toyota']\n",
    "for car in cars:\n",
    "    if car == 'bmw':\n",
    "        print(car.upper())\n",
    "    else:\n",
    "        print(car.title())"
   ]
  },
  {
   "cell_type": "markdown",
   "id": "ed699d04",
   "metadata": {},
   "source": [
    "## Conditional Tests\n",
    "If a conditional test evaluates to True, Python executes the code following the if statement. If the test evaluates to False, Python ignores the code following the if statement.\n"
   ]
  },
  {
   "cell_type": "markdown",
   "id": "3cfc4423",
   "metadata": {},
   "source": [
    "### checking for equality"
   ]
  },
  {
   "cell_type": "code",
   "execution_count": 116,
   "id": "3e783c14",
   "metadata": {},
   "outputs": [
    {
     "data": {
      "text/plain": [
       "False"
      ]
     },
     "execution_count": 116,
     "metadata": {},
     "output_type": "execute_result"
    }
   ],
   "source": [
    "car = 'Audi'\n",
    "car == 'audi'"
   ]
  },
  {
   "cell_type": "code",
   "execution_count": 121,
   "id": "ca7b86f3",
   "metadata": {},
   "outputs": [
    {
     "name": "stdout",
     "output_type": "stream",
     "text": [
      "True\n",
      "Audi\n"
     ]
    }
   ],
   "source": [
    "car = 'Audi'\n",
    "print(car.lower() == 'audi')\n",
    "print(car) # the value is not affected by lower() method"
   ]
  },
  {
   "cell_type": "markdown",
   "id": "a6b31af1",
   "metadata": {},
   "source": [
    "### checking for inequality"
   ]
  },
  {
   "cell_type": "code",
   "execution_count": 122,
   "id": "dc42b42c",
   "metadata": {},
   "outputs": [
    {
     "name": "stdout",
     "output_type": "stream",
     "text": [
      "Hold the anchovies!\n"
     ]
    }
   ],
   "source": [
    "requested_topping = 'mushroom'\n",
    "\n",
    "if requested_topping != 'anchovies':\n",
    "    print('Hold the anchovies!')"
   ]
  },
  {
   "cell_type": "markdown",
   "id": "7700f102",
   "metadata": {},
   "source": [
    "### Numerical Comparisons"
   ]
  },
  {
   "cell_type": "code",
   "execution_count": 125,
   "id": "68a6d5e9",
   "metadata": {},
   "outputs": [
    {
     "data": {
      "text/plain": [
       "False"
      ]
     },
     "execution_count": 125,
     "metadata": {},
     "output_type": "execute_result"
    }
   ],
   "source": [
    "age = 8\n",
    "age >9"
   ]
  },
  {
   "cell_type": "code",
   "execution_count": 124,
   "id": "bc1a9204",
   "metadata": {},
   "outputs": [
    {
     "name": "stdout",
     "output_type": "stream",
     "text": [
      "That is not the correct answer. Please try again!\n"
     ]
    }
   ],
   "source": [
    "ans = 17\n",
    "if ans != 42:\n",
    "    print(\"That is not the correct answer. Please try again!\")"
   ]
  },
  {
   "cell_type": "markdown",
   "id": "e3ac1825",
   "metadata": {},
   "source": [
    "### Checking Multiple Conditions "
   ]
  },
  {
   "cell_type": "markdown",
   "id": "950dbbbb",
   "metadata": {},
   "source": [
    "Using 'or' 'and' to check multiple conditions"
   ]
  },
  {
   "cell_type": "code",
   "execution_count": 126,
   "id": "ba04a118",
   "metadata": {},
   "outputs": [
    {
     "data": {
      "text/plain": [
       "False"
      ]
     },
     "execution_count": 126,
     "metadata": {},
     "output_type": "execute_result"
    }
   ],
   "source": [
    "age_0 = 22\n",
    "age_1 = 18\n",
    "age_0 >=21 and age_1 >= 21"
   ]
  },
  {
   "cell_type": "code",
   "execution_count": 130,
   "id": "15784e9d",
   "metadata": {},
   "outputs": [
    {
     "data": {
      "text/plain": [
       "True"
      ]
     },
     "execution_count": 130,
     "metadata": {},
     "output_type": "execute_result"
    }
   ],
   "source": [
    "age_0>=21 or age_1 >=21"
   ]
  },
  {
   "cell_type": "raw",
   "id": "7d8b478d",
   "metadata": {},
   "source": [
    "checking if a value is in a list or not"
   ]
  },
  {
   "cell_type": "code",
   "execution_count": 131,
   "id": "3157af1b",
   "metadata": {},
   "outputs": [
    {
     "data": {
      "text/plain": [
       "True"
      ]
     },
     "execution_count": 131,
     "metadata": {},
     "output_type": "execute_result"
    }
   ],
   "source": [
    "requested_toppings = ['mushrooms','onions','pineapple']\n",
    "'mushrooms' in requested_toppings"
   ]
  },
  {
   "cell_type": "code",
   "execution_count": 132,
   "id": "e4f4ec19",
   "metadata": {},
   "outputs": [
    {
     "data": {
      "text/plain": [
       "False"
      ]
     },
     "execution_count": 132,
     "metadata": {},
     "output_type": "execute_result"
    }
   ],
   "source": [
    "'peperoni' in requested_toppings"
   ]
  },
  {
   "cell_type": "code",
   "execution_count": 135,
   "id": "2cd93271",
   "metadata": {},
   "outputs": [
    {
     "name": "stdout",
     "output_type": "stream",
     "text": [
      "Marie, you can post a response\n"
     ]
    }
   ],
   "source": [
    "banned_users = ['andrew','carolina','david']\n",
    "user = 'marie'\n",
    "if user not in banned_users:\n",
    "    print(f\"{user.title()}, you can post a response\")"
   ]
  },
  {
   "cell_type": "markdown",
   "id": "c5da927f",
   "metadata": {},
   "source": [
    "the message pass since Marie is not in the list "
   ]
  },
  {
   "cell_type": "markdown",
   "id": "f7cb9d36",
   "metadata": {},
   "source": [
    "### Boolean expressions (another name of conditional test)"
   ]
  },
  {
   "cell_type": "markdown",
   "id": "c595263c",
   "metadata": {},
   "source": [
    "a boolean value is either True or False"
   ]
  },
  {
   "cell_type": "markdown",
   "id": "9e05ee50",
   "metadata": {},
   "source": [
    "**Practice 1**"
   ]
  },
  {
   "cell_type": "markdown",
   "id": "7a864e95",
   "metadata": {},
   "source": [
    "5-1 conditional tests "
   ]
  },
  {
   "cell_type": "code",
   "execution_count": 137,
   "id": "d472d329",
   "metadata": {},
   "outputs": [
    {
     "name": "stdout",
     "output_type": "stream",
     "text": [
      "False\n"
     ]
    }
   ],
   "source": [
    "buffet = ['foie gras','salmon sashimi','caramel biscuit ice cream','lamb chops','four cheese pizza']\n",
    "food = 'truffle pasta'\n",
    "print(food == 'Hunan food')"
   ]
  },
  {
   "cell_type": "code",
   "execution_count": 140,
   "id": "465ed8c7",
   "metadata": {},
   "outputs": [
    {
     "name": "stdout",
     "output_type": "stream",
     "text": [
      "Truffle Pasta is not in our list of buffet.\n"
     ]
    }
   ],
   "source": [
    "if food not in buffet:\n",
    "    print(f\"{food.title()} is not in our list of buffet.\")"
   ]
  },
  {
   "cell_type": "markdown",
   "id": "f0b90dd1",
   "metadata": {},
   "source": [
    "5-2 more tests "
   ]
  },
  {
   "cell_type": "markdown",
   "id": "3b806b4d",
   "metadata": {},
   "source": [
    "Tests for equality and inequality with strings"
   ]
  },
  {
   "cell_type": "code",
   "execution_count": 141,
   "id": "5e06f01b",
   "metadata": {},
   "outputs": [
    {
     "data": {
      "text/plain": [
       "False"
      ]
     },
     "execution_count": 141,
     "metadata": {},
     "output_type": "execute_result"
    }
   ],
   "source": [
    "color = 'red'\n",
    "color == 'blue'"
   ]
  },
  {
   "cell_type": "code",
   "execution_count": 142,
   "id": "61ef931f",
   "metadata": {},
   "outputs": [
    {
     "data": {
      "text/plain": [
       "True"
      ]
     },
     "execution_count": 142,
     "metadata": {},
     "output_type": "execute_result"
    }
   ],
   "source": [
    "bag = 'loewe'\n",
    "bag.title() == 'Loewe'"
   ]
  },
  {
   "cell_type": "code",
   "execution_count": 149,
   "id": "9527ed28",
   "metadata": {},
   "outputs": [
    {
     "name": "stdout",
     "output_type": "stream",
     "text": [
      "she is not my friend\n"
     ]
    }
   ],
   "source": [
    "my_friend = 'Rachel'\n",
    "\n",
    "if my_friend != 'Monica':\n",
    "    print('she is not my friend')"
   ]
  },
  {
   "cell_type": "markdown",
   "id": "e1b95325",
   "metadata": {},
   "source": [
    " Tests using the lower() method"
   ]
  },
  {
   "cell_type": "code",
   "execution_count": 150,
   "id": "edb021f2",
   "metadata": {},
   "outputs": [
    {
     "data": {
      "text/plain": [
       "True"
      ]
     },
     "execution_count": 150,
     "metadata": {},
     "output_type": "execute_result"
    }
   ],
   "source": [
    "phone = 'APPLE'\n",
    "phone.lower() == 'apple'"
   ]
  },
  {
   "cell_type": "markdown",
   "id": "84666127",
   "metadata": {},
   "source": [
    "Numerical tests involving equality and inequality, greater than and less than, greater than or equal to, and less than or equal to\n"
   ]
  },
  {
   "cell_type": "code",
   "execution_count": 156,
   "id": "401de60f",
   "metadata": {},
   "outputs": [],
   "source": [
    "fig_0 = 5\n",
    "fig_1 = 23"
   ]
  },
  {
   "cell_type": "code",
   "execution_count": 160,
   "id": "6688afdd",
   "metadata": {},
   "outputs": [
    {
     "data": {
      "text/plain": [
       "False"
      ]
     },
     "execution_count": 160,
     "metadata": {},
     "output_type": "execute_result"
    }
   ],
   "source": [
    "fig_0 == 0"
   ]
  },
  {
   "cell_type": "code",
   "execution_count": 163,
   "id": "d8ba577e",
   "metadata": {},
   "outputs": [
    {
     "data": {
      "text/plain": [
       "True"
      ]
     },
     "execution_count": 163,
     "metadata": {},
     "output_type": "execute_result"
    }
   ],
   "source": [
    "fig_1 != 9"
   ]
  },
  {
   "cell_type": "code",
   "execution_count": 165,
   "id": "1bb2efa8",
   "metadata": {},
   "outputs": [
    {
     "data": {
      "text/plain": [
       "True"
      ]
     },
     "execution_count": 165,
     "metadata": {},
     "output_type": "execute_result"
    }
   ],
   "source": [
    "fig_0 > 2"
   ]
  },
  {
   "cell_type": "markdown",
   "id": "329b4435",
   "metadata": {},
   "source": [
    "Tests using the and keyword and the or keyword"
   ]
  },
  {
   "cell_type": "code",
   "execution_count": 162,
   "id": "3a42eefd",
   "metadata": {},
   "outputs": [
    {
     "data": {
      "text/plain": [
       "False"
      ]
     },
     "execution_count": 162,
     "metadata": {},
     "output_type": "execute_result"
    }
   ],
   "source": [
    "fig_0 == 5 and fig_1>29"
   ]
  },
  {
   "cell_type": "code",
   "execution_count": 166,
   "id": "481ee613",
   "metadata": {},
   "outputs": [
    {
     "data": {
      "text/plain": [
       "True"
      ]
     },
     "execution_count": 166,
     "metadata": {},
     "output_type": "execute_result"
    }
   ],
   "source": [
    "fig_0 == 5 or fig_1>29"
   ]
  },
  {
   "cell_type": "markdown",
   "id": "3471c8b8",
   "metadata": {},
   "source": [
    "Test whether an item is in a list"
   ]
  },
  {
   "cell_type": "code",
   "execution_count": 176,
   "id": "def28bcc",
   "metadata": {},
   "outputs": [
    {
     "data": {
      "text/plain": [
       "True"
      ]
     },
     "execution_count": 176,
     "metadata": {},
     "output_type": "execute_result"
    }
   ],
   "source": [
    "buffet = ['foie gras','salmon sashimi','caramel biscuit ice cream','lamb chops','four cheese pizza']\n",
    "food1 = 'foie gras'\n",
    "food1 in buffet"
   ]
  },
  {
   "cell_type": "code",
   "execution_count": 178,
   "id": "6191854e",
   "metadata": {},
   "outputs": [
    {
     "name": "stdout",
     "output_type": "stream",
     "text": [
      "foie gras is in the buffet list\n"
     ]
    }
   ],
   "source": [
    "if food1 in buffet:\n",
    "    print(f\"{food1} is in the buffet list\")"
   ]
  },
  {
   "cell_type": "markdown",
   "id": "98061a38",
   "metadata": {},
   "source": [
    "Test whether an item is not in a list"
   ]
  },
  {
   "cell_type": "code",
   "execution_count": 179,
   "id": "7952dd0d",
   "metadata": {},
   "outputs": [
    {
     "data": {
      "text/plain": [
       "False"
      ]
     },
     "execution_count": 179,
     "metadata": {},
     "output_type": "execute_result"
    }
   ],
   "source": [
    "food2 = 'bananas'\n",
    "food2 in buffet"
   ]
  },
  {
   "cell_type": "code",
   "execution_count": 180,
   "id": "9fb2418f",
   "metadata": {},
   "outputs": [
    {
     "name": "stdout",
     "output_type": "stream",
     "text": [
      "bananas is not in the buffet list\n"
     ]
    }
   ],
   "source": [
    "if food2 not in buffet:\n",
    "    print(f\"{food2} is not in the buffet list\")"
   ]
  },
  {
   "cell_type": "markdown",
   "id": "fb5b0758",
   "metadata": {},
   "source": [
    "## If Statements"
   ]
  },
  {
   "cell_type": "markdown",
   "id": "e6347b6d",
   "metadata": {},
   "source": [
    "**Simple if statement**"
   ]
  },
  {
   "cell_type": "markdown",
   "id": "7024a3be",
   "metadata": {},
   "source": [
    "lines inside the indentation will be print out if the conditional test passes"
   ]
  },
  {
   "cell_type": "code",
   "execution_count": 2,
   "id": "8be86096",
   "metadata": {},
   "outputs": [
    {
     "name": "stdout",
     "output_type": "stream",
     "text": [
      "You are old enough to vote!\n",
      "Have you registered to vote yet?\n"
     ]
    }
   ],
   "source": [
    "age = 19\n",
    "if age >= 18:\n",
    "    print(\"You are old enough to vote!\")\n",
    "    print(\"Have you registered to vote yet?\")"
   ]
  },
  {
   "cell_type": "markdown",
   "id": "51a99b65",
   "metadata": {},
   "source": [
    "**If-else statements**"
   ]
  },
  {
   "cell_type": "code",
   "execution_count": 3,
   "id": "85cc4dca",
   "metadata": {},
   "outputs": [
    {
     "name": "stdout",
     "output_type": "stream",
     "text": [
      "Sorry, you are too young to vote\n"
     ]
    }
   ],
   "source": [
    "age = 17\n",
    "if age >=18:\n",
    "    print(\"You are old enough to vote!\")\n",
    "    print(\"Have you registered to vote yet?\")\n",
    "else: \n",
    "    print(\"Sorry, you are too young to vote\")"
   ]
  },
  {
   "cell_type": "markdown",
   "id": "5ce1e561",
   "metadata": {},
   "source": [
    "**If-elif-else chain** "
   ]
  },
  {
   "cell_type": "code",
   "execution_count": 4,
   "id": "afd7c78d",
   "metadata": {},
   "outputs": [
    {
     "name": "stdout",
     "output_type": "stream",
     "text": [
      "Your admission cost is $25.\n"
     ]
    }
   ],
   "source": [
    "age = 12\n",
    "if age <4:\n",
    "    print(\"Your admission fee is free of charge.\")\n",
    "elif age <18:\n",
    "    print(\"Your admission cost is $25.\")\n",
    "else:\n",
    "    print(\"Your admission cost is $40.\")"
   ]
  },
  {
   "cell_type": "markdown",
   "id": "e83bed7c",
   "metadata": {},
   "source": [
    "More concise to just put the **price** inside the if-elif-else chain. Instead of determining a price and displaying a message, it simply determines the admission price."
   ]
  },
  {
   "cell_type": "code",
   "execution_count": 5,
   "id": "b3abb5bc",
   "metadata": {},
   "outputs": [
    {
     "name": "stdout",
     "output_type": "stream",
     "text": [
      "Your admission cost is $25\n"
     ]
    }
   ],
   "source": [
    "age = 12\n",
    "if age <4:\n",
    "    price = 0\n",
    "elif age <18:\n",
    "    price = 25\n",
    "else:\n",
    "    price =40\n",
    "print(f\"Your admission cost is ${price}\")"
   ]
  },
  {
   "cell_type": "markdown",
   "id": "582d6e23",
   "metadata": {},
   "source": [
    "**Using Multiple elif Blocks** we can use as many elif blocks in our code as we like!"
   ]
  },
  {
   "cell_type": "code",
   "execution_count": 8,
   "id": "3ee1e7ff",
   "metadata": {},
   "outputs": [
    {
     "name": "stdout",
     "output_type": "stream",
     "text": [
      "Your admission cost is $25.\n"
     ]
    }
   ],
   "source": [
    "age =12\n",
    "if age <4:\n",
    "    price = 0\n",
    "elif age < 18:\n",
    "    price = 25\n",
    "elif age <65:\n",
    "    price = 40\n",
    "else:\n",
    "    price = 20\n",
    "print(f\"Your admission cost is ${price}.\")"
   ]
  },
  {
   "cell_type": "markdown",
   "id": "9944b87f",
   "metadata": {},
   "source": [
    "**Omitting the else block** sometimes it is clearer to use an additional elif statement that catches the specific condition of interest. Sometimes else can include invalid or malicious data."
   ]
  },
  {
   "cell_type": "code",
   "execution_count": null,
   "id": "6d646cf5",
   "metadata": {},
   "outputs": [],
   "source": [
    "age =12\n",
    "if age <4:\n",
    "    price = 0\n",
    "elif age < 18:\n",
    "    price = 25\n",
    "elif age <65:\n",
    "    price = 40\n",
    "elif:age >65:\n",
    "    price = 20\n",
    "print(f\"Your admission cost is ${price}.\")"
   ]
  },
  {
   "cell_type": "markdown",
   "id": "ef5254de",
   "metadata": {},
   "source": [
    "**Testing multiple conditions**"
   ]
  },
  {
   "cell_type": "markdown",
   "id": "f68e0872",
   "metadata": {},
   "source": [
    "- If you want only one block/one condition to run, use an if-elif-else chain.\n",
    "- If you want more than one block of code/more than one conditions to meet, use series of independent if statements. "
   ]
  },
  {
   "cell_type": "code",
   "execution_count": 9,
   "id": "3ee61f90",
   "metadata": {},
   "outputs": [
    {
     "name": "stdout",
     "output_type": "stream",
     "text": [
      "Adding mushrooms\n",
      "Adding extra cheese.\n",
      "\n",
      "Finished making your pizza!\n"
     ]
    }
   ],
   "source": [
    "requested_toppings = ['mushroom','extra cheese']\n",
    "if 'mushroom' in requested_toppings:\n",
    "    print(\"Adding mushrooms\")\n",
    "if 'pepperoni' in requested_toppings:\n",
    "    print(\"Adding pepperoni\")\n",
    "if 'extra cheese' in requested_toppings:\n",
    "    print(\"Adding extra cheese.\")\n",
    "print(\"\\nFinished making your pizza!\")"
   ]
  },
  {
   "cell_type": "markdown",
   "id": "908eca10",
   "metadata": {},
   "source": [
    "**Practice2**"
   ]
  },
  {
   "cell_type": "markdown",
   "id": "0b9c638c",
   "metadata": {},
   "source": [
    "5-3 Alien colors"
   ]
  },
  {
   "cell_type": "code",
   "execution_count": 20,
   "id": "c41b07bf",
   "metadata": {},
   "outputs": [],
   "source": [
    "alien_color = 'green'"
   ]
  },
  {
   "cell_type": "code",
   "execution_count": 22,
   "id": "c57e2d04",
   "metadata": {},
   "outputs": [],
   "source": [
    "if alien_color == 'red':\n",
    "    print(\"you just earned 5 points\")"
   ]
  },
  {
   "cell_type": "code",
   "execution_count": 21,
   "id": "2538f03a",
   "metadata": {},
   "outputs": [
    {
     "name": "stdout",
     "output_type": "stream",
     "text": [
      "you just earned 5 points\n"
     ]
    }
   ],
   "source": [
    "if alien_color == 'green':\n",
    "    print(\"you just earned 5 points\")"
   ]
  },
  {
   "cell_type": "markdown",
   "id": "6d8d5518",
   "metadata": {},
   "source": [
    "5-4 Alien Colors #2"
   ]
  },
  {
   "cell_type": "code",
   "execution_count": 1,
   "id": "4357ed57",
   "metadata": {},
   "outputs": [],
   "source": [
    "alien_color = 'green' "
   ]
  },
  {
   "cell_type": "code",
   "execution_count": 2,
   "id": "b3046d0a",
   "metadata": {},
   "outputs": [
    {
     "name": "stdout",
     "output_type": "stream",
     "text": [
      "You just earned 5 points\n"
     ]
    }
   ],
   "source": [
    "if alien_color == 'green':\n",
    "    print('You just earned 5 points')\n",
    "else: \n",
    "    print('You just earned 10 points')"
   ]
  },
  {
   "cell_type": "markdown",
   "id": "547d1cd5",
   "metadata": {},
   "source": [
    "5-5 Alien Colors #3 "
   ]
  },
  {
   "cell_type": "code",
   "execution_count": 4,
   "id": "94d46abb",
   "metadata": {},
   "outputs": [
    {
     "name": "stdout",
     "output_type": "stream",
     "text": [
      "You just earned 5 points\n"
     ]
    }
   ],
   "source": [
    "if alien_color == 'green':\n",
    "    print('You just earned 5 points')\n",
    "elif alien_color == 'yellow':\n",
    "    print('You just earned 10 points')\n",
    "elif alien_color == 'red':\n",
    "    print('You just earned 15 points')"
   ]
  },
  {
   "cell_type": "markdown",
   "id": "89893b4d",
   "metadata": {},
   "source": [
    "5-6 Stages of Life "
   ]
  },
  {
   "cell_type": "code",
   "execution_count": 7,
   "id": "c0761cae",
   "metadata": {},
   "outputs": [],
   "source": [
    "age = 55"
   ]
  },
  {
   "cell_type": "code",
   "execution_count": 8,
   "id": "53a6af70",
   "metadata": {},
   "outputs": [
    {
     "name": "stdout",
     "output_type": "stream",
     "text": [
      "an adult\n"
     ]
    }
   ],
   "source": [
    "if age <= 2:\n",
    "    print('A baby')\n",
    "elif 2 <= age <4:\n",
    "    print('A toddler')\n",
    "elif 4 <= age <13:\n",
    "    print ('A kid')\n",
    "elif 13 <= age <20:\n",
    "    print('a teenager')\n",
    "elif 20<= age <65:\n",
    "    print('an adult')\n",
    "elif age>= 65:\n",
    "    print('an elder')"
   ]
  },
  {
   "cell_type": "markdown",
   "id": "bcb62976",
   "metadata": {},
   "source": [
    "5-7 Favorite Fruit "
   ]
  },
  {
   "cell_type": "code",
   "execution_count": 10,
   "id": "9252f81a",
   "metadata": {},
   "outputs": [],
   "source": [
    "favorite_fruits = ['apple','mango','papaya']"
   ]
  },
  {
   "cell_type": "code",
   "execution_count": 15,
   "id": "73ceccf9",
   "metadata": {},
   "outputs": [
    {
     "name": "stdout",
     "output_type": "stream",
     "text": [
      "you really like apple\n",
      "you really like mango\n",
      "you really like papaya\n"
     ]
    }
   ],
   "source": [
    "if 'apple' in favorite_fruits:\n",
    "    print('you really like apple')\n",
    "if 'mango' in favorite_fruits:\n",
    "    print('you really like mango')\n",
    "if 'papaya' in favorite_fruits:\n",
    "    print('you really like papaya')"
   ]
  },
  {
   "cell_type": "markdown",
   "id": "29116527",
   "metadata": {},
   "source": [
    "###  Using if Statements with Lists"
   ]
  },
  {
   "cell_type": "code",
   "execution_count": 16,
   "id": "7b630748",
   "metadata": {},
   "outputs": [],
   "source": [
    "requested_toppings = ['mushroom','green peppers','extra cheese']"
   ]
  },
  {
   "cell_type": "code",
   "execution_count": 17,
   "id": "7b5234bd",
   "metadata": {},
   "outputs": [
    {
     "name": "stdout",
     "output_type": "stream",
     "text": [
      "Adding mushroom.\n",
      "Adding green peppers.\n",
      "Adding extra cheese.\n",
      "\n",
      "Finished making your pizza!\n"
     ]
    }
   ],
   "source": [
    "for requested_topping in requested_toppings:\n",
    "    print(f\"Adding {requested_topping}.\")\n",
    "print(\"\\nFinished making your pizza!\")"
   ]
  },
  {
   "cell_type": "code",
   "execution_count": 18,
   "id": "88d308ea",
   "metadata": {},
   "outputs": [
    {
     "name": "stdout",
     "output_type": "stream",
     "text": [
      "Adding mushroom.\n",
      "Sorry, we are out of green peppers right now.\n",
      "Adding extra cheese.\n",
      "\n",
      "Finished making your pizza!\n"
     ]
    }
   ],
   "source": [
    "for requested_topping in requested_toppings:\n",
    "    if requested_topping == 'green peppers':\n",
    "        print(\"Sorry, we are out of green peppers right now.\")\n",
    "    else:\n",
    "        print(f\"Adding {requested_topping}.\")\n",
    "print(\"\\nFinished making your pizza!\")"
   ]
  },
  {
   "cell_type": "markdown",
   "id": "2b7195ac",
   "metadata": {},
   "source": [
    "we **loop** thorugh each value in the list."
   ]
  },
  {
   "cell_type": "markdown",
   "id": "2255138d",
   "metadata": {},
   "source": [
    "### Checking that a list is not empty "
   ]
  },
  {
   "cell_type": "markdown",
   "id": "a44367d6",
   "metadata": {},
   "source": [
    "create a statement to check if the list is empty if not then add"
   ]
  },
  {
   "cell_type": "code",
   "execution_count": 22,
   "id": "8738288e",
   "metadata": {},
   "outputs": [
    {
     "name": "stdout",
     "output_type": "stream",
     "text": [
      "Are you sure you want a plain pizza?\n"
     ]
    }
   ],
   "source": [
    "requested_toppings = []\n",
    "\n",
    "if requested_toppings:\n",
    "    for requested_topping in requested_toppings:\n",
    "        print(f'Adding {requested_topping}.')\n",
    "    print(\"\\nFinished making your pizza!\")\n",
    "else:\n",
    "    print(\"Are you sure you want a plain pizza?\")"
   ]
  },
  {
   "cell_type": "markdown",
   "id": "d8f3cf78",
   "metadata": {},
   "source": [
    "### Using Multiple Lists"
   ]
  },
  {
   "cell_type": "markdown",
   "id": "446e0108",
   "metadata": {},
   "source": [
    "Use another list to make sure that the inputs make sense before you act on it"
   ]
  },
  {
   "cell_type": "code",
   "execution_count": 23,
   "id": "71bb3b04",
   "metadata": {},
   "outputs": [
    {
     "name": "stdout",
     "output_type": "stream",
     "text": [
      "Adding mushroom.\n",
      "Sorry, we don't have french fries.\n",
      "Adding extra cheese.\n",
      "\n",
      "Finished making your pizza!\n"
     ]
    }
   ],
   "source": [
    "available_toppings = ['mushroom','olives','green peppers','peppornoni',\n",
    "                     'pineapple','extra cheese']\n",
    "requested_toppings = ['mushroom','french fries','extra cheese']\n",
    "\n",
    "for requested_topping in requested_toppings:\n",
    "    if requested_topping in available_toppings:\n",
    "        print(f\"Adding {requested_topping}.\")\n",
    "    else:\n",
    "        print(f\"Sorry, we don't have {requested_topping}.\")\n",
    "print(\"\\nFinished making your pizza!\")"
   ]
  },
  {
   "cell_type": "markdown",
   "id": "ebea4374",
   "metadata": {},
   "source": [
    "available_toppings can be a tuple if the pizzeria has a stable selection of toppings"
   ]
  },
  {
   "cell_type": "markdown",
   "id": "1ec54e2a",
   "metadata": {},
   "source": [
    "**Practice 3**"
   ]
  },
  {
   "cell_type": "markdown",
   "id": "30deacfe",
   "metadata": {},
   "source": [
    "**5-8 Hello admin**"
   ]
  },
  {
   "cell_type": "code",
   "execution_count": 25,
   "id": "e84ea64e",
   "metadata": {},
   "outputs": [
    {
     "name": "stdout",
     "output_type": "stream",
     "text": [
      "hello admin, would you like to see a status report?\n",
      "hello chen, thank you for logging in again\n",
      "hello shin, thank you for logging in again\n",
      "hello tong, thank you for logging in again\n",
      "hello may, thank you for logging in again\n",
      "hello mind, thank you for logging in again\n"
     ]
    }
   ],
   "source": [
    "names = ['admin','chen','shin','tong','may','mind']\n",
    "for name in names: # first you loop \n",
    "    if name == 'admin': # then set the condition inside the loop\n",
    "        print('hello admin, would you like to see a status report?')\n",
    "    else:\n",
    "        print(f'hello {name}, thank you for logging in again')\n",
    "        "
   ]
  },
  {
   "cell_type": "markdown",
   "id": "640b4a7d",
   "metadata": {},
   "source": [
    "5-9 No users"
   ]
  },
  {
   "cell_type": "code",
   "execution_count": null,
   "id": "0fdf83ee",
   "metadata": {},
   "outputs": [],
   "source": [
    "requested_toppings = []\n",
    "\n",
    "if requested_toppings:\n",
    "    for requested_topping in requested_toppings:\n",
    "        print(f'Adding {requested_topping}.')\n",
    "    print(\"\\nFinished making your pizza!\")\n",
    "else:\n",
    "    print(\"Are you sure you want a plain pizza?\")"
   ]
  },
  {
   "cell_type": "code",
   "execution_count": 27,
   "id": "60a2083e",
   "metadata": {},
   "outputs": [],
   "source": [
    "names = []"
   ]
  },
  {
   "cell_type": "code",
   "execution_count": 28,
   "id": "5a2a3612",
   "metadata": {},
   "outputs": [
    {
     "name": "stdout",
     "output_type": "stream",
     "text": [
      "we need to find some users!\n"
     ]
    }
   ],
   "source": [
    "if names:\n",
    "    for name in names:\n",
    "        if name == 'admin':\n",
    "            print('hello admin, would you like to see a status report?')\n",
    "        else:\n",
    "            print(f'hello {name}, thank you for logging in again')\n",
    "else:\n",
    "    print(\"we need to find some users!\")"
   ]
  },
  {
   "cell_type": "markdown",
   "id": "a58daaf4",
   "metadata": {},
   "source": [
    "5-10 Checking Usernames"
   ]
  },
  {
   "cell_type": "code",
   "execution_count": 1,
   "id": "02f22b40",
   "metadata": {},
   "outputs": [],
   "source": [
    "current_users = ['chen','tong','shin','keen']\n",
    "new_users = ['Chen','Tong','rebecca','jelly','Anna']"
   ]
  },
  {
   "cell_type": "code",
   "execution_count": 2,
   "id": "00dc50fa",
   "metadata": {},
   "outputs": [
    {
     "name": "stdout",
     "output_type": "stream",
     "text": [
      "Chen is already been used! please change!\n",
      "Tong is already been used! please change!\n",
      "username is available\n",
      "username is available\n",
      "username is available\n"
     ]
    }
   ],
   "source": [
    "for new_user in new_users:\n",
    "    if new_user.lower() in current_users: # just change the list name after in\n",
    "        print(f'{new_user} is already been used! please change!')\n",
    "    else:\n",
    "        print('username is available')"
   ]
  },
  {
   "cell_type": "markdown",
   "id": "b60090b4",
   "metadata": {},
   "source": [
    "5-11 Ordinal Numbers"
   ]
  },
  {
   "cell_type": "code",
   "execution_count": 36,
   "id": "8729028e",
   "metadata": {},
   "outputs": [
    {
     "name": "stdout",
     "output_type": "stream",
     "text": [
      "1st\n",
      "2nd\n",
      "3rd\n",
      "4th\n",
      "5th\n",
      "6th\n",
      "7th\n",
      "8th\n",
      "9th\n"
     ]
    }
   ],
   "source": [
    "ordinals = [1,2,3,4,5,6,7,8,9]\n",
    "for ordinal in ordinals:\n",
    "    if ordinal ==1:\n",
    "        print('1st')\n",
    "    elif ordinal == 2:\n",
    "        print('2nd')\n",
    "    elif ordinal == 3:\n",
    "        print('3rd')\n",
    "    else:\n",
    "        print(f'{ordinal}th')"
   ]
  },
  {
   "cell_type": "markdown",
   "id": "037fa8ba",
   "metadata": {},
   "source": [
    "### styling your if statements"
   ]
  },
  {
   "cell_type": "markdown",
   "id": "a3ccb354",
   "metadata": {},
   "source": [
    "The only recommendation PEP 8 provides for styling conditional tests is to use a single space around comparison operators, such as ==, >=, and <=. For example:"
   ]
  },
  {
   "cell_type": "code",
   "execution_count": null,
   "id": "fa258ad2",
   "metadata": {},
   "outputs": [],
   "source": [
    "if age < 4:"
   ]
  }
 ],
 "metadata": {
  "kernelspec": {
   "display_name": "Python 3 (ipykernel)",
   "language": "python",
   "name": "python3"
  },
  "language_info": {
   "codemirror_mode": {
    "name": "ipython",
    "version": 3
   },
   "file_extension": ".py",
   "mimetype": "text/x-python",
   "name": "python",
   "nbconvert_exporter": "python",
   "pygments_lexer": "ipython3",
   "version": "3.8.18"
  }
 },
 "nbformat": 4,
 "nbformat_minor": 5
}
