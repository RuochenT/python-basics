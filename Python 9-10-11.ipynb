{
 "cells": [
  {
   "cell_type": "markdown",
   "id": "be14b363",
   "metadata": {},
   "source": [
    "# Chapter 9: Classes "
   ]
  },
  {
   "cell_type": "markdown",
   "id": "1b3a98c7",
   "metadata": {},
   "source": [
    "**Classes** represent real-world things and situations, and we create objects (instances) based on these classes.\n",
    "\n",
    "**attributes**: variables that are accessible through instances (name,age,type). call by class.variable\n",
    "\n",
    "**Methods**: \\_\\__init\\_\\__(), sit(), roll_over(), call with ()"
   ]
  },
  {
   "cell_type": "markdown",
   "id": "4873090a",
   "metadata": {},
   "source": [
    "## 1. creating and using a class"
   ]
  },
  {
   "cell_type": "markdown",
   "id": "5bdd40e6",
   "metadata": {},
   "source": [
    "### The _init_()method"
   ]
  },
  {
   "cell_type": "code",
   "execution_count": 12,
   "id": "00c9969c",
   "metadata": {},
   "outputs": [],
   "source": [
    "class Dog: \n",
    "    \"\"\"A simple attempt to model a dog.\"\"\"\n",
    "    \n",
    "    def __init__(self,name,age):\n",
    "        \"\"\"Initialize name and age attributes.\"\"\"\n",
    "        self.name = name\n",
    "        self.age = age\n",
    "        \n",
    "    def sit(self):\n",
    "        \"\"\"Simulate a dog sitting in response to a command.\"\"\"\n",
    "        print(f\"{self.name} is now sitting.\")\n",
    "        \n",
    "    def roll_over(self):\n",
    "        \"\"\"Simulate rolling over is response to a command.\"\"\"\n",
    "        print(f\"{self.name} rolled over!\")\n",
    "        \n"
   ]
  },
  {
   "cell_type": "markdown",
   "id": "a8a16f55",
   "metadata": {},
   "source": [
    "- the _init_() method: is a special method that Python runs automatically whenever we creaete a new instance based on the class.\n",
    "- the self parameter is required in the method def and it must come befpre the other parameters. self is passed automatically, so we don't need to pass it.\n",
    "- Any variable prefixed with self is available to every method in the class and we will be able to access these variables through any instance created from the class.\n",
    "- Because these sit() and roll_over() methods do not need additional infor to run, we define them to have one parameter, self."
   ]
  },
  {
   "cell_type": "markdown",
   "id": "e0776ee1",
   "metadata": {},
   "source": [
    "### Making an instance from a Class"
   ]
  },
  {
   "cell_type": "code",
   "execution_count": 13,
   "id": "256a029c",
   "metadata": {},
   "outputs": [
    {
     "name": "stdout",
     "output_type": "stream",
     "text": [
      "My dog's name is Willie.\n",
      "My dog is 6 years old.\n"
     ]
    }
   ],
   "source": [
    "my_dog = Dog('Willie', 6)\n",
    "print(f\"My dog's name is {my_dog.name}.\")\n",
    "print(f\"My dog is {my_dog.age} years old.\")"
   ]
  },
  {
   "cell_type": "markdown",
   "id": "7b74000d",
   "metadata": {},
   "source": [
    "1. When Python reads this line, it calls the init() method in Dog with the arguments 'Willie' and 6. \n",
    "2. The \\_\\_init\\_\\_() method creates and instance representing this dog and sets the name and age attributes using the values we provided. \n",
    "3. Python then returns an instance representing this dog!\n",
    "4. We assign that instance to the variable my_dog. Remember to always create a class with cap!"
   ]
  },
  {
   "cell_type": "markdown",
   "id": "bcb9351a",
   "metadata": {},
   "source": [
    "### Accessing Attributes"
   ]
  },
  {
   "cell_type": "code",
   "execution_count": 7,
   "id": "3ce84350",
   "metadata": {},
   "outputs": [
    {
     "data": {
      "text/plain": [
       "'Willie'"
      ]
     },
     "execution_count": 7,
     "metadata": {},
     "output_type": "execute_result"
    }
   ],
   "source": [
    "my_dog.name"
   ]
  },
  {
   "cell_type": "markdown",
   "id": "fd143e31",
   "metadata": {},
   "source": [
    "access the attributes of an instance with dot notation (same as self.name)"
   ]
  },
  {
   "cell_type": "markdown",
   "id": "8cace9cf",
   "metadata": {},
   "source": [
    "### Calling Methods "
   ]
  },
  {
   "cell_type": "code",
   "execution_count": 9,
   "id": "ee56681b",
   "metadata": {},
   "outputs": [
    {
     "name": "stdout",
     "output_type": "stream",
     "text": [
      "Willie is now sitting.\n",
      "Willie rolled over!\n"
     ]
    }
   ],
   "source": [
    "my_dog.sit()\n",
    "my_dog.roll_over()"
   ]
  },
  {
   "cell_type": "markdown",
   "id": "a26b0291",
   "metadata": {},
   "source": [
    "### Creating Multiple Instances"
   ]
  },
  {
   "cell_type": "markdown",
   "id": "35711559",
   "metadata": {},
   "source": [
    "You can make as many instances from one class as you need, as long as you give each instance a unique variable name or it occupies a unique spot in a list or dictionary."
   ]
  },
  {
   "cell_type": "code",
   "execution_count": 11,
   "id": "708c1153",
   "metadata": {},
   "outputs": [
    {
     "name": "stdout",
     "output_type": "stream",
     "text": [
      "Your dog's name is Lucy.\n",
      "Your dog is 3 years old.\n",
      "Lucy is now sitting.\n"
     ]
    }
   ],
   "source": [
    "your_dog = Dog('Lucy',3)\n",
    "\n",
    "print(f\"Your dog's name is {your_dog.name}.\")\n",
    "print(f\"Your dog is {your_dog.age} years old.\")\n",
    "your_dog.sit()"
   ]
  },
  {
   "cell_type": "markdown",
   "id": "9736d43a",
   "metadata": {},
   "source": [
    "**Practice 1**"
   ]
  },
  {
   "cell_type": "markdown",
   "id": "47675f9b",
   "metadata": {},
   "source": [
    "*9-1: Restaurant*"
   ]
  },
  {
   "cell_type": "code",
   "execution_count": 19,
   "id": "69d1a087",
   "metadata": {},
   "outputs": [],
   "source": [
    "class Restaurant: \n",
    "    \"\"\"model a simple restaurant.\"\"\"\n",
    "    \n",
    "    def __init__(self,name,type):\n",
    "        \"\"\"name and type attributes\"\"\"\n",
    "        self.restaurant_name = name\n",
    "        self.cuisine_type = type\n",
    "        \n",
    "    def describe_restaurant(self):\n",
    "        \"\"\"print the information about the restaurant\"\"\"\n",
    "        print(f\"The name of the place is {self.restaurant_name} and we are selling {self.cuisine_type} food\")\n",
    "    \n",
    "    def open_restaurant(self):\n",
    "        \"\"\"simulate that a restaurant is open\"\"\"\n",
    "        print(f\"We are open!\")"
   ]
  },
  {
   "cell_type": "code",
   "execution_count": 17,
   "id": "b3558ee2",
   "metadata": {},
   "outputs": [
    {
     "name": "stdout",
     "output_type": "stream",
     "text": [
      "PEDPED\n",
      "ESAN\n",
      "The name of the place is PEDPED and we are selling ESAN food\n",
      "We are open!\n"
     ]
    }
   ],
   "source": [
    "restaurant = Restaurant('PEDPED','ESAN')\n",
    "print(restaurant.restaurant_name)\n",
    "print(restaurant.cuisine_type)\n",
    "restaurant.describe_restaurant()\n",
    "restaurant.open_restaurant()"
   ]
  },
  {
   "cell_type": "markdown",
   "id": "d6ea66b7",
   "metadata": {},
   "source": [
    "*9-2: Three restaurants*"
   ]
  },
  {
   "cell_type": "code",
   "execution_count": 20,
   "id": "bcc92a29",
   "metadata": {},
   "outputs": [
    {
     "name": "stdout",
     "output_type": "stream",
     "text": [
      "The name of the place is CQK and we are selling Hot Pot food\n"
     ]
    }
   ],
   "source": [
    "p = Restaurant('CQK','Hot Pot')\n",
    "p.describe_restaurant()"
   ]
  },
  {
   "cell_type": "markdown",
   "id": "07537452",
   "metadata": {},
   "source": [
    "*9-3 Users*"
   ]
  },
  {
   "cell_type": "code",
   "execution_count": 26,
   "id": "908a4755",
   "metadata": {},
   "outputs": [],
   "source": [
    "class User:\n",
    "    \"\"\"user information\"\"\"\n",
    "    \n",
    "    def __init__(self,first_name,last_name):\n",
    "        \"\"\"name attributes\"\"\"\n",
    "        self.first_name = first_name\n",
    "        self.last_name = last_name\n",
    "    \n",
    "    def describe_user(self):\n",
    "        \"\"\"print a summary of the user's information\"\"\"\n",
    "        print(f\"User first name is {self.first_name} and last name is {self.last_name}\")\n",
    "        \n",
    "    def greet_user(self):\n",
    "        \"\"\"greet user\"\"\"\n",
    "        print(f\"Hi {self.first_name} {self.last_name}!\")"
   ]
  },
  {
   "cell_type": "code",
   "execution_count": 27,
   "id": "6d35043a",
   "metadata": {},
   "outputs": [
    {
     "name": "stdout",
     "output_type": "stream",
     "text": [
      "User first name is John and last name is Smith\n",
      "Hi John Smith!\n"
     ]
    }
   ],
   "source": [
    "user1 = User('John','Smith')\n",
    "user1.describe_user()\n",
    "user1.greet_user()"
   ]
  },
  {
   "cell_type": "markdown",
   "id": "17cd962d",
   "metadata": {},
   "source": [
    "## 2. Working with Classes and Instances "
   ]
  },
  {
   "cell_type": "code",
   "execution_count": 28,
   "id": "11dca7eb",
   "metadata": {},
   "outputs": [
    {
     "name": "stdout",
     "output_type": "stream",
     "text": [
      "2004 Audi A4\n"
     ]
    }
   ],
   "source": [
    "class Car:\n",
    "    \"\"\"A simple attempt to represent a car.\"\"\"\n",
    "    \n",
    "    def __init__(self,make,model,year):\n",
    "        \"\"\"Initialize attributes to describe a car\"\"\"\n",
    "        self.make = make\n",
    "        self.model = model\n",
    "        self.year = year \n",
    "        \n",
    "    def get_descriptive_name(self):\n",
    "        \"\"\"Return a neatly formatted descriptive name.\"\"\"\n",
    "        long_name = f\"{self.year} {self.make} {self.model}\"\n",
    "        return long_name.title()\n",
    "    \n",
    "my_new_car = Car('audi','a4','2004')\n",
    "print(my_new_car.get_descriptive_name())"
   ]
  },
  {
   "cell_type": "markdown",
   "id": "09eab151",
   "metadata": {},
   "source": [
    "### Setting a Default Value for an Attribute "
   ]
  },
  {
   "cell_type": "markdown",
   "id": "9a41a649",
   "metadata": {},
   "source": [
    "When an instance is created, attributes can be defined without being passed in as parameters. They can be defined in the \\_\\_init\\_\\_() method, where they are assigned a default value."
   ]
  },
  {
   "cell_type": "code",
   "execution_count": 31,
   "id": "52990660",
   "metadata": {},
   "outputs": [
    {
     "name": "stdout",
     "output_type": "stream",
     "text": [
      "2004 Audi A4\n",
      "This car has 0 miles on it.\n"
     ]
    }
   ],
   "source": [
    "class Car:\n",
    "    \"\"\"A simple attempt to represent a car.\"\"\"\n",
    "    \n",
    "    def __init__(self,make,model,year):\n",
    "        \"\"\"Initialize attributes to describe a car\"\"\"\n",
    "        self.make = make\n",
    "        self.model = model\n",
    "        self.year = year\n",
    "        self.odometer_reading = 0\n",
    "        \n",
    "    def get_descriptive_name(self):\n",
    "        \"\"\"Return a neatly formatted descriptive name.\"\"\"\n",
    "        long_name = f\"{self.year} {self.make} {self.model}\"\n",
    "        return long_name.title()\n",
    "    \n",
    "    def read_odometer(self):\n",
    "        \"\"\"Print a statement showing the car's mileage.\"\"\"\n",
    "        print(f\"This car has {self.odometer_reading} miles on it.\")\n",
    "        \n",
    "my_new_car = Car('audi','a4','2004')\n",
    "print(my_new_car.get_descriptive_name())\n",
    "my_new_car.read_odometer()\n",
    "    "
   ]
  },
  {
   "cell_type": "markdown",
   "id": "fc031df0",
   "metadata": {},
   "source": [
    "we add an attribute called odometer_reading that always starts with a value of 0, and add a method read_odometer() that helps us read each car's odometer."
   ]
  },
  {
   "cell_type": "markdown",
   "id": "99f583e9",
   "metadata": {},
   "source": [
    "### Modifying Attribute Values\n",
    "There are three ways to change the attribute's value."
   ]
  },
  {
   "cell_type": "markdown",
   "id": "42944e81",
   "metadata": {},
   "source": [
    "**1. Modifying an attribute's value directly**"
   ]
  },
  {
   "cell_type": "code",
   "execution_count": 32,
   "id": "b2e4ae19",
   "metadata": {},
   "outputs": [
    {
     "name": "stdout",
     "output_type": "stream",
     "text": [
      "This car has 23 miles on it.\n"
     ]
    }
   ],
   "source": [
    "my_new_car.odometer_reading = 23\n",
    "my_new_car.read_odometer()"
   ]
  },
  {
   "cell_type": "markdown",
   "id": "247090a9",
   "metadata": {},
   "source": [
    "**2. Modifying an attribute's value through a method**"
   ]
  },
  {
   "cell_type": "code",
   "execution_count": 34,
   "id": "fc181fba",
   "metadata": {},
   "outputs": [
    {
     "name": "stdout",
     "output_type": "stream",
     "text": [
      "2004 Audi A4\n",
      "This car has 23 miles on it.\n"
     ]
    }
   ],
   "source": [
    "class Car:\n",
    "    \"\"\"A simple attempt to represent a car.\"\"\"\n",
    "    \n",
    "    def __init__(self,make,model,year):\n",
    "        \"\"\"Initialize attributes to describe a car\"\"\"\n",
    "        self.make = make\n",
    "        self.model = model\n",
    "        self.year = year\n",
    "        self.odometer_reading = 0\n",
    "        \n",
    "    def get_descriptive_name(self):\n",
    "        \"\"\"Return a neatly formatted descriptive name.\"\"\"\n",
    "        long_name = f\"{self.year} {self.make} {self.model}\"\n",
    "        return long_name.title()\n",
    "    \n",
    "    def read_odometer(self):\n",
    "        \"\"\"Print a statement showing the car's mileage.\"\"\"\n",
    "        print(f\"This car has {self.odometer_reading} miles on it.\")\n",
    "    \n",
    "    def update_odometer(self, mileage):\n",
    "        \"\"\"Set the odometer reading to the given value.\"\"\"\n",
    "        self.odometer_reading = mileage\n",
    "        \n",
    "my_new_car = Car('audi','a4','2004')\n",
    "print(my_new_car.get_descriptive_name())\n",
    "my_new_car.update_odometer(23)\n",
    "my_new_car.read_odometer()"
   ]
  },
  {
   "cell_type": "markdown",
   "id": "cc07282f",
   "metadata": {},
   "source": [
    "add condition that no one can try to roll back the odometer reading. "
   ]
  },
  {
   "cell_type": "code",
   "execution_count": null,
   "id": "d9b9a6ab",
   "metadata": {},
   "outputs": [],
   "source": [
    "class Car:\n",
    "    \"\"\"A simple attempt to represent a car.\"\"\"\n",
    "    \n",
    "    def __init__(self,make,model,year):\n",
    "        \"\"\"Initialize attributes to describe a car\"\"\"\n",
    "        self.make = make\n",
    "        self.model = model\n",
    "        self.year = year\n",
    "        self.odometer_reading = 0\n",
    "        \n",
    "    def get_descriptive_name(self):\n",
    "        \"\"\"Return a neatly formatted descriptive name.\"\"\"\n",
    "        long_name = f\"{self.year} {self.make} {self.model}\"\n",
    "        return long_name.title()\n",
    "    \n",
    "    def read_odometer(self):\n",
    "        \"\"\"Print a statement showing the car's mileage.\"\"\"\n",
    "        print(f\"This car has {self.odometer_reading} miles on it.\")\n",
    "    \n",
    "    def update_odometer(self, mileage):\n",
    "        \"\"\"Set the odometer reading to the given value.\n",
    "        Reject the change if it attempts to roll back\n",
    "        \"\"\"\n",
    "        if mileage >= self.odometer_reading:\n",
    "            self.odometer_reading = mileage\n",
    "        else:\n",
    "            print(\"You cannot roll back an odometer!\")"
   ]
  },
  {
   "cell_type": "markdown",
   "id": "e062e5d4",
   "metadata": {},
   "source": [
    "If the value provided for mileage is greater than or equal to the existing mileage (self.odometer_reading), you can update. Otherwise, you will get the warning that you cannot roll back an odometer. "
   ]
  },
  {
   "cell_type": "markdown",
   "id": "7f5abb39",
   "metadata": {},
   "source": [
    "**3. Incrementing an Attribute's Value Through a Method**"
   ]
  },
  {
   "cell_type": "markdown",
   "id": "54b49997",
   "metadata": {},
   "source": [
    "add the method to pass the incremental amount and add that value to the odometer reading. "
   ]
  },
  {
   "cell_type": "code",
   "execution_count": 35,
   "id": "6f2578e2",
   "metadata": {},
   "outputs": [
    {
     "name": "stdout",
     "output_type": "stream",
     "text": [
      "2019 Sabaru Outback\n",
      "This car has 23500 miles on it.\n",
      "This car has 23600 miles on it.\n"
     ]
    }
   ],
   "source": [
    "class Car:\n",
    "    \"\"\"A simple attempt to represent a car.\"\"\"\n",
    "    \n",
    "    def __init__(self,make,model,year):\n",
    "        \"\"\"Initialize attributes to describe a car\"\"\"\n",
    "        self.make = make\n",
    "        self.model = model\n",
    "        self.year = year\n",
    "        self.odometer_reading = 0\n",
    "        \n",
    "    def get_descriptive_name(self):\n",
    "        \"\"\"Return a neatly formatted descriptive name.\"\"\"\n",
    "        long_name = f\"{self.year} {self.make} {self.model}\"\n",
    "        return long_name.title()\n",
    "    \n",
    "    def read_odometer(self):\n",
    "        \"\"\"Print a statement showing the car's mileage.\"\"\"\n",
    "        print(f\"This car has {self.odometer_reading} miles on it.\")\n",
    "    \n",
    "    def update_odometer(self, mileage):\n",
    "        \"\"\"Set the odometer reading to the given value.\n",
    "        Reject the change if it attempts to roll back\n",
    "        \"\"\"\n",
    "        if mileage >= self.odometer_reading:\n",
    "            self.odometer_reading = mileage\n",
    "        else:\n",
    "            print(\"You cannot roll back an odometer!\")\n",
    "    \n",
    "    def increment_odometer(self,miles):\n",
    "        \"\"\"Add the given amount to the odometer reading.\"\"\"\n",
    "        self.odometer_reading += miles\n",
    "\n",
    "my_used_car = Car('sabaru','outback','2019')\n",
    "print(my_used_car.get_descriptive_name())\n",
    "\n",
    "my_used_car.update_odometer(23_500) # _for readibility 23500\n",
    "my_used_car.read_odometer()\n",
    "\n",
    "my_used_car.increment_odometer(100)\n",
    "my_used_car.read_odometer()"
   ]
  },
  {
   "cell_type": "markdown",
   "id": "d4a2aa13",
   "metadata": {},
   "source": [
    "**Practice2**"
   ]
  },
  {
   "cell_type": "markdown",
   "id": "bbcfca05",
   "metadata": {},
   "source": [
    "*9-4*"
   ]
  },
  {
   "cell_type": "code",
   "execution_count": 36,
   "id": "4d988486",
   "metadata": {},
   "outputs": [],
   "source": [
    "class Restaurant: \n",
    "    \"\"\"model a simple restaurant.\"\"\"\n",
    "    \n",
    "    def __init__(self,name,type):\n",
    "        \"\"\"name and type attributes\"\"\"\n",
    "        self.restaurant_name = name\n",
    "        self.cuisine_type = type\n",
    "        self.number_served = 0\n",
    "        \n",
    "    def describe_restaurant(self):\n",
    "        \"\"\"print the information about the restaurant\"\"\"\n",
    "        print(f\"The name of the place is {self.restaurant_name} and we are selling {self.cuisine_type} food\")\n",
    "    \n",
    "    def open_restaurant(self):\n",
    "        \"\"\"simulate that a restaurant is open\"\"\"\n",
    "        print(f\"We are open!\")"
   ]
  },
  {
   "cell_type": "code",
   "execution_count": 37,
   "id": "96c4604d",
   "metadata": {},
   "outputs": [
    {
     "data": {
      "text/plain": [
       "0"
      ]
     },
     "execution_count": 37,
     "metadata": {},
     "output_type": "execute_result"
    }
   ],
   "source": [
    "restaurant = Restaurant('Bacco','Italian')\n",
    "restaurant.number_served"
   ]
  },
  {
   "cell_type": "code",
   "execution_count": 38,
   "id": "7fb4fc36",
   "metadata": {},
   "outputs": [
    {
     "data": {
      "text/plain": [
       "1000"
      ]
     },
     "execution_count": 38,
     "metadata": {},
     "output_type": "execute_result"
    }
   ],
   "source": [
    "restaurant.number_served = 1000\n",
    "restaurant.number_served"
   ]
  },
  {
   "cell_type": "code",
   "execution_count": 49,
   "id": "41eafd8c",
   "metadata": {},
   "outputs": [],
   "source": [
    "class Restaurant: \n",
    "    \"\"\"model a simple restaurant.\"\"\"\n",
    "    \n",
    "    def __init__(self,name,type):\n",
    "        \"\"\"name and type attributes\"\"\"\n",
    "        self.restaurant_name = name\n",
    "        self.cuisine_type = type\n",
    "        self.number_served = 0\n",
    "        \n",
    "    def describe_restaurant(self):\n",
    "        \"\"\"print the information about the restaurant\"\"\"\n",
    "        print(f\"The name of the place is {self.restaurant_name} and we are selling {self.cuisine_type} food\")\n",
    "    \n",
    "    def open_restaurant(self):\n",
    "        \"\"\"simulate that a restaurant is open\"\"\"\n",
    "        print(f\"We are open!\")\n",
    "    \n",
    "    def set_number_served(self,number):\n",
    "        \"\"\"add the number of customers that have been served\"\"\"\n",
    "        self.number_served = number\n",
    "        \n",
    "    def increment_number_served(self,add):\n",
    "        \"\"\"increment the number of customers\"\"\"\n",
    "        self.number_served += add"
   ]
  },
  {
   "cell_type": "code",
   "execution_count": 50,
   "id": "3fbb4823",
   "metadata": {},
   "outputs": [
    {
     "name": "stdout",
     "output_type": "stream",
     "text": [
      "0\n",
      "200\n",
      "500\n"
     ]
    }
   ],
   "source": [
    "restaurant = Restaurant('Bacco','Italian')\n",
    "print(restaurant.number_served)\n",
    "restaurant.set_number_served(200) #method\n",
    "print(restaurant.number_served) # attribute (store value)\n",
    "restaurant.increment_number_served(300)\n",
    "print(restaurant.number_served)"
   ]
  },
  {
   "cell_type": "markdown",
   "id": "f9baef64",
   "metadata": {},
   "source": [
    "*9- 5login Attempts*"
   ]
  },
  {
   "cell_type": "code",
   "execution_count": 52,
   "id": "cb0e533d",
   "metadata": {},
   "outputs": [
    {
     "name": "stdout",
     "output_type": "stream",
     "text": [
      "0\n",
      "3\n",
      "0\n"
     ]
    }
   ],
   "source": [
    "class User:\n",
    "    \"\"\"user information\"\"\"\n",
    "    \n",
    "    def __init__(self,first_name,last_name):\n",
    "        \"\"\"name attributes\"\"\"\n",
    "        self.first_name = first_name\n",
    "        self.last_name = last_name\n",
    "        self.login_attempts = 0\n",
    "    \n",
    "    def describe_user(self):\n",
    "        \"\"\"print a summary of the user's information\"\"\"\n",
    "        print(f\"User first name is {self.first_name} and last name is {self.last_name}\")\n",
    "        \n",
    "    def greet_user(self):\n",
    "        \"\"\"greet user\"\"\"\n",
    "        print(f\"Hi {self.first_name} {self.last_name}!\")\n",
    "    \n",
    "    def increment_login_attempts(self):\n",
    "        \"\"\"increment the login attempts by 1\"\"\"\n",
    "        self.login_attempts = self.login_attempts + 1\n",
    "    \n",
    "    def reset_login_attempts(self):\n",
    "        \"\"\"reset the login_attemps to 0\"\"\"\n",
    "        self.login_attempts = 0\n",
    "        \n",
    "user = User('John','Lee')\n",
    "print(user.login_attempts)\n",
    "user.increment_login_attempts()\n",
    "user.increment_login_attempts()\n",
    "user.increment_login_attempts()\n",
    "print(user.login_attempts)\n",
    "user.reset_login_attempts()\n",
    "print(user.login_attempts)"
   ]
  },
  {
   "cell_type": "markdown",
   "id": "7ead961c",
   "metadata": {},
   "source": [
    "## 3. Inheritance "
   ]
  },
  {
   "cell_type": "markdown",
   "id": "ea983248",
   "metadata": {},
   "source": [
    "If the class we are writing is a specialized version of another class, we can use inheritance. The child class inherits from the parent classs, but it's also free to define new attributes and methods of its own."
   ]
  },
  {
   "cell_type": "code",
   "execution_count": 1,
   "id": "ef31a887",
   "metadata": {},
   "outputs": [],
   "source": [
    "class Car:\n",
    "    \"\"\"A simple attempt to represent a car.\"\"\"\n",
    "    \n",
    "    def __init__(self,make,model,year):\n",
    "        \"\"\"Initialize attributes to describe a car\"\"\"\n",
    "        self.make = make\n",
    "        self.model = model\n",
    "        self.year = year\n",
    "        self.odometer_reading = 0\n",
    "        \n",
    "    def get_descriptive_name(self):\n",
    "        \"\"\"Return a neatly formatted descriptive name.\"\"\"\n",
    "        long_name = f\"{self.year} {self.make} {self.model}\"\n",
    "        return long_name.title()\n",
    "    \n",
    "    def read_odometer(self):\n",
    "        \"\"\"Print a statement showing the car's mileage.\"\"\"\n",
    "        print(f\"This car has {self.odometer_reading} miles on it.\")\n",
    "    \n",
    "    def update_odometer(self, mileage):\n",
    "        \"\"\"Set the odometer reading to the given value.\n",
    "        Reject the change if it attempts to roll back\n",
    "        \"\"\"\n",
    "        if mileage >= self.odometer_reading:\n",
    "            self.odometer_reading = mileage\n",
    "        else:\n",
    "            print(\"You cannot roll back an odometer!\")\n",
    "    \n",
    "    def increment_odometer(self,miles):\n",
    "        \"\"\"Add the given amount to the odometer reading.\"\"\"\n",
    "        self.odometer_reading += miles"
   ]
  },
  {
   "cell_type": "code",
   "execution_count": 2,
   "id": "6eeca3d3",
   "metadata": {},
   "outputs": [
    {
     "name": "stdout",
     "output_type": "stream",
     "text": [
      "2024 Nissan Leaf\n"
     ]
    }
   ],
   "source": [
    "class ElectricCar(Car):\n",
    "    \"\"\"Represent aspects of a car, specific to electric vehicles.\"\"\"\n",
    "    \n",
    "    def __init__(self,make,model,year):\n",
    "        \"\"\"Initialize attributes of the parent class.\"\"\"\n",
    "        super().__init__(make,model,year)\n",
    "\n",
    "my_leaf = ElectricCar('nissan','leaf',2024)\n",
    "print(my_leaf.get_descriptive_name())"
   ]
  },
  {
   "cell_type": "markdown",
   "id": "7f763be4",
   "metadata": {},
   "source": [
    "super() function is a special function that allows you to call a method from the parent class (the name is from superclass and subclass). This line call the __init__()method from Car."
   ]
  },
  {
   "cell_type": "markdown",
   "id": "c0708d99",
   "metadata": {},
   "source": [
    "### 3.1 Defining Attibutes and Methods for the Child class"
   ]
  },
  {
   "cell_type": "markdown",
   "id": "fa9a019f",
   "metadata": {},
   "source": [
    "add a new attribute that's specific to electric cars and a method to report on this attribute. "
   ]
  },
  {
   "cell_type": "code",
   "execution_count": 3,
   "id": "4d231c3c",
   "metadata": {},
   "outputs": [
    {
     "name": "stdout",
     "output_type": "stream",
     "text": [
      "2024 Nissan Leaf\n",
      "This car has a 40-kWh battery.\n"
     ]
    }
   ],
   "source": [
    "class ElectricCar(Car):\n",
    "    \"\"\"Represent aspects of a car, specific to electric vehicles.\"\"\"\n",
    "    \n",
    "    def __init__(self,make,model,year):\n",
    "        \"\"\"Initialize attributes of the parent class.\n",
    "        Then, initialize attributes specific to an electric car.\n",
    "        \"\"\"\n",
    "        super().__init__(make,model,year)\n",
    "        self.battery_size = 40\n",
    "        \n",
    "    def describe_battery(self):\n",
    "        \"\"\"Print a statement describing the battery size.\"\"\"\n",
    "        print(f\"This car has a {self.battery_size}-kWh battery.\")\n",
    "\n",
    "my_leaf = ElectricCar('nissan','leaf',2024)\n",
    "print(my_leaf.get_descriptive_name())\n",
    "my_leaf.describe_battery()"
   ]
  },
  {
   "cell_type": "markdown",
   "id": "184b9b2e",
   "metadata": {},
   "source": [
    "An attribute or method that could belong to any car, rather than one that’s specific to an electric car, should be added to the Car class instead of the ElectricCar class."
   ]
  },
  {
   "cell_type": "markdown",
   "id": "e01889b8",
   "metadata": {},
   "source": [
    "### 3.2 Overriding Methods from the Parent Class"
   ]
  },
  {
   "cell_type": "markdown",
   "id": "f325230b",
   "metadata": {},
   "source": [
    "override any method from the parent class that doesn't fit what you are trying to model with the child class. Define the method in the child class with the same name as the method you want to override in the parent class. "
   ]
  },
  {
   "cell_type": "code",
   "execution_count": null,
   "id": "5bc27666",
   "metadata": {},
   "outputs": [],
   "source": [
    "class ElectricCar(Car):\n",
    "    \n",
    "    def fill_gas_tank(self):\n",
    "        \"\"\"Electric cars don't have gas tanks.\"\"\"\n",
    "        print(\"This car doesn't have a gas tank!\")"
   ]
  },
  {
   "cell_type": "markdown",
   "id": "6fef8085",
   "metadata": {},
   "source": [
    "For example, if the class Car had a method called fill_gas_tank(). This method is meaningless for an all-elecric vehicle, so we override this method. "
   ]
  },
  {
   "cell_type": "markdown",
   "id": "9fb7184d",
   "metadata": {},
   "source": [
    "### 3.3 Instances as Attributes "
   ]
  },
  {
   "cell_type": "markdown",
   "id": "17664bf2",
   "metadata": {},
   "source": [
    "When we have too many attributes and methods, we break the large class into smaller classes that work together; this approach is called *composition*. "
   ]
  },
  {
   "cell_type": "code",
   "execution_count": 5,
   "id": "051116b1",
   "metadata": {},
   "outputs": [
    {
     "name": "stdout",
     "output_type": "stream",
     "text": [
      "2024 Nissan Leaf\n",
      "this car has a 40-kWh battery.\n"
     ]
    }
   ],
   "source": [
    "class Car:\n",
    "    \"\"\"A simple attempt to represent a car.\"\"\"\n",
    "    \n",
    "    def __init__(self,make,model,year):\n",
    "        \"\"\"Initialize attributes to describe a car\"\"\"\n",
    "        self.make = make\n",
    "        self.model = model\n",
    "        self.year = year\n",
    "        self.odometer_reading = 0\n",
    "        \n",
    "    def get_descriptive_name(self):\n",
    "        \"\"\"Return a neatly formatted descriptive name.\"\"\"\n",
    "        long_name = f\"{self.year} {self.make} {self.model}\"\n",
    "        return long_name.title()\n",
    "    \n",
    "    def read_odometer(self):\n",
    "        \"\"\"Print a statement showing the car's mileage.\"\"\"\n",
    "        print(f\"This car has {self.odometer_reading} miles on it.\")\n",
    "    \n",
    "    def update_odometer(self, mileage):\n",
    "        \"\"\"Set the odometer reading to the given value.\n",
    "        Reject the change if it attempts to roll back\n",
    "        \"\"\"\n",
    "        if mileage >= self.odometer_reading:\n",
    "            self.odometer_reading = mileage\n",
    "        else:\n",
    "            print(\"You cannot roll back an odometer!\")\n",
    "    \n",
    "    def increment_odometer(self,miles):\n",
    "        \"\"\"Add the given amount to the odometer reading.\"\"\"\n",
    "        self.odometer_reading += miles\n",
    "        \n",
    "class Battery:\n",
    "    \"\"\"A simple attempt to model a battery for an electric car.\"\"\"\n",
    "    \n",
    "    def __init__(self,battery_size=40):\n",
    "        \"\"\"Initialize the battery's attributes.\"\"\"\n",
    "        self.battery_size = battery_size\n",
    "    \n",
    "    def describe_battery(self):\n",
    "        \"\"\"Print a statement describing the battery size.\"\"\"\n",
    "        print(f\"this car has a {self.battery_size}-kWh battery.\")\n",
    "\n",
    "class ElectricCar(Car):\n",
    "    \"\"\"Represent aspects of a car, specific to electric vehicles.\"\"\"\n",
    "    \n",
    "    def __init__(self,make,model,year):\n",
    "        \"\"\"\n",
    "        Initialize attributes of the parent class.\n",
    "        Then initialize attributes specfic to an electric car.\n",
    "        \"\"\"\n",
    "        super().__init__(make,model,year)\n",
    "        self.battery = Battery()\n",
    "\n",
    "my_leaf = ElectricCar('nissan','leaf',2024)\n",
    "print(my_leaf.get_descriptive_name())\n",
    "\n",
    "my_leaf.battery.describe_battery()"
   ]
  },
  {
   "cell_type": "markdown",
   "id": "ec45b53b",
   "metadata": {},
   "source": [
    "we may notice that we have too many attributes and methods specific to the car's battery. We move them as a separate class called Battery (default size = 40). Then, we add an attribute called self.battery. \n",
    "\n",
    "However, when we want to describe the battery, we need to work through the car's battery attribute!"
   ]
  },
  {
   "cell_type": "code",
   "execution_count": 7,
   "id": "e4c70427",
   "metadata": {},
   "outputs": [
    {
     "name": "stdout",
     "output_type": "stream",
     "text": [
      "this car has a 40-kWh battery.\n"
     ]
    }
   ],
   "source": [
    "my_leaf.battery.describe_battery()"
   ]
  },
  {
   "cell_type": "markdown",
   "id": "95394c86",
   "metadata": {},
   "source": [
    "This line tells python to look at the instance my_leaf, find its battery attribute, and call the method describe_battery() that's associated with the battery instance assigned to the attribute."
   ]
  },
  {
   "cell_type": "code",
   "execution_count": 8,
   "id": "5d56fdf1",
   "metadata": {},
   "outputs": [
    {
     "name": "stdout",
     "output_type": "stream",
     "text": [
      "2024 Nissan Leaf\n",
      "this car has a 40-kWh battery.\n",
      "This car can go about 150 miles on a full charge\n"
     ]
    }
   ],
   "source": [
    "class Car:\n",
    "    \"\"\"A simple attempt to represent a car.\"\"\"\n",
    "    \n",
    "    def __init__(self,make,model,year):\n",
    "        \"\"\"Initialize attributes to describe a car\"\"\"\n",
    "        self.make = make\n",
    "        self.model = model\n",
    "        self.year = year\n",
    "        self.odometer_reading = 0\n",
    "        \n",
    "    def get_descriptive_name(self):\n",
    "        \"\"\"Return a neatly formatted descriptive name.\"\"\"\n",
    "        long_name = f\"{self.year} {self.make} {self.model}\"\n",
    "        return long_name.title()\n",
    "    \n",
    "    def read_odometer(self):\n",
    "        \"\"\"Print a statement showing the car's mileage.\"\"\"\n",
    "        print(f\"This car has {self.odometer_reading} miles on it.\")\n",
    "    \n",
    "    def update_odometer(self, mileage):\n",
    "        \"\"\"Set the odometer reading to the given value.\n",
    "        Reject the change if it attempts to roll back\n",
    "        \"\"\"\n",
    "        if mileage >= self.odometer_reading:\n",
    "            self.odometer_reading = mileage\n",
    "        else:\n",
    "            print(\"You cannot roll back an odometer!\")\n",
    "    \n",
    "    def increment_odometer(self,miles):\n",
    "        \"\"\"Add the given amount to the odometer reading.\"\"\"\n",
    "        self.odometer_reading += miles\n",
    "        \n",
    "class Battery:\n",
    "    \"\"\"A simple attempt to model a battery for an electric car.\"\"\"\n",
    "    \n",
    "    def __init__(self,battery_size=40):\n",
    "        \"\"\"Initialize the battery's attributes.\"\"\"\n",
    "        self.battery_size = battery_size\n",
    "    \n",
    "    def describe_battery(self):\n",
    "        \"\"\"Print a statement describing the battery size.\"\"\"\n",
    "        print(f\"this car has a {self.battery_size}-kWh battery.\")\n",
    "        \n",
    "    def get_range(self):\n",
    "        \"\"\"Print a statement about the range this battery provides.\"\"\"\n",
    "        if self.battery_size == 40:\n",
    "            range = 150\n",
    "        elif self.battery_size == 65:\n",
    "            range = 225\n",
    "            \n",
    "        print(f\"This car can go about {range} miles on a full charge\")\n",
    "\n",
    "class ElectricCar(Car):\n",
    "    \"\"\"Represent aspects of a car, specific to electric vehicles.\"\"\"\n",
    "    \n",
    "    def __init__(self,make,model,year):\n",
    "        \"\"\"\n",
    "        Initialize attributes of the parent class.\n",
    "        Then initialize attributes specfic to an electric car.\n",
    "        \"\"\"\n",
    "        super().__init__(make,model,year)\n",
    "        self.battery = Battery()\n",
    "\n",
    "my_leaf = ElectricCar('nissan','leaf',2024)\n",
    "print(my_leaf.get_descriptive_name())\n",
    "my_leaf.battery.describe_battery()\n",
    "\n",
    "my_leaf.battery.get_range()"
   ]
  },
  {
   "cell_type": "markdown",
   "id": "7eee0a13",
   "metadata": {},
   "source": [
    "add another new method get_range() in the class Battery. We also have to call it through the car's battery attribute!"
   ]
  },
  {
   "cell_type": "markdown",
   "id": "5f433789",
   "metadata": {},
   "source": [
    "### 3.4 Modeling Real-World Objects "
   ]
  },
  {
   "cell_type": "markdown",
   "id": "70e4189d",
   "metadata": {},
   "source": [
    "get_range() can also be moved to the ElectronicCar class or report with a car model. representing real-world situation is important. we take practice to find the most efficient code to do that."
   ]
  },
  {
   "cell_type": "markdown",
   "id": "47ff33ed",
   "metadata": {},
   "source": [
    "**Practice 3**"
   ]
  },
  {
   "cell_type": "markdown",
   "id": "c6357f50",
   "metadata": {},
   "source": [
    "**9-6 Ice Cream stand**"
   ]
  },
  {
   "cell_type": "code",
   "execution_count": 25,
   "id": "005cfe7e",
   "metadata": {},
   "outputs": [],
   "source": [
    "class Restaurant: \n",
    "    \"\"\"model a simple restaurant.\"\"\"\n",
    "    \n",
    "    def __init__(self,name,type):\n",
    "        \"\"\"name and type attributes\"\"\"\n",
    "        self.restaurant_name = name\n",
    "        self.cuisine_type = type\n",
    "        self.number_served = 0\n",
    "        \n",
    "    def describe_restaurant(self):\n",
    "        \"\"\"print the information about the restaurant\"\"\"\n",
    "        print(f\"The name of the place is {self.restaurant_name} and we are selling {self.cuisine_type} food\")\n",
    "    \n",
    "    def open_restaurant(self):\n",
    "        \"\"\"simulate that a restaurant is open\"\"\"\n",
    "        print(f\"We are open!\")\n",
    "    \n",
    "    def set_number_served(self,number):\n",
    "        \"\"\"add the number of customers that have been served\"\"\"\n",
    "        self.number_served = number\n",
    "        \n",
    "    def increment_number_served(self,add):\n",
    "        \"\"\"increment the number of customers\"\"\"\n",
    "        self.number_served += add\n",
    "        \n",
    "class IceCreamStand(Restaurant):\n",
    "    \"\"\"Represent aspect of ice cream stand\"\"\"\n",
    "    \n",
    "    def __init__(self,name,type,flavors):\n",
    "        super().__init__(name,type)\n",
    "        self.flavors = flavors\n",
    "        \n",
    "    def display_flavors(self):\n",
    "        \"\"\"print the list of ice cream flavors.\"\"\"\n",
    "        print(f\"the list of ice cream flavors today is:\")\n",
    "        for flavor in self.flavors:\n",
    "            print(f\"-{flavor}\")\n",
    "    "
   ]
  },
  {
   "cell_type": "code",
   "execution_count": 27,
   "id": "7d9937c0",
   "metadata": {},
   "outputs": [
    {
     "name": "stdout",
     "output_type": "stream",
     "text": [
      "The name of the place is with love gelato and we are selling gelato food\n",
      "the list of ice cream flavors today is:\n",
      "-strawberry\n",
      "-blueberry\n",
      "-milk\n"
     ]
    }
   ],
   "source": [
    "IceCreamStand = IceCreamStand('with love gelato', 'gelato',['strawberry','blueberry','milk'])\n",
    "IceCreamStand.describe_restaurant()\n",
    "IceCreamStand.display_flavors()"
   ]
  },
  {
   "cell_type": "markdown",
   "id": "df25701c",
   "metadata": {},
   "source": [
    "**9-7 Admin**"
   ]
  },
  {
   "cell_type": "code",
   "execution_count": 39,
   "id": "d410fece",
   "metadata": {},
   "outputs": [],
   "source": [
    "class User:\n",
    "    \"\"\"user information\"\"\"\n",
    "    \n",
    "    def __init__(self,first_name,last_name):\n",
    "        \"\"\"name attributes\"\"\"\n",
    "        self.first_name = first_name\n",
    "        self.last_name = last_name\n",
    "        self.login_attempts = 0\n",
    "    \n",
    "    def describe_user(self):\n",
    "        \"\"\"print a summary of the user's information\"\"\"\n",
    "        print(f\"User first name is {self.first_name} and last name is {self.last_name}\")\n",
    "        \n",
    "    def greet_user(self):\n",
    "        \"\"\"greet user\"\"\"\n",
    "        print(f\"Hi {self.first_name} {self.last_name}!\")\n",
    "    \n",
    "    def increment_login_attempts(self):\n",
    "        \"\"\"increment the login attempts by 1\"\"\"\n",
    "        self.login_attempts = self.login_attempts + 1\n",
    "    \n",
    "    def reset_login_attempts(self):\n",
    "        \"\"\"reset the login_attemps to 0\"\"\"\n",
    "        self.login_attempts = 0\n",
    "        \n",
    "class Admin(User):\n",
    "    \"\"\"\n",
    "    Initialze with the parent class.\n",
    "    Then initialize the privileages attributes.\n",
    "    \"\"\"\n",
    "    \n",
    "    def __init__(self,first_name,last_name):\n",
    "        super().__init__(first_name,last_name)\n",
    "        self.privileges = ['can add post','can delete post','can ban user'] \n",
    "        \n",
    "    def show_privileges(self):\n",
    "        \"\"\"list the set of privileges\"\"\"\n",
    "        print(f\"The list of privileges is as follows:\")\n",
    "        for privilege in self.privileges:\n",
    "            print(f\"-{privilege}\")"
   ]
  },
  {
   "cell_type": "code",
   "execution_count": 40,
   "id": "557bb9e4",
   "metadata": {},
   "outputs": [
    {
     "name": "stdout",
     "output_type": "stream",
     "text": [
      "The list of privileges is in the following:\n",
      "-can add post\n",
      "-can delete post\n",
      "-can ban user\n"
     ]
    }
   ],
   "source": [
    "Admin = Admin('Joe','Lee')\n",
    "Admin.show_privileges()"
   ]
  },
  {
   "cell_type": "markdown",
   "id": "730fbc27",
   "metadata": {},
   "source": [
    "**9-8 Privileges** "
   ]
  },
  {
   "cell_type": "code",
   "execution_count": 43,
   "id": "d04c7808",
   "metadata": {},
   "outputs": [],
   "source": [
    "class User:\n",
    "    \"\"\"user information\"\"\"\n",
    "    \n",
    "    def __init__(self,first_name,last_name):\n",
    "        \"\"\"name attributes\"\"\"\n",
    "        self.first_name = first_name\n",
    "        self.last_name = last_name\n",
    "        self.login_attempts = 0\n",
    "    \n",
    "    def describe_user(self):\n",
    "        \"\"\"print a summary of the user's information\"\"\"\n",
    "        print(f\"User first name is {self.first_name} and last name is {self.last_name}\")\n",
    "        \n",
    "    def greet_user(self):\n",
    "        \"\"\"greet user\"\"\"\n",
    "        print(f\"Hi {self.first_name} {self.last_name}!\")\n",
    "    \n",
    "    def increment_login_attempts(self):\n",
    "        \"\"\"increment the login attempts by 1\"\"\"\n",
    "        self.login_attempts = self.login_attempts + 1\n",
    "    \n",
    "    def reset_login_attempts(self):\n",
    "        \"\"\"reset the login_attemps to 0\"\"\"\n",
    "        self.login_attempts = 0\n",
    "        \n",
    "class Privileges():\n",
    "    \"\"\"the list of privileages\"\"\"\n",
    "    \n",
    "    def __init__(self):\n",
    "        \"\"\"privileges attribute\"\"\"\n",
    "        self.privileges = ['can add post','can delete post','can ban user']\n",
    "    \n",
    "    def show_privileges(self):\n",
    "        \"\"\"list the set of privileges\"\"\"\n",
    "        print(f\"The list of privileges is as follows:\")\n",
    "        for privilege in self.privileges:\n",
    "            print(f\"-{privilege}\")\n",
    "    \n",
    "        \n",
    "class Admin(User):\n",
    "    \"\"\"\n",
    "    Initialze with the parent class.\n",
    "    Then initialize the privileages attributes.\n",
    "    \"\"\"\n",
    "    \n",
    "    def __init__(self,first_name,last_name):\n",
    "        super().__init__(first_name,last_name)\n",
    "        self.privileges = Privileges()\n",
    "  "
   ]
  },
  {
   "cell_type": "code",
   "execution_count": 44,
   "id": "8095c24c",
   "metadata": {},
   "outputs": [
    {
     "name": "stdout",
     "output_type": "stream",
     "text": [
      "The list of privileges is as follows:\n",
      "-can add post\n",
      "-can delete post\n",
      "-can ban user\n"
     ]
    }
   ],
   "source": [
    "Admin = Admin('John','Lee')\n",
    "Admin.privileges.show_privileges()"
   ]
  },
  {
   "cell_type": "markdown",
   "id": "72aa3c7c",
   "metadata": {},
   "source": [
    "**9-9 Battery Upgrade**"
   ]
  },
  {
   "cell_type": "code",
   "execution_count": 49,
   "id": "3064ae64",
   "metadata": {},
   "outputs": [
    {
     "name": "stdout",
     "output_type": "stream",
     "text": [
      "2024 Nissan Leaf\n",
      "this car has a 40-kWh battery.\n",
      "This car can go about 150 miles on a full charge\n",
      "Battery upgrade to 65 kWh\n",
      "This car can go about 225 miles on a full charge\n"
     ]
    }
   ],
   "source": [
    "class Car:\n",
    "    \"\"\"A simple attempt to represent a car.\"\"\"\n",
    "    \n",
    "    def __init__(self,make,model,year):\n",
    "        \"\"\"Initialize attributes to describe a car\"\"\"\n",
    "        self.make = make\n",
    "        self.model = model\n",
    "        self.year = year\n",
    "        self.odometer_reading = 0\n",
    "        \n",
    "    def get_descriptive_name(self):\n",
    "        \"\"\"Return a neatly formatted descriptive name.\"\"\"\n",
    "        long_name = f\"{self.year} {self.make} {self.model}\"\n",
    "        return long_name.title()\n",
    "    \n",
    "    def read_odometer(self):\n",
    "        \"\"\"Print a statement showing the car's mileage.\"\"\"\n",
    "        print(f\"This car has {self.odometer_reading} miles on it.\")\n",
    "    \n",
    "    def update_odometer(self, mileage):\n",
    "        \"\"\"Set the odometer reading to the given value.\n",
    "        Reject the change if it attempts to roll back\n",
    "        \"\"\"\n",
    "        if mileage >= self.odometer_reading:\n",
    "            self.odometer_reading = mileage\n",
    "        else:\n",
    "            print(\"You cannot roll back an odometer!\")\n",
    "    \n",
    "    def increment_odometer(self,miles):\n",
    "        \"\"\"Add the given amount to the odometer reading.\"\"\"\n",
    "        self.odometer_reading += miles\n",
    "        \n",
    "class Battery:\n",
    "    \"\"\"A simple attempt to model a battery for an electric car.\"\"\"\n",
    "    \n",
    "    def __init__(self,battery_size=40):\n",
    "        \"\"\"Initialize the battery's attributes.\"\"\"\n",
    "        self.battery_size = battery_size\n",
    "    \n",
    "    def describe_battery(self):\n",
    "        \"\"\"Print a statement describing the battery size.\"\"\"\n",
    "        print(f\"this car has a {self.battery_size}-kWh battery.\")\n",
    "        \n",
    "    def get_range(self):\n",
    "        \"\"\"Print a statement about the range this battery provides.\"\"\"\n",
    "        if self.battery_size == 40:\n",
    "            range = 150\n",
    "        elif self.battery_size == 65:\n",
    "            range = 225\n",
    "            \n",
    "        print(f\"This car can go about {range} miles on a full charge\")\n",
    "    \n",
    "    def upgrade_battery(self):\n",
    "        \"\"\"Upgrade the battery to 65\"\"\"\n",
    "        if self.battery_size < 65:\n",
    "            self.battery_size = 65\n",
    "            print(\"Battery upgrade to 65 kWh\")\n",
    "        else:\n",
    "            print(\"Battery is already upgraded\")\n",
    "\n",
    "class ElectricCar(Car):\n",
    "    \"\"\"Represent aspects of a car, specific to electric vehicles.\"\"\"\n",
    "    \n",
    "    def __init__(self,make,model,year):\n",
    "        \"\"\"\n",
    "        Initialize attributes of the parent class.\n",
    "        Then initialize attributes specfic to an electric car.\n",
    "        \"\"\"\n",
    "        super().__init__(make,model,year)\n",
    "        self.battery = Battery()\n",
    "\n",
    "my_leaf = ElectricCar('nissan','leaf',2024)\n",
    "print(my_leaf.get_descriptive_name())\n",
    "my_leaf.battery.describe_battery()\n",
    "\n",
    "my_leaf.battery.get_range()\n",
    "my_leaf.battery.upgrade_battery()\n",
    "my_leaf.battery.get_range()"
   ]
  },
  {
   "cell_type": "markdown",
   "id": "b483c824",
   "metadata": {},
   "source": [
    "## 4. Importing Classes "
   ]
  },
  {
   "cell_type": "markdown",
   "id": "6daa6371",
   "metadata": {},
   "source": [
    "importing classes is an effective way to keep your main program file clean and easy to read . "
   ]
  },
  {
   "cell_type": "code",
   "execution_count": 50,
   "id": "8f93c302",
   "metadata": {},
   "outputs": [
    {
     "name": "stdout",
     "output_type": "stream",
     "text": [
      "Writing car.py\n"
     ]
    }
   ],
   "source": [
    "%%writefile car.py\n",
    "class Car:\n",
    "    \"\"\"A simple attempt to represent a car.\"\"\"\n",
    "    \n",
    "    def __init__(self,make,model,year):\n",
    "        \"\"\"Initialize attributes to describe a car\"\"\"\n",
    "        self.make = make\n",
    "        self.model = model\n",
    "        self.year = year\n",
    "        self.odometer_reading = 0\n",
    "        \n",
    "    def get_descriptive_name(self):\n",
    "        \"\"\"Return a neatly formatted descriptive name.\"\"\"\n",
    "        long_name = f\"{self.year} {self.make} {self.model}\"\n",
    "        return long_name.title()\n",
    "    \n",
    "    def read_odometer(self):\n",
    "        \"\"\"Print a statement showing the car's mileage.\"\"\"\n",
    "        print(f\"This car has {self.odometer_reading} miles on it.\")\n",
    "    \n",
    "    def update_odometer(self, mileage):\n",
    "        \"\"\"Set the odometer reading to the given value.\n",
    "        Reject the change if it attempts to roll back\n",
    "        \"\"\"\n",
    "        if mileage >= self.odometer_reading:\n",
    "            self.odometer_reading = mileage\n",
    "        else:\n",
    "            print(\"You cannot roll back an odometer!\")\n",
    "    \n",
    "    def increment_odometer(self,miles):\n",
    "        \"\"\"Add the given amount to the odometer reading.\"\"\"\n",
    "        self.odometer_reading += miles\n",
    "        \n",
    "class Battery:\n",
    "    \"\"\"A simple attempt to model a battery for an electric car.\"\"\"\n",
    "    \n",
    "    def __init__(self,battery_size=40):\n",
    "        \"\"\"Initialize the battery's attributes.\"\"\"\n",
    "        self.battery_size = battery_size\n",
    "    \n",
    "    def describe_battery(self):\n",
    "        \"\"\"Print a statement describing the battery size.\"\"\"\n",
    "        print(f\"this car has a {self.battery_size}-kWh battery.\")\n",
    "        \n",
    "    def get_range(self):\n",
    "        \"\"\"Print a statement about the range this battery provides.\"\"\"\n",
    "        if self.battery_size == 40:\n",
    "            range = 150\n",
    "        elif self.battery_size == 65:\n",
    "            range = 225\n",
    "            \n",
    "        print(f\"This car can go about {range} miles on a full charge\")\n",
    "    \n",
    "    def upgrade_battery(self):\n",
    "        \"\"\"Upgrade the battery to 65\"\"\"\n",
    "        if self.battery_size < 65:\n",
    "            self.battery_size = 65\n",
    "            print(\"Battery upgrade to 65 kWh\")\n",
    "        else:\n",
    "            print(\"Battery is already upgraded\")\n",
    "\n",
    "class ElectricCar(Car):\n",
    "    \"\"\"Represent aspects of a car, specific to electric vehicles.\"\"\"\n",
    "    \n",
    "    def __init__(self,make,model,year):\n",
    "        \"\"\"\n",
    "        Initialize attributes of the parent class.\n",
    "        Then initialize attributes specfic to an electric car.\n",
    "        \"\"\"\n",
    "        super().__init__(make,model,year)\n",
    "        self.battery = Battery()"
   ]
  },
  {
   "cell_type": "code",
   "execution_count": 51,
   "id": "27d04d89",
   "metadata": {},
   "outputs": [
    {
     "name": "stdout",
     "output_type": "stream",
     "text": [
      "2024 Nissan Leaf\n"
     ]
    }
   ],
   "source": [
    "from car import ElectricCar\n",
    "\n",
    "my_leaf = ElectricCar('nissan','leaf',2024)\n",
    "print(my_leaf.get_descriptive_name())"
   ]
  },
  {
   "cell_type": "markdown",
   "id": "de8c4c7c",
   "metadata": {},
   "source": [
    "**Importing multiple classes from a module**"
   ]
  },
  {
   "cell_type": "code",
   "execution_count": 52,
   "id": "f9cfc455",
   "metadata": {},
   "outputs": [
    {
     "name": "stdout",
     "output_type": "stream",
     "text": [
      "2024 Ford Mustang\n"
     ]
    }
   ],
   "source": [
    "from car import Car, ElectricCar\n",
    "\n",
    "my_mustang = Car('ford','mustang',2024)\n",
    "print(my_mustang.get_descriptive_name())"
   ]
  },
  {
   "cell_type": "markdown",
   "id": "5607cea3",
   "metadata": {},
   "source": [
    "**Importing an Entire module (recommended)** "
   ]
  },
  {
   "cell_type": "markdown",
   "id": "8854d92c",
   "metadata": {},
   "source": [
    "Because every call that creates an instance of a class includes the module name, you won't have naming conflicts. "
   ]
  },
  {
   "cell_type": "code",
   "execution_count": 53,
   "id": "b8a06dc3",
   "metadata": {},
   "outputs": [
    {
     "name": "stdout",
     "output_type": "stream",
     "text": [
      "2024 Ford Mustang\n",
      "2024 Nissan Leaf\n"
     ]
    }
   ],
   "source": [
    "import car\n",
    "\n",
    "my_mustang = car.Car('ford','mustang',2024)\n",
    "print(my_mustang.get_descriptive_name())\n",
    "\n",
    "my_leaf = car.ElectricCar('nissan','leaf',2024)\n",
    "print(my_leaf.get_descriptive_name())"
   ]
  },
  {
   "cell_type": "markdown",
   "id": "30a79d88",
   "metadata": {},
   "source": [
    "**Importing All Classes from a module (not recommended)** "
   ]
  },
  {
   "cell_type": "markdown",
   "id": "f6f1665a",
   "metadata": {},
   "source": [
    "not recommended due to the naming conflicts that can arise if you import classes in a module that have the same name as sth in your program file."
   ]
  },
  {
   "cell_type": "code",
   "execution_count": 55,
   "id": "69d9bf8a",
   "metadata": {},
   "outputs": [],
   "source": [
    "from car import *"
   ]
  },
  {
   "cell_type": "markdown",
   "id": "53e3a225",
   "metadata": {},
   "source": [
    "**Importing a Module into a Module**"
   ]
  },
  {
   "cell_type": "markdown",
   "id": "9876a225",
   "metadata": {},
   "source": [
    "Sometimes we'll want to spread out our classes over several modules to keep any one file from growing too large and avoid storing unrelated classes in the same module. When you store your classes in several modules, you may find that a class in one module depends on a class in another module. "
   ]
  },
  {
   "cell_type": "code",
   "execution_count": 63,
   "id": "5e1a3c76",
   "metadata": {},
   "outputs": [
    {
     "name": "stdout",
     "output_type": "stream",
     "text": [
      "Overwriting electric_car.py\n"
     ]
    }
   ],
   "source": [
    "%%writefile electric_car.py\n",
    "\n",
    "from car import Car\n",
    "class Battery:\n",
    "    \"\"\"A simple attempt to model a battery for an electric car.\"\"\"\n",
    "    \n",
    "    def __init__(self,battery_size=40):\n",
    "        \"\"\"Initialize the battery's attributes.\"\"\"\n",
    "        self.battery_size = battery_size\n",
    "    \n",
    "    def describe_battery(self):\n",
    "        \"\"\"Print a statement describing the battery size.\"\"\"\n",
    "        print(f\"this car has a {self.battery_size}-kWh battery.\")\n",
    "        \n",
    "    def get_range(self):\n",
    "        \"\"\"Print a statement about the range this battery provides.\"\"\"\n",
    "        if self.battery_size == 40:\n",
    "            range = 150\n",
    "        elif self.battery_size == 65:\n",
    "            range = 225\n",
    "            \n",
    "        print(f\"This car can go about {range} miles on a full charge\")\n",
    "    \n",
    "    def upgrade_battery(self):\n",
    "        \"\"\"Upgrade the battery to 65\"\"\"\n",
    "        if self.battery_size < 65:\n",
    "            self.battery_size = 65\n",
    "            print(\"Battery upgrade to 65 kWh\")\n",
    "        else:\n",
    "            print(\"Battery is already upgraded\")\n",
    "\n",
    "class ElectricCar(Car):\n",
    "    \"\"\"Represent aspects of a car, specific to electric vehicles.\"\"\"\n",
    "    \n",
    "    def __init__(self,make,model,year):\n",
    "        \"\"\"\n",
    "        Initialize attributes of the parent class.\n",
    "        Then initialize attributes specfic to an electric car.\n",
    "        \"\"\"\n",
    "        super().__init__(make,model,year)\n",
    "        self.battery = Battery()"
   ]
  },
  {
   "cell_type": "markdown",
   "id": "01145425",
   "metadata": {},
   "source": [
    "The class ElectricCar needs access to its parent class Car, so we import Car directly into the module. If we forget this line(from car import Car), python will raise an error when we try to import the electric_car module."
   ]
  },
  {
   "cell_type": "code",
   "execution_count": 64,
   "id": "8d9086a2",
   "metadata": {},
   "outputs": [
    {
     "name": "stdout",
     "output_type": "stream",
     "text": [
      "Overwriting car.py\n"
     ]
    }
   ],
   "source": [
    "%%writefile car.py\n",
    "class Car:\n",
    "    \"\"\"A simple attempt to represent a car.\"\"\"\n",
    "    \n",
    "    def __init__(self,make,model,year):\n",
    "        \"\"\"Initialize attributes to describe a car\"\"\"\n",
    "        self.make = make\n",
    "        self.model = model\n",
    "        self.year = year\n",
    "        self.odometer_reading = 0\n",
    "        \n",
    "    def get_descriptive_name(self):\n",
    "        \"\"\"Return a neatly formatted descriptive name.\"\"\"\n",
    "        long_name = f\"{self.year} {self.make} {self.model}\"\n",
    "        return long_name.title()\n",
    "    \n",
    "    def read_odometer(self):\n",
    "        \"\"\"Print a statement showing the car's mileage.\"\"\"\n",
    "        print(f\"This car has {self.odometer_reading} miles on it.\")\n",
    "    \n",
    "    def update_odometer(self, mileage):\n",
    "        \"\"\"Set the odometer reading to the given value.\n",
    "        Reject the change if it attempts to roll back\n",
    "        \"\"\"\n",
    "        if mileage >= self.odometer_reading:\n",
    "            self.odometer_reading = mileage\n",
    "        else:\n",
    "            print(\"You cannot roll back an odometer!\")\n",
    "    \n",
    "    def increment_odometer(self,miles):\n",
    "        \"\"\"Add the given amount to the odometer reading.\"\"\"\n",
    "        self.odometer_reading += miles"
   ]
  },
  {
   "cell_type": "code",
   "execution_count": 66,
   "id": "e4f77e39",
   "metadata": {},
   "outputs": [],
   "source": [
    "from car import Car\n",
    "from electric_car import ElectricCar "
   ]
  },
  {
   "cell_type": "markdown",
   "id": "d768928a",
   "metadata": {},
   "source": [
    "**Using Aliases** "
   ]
  },
  {
   "cell_type": "code",
   "execution_count": 65,
   "id": "3a68c8f6",
   "metadata": {},
   "outputs": [],
   "source": [
    "import electric_car as ec\n",
    "my_leaf = ec.ElectricCar('nissan','leaf',2024)"
   ]
  },
  {
   "cell_type": "markdown",
   "id": "8855eb6e",
   "metadata": {},
   "source": [
    "## 5. The Python Standard Library "
   ]
  },
  {
   "cell_type": "markdown",
   "id": "a9218aec",
   "metadata": {},
   "source": [
    "The python standard library is a set of modules included with every python installation. "
   ]
  },
  {
   "cell_type": "code",
   "execution_count": 106,
   "id": "21a1fcf2",
   "metadata": {},
   "outputs": [
    {
     "data": {
      "text/plain": [
       "1"
      ]
     },
     "execution_count": 106,
     "metadata": {},
     "output_type": "execute_result"
    }
   ],
   "source": [
    "from random import randint \n",
    "randint(1,6) # randomly selected integer between and including 1,6"
   ]
  },
  {
   "cell_type": "code",
   "execution_count": 107,
   "id": "9281dafd",
   "metadata": {},
   "outputs": [
    {
     "data": {
      "text/plain": [
       "'martina'"
      ]
     },
     "execution_count": 107,
     "metadata": {},
     "output_type": "execute_result"
    }
   ],
   "source": [
    "from random import choice \n",
    "players = ['charles','martina','michale','florence','eli']\n",
    "first = choice(players)\n",
    "first"
   ]
  },
  {
   "cell_type": "markdown",
   "id": "db4127ee",
   "metadata": {},
   "source": [
    "**Practice 5**"
   ]
  },
  {
   "cell_type": "markdown",
   "id": "7d898338",
   "metadata": {},
   "source": [
    "9-13: Dice  "
   ]
  },
  {
   "cell_type": "code",
   "execution_count": 93,
   "id": "e0092dfd",
   "metadata": {},
   "outputs": [],
   "source": [
    "import random import randint\n",
    "\n",
    "class Die: \n",
    "    \"\"\"simulate a dice.\"\"\"\n",
    "    \n",
    "    def __init__(self,sides=6):\n",
    "        self.sides = sides\n",
    "        \n",
    "    def roll_die(self):\n",
    "        y = random.randint(1,self.sides)\n",
    "        print(y)"
   ]
  },
  {
   "cell_type": "code",
   "execution_count": 104,
   "id": "08da8ff8",
   "metadata": {},
   "outputs": [
    {
     "name": "stdout",
     "output_type": "stream",
     "text": [
      "3\n",
      "2\n",
      "1\n",
      "5\n",
      "3\n",
      "2\n",
      "5\n",
      "4\n",
      "3\n",
      "3\n"
     ]
    }
   ],
   "source": [
    "# rolling a 6-sided die 10 times \n",
    "six_sides_die = Die()\n",
    "for _ in range(10): \n",
    "    six_sides_die.roll_die()"
   ]
  },
  {
   "cell_type": "markdown",
   "id": "f9951a85",
   "metadata": {},
   "source": [
    "**range(10)** generates a sequence of numbers from 0 to 9. The loop will iterate once for each number in this sequence, thus executing the loop body 10 times."
   ]
  },
  {
   "cell_type": "code",
   "execution_count": 103,
   "id": "c0abff6c",
   "metadata": {},
   "outputs": [
    {
     "name": "stdout",
     "output_type": "stream",
     "text": [
      "4\n",
      "8\n",
      "6\n",
      "8\n",
      "1\n",
      "7\n",
      "3\n",
      "2\n",
      "6\n",
      "3\n"
     ]
    }
   ],
   "source": [
    "# rolling a 10-sided die 10 times.\n",
    "ten_sides_die = Die(sides=10)\n",
    "for _ in range(10):\n",
    "    ten_sides_die.roll_die()"
   ]
  },
  {
   "cell_type": "markdown",
   "id": "42b96081",
   "metadata": {},
   "source": [
    "9-14: Lottery "
   ]
  },
  {
   "cell_type": "code",
   "execution_count": 116,
   "id": "31cc7160",
   "metadata": {},
   "outputs": [
    {
     "name": "stdout",
     "output_type": "stream",
     "text": [
      "Any ticket matching these four numbers or letters wins a prize:\n",
      "M\n",
      "S\n",
      "27\n",
      "11\n"
     ]
    }
   ],
   "source": [
    "from random import choice \n",
    "\n",
    "lottery_list = [27,7,11,17,1,9,5,54,56,75,'C','S','M','D','F']\n",
    "print(\"Any ticket matching these four numbers or letters wins a prize:\")\n",
    "for _ in range(4):\n",
    "    print(choice(lottery_list))"
   ]
  },
  {
   "cell_type": "markdown",
   "id": "8dc1b771",
   "metadata": {},
   "source": [
    "9-15: Lottery Analysis "
   ]
  },
  {
   "cell_type": "code",
   "execution_count": 121,
   "id": "a5df5f05",
   "metadata": {},
   "outputs": [
    {
     "name": "stdout",
     "output_type": "stream",
     "text": [
      " You won after 19831 attempts\n"
     ]
    }
   ],
   "source": [
    "lottery_list = [27,7,11,17,1,9,5,54,56,75,'C','S','M','D','F']\n",
    "my_ticket = ['M','S',27,11]\n",
    "attempt = 0\n",
    "\n",
    "while True:\n",
    "    random_tickets = [choice(lottery_list) for _ in range(4)]\n",
    "    attempt +=1\n",
    "    if random_tickets == my_ticket:\n",
    "        print(f\" You won after {attempt} attempts\")\n",
    "        break   "
   ]
  },
  {
   "cell_type": "markdown",
   "id": "6267f8be",
   "metadata": {},
   "source": [
    "**Do it again use pull number in the previous chapter** "
   ]
  },
  {
   "cell_type": "markdown",
   "id": "ea9b125a",
   "metadata": {},
   "source": [
    "9-16: Python Module of the week "
   ]
  },
  {
   "cell_type": "markdown",
   "id": "7c369a82",
   "metadata": {},
   "source": [
    "https://pymotw.com/3/"
   ]
  },
  {
   "cell_type": "markdown",
   "id": "af8e6655",
   "metadata": {},
   "source": [
    "# Chapter 10: Files and Exceptions "
   ]
  },
  {
   "cell_type": "markdown",
   "id": "4d9c6580",
   "metadata": {},
   "source": [
    "## 10.1 Reading from a file"
   ]
  },
  {
   "cell_type": "markdown",
   "id": "67444e2d",
   "metadata": {},
   "source": [
    "A *path* is the exact location of a file or folder on a system. Python provides a module called pathlib that makes it easier to work with files and dict"
   ]
  },
  {
   "cell_type": "code",
   "execution_count": 2,
   "id": "6a6d6edf",
   "metadata": {},
   "outputs": [
    {
     "name": "stdout",
     "output_type": "stream",
     "text": [
      "3.1415926535\n",
      "  8979323846\n",
      "  2643383279\n",
      "\n"
     ]
    }
   ],
   "source": [
    "from pathlib import Path\n",
    "\n",
    "path = Path('pi_digits.txt')\n",
    "contents = path.read_text()\n",
    "print(contents)"
   ]
  },
  {
   "cell_type": "markdown",
   "id": "93e88324",
   "metadata": {},
   "source": [
    "remove the extra blank line by using rstrip() on the contents striing"
   ]
  },
  {
   "cell_type": "code",
   "execution_count": 3,
   "id": "0bd16c69",
   "metadata": {},
   "outputs": [
    {
     "name": "stdout",
     "output_type": "stream",
     "text": [
      "3.1415926535\n",
      "  8979323846\n",
      "  2643383279\n"
     ]
    }
   ],
   "source": [
    "from pathlib import Path\n",
    "\n",
    "path = Path('pi_digits.txt')\n",
    "contents = path.read_text()\n",
    "contents = contents.rstrip()\n",
    "print(contents)"
   ]
  },
  {
   "cell_type": "markdown",
   "id": "8507c952",
   "metadata": {},
   "source": [
    "Or use *method chaining*: tells Python to call the read_text() method on the file and applies rstrip() method to the string that read_text() returns. "
   ]
  },
  {
   "cell_type": "code",
   "execution_count": null,
   "id": "6eb93e76",
   "metadata": {},
   "outputs": [],
   "source": [
    "contents = path.read_text().rstrip()"
   ]
  },
  {
   "cell_type": "markdown",
   "id": "225e3186",
   "metadata": {},
   "source": [
    "**Relative and Absolute File Paths**"
   ]
  },
  {
   "cell_type": "markdown",
   "id": "ac3dd159",
   "metadata": {},
   "source": [
    "*A relative file path*: tells python to look for a given location relative to the directory where the currently running program file is store (Documents/myfile.txt)\n",
    "\n",
    "*An absolute file path*: longer than relative since start at the the system's root folder (/home/username/Documents/myfile.txt)"
   ]
  },
  {
   "cell_type": "markdown",
   "id": "b23f984f",
   "metadata": {},
   "source": [
    "**Accessing a File's Lines**"
   ]
  },
  {
   "cell_type": "markdown",
   "id": "1a36bb76",
   "metadata": {},
   "source": [
    "splitlines() splits the contents string into **a list** of lines. Each line from the file becomes an element in the list lines. Then use a for loop to examine each line from a file, one at a time:"
   ]
  },
  {
   "cell_type": "code",
   "execution_count": null,
   "id": "43ce4dd9",
   "metadata": {},
   "outputs": [],
   "source": [
    "from pathlib import Path\n",
    "\n",
    "path = Path('pi_digits.txt')\n",
    "contents = path.read_text()\n",
    "\n",
    "lines = contents.splitlines()\n",
    "for line in lines:\n",
    "    print(line)"
   ]
  },
  {
   "cell_type": "markdown",
   "id": "e43c3e52",
   "metadata": {},
   "source": [
    "**Working with a File's contents**"
   ]
  },
  {
   "cell_type": "code",
   "execution_count": 4,
   "id": "9d9eba25",
   "metadata": {},
   "outputs": [
    {
     "name": "stdout",
     "output_type": "stream",
     "text": [
      "3.1415926535  8979323846  2643383279\n",
      "36\n"
     ]
    }
   ],
   "source": [
    "from pathlib import Path\n",
    "\n",
    "path = Path('pi_digits.txt')\n",
    "contents = path.read_text()\n",
    "\n",
    "lines = contents.splitlines()\n",
    "pi_string = '' # empty string \n",
    "for line in lines:\n",
    "    pi_string += line\n",
    "\n",
    "print(pi_string)\n",
    "print(len(pi_string))"
   ]
  },
  {
   "cell_type": "code",
   "execution_count": 5,
   "id": "3fb007c2",
   "metadata": {},
   "outputs": [
    {
     "data": {
      "text/plain": [
       "['3.1415926535', '  8979323846', '  2643383279']"
      ]
     },
     "execution_count": 5,
     "metadata": {},
     "output_type": "execute_result"
    }
   ],
   "source": [
    "lines"
   ]
  },
  {
   "cell_type": "markdown",
   "id": "0e2aa3ef",
   "metadata": {},
   "source": [
    "The variable pi_string contains the whitespace that was on the left side of the digts in eacch line, but we can get rid of that by using lstrip() on each line"
   ]
  },
  {
   "cell_type": "code",
   "execution_count": 7,
   "id": "7edec412",
   "metadata": {},
   "outputs": [
    {
     "name": "stdout",
     "output_type": "stream",
     "text": [
      "3.141592653589793238462643383279\n",
      "32\n"
     ]
    }
   ],
   "source": [
    "from pathlib import Path\n",
    "\n",
    "path = Path('pi_digits.txt')\n",
    "contents = path.read_text()\n",
    "\n",
    "lines = contents.splitlines()\n",
    "pi_string = '' \n",
    "for line in lines:\n",
    "    pi_string += line.lstrip()\n",
    "\n",
    "print(pi_string)\n",
    "print(len(pi_string))"
   ]
  },
  {
   "cell_type": "markdown",
   "id": "9efe82c2",
   "metadata": {},
   "source": [
    "**Large Files: One Million Digits**"
   ]
  },
  {
   "cell_type": "code",
   "execution_count": 13,
   "id": "75d2a808",
   "metadata": {},
   "outputs": [
    {
     "name": "stdout",
     "output_type": "stream",
     "text": [
      "3.14159265358979323846264338327950288419716939937510...\n",
      "1000002\n"
     ]
    }
   ],
   "source": [
    "from pathlib import Path \n",
    "\n",
    "path = Path('/pi_million_digits.txt')\n",
    "contents = path.read_text()\n",
    "\n",
    "lines = contents.splitlines()\n",
    "pi_string = ''\n",
    "for line in lines:\n",
    "    pi_string += line.lstrip()\n",
    "\n",
    "print(f\"{pi_string[:52]}...\") #print only the first 50 decimal places \n",
    "print(len(pi_string))"
   ]
  },
  {
   "cell_type": "markdown",
   "id": "f4672d2c",
   "metadata": {},
   "source": [
    "**Is YOur Birthday contained in Pi?!**"
   ]
  },
  {
   "cell_type": "code",
   "execution_count": 14,
   "id": "2d6f80e5",
   "metadata": {},
   "outputs": [
    {
     "name": "stdout",
     "output_type": "stream",
     "text": [
      "Enter your birthday, in the form mmddyy: 08271998\n",
      "Yours birthday does no appear in the first million digits of pi.\n"
     ]
    }
   ],
   "source": [
    "birthday = input(\"Enter your birthday, in the form mmddyy: \")\n",
    "if birthday in pi_string:\n",
    "    print(\"Your birthday appears in the first million digits of pi!\")\n",
    "else:\n",
    "    print(\"Yours birthday does no appear in the first million digits of pi.\")"
   ]
  },
  {
   "cell_type": "markdown",
   "id": "e905d3f5",
   "metadata": {},
   "source": [
    "**Practice 1**"
   ]
  },
  {
   "cell_type": "markdown",
   "id": "34075380",
   "metadata": {},
   "source": [
    "10-1 Learning Python "
   ]
  },
  {
   "cell_type": "code",
   "execution_count": 2,
   "id": "1daf49d5",
   "metadata": {},
   "outputs": [
    {
     "data": {
      "text/plain": [
       "286"
      ]
     },
     "execution_count": 2,
     "metadata": {},
     "output_type": "execute_result"
    }
   ],
   "source": [
    "from pathlib import Path \n",
    "lines = [\n",
    "    \"In Python you can create variables to store data.\",\n",
    "    \"In Python you can use functions to encapsulate logic.\",\n",
    "    \"In Python you can use loops to iterate over sequences.\",\n",
    "    \"In Python you can handle files for reading and writing data.\",\n",
    "    \"In Python you can import modules to use additional functionality.\"\n",
    "]\n",
    "\n",
    "file_path = Path('learning_python.txt')\n",
    "file_path.write_text('\\n'.join(lines) + '\\n')"
   ]
  },
  {
   "cell_type": "code",
   "execution_count": 3,
   "id": "1eec28a5",
   "metadata": {},
   "outputs": [
    {
     "name": "stdout",
     "output_type": "stream",
     "text": [
      "Read the entire file: \n",
      "In Python you can create variables to store data.\n",
      "In Python you can use functions to encapsulate logic.\n",
      "In Python you can use loops to iterate over sequences.\n",
      "In Python you can handle files for reading and writing data.\n",
      "In Python you can import modules to use additional functionality.\n",
      "\n"
     ]
    }
   ],
   "source": [
    "print(\"Read the entire file: \")\n",
    "contents = file_path.read_text()\n",
    "print(contents)"
   ]
  },
  {
   "cell_type": "code",
   "execution_count": 4,
   "id": "5b671e82",
   "metadata": {},
   "outputs": [
    {
     "name": "stdout",
     "output_type": "stream",
     "text": [
      "Store the lines in a list and loop over each line: \n",
      "In Python you can create variables to store data.\n",
      "In Python you can use functions to encapsulate logic.\n",
      "In Python you can use loops to iterate over sequences.\n",
      "In Python you can handle files for reading and writing data.\n",
      "In Python you can import modules to use additional functionality.\n"
     ]
    }
   ],
   "source": [
    "print(\"Store the lines in a list and loop over each line: \")\n",
    "lines = contents.splitlines()\n",
    "for line in lines:\n",
    "    print(line)"
   ]
  },
  {
   "cell_type": "code",
   "execution_count": 22,
   "id": "b209433e",
   "metadata": {},
   "outputs": [
    {
     "data": {
      "text/plain": [
       "['In Python you can create variables to store data.',\n",
       " 'In Python you can use functions to encapsulate logic.',\n",
       " 'In Python you can use loops to iterate over sequences.',\n",
       " 'In Python you can handle files for reading and writing data.',\n",
       " 'In Python you can import modules to use additional functionality.']"
      ]
     },
     "execution_count": 22,
     "metadata": {},
     "output_type": "execute_result"
    }
   ],
   "source": [
    "lines"
   ]
  },
  {
   "cell_type": "markdown",
   "id": "08980c06",
   "metadata": {},
   "source": [
    "10-2 Learning C"
   ]
  },
  {
   "cell_type": "markdown",
   "id": "647e67bf",
   "metadata": {},
   "source": [
    "strings in Python are immutable, which means that replace() doesn't modify the original string; instead, it returns a new string with the replacements made. SO, we need to assign the result into new variable."
   ]
  },
  {
   "cell_type": "code",
   "execution_count": 35,
   "id": "7f1569ae",
   "metadata": {},
   "outputs": [
    {
     "name": "stdout",
     "output_type": "stream",
     "text": [
      "In C you can import modules to use additional functionality.\n",
      "In C you can import modules to use additional functionality.\n",
      "In C you can import modules to use additional functionality.\n",
      "In C you can import modules to use additional functionality.\n",
      "In C you can import modules to use additional functionality.\n"
     ]
    }
   ],
   "source": [
    "for line in lines:\n",
    "    line=line.replace('Python','C')\n",
    "    print(l) "
   ]
  },
  {
   "cell_type": "markdown",
   "id": "b24ed4e9",
   "metadata": {},
   "source": [
    "10-3 Simpler Code"
   ]
  },
  {
   "cell_type": "code",
   "execution_count": 7,
   "id": "31b2cda0",
   "metadata": {},
   "outputs": [
    {
     "name": "stdout",
     "output_type": "stream",
     "text": [
      "In Python you can create variables to store data.\n",
      "In Python you can use functions to encapsulate logic.\n",
      "In Python you can use loops to iterate over sequences.\n",
      "In Python you can handle files for reading and writing data.\n",
      "In Python you can import modules to use additional functionality.\n"
     ]
    }
   ],
   "source": [
    "file_path = Path('learning_python.txt')\n",
    "contents = file_path.read_text()\n",
    "for line in contents.splitlines():\n",
    "    print(line)"
   ]
  },
  {
   "cell_type": "markdown",
   "id": "817d6dc3",
   "metadata": {},
   "source": [
    "## 10.2 Writing to a file "
   ]
  },
  {
   "cell_type": "markdown",
   "id": "9289a459",
   "metadata": {},
   "source": [
    "save data by writing it to a file. if the file already exists, write_text() will erase the current contents of the file and write the new contents to the file. so check first!"
   ]
  },
  {
   "cell_type": "code",
   "execution_count": null,
   "id": "b221165e",
   "metadata": {},
   "outputs": [],
   "source": [
    "from pathlib import Path\n",
    "\n",
    "path = Path('programming.txt')\n",
    "path.write_text(\"I love programming\")\n"
   ]
  },
  {
   "cell_type": "markdown",
   "id": "3bcb499c",
   "metadata": {},
   "source": [
    "Python can only write strings to text file. If you want to store a numerical data in a text file, will have to convert the data to string format first using the str() function. "
   ]
  },
  {
   "cell_type": "code",
   "execution_count": 9,
   "id": "8825f9e5",
   "metadata": {},
   "outputs": [
    {
     "data": {
      "text/plain": [
       "103"
      ]
     },
     "execution_count": 9,
     "metadata": {},
     "output_type": "execute_result"
    }
   ],
   "source": [
    "contents = 'I love programming.\\n'\n",
    "contents += 'I love playing tennis and Thai boxing.\\n'\n",
    "contents += 'I also love playing with legos and puzzles.\\n'\n",
    "\n",
    "path = Path('programming.txt')\n",
    "path.write_text(contents)"
   ]
  },
  {
   "cell_type": "code",
   "execution_count": 10,
   "id": "7f8edda9",
   "metadata": {},
   "outputs": [
    {
     "name": "stdout",
     "output_type": "stream",
     "text": [
      "I love programming.\n",
      "I love playing tennis and Thai boxing.\n",
      "I also love playing with legos and puzzles.\n",
      "\n"
     ]
    }
   ],
   "source": [
    "print(contents)"
   ]
  },
  {
   "cell_type": "markdown",
   "id": "4d6521bf",
   "metadata": {},
   "source": [
    "**Practice 2**"
   ]
  },
  {
   "cell_type": "markdown",
   "id": "4824e221",
   "metadata": {},
   "source": [
    "**10-4 Guest** "
   ]
  },
  {
   "cell_type": "code",
   "execution_count": 11,
   "id": "7872bd95",
   "metadata": {},
   "outputs": [
    {
     "name": "stdout",
     "output_type": "stream",
     "text": [
      "please enter your name: chen\n"
     ]
    },
    {
     "data": {
      "text/plain": [
       "4"
      ]
     },
     "execution_count": 11,
     "metadata": {},
     "output_type": "execute_result"
    }
   ],
   "source": [
    "from pathlib import Path\n",
    "\n",
    "path = Path('guest.txt')\n",
    "\n",
    "name = input(\"please enter your name: \")\n",
    "path.write_text(name)"
   ]
  },
  {
   "cell_type": "markdown",
   "id": "44bf2511",
   "metadata": {},
   "source": [
    "**10-5 Guest Book** "
   ]
  },
  {
   "cell_type": "markdown",
   "id": "031ef1ce",
   "metadata": {},
   "source": [
    "append all the names and format the list to string to seperate the lines with loop. write the file one time outside since it is going to erase the current contents. "
   ]
  },
  {
   "cell_type": "code",
   "execution_count": 36,
   "id": "e334e1ce",
   "metadata": {},
   "outputs": [
    {
     "name": "stdout",
     "output_type": "stream",
     "text": [
      "Please enter your name: \n",
      "(type 'quit' when you are done)chen\n",
      "Thanks chen, we'll add you to the guest book.\n",
      "Please enter your name: \n",
      "(type 'quit' when you are done)shin\n",
      "Thanks shin, we'll add you to the guest book.\n",
      "Please enter your name: \n",
      "(type 'quit' when you are done)fai\n",
      "Thanks fai, we'll add you to the guest book.\n",
      "Please enter your name: \n",
      "(type 'quit' when you are done)may\n",
      "Thanks may, we'll add you to the guest book.\n",
      "Please enter your name: \n",
      "(type 'quit' when you are done)mind\n",
      "Thanks mind, we'll add you to the guest book.\n",
      "Please enter your name: \n",
      "(type 'quit' when you are done)quit\n"
     ]
    },
    {
     "data": {
      "text/plain": [
       "23"
      ]
     },
     "execution_count": 36,
     "metadata": {},
     "output_type": "execute_result"
    }
   ],
   "source": [
    "path = Path('guest_book.txt')\n",
    "prompt = \"Please enter your name: \"\n",
    "prompt += \"\\n(type 'quit' when you are done)\"\n",
    "names = []\n",
    "\n",
    "while True:\n",
    "    name = input(prompt)\n",
    "    if name == 'quit':\n",
    "        break\n",
    "        \n",
    "    print(f\"Thanks {name}, we'll add you to the guest book.\")\n",
    "    names.append(name.title()) # add name later to avoid adding quit to the book\n",
    "    \n",
    "name_string = ''\n",
    "for n in names:\n",
    "    name_string += f\"{n}\\n\"\n",
    "    \n",
    "path.write_text(name_string)"
   ]
  },
  {
   "cell_type": "markdown",
   "id": "57220c4e",
   "metadata": {},
   "source": [
    "## 10.3 Exceptions "
   ]
  },
  {
   "cell_type": "markdown",
   "id": "02a8b76b",
   "metadata": {},
   "source": [
    "Python uses *exceptions* to manage errors that arise during the program's execution. If you don't handle the exception, the program will halt and show a *traceback*, which includes a report of the exception that was raised.  \n",
    "\n",
    "Exceptions are handled with try-except blocks which asks python to do sth and also tells python what to do if an exception is raised. Instead of tracebacks, users will see friendly error messages that we've written!"
   ]
  },
  {
   "cell_type": "markdown",
   "id": "1ddd6b25",
   "metadata": {},
   "source": [
    "### Handling the ZeroDivisionError Exception "
   ]
  },
  {
   "cell_type": "code",
   "execution_count": 39,
   "id": "6005c249",
   "metadata": {},
   "outputs": [
    {
     "ename": "ZeroDivisionError",
     "evalue": "division by zero",
     "output_type": "error",
     "traceback": [
      "\u001b[0;31m---------------------------------------------------------------------------\u001b[0m",
      "\u001b[0;31mZeroDivisionError\u001b[0m                         Traceback (most recent call last)",
      "Cell \u001b[0;32mIn[39], line 1\u001b[0m\n\u001b[0;32m----> 1\u001b[0m \u001b[38;5;28mprint\u001b[39m(\u001b[38;5;241;43m5\u001b[39;49m\u001b[38;5;241;43m/\u001b[39;49m\u001b[38;5;241;43m0\u001b[39;49m)\n",
      "\u001b[0;31mZeroDivisionError\u001b[0m: division by zero"
     ]
    }
   ],
   "source": [
    "print(5/0)"
   ]
  },
  {
   "cell_type": "markdown",
   "id": "c06f08f7",
   "metadata": {},
   "source": [
    "The error reported in the traceback, ZeroDvisionError, is an exception object. Python creates this kind of object in response to a situation where it can't do what we ask it to & stop the program."
   ]
  },
  {
   "cell_type": "markdown",
   "id": "a2b46bef",
   "metadata": {},
   "source": [
    "### Using try-except Blocks"
   ]
  },
  {
   "cell_type": "code",
   "execution_count": 40,
   "id": "2794eb06",
   "metadata": {},
   "outputs": [
    {
     "name": "stdout",
     "output_type": "stream",
     "text": [
      "You cannot divide by zero!\n"
     ]
    }
   ],
   "source": [
    "try:\n",
    "    print(5/0)\n",
    "except ZeroDivisionError:\n",
    "    print(\"You cannot divide by zero!\")"
   ]
  },
  {
   "cell_type": "markdown",
   "id": "aba78838",
   "metadata": {},
   "source": [
    "If the code in a try block works, Python skips over the except block. If the code in the try block causes an error, Python runs except block whose error matches the one that was raised."
   ]
  },
  {
   "cell_type": "markdown",
   "id": "68a53f90",
   "metadata": {},
   "source": [
    "### Using Exceptions to Prevent Crashes"
   ]
  },
  {
   "cell_type": "markdown",
   "id": "8e1e2f41",
   "metadata": {},
   "source": [
    "We need to handle errors correctly since the program may have more work to do after the error occurs. For example, if the program responds to invalid input appropraitely, it can prompt for more valid input from users instead of CRASHING!"
   ]
  },
  {
   "cell_type": "code",
   "execution_count": 41,
   "id": "7b844d79",
   "metadata": {},
   "outputs": [
    {
     "name": "stdout",
     "output_type": "stream",
     "text": [
      "Give me two numbers, and I'll divide them.\n",
      "Enter 'q' to quit.\n",
      "\n",
      "First number: ruochen\n",
      "Second number: tanya\n"
     ]
    },
    {
     "ename": "ValueError",
     "evalue": "invalid literal for int() with base 10: 'ruochen'",
     "output_type": "error",
     "traceback": [
      "\u001b[0;31m---------------------------------------------------------------------------\u001b[0m",
      "\u001b[0;31mValueError\u001b[0m                                Traceback (most recent call last)",
      "Cell \u001b[0;32mIn[41], line 11\u001b[0m\n\u001b[1;32m      9\u001b[0m \u001b[38;5;28;01mif\u001b[39;00m second_number \u001b[38;5;241m==\u001b[39m \u001b[38;5;124m'\u001b[39m\u001b[38;5;124mq\u001b[39m\u001b[38;5;124m'\u001b[39m:\n\u001b[1;32m     10\u001b[0m     \u001b[38;5;28;01mbreak\u001b[39;00m\n\u001b[0;32m---> 11\u001b[0m answer \u001b[38;5;241m=\u001b[39m \u001b[38;5;28;43mint\u001b[39;49m\u001b[43m(\u001b[49m\u001b[43mfirst_number\u001b[49m\u001b[43m)\u001b[49m\u001b[38;5;241m/\u001b[39m\u001b[38;5;28mint\u001b[39m(second_number)\n\u001b[1;32m     12\u001b[0m \u001b[38;5;28mprint\u001b[39m(answer)\n",
      "\u001b[0;31mValueError\u001b[0m: invalid literal for int() with base 10: 'ruochen'"
     ]
    }
   ],
   "source": [
    "print(\"Give me two numbers, and I'll divide them.\")\n",
    "print(\"Enter 'q' to quit.\")\n",
    "\n",
    "while True:\n",
    "    first_number = input(\"\\nFirst number: \")\n",
    "    if first_number == 'q':\n",
    "        break\n",
    "    second_number = input(\"Second number: \")\n",
    "    if second_number == 'q':\n",
    "        break\n",
    "    answer = int(first_number)/int(second_number)\n",
    "    print(answer)"
   ]
  },
  {
   "cell_type": "markdown",
   "id": "a0dd47b9",
   "metadata": {},
   "source": [
    "This program does nothing to handle errors, so asking it to divide by zero causes it to crash. It is a good idea to let users see tracebacks. HOWEVER! a skilled attacker can sometimes use the name of your file or part of your code to determine which kind of attacks to use against your code. "
   ]
  },
  {
   "cell_type": "markdown",
   "id": "37cfcb42",
   "metadata": {},
   "source": [
    "### The else block : make code clearer and more organized"
   ]
  },
  {
   "cell_type": "code",
   "execution_count": 44,
   "id": "a8c7f343",
   "metadata": {},
   "outputs": [
    {
     "name": "stdout",
     "output_type": "stream",
     "text": [
      "Give me two numbers, and I'll divide them.\n",
      "Enter 'q' to quit.\n",
      "\n",
      "First number: 2\n",
      "Second number: 0\n",
      "You can't divide by 0!\n",
      "\n",
      "First number: 2\n",
      "Second number: 2\n",
      "1.0\n",
      "\n",
      "First number: q\n"
     ]
    }
   ],
   "source": [
    "print(\"Give me two numbers, and I'll divide them.\")\n",
    "print(\"Enter 'q' to quit.\")\n",
    "\n",
    "while True:\n",
    "    first_number = input(\"\\nFirst number: \")\n",
    "    if first_number == 'q':\n",
    "        break\n",
    "    second_number = input(\"Second number: \")\n",
    "    if second_number == 'q':\n",
    "        break\n",
    "    try:\n",
    "        answer = int(first_number)/int(second_number)\n",
    "    except ZeroDivisionError:\n",
    "        print(\"You can't divide by 0!\")\n",
    "    else:\n",
    "        print(answer)"
   ]
  },
  {
   "cell_type": "markdown",
   "id": "5bfc1351",
   "metadata": {},
   "source": [
    "now we make the program more error resistant by wrapping the line that might produce errros in a try-except block. This example includes an else block, so any code that depends on the try block executing successfully goes in the else block:"
   ]
  },
  {
   "cell_type": "markdown",
   "id": "b5bdf701",
   "metadata": {},
   "source": [
    "- Try block: code that might cause an exception to be raised\n",
    "- Else block: code that run only if the try block was successful\n",
    "- Except block: tells Python what to do in case a certain exception arises when it tries to run the code in the try block."
   ]
  },
  {
   "cell_type": "markdown",
   "id": "4171716c",
   "metadata": {},
   "source": [
    "### Handling the FileNotFoundError Exception "
   ]
  },
  {
   "cell_type": "code",
   "execution_count": 45,
   "id": "6c43a34d",
   "metadata": {},
   "outputs": [
    {
     "ename": "FileNotFoundError",
     "evalue": "[Errno 2] No such file or directory: 'alice.txt'",
     "output_type": "error",
     "traceback": [
      "\u001b[0;31m---------------------------------------------------------------------------\u001b[0m",
      "\u001b[0;31mFileNotFoundError\u001b[0m                         Traceback (most recent call last)",
      "Cell \u001b[0;32mIn[45], line 4\u001b[0m\n\u001b[1;32m      1\u001b[0m \u001b[38;5;28;01mfrom\u001b[39;00m \u001b[38;5;21;01mpathlib\u001b[39;00m \u001b[38;5;28;01mimport\u001b[39;00m Path\n\u001b[1;32m      3\u001b[0m path \u001b[38;5;241m=\u001b[39m Path(\u001b[38;5;124m'\u001b[39m\u001b[38;5;124malice.txt\u001b[39m\u001b[38;5;124m'\u001b[39m)\n\u001b[0;32m----> 4\u001b[0m contents \u001b[38;5;241m=\u001b[39m \u001b[43mpath\u001b[49m\u001b[38;5;241;43m.\u001b[39;49m\u001b[43mread_text\u001b[49m\u001b[43m(\u001b[49m\u001b[43mencoding\u001b[49m\u001b[43m \u001b[49m\u001b[38;5;241;43m=\u001b[39;49m\u001b[43m \u001b[49m\u001b[38;5;124;43m'\u001b[39;49m\u001b[38;5;124;43mutf-8\u001b[39;49m\u001b[38;5;124;43m'\u001b[39;49m\u001b[43m)\u001b[49m\n",
      "File \u001b[0;32m/opt/anaconda3/envs/myenv/lib/python3.8/pathlib.py:1236\u001b[0m, in \u001b[0;36mPath.read_text\u001b[0;34m(self, encoding, errors)\u001b[0m\n\u001b[1;32m   1232\u001b[0m \u001b[38;5;28;01mdef\u001b[39;00m \u001b[38;5;21mread_text\u001b[39m(\u001b[38;5;28mself\u001b[39m, encoding\u001b[38;5;241m=\u001b[39m\u001b[38;5;28;01mNone\u001b[39;00m, errors\u001b[38;5;241m=\u001b[39m\u001b[38;5;28;01mNone\u001b[39;00m):\n\u001b[1;32m   1233\u001b[0m \u001b[38;5;250m    \u001b[39m\u001b[38;5;124;03m\"\"\"\u001b[39;00m\n\u001b[1;32m   1234\u001b[0m \u001b[38;5;124;03m    Open the file in text mode, read it, and close the file.\u001b[39;00m\n\u001b[1;32m   1235\u001b[0m \u001b[38;5;124;03m    \"\"\"\u001b[39;00m\n\u001b[0;32m-> 1236\u001b[0m     \u001b[38;5;28;01mwith\u001b[39;00m \u001b[38;5;28;43mself\u001b[39;49m\u001b[38;5;241;43m.\u001b[39;49m\u001b[43mopen\u001b[49m\u001b[43m(\u001b[49m\u001b[43mmode\u001b[49m\u001b[38;5;241;43m=\u001b[39;49m\u001b[38;5;124;43m'\u001b[39;49m\u001b[38;5;124;43mr\u001b[39;49m\u001b[38;5;124;43m'\u001b[39;49m\u001b[43m,\u001b[49m\u001b[43m \u001b[49m\u001b[43mencoding\u001b[49m\u001b[38;5;241;43m=\u001b[39;49m\u001b[43mencoding\u001b[49m\u001b[43m,\u001b[49m\u001b[43m \u001b[49m\u001b[43merrors\u001b[49m\u001b[38;5;241;43m=\u001b[39;49m\u001b[43merrors\u001b[49m\u001b[43m)\u001b[49m \u001b[38;5;28;01mas\u001b[39;00m f:\n\u001b[1;32m   1237\u001b[0m         \u001b[38;5;28;01mreturn\u001b[39;00m f\u001b[38;5;241m.\u001b[39mread()\n",
      "File \u001b[0;32m/opt/anaconda3/envs/myenv/lib/python3.8/pathlib.py:1222\u001b[0m, in \u001b[0;36mPath.open\u001b[0;34m(self, mode, buffering, encoding, errors, newline)\u001b[0m\n\u001b[1;32m   1220\u001b[0m \u001b[38;5;28;01mif\u001b[39;00m \u001b[38;5;28mself\u001b[39m\u001b[38;5;241m.\u001b[39m_closed:\n\u001b[1;32m   1221\u001b[0m     \u001b[38;5;28mself\u001b[39m\u001b[38;5;241m.\u001b[39m_raise_closed()\n\u001b[0;32m-> 1222\u001b[0m \u001b[38;5;28;01mreturn\u001b[39;00m \u001b[43mio\u001b[49m\u001b[38;5;241;43m.\u001b[39;49m\u001b[43mopen\u001b[49m\u001b[43m(\u001b[49m\u001b[38;5;28;43mself\u001b[39;49m\u001b[43m,\u001b[49m\u001b[43m \u001b[49m\u001b[43mmode\u001b[49m\u001b[43m,\u001b[49m\u001b[43m \u001b[49m\u001b[43mbuffering\u001b[49m\u001b[43m,\u001b[49m\u001b[43m \u001b[49m\u001b[43mencoding\u001b[49m\u001b[43m,\u001b[49m\u001b[43m \u001b[49m\u001b[43merrors\u001b[49m\u001b[43m,\u001b[49m\u001b[43m \u001b[49m\u001b[43mnewline\u001b[49m\u001b[43m,\u001b[49m\n\u001b[1;32m   1223\u001b[0m \u001b[43m               \u001b[49m\u001b[43mopener\u001b[49m\u001b[38;5;241;43m=\u001b[39;49m\u001b[38;5;28;43mself\u001b[39;49m\u001b[38;5;241;43m.\u001b[39;49m\u001b[43m_opener\u001b[49m\u001b[43m)\u001b[49m\n",
      "File \u001b[0;32m/opt/anaconda3/envs/myenv/lib/python3.8/pathlib.py:1078\u001b[0m, in \u001b[0;36mPath._opener\u001b[0;34m(self, name, flags, mode)\u001b[0m\n\u001b[1;32m   1076\u001b[0m \u001b[38;5;28;01mdef\u001b[39;00m \u001b[38;5;21m_opener\u001b[39m(\u001b[38;5;28mself\u001b[39m, name, flags, mode\u001b[38;5;241m=\u001b[39m\u001b[38;5;241m0o666\u001b[39m):\n\u001b[1;32m   1077\u001b[0m     \u001b[38;5;66;03m# A stub for the opener argument to built-in open()\u001b[39;00m\n\u001b[0;32m-> 1078\u001b[0m     \u001b[38;5;28;01mreturn\u001b[39;00m \u001b[38;5;28;43mself\u001b[39;49m\u001b[38;5;241;43m.\u001b[39;49m\u001b[43m_accessor\u001b[49m\u001b[38;5;241;43m.\u001b[39;49m\u001b[43mopen\u001b[49m\u001b[43m(\u001b[49m\u001b[38;5;28;43mself\u001b[39;49m\u001b[43m,\u001b[49m\u001b[43m \u001b[49m\u001b[43mflags\u001b[49m\u001b[43m,\u001b[49m\u001b[43m \u001b[49m\u001b[43mmode\u001b[49m\u001b[43m)\u001b[49m\n",
      "\u001b[0;31mFileNotFoundError\u001b[0m: [Errno 2] No such file or directory: 'alice.txt'"
     ]
    }
   ],
   "source": [
    "from pathlib import Path\n",
    "\n",
    "path = Path('alice.txt')\n",
    "contents = path.read_text(encoding = 'utf-8')"
   ]
  },
  {
   "cell_type": "markdown",
   "id": "714c2e4c",
   "metadata": {},
   "source": [
    "we read the file that doesn't exist. The encoding argument is needed when your system’s default encoding doesn’t match the encoding of the file that’s being read. This is most likely to happen when reading from a file that wasn’t created on your system.\n",
    "\n",
    "On the last line, we can see that a FileNotFoundError exception was raised 3. This is important because it tells us what kind of exception to use in the except block that we’ll write."
   ]
  },
  {
   "cell_type": "code",
   "execution_count": 46,
   "id": "25af5529",
   "metadata": {},
   "outputs": [
    {
     "name": "stdout",
     "output_type": "stream",
     "text": [
      "Sorry, the file alice.txt does not exist.\n"
     ]
    }
   ],
   "source": [
    "from pathlib import Path\n",
    "\n",
    "path = Path('alice.txt')\n",
    "try:\n",
    "    contents = path.read_text(encoding = 'utf-8')\n",
    "except FileNotFoundError:\n",
    "    print(f\"Sorry, the file {path} does not exist.\")"
   ]
  },
  {
   "cell_type": "markdown",
   "id": "fab9f79e",
   "metadata": {},
   "source": [
    "### Analyzing Text"
   ]
  },
  {
   "cell_type": "code",
   "execution_count": 47,
   "id": "078749e5",
   "metadata": {},
   "outputs": [
    {
     "name": "stdout",
     "output_type": "stream",
     "text": [
      "The file alice.txt has about 29594 words.\n"
     ]
    }
   ],
   "source": [
    "from pathlib import Path\n",
    "\n",
    "path = Path('alice.txt')\n",
    "try:\n",
    "    contents = path.read_text(encoding='utf-8')\n",
    "except FileNotFoundError:\n",
    "    print(f\"Sorry, the file {path} does not exist.\")\n",
    "else:\n",
    "    # Count the approximate number of words in the file:\n",
    "    words = contents.split()\n",
    "    num_words = len(words)\n",
    "    print(f\"The file {path} has about {num_words} words.\")"
   ]
  },
  {
   "cell_type": "code",
   "execution_count": 50,
   "id": "df1d460a",
   "metadata": {},
   "outputs": [
    {
     "data": {
      "text/plain": [
       "['\\ufeffThe',\n",
       " 'Project',\n",
       " 'Gutenberg',\n",
       " 'eBook',\n",
       " 'of',\n",
       " 'Alice’s',\n",
       " 'Adventures',\n",
       " 'in',\n",
       " 'Wonderland,',\n",
       " 'by',\n",
       " 'Lewis',\n",
       " 'Carroll',\n",
       " 'This',\n",
       " 'eBook',\n",
       " 'is',\n",
       " 'for',\n",
       " 'the',\n",
       " 'use',\n",
       " 'of',\n",
       " 'anyone',\n",
       " 'anywhere',\n",
       " 'in',\n",
       " 'the',\n",
       " 'United',\n",
       " 'States',\n",
       " 'and',\n",
       " 'most',\n",
       " 'other',\n",
       " 'parts',\n",
       " 'of',\n",
       " 'the',\n",
       " 'world',\n",
       " 'at',\n",
       " 'no',\n",
       " 'cost',\n",
       " 'and',\n",
       " 'with',\n",
       " 'almost',\n",
       " 'no',\n",
       " 'restrictions',\n",
       " 'whatsoever.',\n",
       " 'You',\n",
       " 'may',\n",
       " 'copy',\n",
       " 'it,',\n",
       " 'give',\n",
       " 'it',\n",
       " 'away',\n",
       " 'or',\n",
       " 're-use',\n",
       " 'it',\n",
       " 'under',\n",
       " 'the',\n",
       " 'terms',\n",
       " 'of',\n",
       " 'the',\n",
       " 'Project',\n",
       " 'Gutenberg',\n",
       " 'License',\n",
       " 'included',\n",
       " 'with',\n",
       " 'this',\n",
       " 'eBook',\n",
       " 'or',\n",
       " 'online',\n",
       " 'at',\n",
       " 'www.gutenberg.org.',\n",
       " 'If',\n",
       " 'you',\n",
       " 'are',\n",
       " 'not',\n",
       " 'located',\n",
       " 'in',\n",
       " 'the',\n",
       " 'United',\n",
       " 'States,',\n",
       " 'you',\n",
       " 'will',\n",
       " 'have',\n",
       " 'to',\n",
       " 'check',\n",
       " 'the',\n",
       " 'laws',\n",
       " 'of',\n",
       " 'the',\n",
       " 'country',\n",
       " 'where',\n",
       " 'you',\n",
       " 'are',\n",
       " 'located',\n",
       " 'before',\n",
       " 'using',\n",
       " 'this',\n",
       " 'eBook.',\n",
       " 'Title:',\n",
       " 'Alice’s',\n",
       " 'Adventures',\n",
       " 'in',\n",
       " 'Wonderland',\n",
       " 'Author:',\n",
       " 'Lewis',\n",
       " 'Carroll',\n",
       " 'Release',\n",
       " 'Date:',\n",
       " 'January,',\n",
       " '1991',\n",
       " '[eBook',\n",
       " '#11]',\n",
       " '[Most',\n",
       " 'recently',\n",
       " 'updated:',\n",
       " 'October',\n",
       " '12,',\n",
       " '2020]',\n",
       " 'Language:',\n",
       " 'English',\n",
       " 'Character',\n",
       " 'set',\n",
       " 'encoding:',\n",
       " 'UTF-8',\n",
       " 'Produced',\n",
       " 'by:',\n",
       " 'Arthur',\n",
       " 'DiBianca',\n",
       " 'and',\n",
       " 'David',\n",
       " 'Widger',\n",
       " '***',\n",
       " 'START',\n",
       " 'OF',\n",
       " 'THE',\n",
       " 'PROJECT',\n",
       " 'GUTENBERG',\n",
       " 'EBOOK',\n",
       " 'ALICE’S',\n",
       " 'ADVENTURES',\n",
       " 'IN',\n",
       " 'WONDERLAND',\n",
       " '***',\n",
       " '[Illustration]',\n",
       " 'Alice’s',\n",
       " 'Adventures',\n",
       " 'in',\n",
       " 'Wonderland',\n",
       " 'by',\n",
       " 'Lewis',\n",
       " 'Carroll',\n",
       " 'THE',\n",
       " 'MILLENNIUM',\n",
       " 'FULCRUM',\n",
       " 'EDITION',\n",
       " '3.0',\n",
       " 'Contents',\n",
       " 'CHAPTER',\n",
       " 'I.',\n",
       " 'Down',\n",
       " 'the',\n",
       " 'Rabbit-Hole',\n",
       " 'CHAPTER',\n",
       " 'II.',\n",
       " 'The',\n",
       " 'Pool',\n",
       " 'of',\n",
       " 'Tears',\n",
       " 'CHAPTER',\n",
       " 'III.',\n",
       " 'A',\n",
       " 'Caucus-Race',\n",
       " 'and',\n",
       " 'a',\n",
       " 'Long',\n",
       " 'Tale',\n",
       " 'CHAPTER',\n",
       " 'IV.',\n",
       " 'The',\n",
       " 'Rabbit',\n",
       " 'Sends',\n",
       " 'in',\n",
       " 'a',\n",
       " 'Little',\n",
       " 'Bill',\n",
       " 'CHAPTER',\n",
       " 'V.',\n",
       " 'Advice',\n",
       " 'from',\n",
       " 'a',\n",
       " 'Caterpillar',\n",
       " 'CHAPTER',\n",
       " 'VI.',\n",
       " 'Pig',\n",
       " 'and',\n",
       " 'Pepper',\n",
       " 'CHAPTER',\n",
       " 'VII.',\n",
       " 'A',\n",
       " 'Mad',\n",
       " 'Tea-Party',\n",
       " 'CHAPTER',\n",
       " 'VIII.',\n",
       " 'The',\n",
       " 'Queen’s',\n",
       " 'Croquet-Ground',\n",
       " 'CHAPTER',\n",
       " 'IX.',\n",
       " 'The',\n",
       " 'Mock',\n",
       " 'Turtle’s',\n",
       " 'Story',\n",
       " 'CHAPTER',\n",
       " 'X.',\n",
       " 'The',\n",
       " 'Lobster',\n",
       " 'Quadrille',\n",
       " 'CHAPTER',\n",
       " 'XI.',\n",
       " 'Who',\n",
       " 'Stole',\n",
       " 'the',\n",
       " 'Tarts?',\n",
       " 'CHAPTER',\n",
       " 'XII.',\n",
       " 'Alice’s',\n",
       " 'Evidence',\n",
       " 'CHAPTER',\n",
       " 'I.',\n",
       " 'Down',\n",
       " 'the',\n",
       " 'Rabbit-Hole',\n",
       " 'Alice',\n",
       " 'was',\n",
       " 'beginning',\n",
       " 'to',\n",
       " 'get',\n",
       " 'very',\n",
       " 'tired',\n",
       " 'of',\n",
       " 'sitting',\n",
       " 'by',\n",
       " 'her',\n",
       " 'sister',\n",
       " 'on',\n",
       " 'the',\n",
       " 'bank,',\n",
       " 'and',\n",
       " 'of',\n",
       " 'having',\n",
       " 'nothing',\n",
       " 'to',\n",
       " 'do:',\n",
       " 'once',\n",
       " 'or',\n",
       " 'twice',\n",
       " 'she',\n",
       " 'had',\n",
       " 'peeped',\n",
       " 'into',\n",
       " 'the',\n",
       " 'book',\n",
       " 'her',\n",
       " 'sister',\n",
       " 'was',\n",
       " 'reading,',\n",
       " 'but',\n",
       " 'it',\n",
       " 'had',\n",
       " 'no',\n",
       " 'pictures',\n",
       " 'or',\n",
       " 'conversations',\n",
       " 'in',\n",
       " 'it,',\n",
       " '“and',\n",
       " 'what',\n",
       " 'is',\n",
       " 'the',\n",
       " 'use',\n",
       " 'of',\n",
       " 'a',\n",
       " 'book,”',\n",
       " 'thought',\n",
       " 'Alice',\n",
       " '“without',\n",
       " 'pictures',\n",
       " 'or',\n",
       " 'conversations?”',\n",
       " 'So',\n",
       " 'she',\n",
       " 'was',\n",
       " 'considering',\n",
       " 'in',\n",
       " 'her',\n",
       " 'own',\n",
       " 'mind',\n",
       " '(as',\n",
       " 'well',\n",
       " 'as',\n",
       " 'she',\n",
       " 'could,',\n",
       " 'for',\n",
       " 'the',\n",
       " 'hot',\n",
       " 'day',\n",
       " 'made',\n",
       " 'her',\n",
       " 'feel',\n",
       " 'very',\n",
       " 'sleepy',\n",
       " 'and',\n",
       " 'stupid),',\n",
       " 'whether',\n",
       " 'the',\n",
       " 'pleasure',\n",
       " 'of',\n",
       " 'making',\n",
       " 'a',\n",
       " 'daisy-chain',\n",
       " 'would',\n",
       " 'be',\n",
       " 'worth',\n",
       " 'the',\n",
       " 'trouble',\n",
       " 'of',\n",
       " 'getting',\n",
       " 'up',\n",
       " 'and',\n",
       " 'picking',\n",
       " 'the',\n",
       " 'daisies,',\n",
       " 'when',\n",
       " 'suddenly',\n",
       " 'a',\n",
       " 'White',\n",
       " 'Rabbit',\n",
       " 'with',\n",
       " 'pink',\n",
       " 'eyes',\n",
       " 'ran',\n",
       " 'close',\n",
       " 'by',\n",
       " 'her.',\n",
       " 'There',\n",
       " 'was',\n",
       " 'nothing',\n",
       " 'so',\n",
       " '_very_',\n",
       " 'remarkable',\n",
       " 'in',\n",
       " 'that;',\n",
       " 'nor',\n",
       " 'did',\n",
       " 'Alice',\n",
       " 'think',\n",
       " 'it',\n",
       " 'so',\n",
       " '_very_',\n",
       " 'much',\n",
       " 'out',\n",
       " 'of',\n",
       " 'the',\n",
       " 'way',\n",
       " 'to',\n",
       " 'hear',\n",
       " 'the',\n",
       " 'Rabbit',\n",
       " 'say',\n",
       " 'to',\n",
       " 'itself,',\n",
       " '“Oh',\n",
       " 'dear!',\n",
       " 'Oh',\n",
       " 'dear!',\n",
       " 'I',\n",
       " 'shall',\n",
       " 'be',\n",
       " 'late!”',\n",
       " '(when',\n",
       " 'she',\n",
       " 'thought',\n",
       " 'it',\n",
       " 'over',\n",
       " 'afterwards,',\n",
       " 'it',\n",
       " 'occurred',\n",
       " 'to',\n",
       " 'her',\n",
       " 'that',\n",
       " 'she',\n",
       " 'ought',\n",
       " 'to',\n",
       " 'have',\n",
       " 'wondered',\n",
       " 'at',\n",
       " 'this,',\n",
       " 'but',\n",
       " 'at',\n",
       " 'the',\n",
       " 'time',\n",
       " 'it',\n",
       " 'all',\n",
       " 'seemed',\n",
       " 'quite',\n",
       " 'natural);',\n",
       " 'but',\n",
       " 'when',\n",
       " 'the',\n",
       " 'Rabbit',\n",
       " 'actually',\n",
       " '_took',\n",
       " 'a',\n",
       " 'watch',\n",
       " 'out',\n",
       " 'of',\n",
       " 'its',\n",
       " 'waistcoat-pocket_,',\n",
       " 'and',\n",
       " 'looked',\n",
       " 'at',\n",
       " 'it,',\n",
       " 'and',\n",
       " 'then',\n",
       " 'hurried',\n",
       " 'on,',\n",
       " 'Alice',\n",
       " 'started',\n",
       " 'to',\n",
       " 'her',\n",
       " 'feet,',\n",
       " 'for',\n",
       " 'it',\n",
       " 'flashed',\n",
       " 'across',\n",
       " 'her',\n",
       " 'mind',\n",
       " 'that',\n",
       " 'she',\n",
       " 'had',\n",
       " 'never',\n",
       " 'before',\n",
       " 'seen',\n",
       " 'a',\n",
       " 'rabbit',\n",
       " 'with',\n",
       " 'either',\n",
       " 'a',\n",
       " 'waistcoat-pocket,',\n",
       " 'or',\n",
       " 'a',\n",
       " 'watch',\n",
       " 'to',\n",
       " 'take',\n",
       " 'out',\n",
       " 'of',\n",
       " 'it,',\n",
       " 'and',\n",
       " 'burning',\n",
       " 'with',\n",
       " 'curiosity,',\n",
       " 'she',\n",
       " 'ran',\n",
       " 'across',\n",
       " 'the',\n",
       " 'field',\n",
       " 'after',\n",
       " 'it,',\n",
       " 'and',\n",
       " 'fortunately',\n",
       " 'was',\n",
       " 'just',\n",
       " 'in',\n",
       " 'time',\n",
       " 'to',\n",
       " 'see',\n",
       " 'it',\n",
       " 'pop',\n",
       " 'down',\n",
       " 'a',\n",
       " 'large',\n",
       " 'rabbit-hole',\n",
       " 'under',\n",
       " 'the',\n",
       " 'hedge.',\n",
       " 'In',\n",
       " 'another',\n",
       " 'moment',\n",
       " 'down',\n",
       " 'went',\n",
       " 'Alice',\n",
       " 'after',\n",
       " 'it,',\n",
       " 'never',\n",
       " 'once',\n",
       " 'considering',\n",
       " 'how',\n",
       " 'in',\n",
       " 'the',\n",
       " 'world',\n",
       " 'she',\n",
       " 'was',\n",
       " 'to',\n",
       " 'get',\n",
       " 'out',\n",
       " 'again.',\n",
       " 'The',\n",
       " 'rabbit-hole',\n",
       " 'went',\n",
       " 'straight',\n",
       " 'on',\n",
       " 'like',\n",
       " 'a',\n",
       " 'tunnel',\n",
       " 'for',\n",
       " 'some',\n",
       " 'way,',\n",
       " 'and',\n",
       " 'then',\n",
       " 'dipped',\n",
       " 'suddenly',\n",
       " 'down,',\n",
       " 'so',\n",
       " 'suddenly',\n",
       " 'that',\n",
       " 'Alice',\n",
       " 'had',\n",
       " 'not',\n",
       " 'a',\n",
       " 'moment',\n",
       " 'to',\n",
       " 'think',\n",
       " 'about',\n",
       " 'stopping',\n",
       " 'herself',\n",
       " 'before',\n",
       " 'she',\n",
       " 'found',\n",
       " 'herself',\n",
       " 'falling',\n",
       " 'down',\n",
       " 'a',\n",
       " 'very',\n",
       " 'deep',\n",
       " 'well.',\n",
       " 'Either',\n",
       " 'the',\n",
       " 'well',\n",
       " 'was',\n",
       " 'very',\n",
       " 'deep,',\n",
       " 'or',\n",
       " 'she',\n",
       " 'fell',\n",
       " 'very',\n",
       " 'slowly,',\n",
       " 'for',\n",
       " 'she',\n",
       " 'had',\n",
       " 'plenty',\n",
       " 'of',\n",
       " 'time',\n",
       " 'as',\n",
       " 'she',\n",
       " 'went',\n",
       " 'down',\n",
       " 'to',\n",
       " 'look',\n",
       " 'about',\n",
       " 'her',\n",
       " 'and',\n",
       " 'to',\n",
       " 'wonder',\n",
       " 'what',\n",
       " 'was',\n",
       " 'going',\n",
       " 'to',\n",
       " 'happen',\n",
       " 'next.',\n",
       " 'First,',\n",
       " 'she',\n",
       " 'tried',\n",
       " 'to',\n",
       " 'look',\n",
       " 'down',\n",
       " 'and',\n",
       " 'make',\n",
       " 'out',\n",
       " 'what',\n",
       " 'she',\n",
       " 'was',\n",
       " 'coming',\n",
       " 'to,',\n",
       " 'but',\n",
       " 'it',\n",
       " 'was',\n",
       " 'too',\n",
       " 'dark',\n",
       " 'to',\n",
       " 'see',\n",
       " 'anything;',\n",
       " 'then',\n",
       " 'she',\n",
       " 'looked',\n",
       " 'at',\n",
       " 'the',\n",
       " 'sides',\n",
       " 'of',\n",
       " 'the',\n",
       " 'well,',\n",
       " 'and',\n",
       " 'noticed',\n",
       " 'that',\n",
       " 'they',\n",
       " 'were',\n",
       " 'filled',\n",
       " 'with',\n",
       " 'cupboards',\n",
       " 'and',\n",
       " 'book-shelves;',\n",
       " 'here',\n",
       " 'and',\n",
       " 'there',\n",
       " 'she',\n",
       " 'saw',\n",
       " 'maps',\n",
       " 'and',\n",
       " 'pictures',\n",
       " 'hung',\n",
       " 'upon',\n",
       " 'pegs.',\n",
       " 'She',\n",
       " 'took',\n",
       " 'down',\n",
       " 'a',\n",
       " 'jar',\n",
       " 'from',\n",
       " 'one',\n",
       " 'of',\n",
       " 'the',\n",
       " 'shelves',\n",
       " 'as',\n",
       " 'she',\n",
       " 'passed;',\n",
       " 'it',\n",
       " 'was',\n",
       " 'labelled',\n",
       " '“ORANGE',\n",
       " 'MARMALADE”,',\n",
       " 'but',\n",
       " 'to',\n",
       " 'her',\n",
       " 'great',\n",
       " 'disappointment',\n",
       " 'it',\n",
       " 'was',\n",
       " 'empty:',\n",
       " 'she',\n",
       " 'did',\n",
       " 'not',\n",
       " 'like',\n",
       " 'to',\n",
       " 'drop',\n",
       " 'the',\n",
       " 'jar',\n",
       " 'for',\n",
       " 'fear',\n",
       " 'of',\n",
       " 'killing',\n",
       " 'somebody',\n",
       " 'underneath,',\n",
       " 'so',\n",
       " 'managed',\n",
       " 'to',\n",
       " 'put',\n",
       " 'it',\n",
       " 'into',\n",
       " 'one',\n",
       " 'of',\n",
       " 'the',\n",
       " 'cupboards',\n",
       " 'as',\n",
       " 'she',\n",
       " 'fell',\n",
       " 'past',\n",
       " 'it.',\n",
       " '“Well!”',\n",
       " 'thought',\n",
       " 'Alice',\n",
       " 'to',\n",
       " 'herself,',\n",
       " '“after',\n",
       " 'such',\n",
       " 'a',\n",
       " 'fall',\n",
       " 'as',\n",
       " 'this,',\n",
       " 'I',\n",
       " 'shall',\n",
       " 'think',\n",
       " 'nothing',\n",
       " 'of',\n",
       " 'tumbling',\n",
       " 'down',\n",
       " 'stairs!',\n",
       " 'How',\n",
       " 'brave',\n",
       " 'they’ll',\n",
       " 'all',\n",
       " 'think',\n",
       " 'me',\n",
       " 'at',\n",
       " 'home!',\n",
       " 'Why,',\n",
       " 'I',\n",
       " 'wouldn’t',\n",
       " 'say',\n",
       " 'anything',\n",
       " 'about',\n",
       " 'it,',\n",
       " 'even',\n",
       " 'if',\n",
       " 'I',\n",
       " 'fell',\n",
       " 'off',\n",
       " 'the',\n",
       " 'top',\n",
       " 'of',\n",
       " 'the',\n",
       " 'house!”',\n",
       " '(Which',\n",
       " 'was',\n",
       " 'very',\n",
       " 'likely',\n",
       " 'true.)',\n",
       " 'Down,',\n",
       " 'down,',\n",
       " 'down.',\n",
       " 'Would',\n",
       " 'the',\n",
       " 'fall',\n",
       " '_never_',\n",
       " 'come',\n",
       " 'to',\n",
       " 'an',\n",
       " 'end?',\n",
       " '“I',\n",
       " 'wonder',\n",
       " 'how',\n",
       " 'many',\n",
       " 'miles',\n",
       " 'I’ve',\n",
       " 'fallen',\n",
       " 'by',\n",
       " 'this',\n",
       " 'time?”',\n",
       " 'she',\n",
       " 'said',\n",
       " 'aloud.',\n",
       " '“I',\n",
       " 'must',\n",
       " 'be',\n",
       " 'getting',\n",
       " 'somewhere',\n",
       " 'near',\n",
       " 'the',\n",
       " 'centre',\n",
       " 'of',\n",
       " 'the',\n",
       " 'earth.',\n",
       " 'Let',\n",
       " 'me',\n",
       " 'see:',\n",
       " 'that',\n",
       " 'would',\n",
       " 'be',\n",
       " 'four',\n",
       " 'thousand',\n",
       " 'miles',\n",
       " 'down,',\n",
       " 'I',\n",
       " 'think—”',\n",
       " '(for,',\n",
       " 'you',\n",
       " 'see,',\n",
       " 'Alice',\n",
       " 'had',\n",
       " 'learnt',\n",
       " 'several',\n",
       " 'things',\n",
       " 'of',\n",
       " 'this',\n",
       " 'sort',\n",
       " 'in',\n",
       " 'her',\n",
       " 'lessons',\n",
       " 'in',\n",
       " 'the',\n",
       " 'schoolroom,',\n",
       " 'and',\n",
       " 'though',\n",
       " 'this',\n",
       " 'was',\n",
       " 'not',\n",
       " 'a',\n",
       " '_very_',\n",
       " 'good',\n",
       " 'opportunity',\n",
       " 'for',\n",
       " 'showing',\n",
       " 'off',\n",
       " 'her',\n",
       " 'knowledge,',\n",
       " 'as',\n",
       " 'there',\n",
       " 'was',\n",
       " 'no',\n",
       " 'one',\n",
       " 'to',\n",
       " 'listen',\n",
       " 'to',\n",
       " 'her,',\n",
       " 'still',\n",
       " 'it',\n",
       " 'was',\n",
       " 'good',\n",
       " 'practice',\n",
       " 'to',\n",
       " 'say',\n",
       " 'it',\n",
       " 'over)',\n",
       " '“—yes,',\n",
       " 'that’s',\n",
       " 'about',\n",
       " 'the',\n",
       " 'right',\n",
       " 'distance—but',\n",
       " 'then',\n",
       " 'I',\n",
       " 'wonder',\n",
       " 'what',\n",
       " 'Latitude',\n",
       " 'or',\n",
       " 'Longitude',\n",
       " 'I’ve',\n",
       " 'got',\n",
       " 'to?”',\n",
       " '(Alice',\n",
       " 'had',\n",
       " 'no',\n",
       " 'idea',\n",
       " 'what',\n",
       " 'Latitude',\n",
       " 'was,',\n",
       " 'or',\n",
       " 'Longitude',\n",
       " 'either,',\n",
       " 'but',\n",
       " 'thought',\n",
       " 'they',\n",
       " 'were',\n",
       " 'nice',\n",
       " 'grand',\n",
       " 'words',\n",
       " 'to',\n",
       " 'say.)',\n",
       " 'Presently',\n",
       " 'she',\n",
       " 'began',\n",
       " 'again.',\n",
       " '“I',\n",
       " 'wonder',\n",
       " 'if',\n",
       " 'I',\n",
       " 'shall',\n",
       " 'fall',\n",
       " 'right',\n",
       " '_through_',\n",
       " 'the',\n",
       " 'earth!',\n",
       " 'How',\n",
       " 'funny',\n",
       " 'it’ll',\n",
       " 'seem',\n",
       " 'to',\n",
       " 'come',\n",
       " 'out',\n",
       " 'among',\n",
       " 'the',\n",
       " 'people',\n",
       " 'that',\n",
       " 'walk',\n",
       " 'with',\n",
       " 'their',\n",
       " 'heads',\n",
       " 'downward!',\n",
       " 'The',\n",
       " 'Antipathies,',\n",
       " 'I',\n",
       " 'think—”',\n",
       " '(she',\n",
       " 'was',\n",
       " 'rather',\n",
       " 'glad',\n",
       " 'there',\n",
       " '_was_',\n",
       " 'no',\n",
       " 'one',\n",
       " 'listening,',\n",
       " 'this',\n",
       " 'time,',\n",
       " 'as',\n",
       " 'it',\n",
       " 'didn’t',\n",
       " 'sound',\n",
       " 'at',\n",
       " 'all',\n",
       " 'the',\n",
       " 'right',\n",
       " 'word)',\n",
       " '“—but',\n",
       " 'I',\n",
       " 'shall',\n",
       " 'have',\n",
       " 'to',\n",
       " 'ask',\n",
       " 'them',\n",
       " 'what',\n",
       " 'the',\n",
       " 'name',\n",
       " 'of',\n",
       " 'the',\n",
       " 'country',\n",
       " 'is,',\n",
       " 'you',\n",
       " 'know.',\n",
       " 'Please,',\n",
       " 'Ma’am,',\n",
       " 'is',\n",
       " 'this',\n",
       " 'New',\n",
       " 'Zealand',\n",
       " 'or',\n",
       " 'Australia?”',\n",
       " '(and',\n",
       " 'she',\n",
       " 'tried',\n",
       " 'to',\n",
       " 'curtsey',\n",
       " 'as',\n",
       " 'she',\n",
       " 'spoke—fancy',\n",
       " '_curtseying_',\n",
       " 'as',\n",
       " 'you’re',\n",
       " 'falling',\n",
       " 'through',\n",
       " 'the',\n",
       " 'air!',\n",
       " 'Do',\n",
       " 'you',\n",
       " 'think',\n",
       " 'you',\n",
       " 'could',\n",
       " 'manage',\n",
       " 'it?)',\n",
       " '“And',\n",
       " 'what',\n",
       " 'an',\n",
       " 'ignorant',\n",
       " 'little',\n",
       " 'girl',\n",
       " 'she’ll',\n",
       " 'think',\n",
       " 'me',\n",
       " 'for',\n",
       " 'asking!',\n",
       " 'No,',\n",
       " 'it’ll',\n",
       " 'never',\n",
       " 'do',\n",
       " 'to',\n",
       " 'ask:',\n",
       " 'perhaps',\n",
       " 'I',\n",
       " 'shall',\n",
       " 'see',\n",
       " 'it',\n",
       " 'written',\n",
       " 'up',\n",
       " 'somewhere.”',\n",
       " 'Down,',\n",
       " 'down,',\n",
       " 'down.',\n",
       " 'There',\n",
       " 'was',\n",
       " 'nothing',\n",
       " 'else',\n",
       " 'to',\n",
       " 'do,',\n",
       " 'so',\n",
       " 'Alice',\n",
       " 'soon',\n",
       " 'began',\n",
       " ...]"
      ]
     },
     "execution_count": 50,
     "metadata": {},
     "output_type": "execute_result"
    }
   ],
   "source": [
    "contents.split()"
   ]
  },
  {
   "cell_type": "code",
   "execution_count": null,
   "id": "e4e3512f",
   "metadata": {},
   "outputs": [],
   "source": [
    "we use split() to produce a list of all the words in the book"
   ]
  },
  {
   "cell_type": "markdown",
   "id": "77e8c938",
   "metadata": {},
   "source": [
    "### Working with Multiple Files "
   ]
  },
  {
   "cell_type": "raw",
   "id": "a412f221",
   "metadata": {},
   "source": [
    "create a function called count_words() so it will be easier to run the analysis for multiple books:"
   ]
  },
  {
   "cell_type": "code",
   "execution_count": 52,
   "id": "4ff9fdcb",
   "metadata": {},
   "outputs": [
    {
     "name": "stdout",
     "output_type": "stream",
     "text": [
      "The file alice.txt has about 29594 words.\n",
      "Sorry, the file siddhartha.txt does not exist\n",
      "The file moby_dick.txt has about 215864 words.\n",
      "The file little_women.txt has about 189142 words.\n"
     ]
    }
   ],
   "source": [
    "from pathlib import Path\n",
    "\n",
    "def count_words(path):\n",
    "    \"\"\"Count the approximate number of words in a file.\"\"\"\n",
    "    try:\n",
    "        contents = path.read_text(encoding='utf-8')\n",
    "    except FileNotFoundError:\n",
    "        print(f\"Sorry, the file {path} does not exist\")\n",
    "    else:\n",
    "        words = contents.split()\n",
    "        num_words = len(words)\n",
    "        print(f\"The file {path} has about {num_words} words.\")\n",
    "\n",
    "filenames = ['alice.txt','siddhartha.txt','moby_dick.txt',\n",
    "            'little_women.txt']\n",
    "for filename in filenames:\n",
    "    path = Path(filename)\n",
    "    count_words(path)"
   ]
  },
  {
   "cell_type": "markdown",
   "id": "20468eff",
   "metadata": {},
   "source": [
    "Using the try-except block provides two main advantages. We prevent our users from seeing a traceback. The program does not stop running after trying to analyze Siddhartha which does not exist and continue to analzye Moby Dick or Little Women. "
   ]
  },
  {
   "cell_type": "markdown",
   "id": "f28cc312",
   "metadata": {},
   "source": [
    "### Failing Silently "
   ]
  },
  {
   "cell_type": "markdown",
   "id": "0483364f",
   "metadata": {},
   "source": [
    "You don’t need to report every exception you catch. Sometimes, you’ll want the program to fail silently when an exception occurs and continue on as if nothing happened. use a *pass* statement that tells it to do nothing in the block."
   ]
  },
  {
   "cell_type": "code",
   "execution_count": 53,
   "id": "cbdb152d",
   "metadata": {},
   "outputs": [
    {
     "name": "stdout",
     "output_type": "stream",
     "text": [
      "The file alice.txt has about 29594 words.\n",
      "The file moby_dick.txt has about 215864 words.\n",
      "The file little_women.txt has about 189142 words.\n"
     ]
    }
   ],
   "source": [
    "from pathlib import Path\n",
    "\n",
    "def count_words(path):\n",
    "    \"\"\"Count the approximate number of words in a file.\"\"\"\n",
    "    try:\n",
    "        contents = path.read_text(encoding='utf-8')\n",
    "    except FileNotFoundError:\n",
    "        pass\n",
    "    else:\n",
    "        words = contents.split()\n",
    "        num_words = len(words)\n",
    "        print(f\"The file {path} has about {num_words} words.\")\n",
    "\n",
    "filenames = ['alice.txt','siddhartha.txt','moby_dick.txt',\n",
    "            'little_women.txt']\n",
    "for filename in filenames:\n",
    "    path = Path(filename)\n",
    "    count_words(path)"
   ]
  },
  {
   "cell_type": "markdown",
   "id": "0ebcb014",
   "metadata": {},
   "source": [
    "The pass statement also acts as a placeholder. It’s a reminder that you’re choosing to do nothing at a specific point in your program’s execution and that you might want to do something there later. "
   ]
  },
  {
   "cell_type": "markdown",
   "id": "a0772af0",
   "metadata": {},
   "source": [
    "### Deciding which errors to report "
   ]
  },
  {
   "cell_type": "markdown",
   "id": "41069b18",
   "metadata": {},
   "source": [
    "if users know which texts are supposed to be analyzed, they might appreciate a message informing them why some texts were not analyzed. if users expect to see results but dont have to know which books,  they might not need to know that some texts were unavailable. "
   ]
  },
  {
   "cell_type": "markdown",
   "id": "90acc431",
   "metadata": {},
   "source": [
    "**practice 3**"
   ]
  },
  {
   "cell_type": "markdown",
   "id": "46f9a2b8",
   "metadata": {},
   "source": [
    "**10-6/10.7 Addition**"
   ]
  },
  {
   "cell_type": "code",
   "execution_count": 61,
   "id": "b8b64751",
   "metadata": {},
   "outputs": [
    {
     "name": "stdout",
     "output_type": "stream",
     "text": [
      "please give the first number: 5\n",
      "please give the second number: r\n",
      "You cannot input the value that is not a number!\n",
      "please give the first number: q\n"
     ]
    }
   ],
   "source": [
    "while True: \n",
    "    try: \n",
    "        first = input(\"please give the first number: \")\n",
    "        if first.lower() == 'q':\n",
    "            break\n",
    "        first = int(first)\n",
    "        \n",
    "        second = input(\"please give the second number: \")\n",
    "        if second.lower() == 'q':\n",
    "            break\n",
    "        second = int(second)\n",
    "    except ValueError:\n",
    "        print(\"You cannot input the value that is not a number!\")\n",
    "    else:\n",
    "        result = first + second\n",
    "        print(f\"The sum of {first} and {second} is {result}\")"
   ]
  },
  {
   "cell_type": "markdown",
   "id": "de6c21a9",
   "metadata": {},
   "source": [
    "**10-8 Cats and Dogs** "
   ]
  },
  {
   "cell_type": "code",
   "execution_count": 62,
   "id": "45371e25",
   "metadata": {},
   "outputs": [
    {
     "data": {
      "text/plain": [
       "20"
      ]
     },
     "execution_count": 62,
     "metadata": {},
     "output_type": "execute_result"
    }
   ],
   "source": [
    "from pathlib import Path\n",
    "\n",
    "cats = 'Soju\\n'\n",
    "cats += 'Sakura\\n'\n",
    "cats += 'Shokung\\n'\n",
    "\n",
    "path = Path('cats.txt')\n",
    "path.write_text(cats)"
   ]
  },
  {
   "cell_type": "code",
   "execution_count": 63,
   "id": "a2661f51",
   "metadata": {},
   "outputs": [
    {
     "data": {
      "text/plain": [
       "22"
      ]
     },
     "execution_count": 63,
     "metadata": {},
     "output_type": "execute_result"
    }
   ],
   "source": [
    "dogs = 'Lucky\\n'\n",
    "dogs += 'Lovely\\n'\n",
    "dogs += 'Lalooloo\\n'\n",
    "\n",
    "path = Path('dogs.txt')\n",
    "path.write_text(dogs)"
   ]
  },
  {
   "cell_type": "code",
   "execution_count": 72,
   "id": "11a44918",
   "metadata": {},
   "outputs": [
    {
     "name": "stdout",
     "output_type": "stream",
     "text": [
      "\n",
      "Reading file: cats.txt\n",
      "Soju\n",
      "Sakura\n",
      "Shokung\n",
      "\n",
      "\n",
      "Reading file: dogs.txt\n",
      "the file is missing\n"
     ]
    }
   ],
   "source": [
    "files = ['cats.txt','dogs.txt']\n",
    "\n",
    "for file in files:\n",
    "    print(f\"\\nReading file: {file}\")\n",
    "    \n",
    "    path = Path(file)\n",
    "    try:\n",
    "        contents = path.read_text()\n",
    "    except FileNotFoundError:\n",
    "        print(\"the file is missing\")\n",
    "    else:\n",
    "        print(contents)"
   ]
  },
  {
   "cell_type": "markdown",
   "id": "09fb8858",
   "metadata": {},
   "source": [
    "**10-9** Silent Cats and Dogs"
   ]
  },
  {
   "cell_type": "code",
   "execution_count": 73,
   "id": "f1f3f552",
   "metadata": {},
   "outputs": [
    {
     "name": "stdout",
     "output_type": "stream",
     "text": [
      "\n",
      "Reading file: cats.txt\n",
      "Soju\n",
      "Sakura\n",
      "Shokung\n",
      "\n",
      "\n",
      "Reading file: dogs.txt\n"
     ]
    }
   ],
   "source": [
    "files = ['cats.txt','dogs.txt']\n",
    "\n",
    "for file in files:\n",
    "    print(f\"\\nReading file: {file}\")\n",
    "    \n",
    "    path = Path(file)\n",
    "    try:\n",
    "        contents = path.read_text()\n",
    "    except FileNotFoundError:\n",
    "        pass\n",
    "    else:\n",
    "        print(contents)"
   ]
  },
  {
   "cell_type": "markdown",
   "id": "03034799",
   "metadata": {},
   "source": [
    "**10-10** Common Words"
   ]
  },
  {
   "cell_type": "code",
   "execution_count": 84,
   "id": "1bfc0b6d",
   "metadata": {},
   "outputs": [
    {
     "name": "stdout",
     "output_type": "stream",
     "text": [
      "The alice.txt file contains the word 'the' approximately 2528 times\n"
     ]
    }
   ],
   "source": [
    "from pathlib import Path \n",
    "path = Path('alice.txt')\n",
    "\n",
    "try:\n",
    "    contents = path.read_text(encoding = 'utf-8')\n",
    "except FileNotFoundError:\n",
    "    print(\"Sorry, we cannot find the file!\")\n",
    "else:\n",
    "    number = contents.lower().count('the')\n",
    "    print(f\"The {path} file contains the word 'the' approximately {number} times\")"
   ]
  },
  {
   "cell_type": "markdown",
   "id": "27d20baf",
   "metadata": {},
   "source": [
    "## 10.4 Storing data "
   ]
  },
  {
   "cell_type": "markdown",
   "id": "7beb6140",
   "metadata": {},
   "source": [
    "the json module allows to convert simple Python data structures  into JSON-formatted strings, and then load the data from the file. Share data btw different Python programs. Share data you store in the JSON format with other programming languages "
   ]
  },
  {
   "cell_type": "markdown",
   "id": "b553bfdb",
   "metadata": {},
   "source": [
    "### Using json.dumps() to write the JSON file"
   ]
  },
  {
   "cell_type": "code",
   "execution_count": 92,
   "id": "09503d43",
   "metadata": {},
   "outputs": [
    {
     "data": {
      "text/plain": [
       "20"
      ]
     },
     "execution_count": 92,
     "metadata": {},
     "output_type": "execute_result"
    }
   ],
   "source": [
    "from pathlib import Path\n",
    "import json\n",
    "\n",
    "numbers = [2,3,4,7,11,13]\n",
    "\n",
    "path = Path('numbers.json')\n",
    "contents = json.dumps(numbers)\n",
    "path.write_text(contents)"
   ]
  },
  {
   "cell_type": "markdown",
   "id": "c1099b52",
   "metadata": {},
   "source": [
    "json.dumps() function takes one argument: a piece of data that should be converted to the JSON format. The function returns a string containing the JSON representation of the data and we can write it to a file."
   ]
  },
  {
   "cell_type": "code",
   "execution_count": 93,
   "id": "24d967d3",
   "metadata": {},
   "outputs": [
    {
     "data": {
      "text/plain": [
       "'[2, 3, 4, 7, 11, 13]'"
      ]
     },
     "execution_count": 93,
     "metadata": {},
     "output_type": "execute_result"
    }
   ],
   "source": [
    "contents"
   ]
  },
  {
   "cell_type": "markdown",
   "id": "3efc56de",
   "metadata": {},
   "source": [
    "### Using json.loads() to read JSON file**"
   ]
  },
  {
   "cell_type": "code",
   "execution_count": 87,
   "id": "00516823",
   "metadata": {},
   "outputs": [
    {
     "name": "stdout",
     "output_type": "stream",
     "text": [
      "[2, 3, 4, 7, 11, 13]\n"
     ]
    }
   ],
   "source": [
    "from pathlib import Path\n",
    "import json\n",
    "\n",
    "path = Path('numbers.json')\n",
    "contents = path.read_text()\n",
    "numbers = json.loads(contents)\n",
    "\n",
    "print(numbers)"
   ]
  },
  {
   "cell_type": "markdown",
   "id": "007d3c58",
   "metadata": {},
   "source": [
    "This function takes in a JSON-formatted string and returns a Python object."
   ]
  },
  {
   "cell_type": "markdown",
   "id": "af344127",
   "metadata": {},
   "source": [
    "### Saving and Reading User-Generated Data "
   ]
  },
  {
   "cell_type": "markdown",
   "id": "5bda7afd",
   "metadata": {},
   "source": [
    "saving data with json is useful when you are working with user-generated data, because if you dont store your user's information somehow, you will lose it when the program stops running."
   ]
  },
  {
   "cell_type": "code",
   "execution_count": 88,
   "id": "07ebede2",
   "metadata": {},
   "outputs": [
    {
     "name": "stdout",
     "output_type": "stream",
     "text": [
      "What is your name? Soju\n",
      "We'll remember you when you come back, Soju!\n"
     ]
    }
   ],
   "source": [
    "from pathlib import Path\n",
    "import json\n",
    "\n",
    "username = input(\"What is your name? \")\n",
    "\n",
    "path = Path('username.json')\n",
    "contents = json.dumps(username)\n",
    "path.write_text(contents)\n",
    "\n",
    "print(f\"We'll remember you when you come back, {username}!\")"
   ]
  },
  {
   "cell_type": "code",
   "execution_count": null,
   "id": "49b07e51",
   "metadata": {},
   "outputs": [],
   "source": [
    "from pathlib import Path\n",
    "import json\n",
    "\n",
    "path = Path('username.json')\n",
    "contents = path.read_text()\n",
    "username = json.loads(contents)\n",
    "\n",
    "print(f\"Welcome back, {username}!\")"
   ]
  },
  {
   "cell_type": "markdown",
   "id": "bb5e2ba4",
   "metadata": {},
   "source": [
    "Now we write a new program that greets a user whose name has already been stored:"
   ]
  },
  {
   "cell_type": "code",
   "execution_count": 94,
   "id": "d4e3c245",
   "metadata": {},
   "outputs": [
    {
     "name": "stdout",
     "output_type": "stream",
     "text": [
      "Welcome back, Soju!\n"
     ]
    }
   ],
   "source": [
    "from pathlib import Path\n",
    "import json\n",
    "\n",
    "path = Path('username.json')\n",
    "if path.exists():\n",
    "    contents = path.read_text()\n",
    "    username = json.loads(contents)\n",
    "    print(f\"Welcome back, {username}!\")\n",
    "else:\n",
    "    username = input(\"What is your name? \")\n",
    "    contents = json.dumps(username)\n",
    "    path.write_text(contents)\n",
    "    print(f\"We'll remember you when you come back, {username}!\")"
   ]
  },
  {
   "cell_type": "markdown",
   "id": "d0374905",
   "metadata": {},
   "source": [
    "we use **exists()** method returns True if a file or folder exists and False if it doesn't. if the file exists, we load username and print a personalized greeting to the user. if not, we prompt for a username and store the value that the user enters. "
   ]
  },
  {
   "cell_type": "markdown",
   "id": "699204e0",
   "metadata": {},
   "source": [
    "### Refactoring"
   ]
  },
  {
   "cell_type": "markdown",
   "id": "89997e44",
   "metadata": {},
   "source": [
    ": Improve the code by breaking it up into a series of functions that have specific jobs."
   ]
  },
  {
   "cell_type": "code",
   "execution_count": 95,
   "id": "d8661403",
   "metadata": {},
   "outputs": [
    {
     "name": "stdout",
     "output_type": "stream",
     "text": [
      "Welcome back, Soju!\n"
     ]
    }
   ],
   "source": [
    "from pathlib import Path\n",
    "import json\n",
    "\n",
    "def greet_user():\n",
    "    \"\"\"Greet the user by name.\"\"\"\n",
    "    path = Path('username.json')\n",
    "    if path.exists():\n",
    "        contents = path.read_text()\n",
    "        username = json.loads(contents)\n",
    "        print(f\"Welcome back, {username}!\")\n",
    "    else:\n",
    "        username = input(\"What is your name? \")\n",
    "        contents = json.dumps(username)\n",
    "        path.write_text(contents)\n",
    "        print(f\"We'll remember you when you come back, {username}!\")\n",
    "\n",
    "greet_user()\n",
    "    "
   ]
  },
  {
   "cell_type": "markdown",
   "id": "88434da6",
   "metadata": {},
   "source": [
    "it is a little cleaner but the function is doing more than just  greeting the user-it's also retrieving a stored username if one exists and also prompting for a new username if one doesn't."
   ]
  },
  {
   "cell_type": "code",
   "execution_count": 96,
   "id": "0afe3f50",
   "metadata": {},
   "outputs": [
    {
     "name": "stdout",
     "output_type": "stream",
     "text": [
      "Welcome back, Soju!\n"
     ]
    }
   ],
   "source": [
    "def get_stored_username(path):\n",
    "    \"\"\"Get stored username if available.\"\"\"\n",
    "    if path.exists():\n",
    "        contents = path.read_text()\n",
    "        username = json.loads(contents)\n",
    "        return username\n",
    "    else: \n",
    "        return None\n",
    "\n",
    "def greet_user():\n",
    "    \"\"\"Greet the user by name.\"\"\"\n",
    "    path = Path('username.json')\n",
    "    username = get_stored_username(path)\n",
    "    if username:\n",
    "        print(f\"Welcome back, {username}!\")\n",
    "    else:\n",
    "        username = input(\"What is you name? \")\n",
    "        contents = json.dumps(username)\n",
    "        path.write_text(contents)\n",
    "        print(f\"We'll remember you when you come back, {username}!\")\n",
    "\n",
    "greet_user()"
   ]
  },
  {
   "cell_type": "markdown",
   "id": "689aa28f",
   "metadata": {},
   "source": [
    "**get_stored_username()** has a clear purpose to retrieve a stored username and returns the username if it finds one. if the path that's passed does not exist, the function returns None. in the **greet_user()**, We print a welcome back message to the user if the attempt to retrieve a username is successful, but if not, we prompt for a new username (which we should dedicate this to another function)."
   ]
  },
  {
   "cell_type": "code",
   "execution_count": 97,
   "id": "4ad07c78",
   "metadata": {},
   "outputs": [
    {
     "name": "stdout",
     "output_type": "stream",
     "text": [
      "Welcome back, Soju!\n"
     ]
    }
   ],
   "source": [
    "def get_stored_username(path):\n",
    "    \"\"\"Get stored username if available.\"\"\"\n",
    "    if path.exists():\n",
    "        contents = path.read_text()\n",
    "        username = json.loads(contents)\n",
    "        return username\n",
    "    else: \n",
    "        return None\n",
    "    \n",
    "def get_new_username(path):\n",
    "    \"\"\"Prompt for a new username.\"\"\"\n",
    "    username = input(\"What is you name? \")\n",
    "    contents = json.dumps(username)\n",
    "    path.write_text(contents)\n",
    "    return username\n",
    "    \n",
    "    \n",
    "# main def that use (specify the path)\n",
    "\n",
    "def greet_user():\n",
    "    \"\"\"Greet the user by name.\"\"\"\n",
    "    path = Path('username.json')\n",
    "    username = get_stored_username(path)\n",
    "    if username:\n",
    "        print(f\"Welcome back, {username}!\")\n",
    "    else:\n",
    "        username = get_new_username(path)\n",
    "        print(f\"We'll remember you when you come back, {username}!\")\n",
    "       \n",
    "\n",
    "greet_user()"
   ]
  },
  {
   "cell_type": "markdown",
   "id": "a5dc057a",
   "metadata": {},
   "source": [
    "**greet_user**: welcomes back an existing user by calling **get_stored_username()** which responsible for retrieving a stored username if one exists. And calls **get_new_username()** which is reponsible only for getting a new username and storing it."
   ]
  },
  {
   "cell_type": "markdown",
   "id": "83d1d323",
   "metadata": {},
   "source": [
    "**Practice 4**"
   ]
  },
  {
   "cell_type": "markdown",
   "id": "eef90da6",
   "metadata": {},
   "source": [
    "**10-11: Favorite Number**"
   ]
  },
  {
   "cell_type": "code",
   "execution_count": 100,
   "id": "a4baeccb",
   "metadata": {},
   "outputs": [
    {
     "name": "stdout",
     "output_type": "stream",
     "text": [
      "Please type your favorite number: 27\n",
      "I know your favorite number! It's 27\n"
     ]
    }
   ],
   "source": [
    "from pathlib import Path\n",
    "import json\n",
    "\n",
    "number = input(\"Please type your favorite number: \")\n",
    "path = Path('fav_number.json')\n",
    "contents = json.dumps(number)\n",
    "path.write_text(contents)\n",
    "print(f\"I know your favorite number! It's {number}\")"
   ]
  },
  {
   "cell_type": "markdown",
   "id": "bdb28ff5",
   "metadata": {},
   "source": [
    "**10-12: Favorite Number Remembered**"
   ]
  },
  {
   "cell_type": "code",
   "execution_count": 102,
   "id": "34dcafd0",
   "metadata": {},
   "outputs": [
    {
     "name": "stdout",
     "output_type": "stream",
     "text": [
      "Please type your favorite number: 26\n",
      "Your favorite number is 26!\n"
     ]
    }
   ],
   "source": [
    "from pathlib import Path\n",
    "import json\n",
    "\n",
    "path = Path('fav_number.json')\n",
    "try:\n",
    "    contents = path.read_text() # contains only the code for filenotfounderror\n",
    "    \n",
    "except FileNotFoundError:\n",
    "    number = input(\"Please type your favorite number: \")\n",
    "    contents = json.dumps(number)\n",
    "    path.write_text(contents)\n",
    "    print(f\"Your favorite number is {number}!\")\n",
    "    \n",
    "else:\n",
    "    number = json.loads(contents) # should seperate it here\n",
    "    print(f\"Your favorite number is {number}!\")"
   ]
  },
  {
   "cell_type": "markdown",
   "id": "0e8d4eab",
   "metadata": {},
   "source": [
    "**10-13: User Dictionary**"
   ]
  },
  {
   "cell_type": "code",
   "execution_count": 119,
   "id": "b941a489",
   "metadata": {},
   "outputs": [
    {
     "name": "stdout",
     "output_type": "stream",
     "text": [
      "Welcome back, chen(25),analyst!\n"
     ]
    }
   ],
   "source": [
    "def get_stored_username(path):\n",
    "    \"\"\"Get stored username if available.\"\"\"\n",
    "    if path.exists():\n",
    "        contents = path.read_text()\n",
    "        user_dict = json.loads(contents)\n",
    "        return user_dict\n",
    "    else: \n",
    "        return None\n",
    "    \n",
    "def get_new_username(path):\n",
    "    \"\"\"Prompt for a new information from each user.\"\"\"\n",
    "    username = input(\"What is you name? \")\n",
    "    age = input(\"How old are you? \")\n",
    "    career = input(\"What do you do? \")\n",
    "    user_dict = {\n",
    "        'username':username,\n",
    "        'age':age,\n",
    "        'career':career\n",
    "    }\n",
    "    \n",
    "    contents = json.dumps(user_dict)\n",
    "    path.write_text(contents)\n",
    "    return user_dict\n",
    "        \n",
    "# main def that use (specify the path)\n",
    "\n",
    "def greet_user():\n",
    "    \"\"\"Greet the user by name.\"\"\"\n",
    "    path = Path('username_info.json')\n",
    "    user_dict = get_stored_username(path)\n",
    "    if user_dict:\n",
    "        print(f\"Welcome back, {user_dict['username']}({user_dict['age']}),{user_dict['career']}!\")\n",
    "    else:\n",
    "        user_dict = get_new_username(path)\n",
    "        print(f\"We'll remember you when you come back, {userdict['username']}!\")\n",
    "       \n",
    "\n",
    "greet_user()"
   ]
  },
  {
   "cell_type": "markdown",
   "id": "b214a3b0",
   "metadata": {},
   "source": [
    "**10-14: Verify User**"
   ]
  },
  {
   "cell_type": "code",
   "execution_count": 130,
   "id": "2188fd60",
   "metadata": {},
   "outputs": [
    {
     "name": "stdout",
     "output_type": "stream",
     "text": [
      "What is you name? chen\n",
      "How old are you? 25\n",
      "What do you do? analyst \n",
      "We'll remember you when you come back, chen!\n"
     ]
    }
   ],
   "source": [
    "def get_stored_username(path):\n",
    "    \"\"\"Get stored username if available.\"\"\"\n",
    "    if path.exists():\n",
    "        contents = path.read_text()\n",
    "        user_dict = json.loads(contents)\n",
    "        return user_dict\n",
    "    else: \n",
    "        return None\n",
    "    \n",
    "def get_new_username(path):\n",
    "    \"\"\"Prompt for a new information from each user.\"\"\"\n",
    "    username = input(\"What is you name? \")\n",
    "    age = input(\"How old are you? \")\n",
    "    career = input(\"What do you do? \")\n",
    "    user_dict = {\n",
    "        'username':username,\n",
    "        'age':age,\n",
    "        'career':career\n",
    "    }\n",
    "    \n",
    "    contents = json.dumps(user_dict)\n",
    "    path.write_text(contents)\n",
    "    return user_dict\n",
    "        \n",
    "# main def that use (specify the path)\n",
    "\n",
    "def greet_user():\n",
    "    \"\"\"Greet the user by name.\"\"\"\n",
    "    path = Path('username_info.json')\n",
    "    user_dict = get_stored_username(path)\n",
    "    if user_dict:\n",
    "        ask = input(f\"Please type y/n if {user_dict['username']} is your username or not \")\n",
    "        if ask == 'y':\n",
    "            print(f\"Welcome back, {user_dict['username']}({user_dict['age']}),{user_dict['career']}!\")\n",
    "        else:\n",
    "            user_dict = get_new_username(path)\n",
    "            print(f\"We'll remember you when you come back, {user_dict['username']}!\")\n",
    "    else: # when there is no existing file \n",
    "        user_dict = get_new_username(path)\n",
    "        print(f\"We'll remember you when you come back, {user_dict['username']}!\")\n",
    "       \n",
    "\n",
    "greet_user()"
   ]
  },
  {
   "cell_type": "markdown",
   "id": "1e1750ef",
   "metadata": {},
   "source": [
    "# Chapter 11 Testing your code"
   ]
  },
  {
   "cell_type": "markdown",
   "id": "b99d1ffd",
   "metadata": {},
   "source": [
    "Testing proves that your code works as it's supposed to in reponse to all the kinds of input it's designed to recevie"
   ]
  },
  {
   "cell_type": "code",
   "execution_count": 136,
   "id": "cff53e41",
   "metadata": {},
   "outputs": [
    {
     "name": "stdout",
     "output_type": "stream",
     "text": [
      "Writing name_function.py\n"
     ]
    }
   ],
   "source": [
    "%%writefile name_function.py\n",
    "def get_formatted_name(first,last):\n",
    "    \"\"\"Generate a neatly formatted full name.\"\"\"\n",
    "    full_name = f\"{first} {last}\"\n",
    "    return full_name.title()"
   ]
  },
  {
   "cell_type": "code",
   "execution_count": 139,
   "id": "16d1d2d4",
   "metadata": {},
   "outputs": [
    {
     "name": "stdout",
     "output_type": "stream",
     "text": [
      "Enter 'q' at any time to quit.\n",
      "\n",
      "Please give me a first name: joe\n",
      "please give me a last name: biden\n",
      "\tNeatly formatted name: Joe Biden.\n",
      "\n",
      "Please give me a first name: q\n"
     ]
    }
   ],
   "source": [
    "from name_function import get_formatted_name\n",
    "\n",
    "print(\"Enter 'q' at any time to quit.\")\n",
    "while True:\n",
    "    first = input(\"\\nPlease give me a first name: \")\n",
    "    if first == 'q':\n",
    "        break\n",
    "    last = input(\"please give me a last name: \")\n",
    "    if last == 'q':\n",
    "        break\n",
    "    formatted_name = get_formatted_name(first, last)\n",
    "    print(f\"\\tNeatly formatted name: {formatted_name}.\")"
   ]
  },
  {
   "cell_type": "markdown",
   "id": "2445f269",
   "metadata": {},
   "source": [
    "## Unit Tests and Test Cases "
   ]
  },
  {
   "cell_type": "markdown",
   "id": "cae08654",
   "metadata": {},
   "source": [
    "A *unit test* verifies that one specific aspect of a function's behavior is correct. A *test case* is a collection of unit tests that test within the full range of situations. \n",
    "write tests for your code's critical behaviors and then aim for full coverage only if the project starts to see widespread use."
   ]
  },
  {
   "cell_type": "markdown",
   "id": "93b4576b",
   "metadata": {},
   "source": [
    "## A Passing Test"
   ]
  },
  {
   "cell_type": "code",
   "execution_count": null,
   "id": "8a0e0ca5",
   "metadata": {},
   "outputs": [],
   "source": [
    "%%writefile test_name_function.py\n",
    "\n",
    "from name_function import get_formatted_name\n",
    "\n",
    "def test_first_last_name():\n",
    "    \"\"\"Do names like 'Janis Joplin' work?\"\"\"\n",
    "    formatted_name = get_formatted_name('janis','joplin')\n",
    "    assert formatted_name == 'Janis Joplin'"
   ]
  },
  {
   "cell_type": "markdown",
   "id": "4d94853c",
   "metadata": {},
   "source": [
    "- name of the test file must start with test_ to be discovered by pytest.\n",
    "- we call a function we testing and assign the arguments.\n",
    "- an assertion is a claim about a condition which we claimed that the value of formatted_name should be 'Janis Joplin'"
   ]
  },
  {
   "cell_type": "markdown",
   "id": "f8be5d23",
   "metadata": {},
   "source": [
    "## Running a Test"
   ]
  },
  {
   "cell_type": "markdown",
   "id": "c0507175",
   "metadata": {},
   "source": [
    "However, I found out that ipytest can be used with testing the codes in the interative notebook. \n",
    "- The con of pytest is it will find any test function ever defined. This behavior can lead to unexpected results when test functions are renamed, as their previous definition is still available inside the kernel. \n",
    "- Running %%ipytest per default deletes any previously defined tests. As an alternative the ipytest.clean() function allows to delete previously defined tests. For more infor: https://pypi.org/project/ipytest/#reference"
   ]
  },
  {
   "cell_type": "code",
   "execution_count": 3,
   "id": "d193992d",
   "metadata": {},
   "outputs": [],
   "source": [
    "import ipytest\n",
    "ipytest.autoconfig()"
   ]
  },
  {
   "cell_type": "code",
   "execution_count": 155,
   "id": "b906c8fd",
   "metadata": {},
   "outputs": [
    {
     "name": "stdout",
     "output_type": "stream",
     "text": [
      "\u001b[32m.\u001b[0m\u001b[32m                                                                                            [100%]\u001b[0m\n",
      "\u001b[32m\u001b[32m\u001b[1m1 passed\u001b[0m\u001b[32m in 0.01s\u001b[0m\u001b[0m\n"
     ]
    }
   ],
   "source": [
    "%%ipytest \n",
    "\n",
    "def test_first_last_name():\n",
    "    \"\"\"Do names like 'Janis Joplin' work?\"\"\"\n",
    "    formatted_name = get_formatted_name('janis','joplin')\n",
    "    assert formatted_name == 'Janis Joplin'"
   ]
  },
  {
   "cell_type": "markdown",
   "id": "96717080",
   "metadata": {},
   "source": [
    "## A Failing Test "
   ]
  },
  {
   "cell_type": "code",
   "execution_count": 156,
   "id": "9975b9e3",
   "metadata": {},
   "outputs": [],
   "source": [
    "def get_formatted_name(first,middle,last):\n",
    "    \"\"\"Generate a neatly formatted full name.\"\"\"\n",
    "    full_name = f\"{first} {middle} {last}\"\n",
    "    return full_name.title()"
   ]
  },
  {
   "cell_type": "code",
   "execution_count": 157,
   "id": "eb8e1444",
   "metadata": {},
   "outputs": [
    {
     "name": "stdout",
     "output_type": "stream",
     "text": [
      "\u001b[31mF\u001b[0m\u001b[31m                                                                                            [100%]\u001b[0m\n",
      "============================================= FAILURES =============================================\n",
      "\u001b[31m\u001b[1m_______________________________________ test_first_last_name _______________________________________\u001b[0m\n",
      "\n",
      "    \u001b[0m\u001b[94mdef\u001b[39;49;00m \u001b[92mtest_first_last_name\u001b[39;49;00m():\u001b[90m\u001b[39;49;00m\n",
      "    \u001b[90m    \u001b[39;49;00m\u001b[33m\"\"\"Do names like 'Janis Joplin' work?\"\"\"\u001b[39;49;00m\u001b[90m\u001b[39;49;00m\n",
      ">       formatted_name = get_formatted_name(\u001b[33m'\u001b[39;49;00m\u001b[33mjanis\u001b[39;49;00m\u001b[33m'\u001b[39;49;00m,\u001b[33m'\u001b[39;49;00m\u001b[33mjoplin\u001b[39;49;00m\u001b[33m'\u001b[39;49;00m)\u001b[90m\u001b[39;49;00m\n",
      "\u001b[1m\u001b[31mE       TypeError: get_formatted_name() missing 1 required positional argument: 'last'\u001b[0m\n",
      "\n",
      "\u001b[1m\u001b[31m/var/folders/zx/cpmyk6wn33ng6rh8l9pn143r0000gp/T/ipykernel_32918/2924426335.py\u001b[0m:3: TypeError\n",
      "\u001b[36m\u001b[1m===================================== short test summary info ======================================\u001b[0m\n",
      "\u001b[31mFAILED\u001b[0m t_c6a6cb6adf8e47ff8756ecff60fc0522.py::\u001b[1mtest_first_last_name\u001b[0m - TypeError: get_formatted_name() missing 1 required positional argument: 'last'\n",
      "\u001b[31m\u001b[31m\u001b[1m1 failed\u001b[0m\u001b[31m in 0.06s\u001b[0m\u001b[0m\n"
     ]
    }
   ],
   "source": [
    "%%ipytest \n",
    "\n",
    "def test_first_last_name():\n",
    "    \"\"\"Do names like 'Janis Joplin' work?\"\"\"\n",
    "    formatted_name = get_formatted_name('janis','joplin')\n",
    "    assert formatted_name == 'Janis Joplin'"
   ]
  },
  {
   "cell_type": "markdown",
   "id": "8c50f1e5",
   "metadata": {},
   "source": [
    "The E on the next line 5 shows the actual error that caused the failure: a TypeError due to a missing required positional argument, last."
   ]
  },
  {
   "cell_type": "markdown",
   "id": "e1346feb",
   "metadata": {},
   "source": [
    "## Respoding to a Failed test "
   ]
  },
  {
   "cell_type": "markdown",
   "id": "1ab3203e",
   "metadata": {},
   "source": [
    "The test fails because there's an error in the code. SO FIX YOUR CODE not the test! From our example, we can make middle name optional."
   ]
  },
  {
   "cell_type": "code",
   "execution_count": 163,
   "id": "a8284cf2",
   "metadata": {},
   "outputs": [],
   "source": [
    "def get_formatted_name(first,last,middle=''):\n",
    "    \"\"\"Generate a neatly full name.\"\"\"\n",
    "    if middle:\n",
    "        full_name = f\"{first} {middle} {last}\"\n",
    "    else:\n",
    "        full_name = f\"{first} {last}\"\n",
    "    return full_name.title()"
   ]
  },
  {
   "cell_type": "markdown",
   "id": "2f4e6bfd",
   "metadata": {},
   "source": [
    "We move the parameter middle to the end of the parameter list and give it an empty default value. We also add an if test to build the full name properly."
   ]
  },
  {
   "cell_type": "code",
   "execution_count": 164,
   "id": "a16a9d3e",
   "metadata": {},
   "outputs": [
    {
     "name": "stdout",
     "output_type": "stream",
     "text": [
      "\u001b[32m.\u001b[0m\u001b[32m                                                                                            [100%]\u001b[0m\n",
      "\u001b[32m\u001b[32m\u001b[1m1 passed\u001b[0m\u001b[32m in 0.01s\u001b[0m\u001b[0m\n"
     ]
    }
   ],
   "source": [
    "%%ipytest \n",
    "\n",
    "def test_first_last_name():\n",
    "    \"\"\"Do names like 'Janis Joplin' work?\"\"\"\n",
    "    formatted_name = get_formatted_name('janis','joplin')\n",
    "    assert formatted_name == 'Janis Joplin'"
   ]
  },
  {
   "cell_type": "code",
   "execution_count": 167,
   "id": "f1169348",
   "metadata": {},
   "outputs": [
    {
     "name": "stdout",
     "output_type": "stream",
     "text": [
      "\u001b[32m.\u001b[0m\u001b[32m                                                                                            [100%]\u001b[0m\n",
      "\u001b[32m\u001b[32m\u001b[1m1 passed\u001b[0m\u001b[32m in 0.01s\u001b[0m\u001b[0m\n"
     ]
    }
   ],
   "source": [
    "%%ipytest \n",
    "\n",
    "def test_first_last_middle_name():\n",
    "    \"\"\"Do names lik 'Wolfgang Amadeus Mozart' work?\"\"\"\n",
    "    formatted_name = get_formatted_name('wolfgang','mozart','amadeus')\n",
    "    assert formatted_name == 'Wolfgang Amadeus Mozart'"
   ]
  },
  {
   "cell_type": "markdown",
   "id": "98f899c0",
   "metadata": {},
   "source": [
    "**Practice 1**"
   ]
  },
  {
   "cell_type": "markdown",
   "id": "fd861a47",
   "metadata": {},
   "source": [
    "**11-1. City, Country:**"
   ]
  },
  {
   "cell_type": "code",
   "execution_count": 11,
   "id": "c6ed9166",
   "metadata": {},
   "outputs": [
    {
     "name": "stdout",
     "output_type": "stream",
     "text": [
      "Overwriting city_functions.py\n"
     ]
    }
   ],
   "source": [
    "%%writefile city_functions.py \n",
    "\n",
    "def city_name(city,country):\n",
    "    \"\"\"formatted the name of the city and country\"\"\"\n",
    "    name = f\"{city.title()}, {country.title()}\"\n",
    "    return name"
   ]
  },
  {
   "cell_type": "code",
   "execution_count": 13,
   "id": "b8e71e84",
   "metadata": {},
   "outputs": [],
   "source": [
    "from city_functions import city_name"
   ]
  },
  {
   "cell_type": "code",
   "execution_count": 14,
   "id": "d53809e7",
   "metadata": {},
   "outputs": [
    {
     "name": "stdout",
     "output_type": "stream",
     "text": [
      "\u001b[32m.\u001b[0m\u001b[32m                                                                                            [100%]\u001b[0m\n",
      "\u001b[32m\u001b[32m\u001b[1m1 passed\u001b[0m\u001b[32m in 0.01s\u001b[0m\u001b[0m\n"
     ]
    }
   ],
   "source": [
    "%%ipytest \n",
    "\n",
    "def test_city_country():\n",
    "    \"\"\"verify the function with Santiago, Chile\"\"\"\n",
    "    get_name = city_name('santiago','chile')\n",
    "    assert get_name == 'Santiago, Chile'"
   ]
  },
  {
   "cell_type": "markdown",
   "id": "125d66e2",
   "metadata": {},
   "source": [
    "**11.2 Population:**"
   ]
  },
  {
   "cell_type": "code",
   "execution_count": 1,
   "id": "ee5f9b4f",
   "metadata": {},
   "outputs": [],
   "source": [
    "import ipytest\n",
    "ipytest.autoconfig()"
   ]
  },
  {
   "cell_type": "code",
   "execution_count": 2,
   "id": "df15dcb3",
   "metadata": {},
   "outputs": [
    {
     "name": "stdout",
     "output_type": "stream",
     "text": [
      "Overwriting city_functions.py\n"
     ]
    }
   ],
   "source": [
    "%%writefile city_functions.py \n",
    "\n",
    "def city_name(city,country,population):\n",
    "    \"\"\"formatted the name of the city, country, population\"\"\"\n",
    "    city_country = f\"{city.title()}, {country.title()} - population {population}\"\n",
    "    return city_country"
   ]
  },
  {
   "cell_type": "code",
   "execution_count": 3,
   "id": "2e8b3d15",
   "metadata": {},
   "outputs": [],
   "source": [
    "from city_functions import city_name"
   ]
  },
  {
   "cell_type": "code",
   "execution_count": 4,
   "id": "d5c8356b",
   "metadata": {},
   "outputs": [
    {
     "name": "stdout",
     "output_type": "stream",
     "text": [
      "\u001b[31mF\u001b[0m\u001b[31m                                                                                            [100%]\u001b[0m\n",
      "============================================= FAILURES =============================================\n",
      "\u001b[31m\u001b[1m________________________________________ test_city_country _________________________________________\u001b[0m\n",
      "\n",
      "    \u001b[0m\u001b[94mdef\u001b[39;49;00m \u001b[92mtest_city_country\u001b[39;49;00m():\u001b[90m\u001b[39;49;00m\n",
      "    \u001b[90m    \u001b[39;49;00m\u001b[33m\"\"\"verify the function with Santiago, Chile\"\"\"\u001b[39;49;00m\u001b[90m\u001b[39;49;00m\n",
      ">       get_name = city_name(\u001b[33m'\u001b[39;49;00m\u001b[33msantiago\u001b[39;49;00m\u001b[33m'\u001b[39;49;00m,\u001b[33m'\u001b[39;49;00m\u001b[33mchile\u001b[39;49;00m\u001b[33m'\u001b[39;49;00m)\u001b[90m\u001b[39;49;00m\n",
      "\u001b[1m\u001b[31mE       TypeError: city_name() missing 1 required positional argument: 'population'\u001b[0m\n",
      "\n",
      "\u001b[1m\u001b[31m/var/folders/zx/cpmyk6wn33ng6rh8l9pn143r0000gp/T/ipykernel_3169/2887095555.py\u001b[0m:3: TypeError\n",
      "\u001b[36m\u001b[1m===================================== short test summary info ======================================\u001b[0m\n",
      "\u001b[31mFAILED\u001b[0m t_2aa3cfb9b4dc4fa1a590faedb99d85a9.py::\u001b[1mtest_city_country\u001b[0m - TypeError: city_name() missing 1 required positional argument: 'population'\n",
      "\u001b[31m\u001b[31m\u001b[1m1 failed\u001b[0m\u001b[31m in 0.13s\u001b[0m\u001b[0m\n"
     ]
    }
   ],
   "source": [
    "%%ipytest \n",
    "\n",
    "def test_city_country():\n",
    "    \"\"\"verify the function with Santiago, Chile\"\"\"\n",
    "    get_name = city_name('santiago','chile')\n",
    "    assert get_name == 'Santiago, Chile'"
   ]
  },
  {
   "cell_type": "code",
   "execution_count": 9,
   "id": "25186c85",
   "metadata": {},
   "outputs": [
    {
     "name": "stdout",
     "output_type": "stream",
     "text": [
      "Overwriting city_functions.py\n"
     ]
    }
   ],
   "source": [
    "%%writefile city_functions.py \n",
    "\n",
    "def city_name(city,country,population=0):\n",
    "    \"\"\"formatted the name of the city, country, population\"\"\"\n",
    "    if population:\n",
    "        city_country = f\"{city.title()}, {country.title()} - population {population}\"\n",
    "    else:\n",
    "        city_country = f\"{city.title()}, {country.title()}\"\n",
    "    return city_country"
   ]
  },
  {
   "cell_type": "code",
   "execution_count": 13,
   "id": "08725b26",
   "metadata": {},
   "outputs": [],
   "source": [
    "from city_functions import city_name"
   ]
  },
  {
   "cell_type": "code",
   "execution_count": 14,
   "id": "223f576a",
   "metadata": {},
   "outputs": [
    {
     "name": "stdout",
     "output_type": "stream",
     "text": [
      "\u001b[31mF\u001b[0m\u001b[31m                                                                                            [100%]\u001b[0m\n",
      "============================================= FAILURES =============================================\n",
      "\u001b[31m\u001b[1m________________________________________ test_city_country _________________________________________\u001b[0m\n",
      "\n",
      "    \u001b[0m\u001b[94mdef\u001b[39;49;00m \u001b[92mtest_city_country\u001b[39;49;00m():\u001b[90m\u001b[39;49;00m\n",
      "    \u001b[90m    \u001b[39;49;00m\u001b[33m\"\"\"verify the function with Santiago, Chile optional pop\"\"\"\u001b[39;49;00m\u001b[90m\u001b[39;49;00m\n",
      ">       get_name = city_name(\u001b[33m'\u001b[39;49;00m\u001b[33msantiago\u001b[39;49;00m\u001b[33m'\u001b[39;49;00m,\u001b[33m'\u001b[39;49;00m\u001b[33mchile\u001b[39;49;00m\u001b[33m'\u001b[39;49;00m)\u001b[90m\u001b[39;49;00m\n",
      "\u001b[1m\u001b[31mE       TypeError: city_name() missing 1 required positional argument: 'population'\u001b[0m\n",
      "\n",
      "\u001b[1m\u001b[31m/var/folders/zx/cpmyk6wn33ng6rh8l9pn143r0000gp/T/ipykernel_3169/638781986.py\u001b[0m:3: TypeError\n",
      "\u001b[36m\u001b[1m===================================== short test summary info ======================================\u001b[0m\n",
      "\u001b[31mFAILED\u001b[0m t_2aa3cfb9b4dc4fa1a590faedb99d85a9.py::\u001b[1mtest_city_country\u001b[0m - TypeError: city_name() missing 1 required positional argument: 'population'\n",
      "\u001b[31m\u001b[31m\u001b[1m1 failed\u001b[0m\u001b[31m in 0.01s\u001b[0m\u001b[0m\n"
     ]
    }
   ],
   "source": [
    "%%ipytest \n",
    "\n",
    "def test_city_country():\n",
    "    \"\"\"verify the function with Santiago, Chile optional pop\"\"\"\n",
    "    get_name = city_name('santiago','chile')\n",
    "    assert get_name == 'Santiago, Chile'"
   ]
  },
  {
   "cell_type": "code",
   "execution_count": 12,
   "id": "c8765d69",
   "metadata": {},
   "outputs": [
    {
     "name": "stdout",
     "output_type": "stream",
     "text": [
      "\u001b[32m.\u001b[0m\u001b[32m                                                                                            [100%]\u001b[0m\n",
      "\u001b[32m\u001b[32m\u001b[1m1 passed\u001b[0m\u001b[32m in 0.01s\u001b[0m\u001b[0m\n"
     ]
    }
   ],
   "source": [
    "%%ipytest \n",
    "\n",
    "def test_city_country_population():\n",
    "    \"\"\"verify the function with Santiago, Chile\"\"\"\n",
    "    get_name = city_name('santiago','chile',5_000_000)\n",
    "    assert get_name == 'Santiago, Chile - population 5000000'"
   ]
  },
  {
   "cell_type": "markdown",
   "id": "d1d2e17a",
   "metadata": {},
   "source": [
    "## Testing a Class"
   ]
  },
  {
   "cell_type": "markdown",
   "id": "da6dc633",
   "metadata": {},
   "source": [
    "**An assertion** is a statement used to declare that a certain condition must be true at a specific point in the program's execution. It is a debugging aid that tests assumptions made by the programmer."
   ]
  },
  {
   "cell_type": "markdown",
   "id": "dfa3bd86",
   "metadata": {},
   "source": [
    "### A class to test"
   ]
  },
  {
   "cell_type": "code",
   "execution_count": 3,
   "id": "89a929a1",
   "metadata": {},
   "outputs": [
    {
     "name": "stdout",
     "output_type": "stream",
     "text": [
      "Overwriting survey.py\n"
     ]
    }
   ],
   "source": [
    "%%writefile survey.py\n",
    "class AnonymousSurvey:\n",
    "    \"\"\"Collect anonymous answers to a survey question.\"\"\"\n",
    "    \n",
    "    def __init__(self,question):\n",
    "        \"\"\"Store a question, and prepare to store responses.\"\"\"\n",
    "        self.question = question\n",
    "        self.responses = []\n",
    "    \n",
    "    def show_question(self):\n",
    "        \"\"\"Show the survey question.\"\"\"\n",
    "        print(self.question)\n",
    "        \n",
    "    def store_response(self,new_response):\n",
    "        \"\"\"Store a single response to the survey.\"\"\"\n",
    "        self.responses.append(new_response)\n",
    "    \n",
    "    def show_results(self):\n",
    "        \"\"\"Show all the responses that have been given.\"\"\"\n",
    "        print(\"Survey results\")\n",
    "        for response in self.responses:\n",
    "            print(f\"-{response}\")"
   ]
  },
  {
   "cell_type": "code",
   "execution_count": 4,
   "id": "1d6d0b2d",
   "metadata": {},
   "outputs": [
    {
     "name": "stdout",
     "output_type": "stream",
     "text": [
      "What language did you first learn to speak?\n",
      "Enter 'q' at any time to quit.\n",
      "\n",
      "Language: Thai\n",
      "Language: English\n",
      "Language: Mandarin\n",
      "Language: q\n",
      "\n",
      "Thank you to everyone who participated in the survey!\n",
      "Survey results\n",
      "-Thai\n",
      "-English\n",
      "-Mandarin\n"
     ]
    }
   ],
   "source": [
    "from survey import AnonymousSurvey\n",
    "# Define a question, and make a survey.\n",
    "question = \"What language did you first learn to speak?\"\n",
    "language_survey = AnonymousSurvey(question)\n",
    "\n",
    "language_survey.show_question()\n",
    "print(\"Enter 'q' at any time to quit.\\n\")\n",
    "while True:\n",
    "    response = input(\"Language: \")\n",
    "    if response == 'q':\n",
    "        break\n",
    "    language_survey.store_response(response)\n",
    "    \n",
    "# show the survey results.\n",
    "print(\"\\nThank you to everyone who participated in the survey!\")\n",
    "language_survey.show_results()"
   ]
  },
  {
   "cell_type": "markdown",
   "id": "d3dd4e47",
   "metadata": {},
   "source": [
    "### Testing the AnonymousSurvey Class"
   ]
  },
  {
   "cell_type": "code",
   "execution_count": 5,
   "id": "90df6b38",
   "metadata": {},
   "outputs": [],
   "source": [
    "from survey import AnonymousSurvey\n",
    "import ipytest\n",
    "ipytest.autoconfig()"
   ]
  },
  {
   "cell_type": "code",
   "execution_count": 6,
   "id": "ff00bf12",
   "metadata": {},
   "outputs": [
    {
     "name": "stdout",
     "output_type": "stream",
     "text": [
      "\u001b[32m.\u001b[0m\u001b[32m                                                                                            [100%]\u001b[0m\n",
      "\u001b[32m\u001b[32m\u001b[1m1 passed\u001b[0m\u001b[32m in 0.01s\u001b[0m\u001b[0m\n"
     ]
    }
   ],
   "source": [
    "%%ipytest \n",
    "def test_store_single_response():\n",
    "    \"\"\"Test that a single response is stored properly\"\"\"\n",
    "    question = \"What language did you first learn to speak?\"\n",
    "    language_survey = AnonymousSurvey(question)\n",
    "    language_survey.store_response('English')\n",
    "    assert 'English' in language_survey.responses"
   ]
  },
  {
   "cell_type": "code",
   "execution_count": 7,
   "id": "db0aa210",
   "metadata": {},
   "outputs": [
    {
     "name": "stdout",
     "output_type": "stream",
     "text": [
      "\u001b[32m.\u001b[0m\u001b[32m                                                                                            [100%]\u001b[0m\n",
      "\u001b[32m\u001b[32m\u001b[1m1 passed\u001b[0m\u001b[32m in 0.01s\u001b[0m\u001b[0m\n"
     ]
    }
   ],
   "source": [
    "%%ipytest\n",
    "def test_store_three_responses():\n",
    "    \"\"\"Test that three individual responses are stored properly.\"\"\"\n",
    "    question = \"What language did you first learn to speak?\"\n",
    "    language_survey = AnonymousSurvey(question)\n",
    "    responses = ['English','Spanish','Mandarin']\n",
    "    for response in responses:\n",
    "        language_survey.store_response(response)\n",
    "    \n",
    "    for response in responses:\n",
    "        assert response in language_survey.responses"
   ]
  },
  {
   "cell_type": "markdown",
   "id": "db721f5a",
   "metadata": {},
   "source": [
    "We verify that three responses can be stored correctly. This works well. However, these tests are a bit repetitive. We will use another feature to m "
   ]
  },
  {
   "cell_type": "markdown",
   "id": "25813d1c",
   "metadata": {},
   "source": [
    "### Using fixtures"
   ]
  },
  {
   "cell_type": "code",
   "execution_count": 12,
   "id": "7329ac13",
   "metadata": {},
   "outputs": [],
   "source": [
    "import pytest\n",
    "\n",
    "@pytest.fixture\n",
    "def language_survey():\n",
    "    \"\"\"A survey to test all test functions\"\"\"\n",
    "    question = \"What language did you first learn to speak?\"\n",
    "    language_survey = AnonymousSurvey(question)\n",
    "    return language_survey\n",
    "\n",
    "def test_store_single_response():\n",
    "    \"\"\"Test that a single response is stored properly\"\"\"\n",
    "    language_survey.store_response('English')\n",
    "    assert 'English' in language_survey.responses\n",
    "\n",
    "def test_store_three_responses():\n",
    "    \"\"\"Test that three individual responses are stored properly.\"\"\"\n",
    "    responses = ['English','Spanish','Mandarin']\n",
    "    for response in responses:\n",
    "        language_survey.store_response(response)\n",
    "    \n",
    "    for response in responses:\n",
    "        assert response in language_survey.responses"
   ]
  },
  {
   "cell_type": "markdown",
   "id": "18428c20",
   "metadata": {},
   "source": [
    "When you want to write a fixture, write a function that generates the resource that’s used by multiple test functions. Add the @pytest.fixture decorator to the new function, and add the name of this function as a parameter for each test function that uses this resource. Your tests will be shorter and easier to write and maintain from that point forward."
   ]
  },
  {
   "cell_type": "markdown",
   "id": "38248076",
   "metadata": {},
   "source": [
    "**Practice 2**"
   ]
  },
  {
   "cell_type": "markdown",
   "id": "9a347dfb",
   "metadata": {},
   "source": [
    "**11-3 Employee**"
   ]
  },
  {
   "cell_type": "code",
   "execution_count": 17,
   "id": "bc26a627",
   "metadata": {},
   "outputs": [
    {
     "name": "stdout",
     "output_type": "stream",
     "text": [
      "Writing employee.py\n"
     ]
    }
   ],
   "source": [
    "%%writefile employee.py\n",
    "class Employee:\n",
    "    \"\"\"\"\"\"\n",
    "    def __init__(self,first_name,last_name,salary):\n",
    "        \"\"\"store name and salary\"\"\"\n",
    "        self.first_name = first_name\n",
    "        self.last_name = last_name\n",
    "        self.salary = salary\n",
    "        \n",
    "    def give_raise(self,increase_raise=5000):\n",
    "        \"\"\"increase the raise\"\"\"\n",
    "        self.salary = increase_raise + self.salary"
   ]
  },
  {
   "cell_type": "code",
   "execution_count": null,
   "id": "808479cb",
   "metadata": {},
   "outputs": [],
   "source": [
    "from employee import Employee"
   ]
  },
  {
   "cell_type": "code",
   "execution_count": 31,
   "id": "0cc14551",
   "metadata": {},
   "outputs": [
    {
     "name": "stdout",
     "output_type": "stream",
     "text": [
      "\u001b[32m.\u001b[0m\u001b[32m.\u001b[0m\u001b[32m                                                                                           [100%]\u001b[0m\n",
      "\u001b[32m\u001b[32m\u001b[1m2 passed\u001b[0m\u001b[32m in 0.01s\u001b[0m\u001b[0m\n"
     ]
    }
   ],
   "source": [
    "%%ipytest \n",
    "\n",
    "def test_give_default_raise():\n",
    "    \"\"\"Test the default raise\"\"\"\n",
    "    em = Employee('Jane','Doe',120000)\n",
    "    em.give_raise()\n",
    "    assert em.salary == 125000\n",
    "    \n",
    "def test_give_custom_raise():\n",
    "    \"\"\"Test the custom raise\"\"\"\n",
    "    em = Employee('John','Doe',120000)\n",
    "    em.give_raise(increase_raise = 2000)\n",
    "    assert em.salary == 122000"
   ]
  },
  {
   "cell_type": "code",
   "execution_count": null,
   "id": "a1c30e7a",
   "metadata": {},
   "outputs": [],
   "source": []
  }
 ],
 "metadata": {
  "kernelspec": {
   "display_name": "Python 3 (ipykernel)",
   "language": "python",
   "name": "python3"
  },
  "language_info": {
   "codemirror_mode": {
    "name": "ipython",
    "version": 3
   },
   "file_extension": ".py",
   "mimetype": "text/x-python",
   "name": "python",
   "nbconvert_exporter": "python",
   "pygments_lexer": "ipython3",
   "version": "3.8.18"
  }
 },
 "nbformat": 4,
 "nbformat_minor": 5
}
