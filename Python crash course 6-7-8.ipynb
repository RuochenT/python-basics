{
 "cells": [
  {
   "cell_type": "markdown",
   "id": "dff33adc",
   "metadata": {},
   "source": [
    "# Chapter 6: Dictionaries "
   ]
  },
  {
   "cell_type": "markdown",
   "id": "bad2611c",
   "metadata": {},
   "source": [
    "## 1. Working with dictionaries\n",
    "a key-value pairs. Can use a key to access the value associated with the key."
   ]
  },
  {
   "cell_type": "markdown",
   "id": "37fdf05a",
   "metadata": {},
   "source": [
    "**Creating and accessing the values**"
   ]
  },
  {
   "cell_type": "code",
   "execution_count": 1,
   "id": "33aa099a",
   "metadata": {},
   "outputs": [
    {
     "name": "stdout",
     "output_type": "stream",
     "text": [
      "green\n"
     ]
    }
   ],
   "source": [
    "alien_0 = {'color':'green','points':5}\n",
    "print(alien_0['color'])"
   ]
  },
  {
   "cell_type": "code",
   "execution_count": 4,
   "id": "f2d991f5",
   "metadata": {},
   "outputs": [
    {
     "name": "stdout",
     "output_type": "stream",
     "text": [
      "You just earned 5 points!\n"
     ]
    }
   ],
   "source": [
    "new_points = alien_0['points']\n",
    "print(f\"You just earned {new_points} points!\")"
   ]
  },
  {
   "cell_type": "markdown",
   "id": "ea8f1f59",
   "metadata": {},
   "source": [
    "**Adding new key-value pairs** "
   ]
  },
  {
   "cell_type": "code",
   "execution_count": 5,
   "id": "416543f0",
   "metadata": {},
   "outputs": [
    {
     "name": "stdout",
     "output_type": "stream",
     "text": [
      "{'color': 'green', 'points': 5, 'x_position': 0, 'y_position': 25}\n"
     ]
    }
   ],
   "source": [
    "alien_0['x_position'] = 0\n",
    "alien_0['y_position'] = 25\n",
    "print(alien_0)"
   ]
  },
  {
   "cell_type": "markdown",
   "id": "82408878",
   "metadata": {},
   "source": [
    "**Starting with an Empty dictionary**\n",
    "\n",
    "Will use empty dictionaries when storing user-supplied data in a dictionary or when writing code that generates a large number of key-value pairs automatically."
   ]
  },
  {
   "cell_type": "code",
   "execution_count": 6,
   "id": "7c6e0ef9",
   "metadata": {},
   "outputs": [
    {
     "name": "stdout",
     "output_type": "stream",
     "text": [
      "{'color': 'green', 'points': 5}\n"
     ]
    }
   ],
   "source": [
    "alien_0 = {}\n",
    "alien_0['color'] = 'green'\n",
    "alien_0['points'] = 5\n",
    "print(alien_0)"
   ]
  },
  {
   "cell_type": "markdown",
   "id": "9e8cfaab",
   "metadata": {},
   "source": [
    "**Modifying Values in a dictionary**"
   ]
  },
  {
   "cell_type": "code",
   "execution_count": 8,
   "id": "c636e8c4",
   "metadata": {},
   "outputs": [
    {
     "name": "stdout",
     "output_type": "stream",
     "text": [
      "The alien is green.\n"
     ]
    }
   ],
   "source": [
    "alien_0 = {'color':'green'}\n",
    "print(f\"The alien is {alien_0['color']}.\")"
   ]
  },
  {
   "cell_type": "code",
   "execution_count": 9,
   "id": "ebf4a5e1",
   "metadata": {},
   "outputs": [
    {
     "name": "stdout",
     "output_type": "stream",
     "text": [
      "The alien is now yellow\n"
     ]
    }
   ],
   "source": [
    "alien_0['color'] = 'yellow'\n",
    "print(f\"The alien is now {alien_0['color']}\")"
   ]
  },
  {
   "cell_type": "markdown",
   "id": "1e2159d6",
   "metadata": {},
   "source": [
    "Track the position of an alien that can move at different speeds."
   ]
  },
  {
   "cell_type": "code",
   "execution_count": 17,
   "id": "eb53e63a",
   "metadata": {},
   "outputs": [
    {
     "name": "stdout",
     "output_type": "stream",
     "text": [
      "Current position is 0\n"
     ]
    }
   ],
   "source": [
    "alien_0 = {'x_position': 0, 'y_position': 25, 'speed': 'medium'}\n",
    "print(f\"Current position is {alien_0['x_position']}\")"
   ]
  },
  {
   "cell_type": "code",
   "execution_count": 18,
   "id": "a1578416",
   "metadata": {},
   "outputs": [],
   "source": [
    "if alien_0['speed'] == 'slow':\n",
    "    x_increment = 1\n",
    "elif alien_0['speed'] == 'medium':\n",
    "    x_increment = 2\n",
    "else: \n",
    "    x_increment = 3"
   ]
  },
  {
   "cell_type": "code",
   "execution_count": 19,
   "id": "bde54b08",
   "metadata": {},
   "outputs": [
    {
     "name": "stdout",
     "output_type": "stream",
     "text": [
      "New Position: 2\n"
     ]
    }
   ],
   "source": [
    "alien_0['x_position'] = alien_0['x_position'] + x_increment\n",
    "print(f\"New Position: {alien_0['x_position']}\")"
   ]
  },
  {
   "cell_type": "markdown",
   "id": "5e7f1d67",
   "metadata": {},
   "source": [
    "By changing one value in the alien's dictionary, you can change the overall behavior of the alien. change to fast and now it moves more by 3 units. you need to run all the codes again since the condition is gone and x_position is now assigned to 2. set the condition again."
   ]
  },
  {
   "cell_type": "code",
   "execution_count": 20,
   "id": "c922dc1e",
   "metadata": {},
   "outputs": [],
   "source": [
    "alien_0['speed'] = 'fast'"
   ]
  },
  {
   "cell_type": "code",
   "execution_count": 21,
   "id": "33255d37",
   "metadata": {},
   "outputs": [],
   "source": [
    "if alien_0['speed'] == 'slow':\n",
    "    x_increment = 1\n",
    "elif alien_0['speed'] == 'medium':\n",
    "    x_increment = 2\n",
    "else: \n",
    "    x_increment = 3"
   ]
  },
  {
   "cell_type": "code",
   "execution_count": 23,
   "id": "ce328959",
   "metadata": {},
   "outputs": [
    {
     "name": "stdout",
     "output_type": "stream",
     "text": [
      "New Position: 5\n"
     ]
    }
   ],
   "source": [
    "alien_0['x_position'] = alien_0['x_position'] + x_increment\n",
    "print(f\"New Position: {alien_0['x_position']}\")"
   ]
  },
  {
   "cell_type": "markdown",
   "id": "7553d999",
   "metadata": {},
   "source": [
    "**Removing key-value pairs** : remove the deleted key-value pair is removed forever!!"
   ]
  },
  {
   "cell_type": "code",
   "execution_count": 24,
   "id": "4793001d",
   "metadata": {},
   "outputs": [
    {
     "name": "stdout",
     "output_type": "stream",
     "text": [
      "{'color': 'green', 'points': 5}\n",
      "{'color': 'green'}\n"
     ]
    }
   ],
   "source": [
    "alien_0 = {'color':'green','points':5}\n",
    "print(alien_0)\n",
    "\n",
    "del alien_0['points']\n",
    "print(alien_0)"
   ]
  },
  {
   "cell_type": "markdown",
   "id": "0a7db72e",
   "metadata": {},
   "source": [
    "**A dictionary of similar objects** "
   ]
  },
  {
   "cell_type": "code",
   "execution_count": 26,
   "id": "e4d00913",
   "metadata": {},
   "outputs": [],
   "source": [
    "favorite_languages = {\n",
    "    'jen':'python',\n",
    "    'sarah':'c',\n",
    "    'edward':'rust',\n",
    "    'phil':'python',\n",
    "}"
   ]
  },
  {
   "cell_type": "code",
   "execution_count": 28,
   "id": "c9437ad0",
   "metadata": {},
   "outputs": [
    {
     "name": "stdout",
     "output_type": "stream",
     "text": [
      "Sarah's favorite language is C.\n"
     ]
    }
   ],
   "source": [
    "language = favorite_languages['sarah'].title()\n",
    "print(f\"Sarah's favorite language is {language}.\")"
   ]
  },
  {
   "cell_type": "markdown",
   "id": "eddbcb37",
   "metadata": {},
   "source": [
    "**Using get() to access values** "
   ]
  },
  {
   "cell_type": "markdown",
   "id": "67bc0575",
   "metadata": {},
   "source": [
    "Use get when there is a chance the key you are asking for might not exist, consider using the get() method instead of the square bracket notation "
   ]
  },
  {
   "cell_type": "code",
   "execution_count": 31,
   "id": "72efbfb3",
   "metadata": {},
   "outputs": [
    {
     "ename": "KeyError",
     "evalue": "'points'",
     "output_type": "error",
     "traceback": [
      "\u001b[0;31m---------------------------------------------------------------------------\u001b[0m",
      "\u001b[0;31mKeyError\u001b[0m                                  Traceback (most recent call last)",
      "Cell \u001b[0;32mIn[31], line 1\u001b[0m\n\u001b[0;32m----> 1\u001b[0m \u001b[43malien_0\u001b[49m\u001b[43m[\u001b[49m\u001b[38;5;124;43m'\u001b[39;49m\u001b[38;5;124;43mpoints\u001b[39;49m\u001b[38;5;124;43m'\u001b[39;49m\u001b[43m]\u001b[49m\n",
      "\u001b[0;31mKeyError\u001b[0m: 'points'"
     ]
    }
   ],
   "source": [
    "alien_0['points']"
   ]
  },
  {
   "cell_type": "code",
   "execution_count": 30,
   "id": "fb9a2374",
   "metadata": {},
   "outputs": [
    {
     "name": "stdout",
     "output_type": "stream",
     "text": [
      "None\n"
     ]
    }
   ],
   "source": [
    "p = alien_0.get('points')\n",
    "print(p)"
   ]
  },
  {
   "cell_type": "markdown",
   "id": "69a017ec",
   "metadata": {},
   "source": [
    "None means no value exists. you can also set the default value when there is not value exists instead of getting none."
   ]
  },
  {
   "cell_type": "code",
   "execution_count": 32,
   "id": "dc2c3c8b",
   "metadata": {},
   "outputs": [
    {
     "name": "stdout",
     "output_type": "stream",
     "text": [
      "No points assigned\n"
     ]
    }
   ],
   "source": [
    "pp = alien_0.get('points','No points assigned')\n",
    "print(pp)"
   ]
  },
  {
   "cell_type": "markdown",
   "id": "132366f2",
   "metadata": {},
   "source": [
    "**TRY it yourself!**"
   ]
  },
  {
   "cell_type": "markdown",
   "id": "9dc81b96",
   "metadata": {},
   "source": [
    "6-1 Person "
   ]
  },
  {
   "cell_type": "code",
   "execution_count": 35,
   "id": "4ff04e06",
   "metadata": {},
   "outputs": [],
   "source": [
    "Chen = {'first_name':'Zhujun','last_name':'Tan','age':25,\n",
    "        'city':'Shanghai','height':166,'weight':55}"
   ]
  },
  {
   "cell_type": "code",
   "execution_count": 37,
   "id": "ae2ee326",
   "metadata": {},
   "outputs": [
    {
     "data": {
      "text/plain": [
       "'Zhujun'"
      ]
     },
     "execution_count": 37,
     "metadata": {},
     "output_type": "execute_result"
    }
   ],
   "source": [
    "Chen['first_name']"
   ]
  },
  {
   "cell_type": "markdown",
   "id": "c3b686da",
   "metadata": {},
   "source": [
    "6-2 Favorite Numbers "
   ]
  },
  {
   "cell_type": "code",
   "execution_count": 38,
   "id": "52b78804",
   "metadata": {},
   "outputs": [],
   "source": [
    "fav_nm = {'Chen':27, 'Shin':17, 'Tong':3, 'Fai':4}"
   ]
  },
  {
   "cell_type": "code",
   "execution_count": 39,
   "id": "be84fe3e",
   "metadata": {},
   "outputs": [
    {
     "data": {
      "text/plain": [
       "17"
      ]
     },
     "execution_count": 39,
     "metadata": {},
     "output_type": "execute_result"
    }
   ],
   "source": [
    "fav_nm['Shin']"
   ]
  },
  {
   "cell_type": "markdown",
   "id": "dff07f3f",
   "metadata": {},
   "source": [
    "6-3 Glossary "
   ]
  },
  {
   "cell_type": "code",
   "execution_count": 43,
   "id": "1abe644b",
   "metadata": {},
   "outputs": [],
   "source": [
    "glossary = {'list':'to store collection of values', \n",
    "            'tuple': 'an immutable list',\n",
    "            'if statement': 'a conditional construct that allows you to execute a block of code if the condition is met',\n",
    "            'loop': 'a programming constuct that allows you to repeatedly execute a block of code until a specific condition is met',\n",
    "            'dictionaries': 'unordered collection of data stored in key-value pairs.',\n",
    "           }"
   ]
  },
  {
   "cell_type": "code",
   "execution_count": 45,
   "id": "9c57c099",
   "metadata": {},
   "outputs": [
    {
     "name": "stdout",
     "output_type": "stream",
     "text": [
      "list: to store collection of values\n",
      "\n",
      "tuple: an immutable list\n",
      "\n"
     ]
    }
   ],
   "source": [
    "print(f\"list: {glossary['list']}\\n\")\n",
    "print(f\"tuple: {glossary['tuple']}\\n\")"
   ]
  },
  {
   "cell_type": "markdown",
   "id": "52eccd32",
   "metadata": {},
   "source": [
    "## 2. Looping through a dictionary\n",
    "Because a dictionary can contain large amounts of data, Python lets you loop through a dictionary."
   ]
  },
  {
   "cell_type": "markdown",
   "id": "9d8885a2",
   "metadata": {},
   "source": [
    "**Looping through all key-value pairs**"
   ]
  },
  {
   "cell_type": "code",
   "execution_count": 46,
   "id": "74967cb4",
   "metadata": {},
   "outputs": [],
   "source": [
    "user_0 = {\n",
    "    'username':'efermi',\n",
    "    'first':'enrico',\n",
    "    'last':'fermi',\n",
    "}"
   ]
  },
  {
   "cell_type": "code",
   "execution_count": 47,
   "id": "fb3d635a",
   "metadata": {},
   "outputs": [
    {
     "name": "stdout",
     "output_type": "stream",
     "text": [
      "\n",
      "Key: username\n",
      "Value: efermi\n",
      "\n",
      "Key: first\n",
      "Value: enrico\n",
      "\n",
      "Key: last\n",
      "Value: fermi\n"
     ]
    }
   ],
   "source": [
    "for key, value in user_0.items():\n",
    "    print(f\"\\nKey: {key}\")\n",
    "    print(f\"Value: {value}\")"
   ]
  },
  {
   "cell_type": "markdown",
   "id": "eca8771a",
   "metadata": {},
   "source": [
    "can create your own names for key and value as well. the method items() returns a sequence of key-value pairs. "
   ]
  },
  {
   "cell_type": "code",
   "execution_count": 52,
   "id": "9ca4a70d",
   "metadata": {},
   "outputs": [
    {
     "name": "stdout",
     "output_type": "stream",
     "text": [
      "\n",
      "Key: username\n",
      "Value: efermi\n",
      "\n",
      "Key: first\n",
      "Value: enrico\n",
      "\n",
      "Key: last\n",
      "Value: fermi\n"
     ]
    }
   ],
   "source": [
    "for k, v in user_0.items():\n",
    "    print(f\"\\nKey: {k}\")\n",
    "    print(f\"Value: {v}\")"
   ]
  },
  {
   "cell_type": "code",
   "execution_count": 54,
   "id": "9f0deaa2",
   "metadata": {},
   "outputs": [],
   "source": [
    "favorite_languages = {\n",
    "    'jen': 'python',\n",
    "    'sarah': 'c',\n",
    "    'edward': 'rust',\n",
    "    'phil': 'python',\n",
    "}"
   ]
  },
  {
   "cell_type": "code",
   "execution_count": 55,
   "id": "6d019737",
   "metadata": {},
   "outputs": [
    {
     "name": "stdout",
     "output_type": "stream",
     "text": [
      "Jen's favorite language is Python'\n",
      "Sarah's favorite language is C'\n",
      "Edward's favorite language is Rust'\n",
      "Phil's favorite language is Python'\n"
     ]
    }
   ],
   "source": [
    "for name, language in favorite_languages.items():\n",
    "    print(f\"{name.title()}'s favorite language is {language.title()}'\")"
   ]
  },
  {
   "cell_type": "markdown",
   "id": "f9c9553f",
   "metadata": {},
   "source": [
    "**looping through all the keys in a dictionary**\n",
    "\n",
    "can use the method keys() or omit since it is a default behavior.\n"
   ]
  },
  {
   "cell_type": "code",
   "execution_count": 56,
   "id": "a90cca96",
   "metadata": {},
   "outputs": [
    {
     "name": "stdout",
     "output_type": "stream",
     "text": [
      "Jen\n",
      "Sarah\n",
      "Edward\n",
      "Phil\n"
     ]
    }
   ],
   "source": [
    "for name in favorite_languages.keys():\n",
    "    print(name.title())"
   ]
  },
  {
   "cell_type": "code",
   "execution_count": 58,
   "id": "9efb0781",
   "metadata": {},
   "outputs": [
    {
     "name": "stdout",
     "output_type": "stream",
     "text": [
      "Jen\n",
      "Sarah\n",
      "Edward\n",
      "Phil\n"
     ]
    }
   ],
   "source": [
    "for name in favorite_languages:\n",
    "    print(name.title())"
   ]
  },
  {
   "cell_type": "markdown",
   "id": "835a971e",
   "metadata": {},
   "source": [
    "We will loop through the names as we did previously, but when the name matches one of our friends, we will display a message about their favorite language."
   ]
  },
  {
   "cell_type": "code",
   "execution_count": 60,
   "id": "be0a3a2c",
   "metadata": {},
   "outputs": [
    {
     "name": "stdout",
     "output_type": "stream",
     "text": [
      "Hi Jen\n",
      "Hi Sarah\n",
      "\tSarah, I see you love C\n",
      "Hi Edward\n",
      "Hi Phil\n",
      "\tPhil, I see you love Python\n"
     ]
    }
   ],
   "source": [
    "friends = ['phil','sarah']\n",
    "for name in favorite_languages.keys():\n",
    "    print(f\"Hi {name.title()}\")\n",
    "    if name in friends:\n",
    "        language = favorite_languages[name].title()\n",
    "        print(f\"\\t{name.title()}, I see you love {language}\")"
   ]
  },
  {
   "cell_type": "markdown",
   "id": "5da0df64",
   "metadata": {},
   "source": [
    "use keys() to find out if particular person was polled or not"
   ]
  },
  {
   "cell_type": "code",
   "execution_count": 63,
   "id": "3e9e0f1c",
   "metadata": {},
   "outputs": [
    {
     "name": "stdout",
     "output_type": "stream",
     "text": [
      "Erin, please take our poll\n"
     ]
    }
   ],
   "source": [
    "if 'erin' not in favorite_languages.keys():\n",
    "    print(\"Erin, please take our poll\")"
   ]
  },
  {
   "cell_type": "markdown",
   "id": "be7bbe59",
   "metadata": {},
   "source": [
    "**keys()** returns a sequence of all the keys, and the if statement simply checks if 'erin' is in the sequence."
   ]
  },
  {
   "cell_type": "markdown",
   "id": "339dd74e",
   "metadata": {},
   "source": [
    "**looping through a dictionary's keys in a particular order**"
   ]
  },
  {
   "cell_type": "code",
   "execution_count": 64,
   "id": "22d1f438",
   "metadata": {},
   "outputs": [
    {
     "name": "stdout",
     "output_type": "stream",
     "text": [
      "Edward, thank you for taking the poll.\n",
      "Jen, thank you for taking the poll.\n",
      "Phil, thank you for taking the poll.\n",
      "Sarah, thank you for taking the poll.\n"
     ]
    }
   ],
   "source": [
    "for name in sorted(favorite_languages.keys()):\n",
    "    print(f\"{name.title()}, thank you for taking the poll.\")"
   ]
  },
  {
   "cell_type": "markdown",
   "id": "dfea4ebe",
   "metadata": {},
   "source": [
    "**looping through all values in the dictionary**"
   ]
  },
  {
   "cell_type": "code",
   "execution_count": 65,
   "id": "46be5a57",
   "metadata": {},
   "outputs": [
    {
     "name": "stdout",
     "output_type": "stream",
     "text": [
      "the following languages have been mentioned:\n",
      "Python\n",
      "C\n",
      "Rust\n",
      "Python\n"
     ]
    }
   ],
   "source": [
    "print(\"the following languages have been mentioned:\")\n",
    "for language in favorite_languages.values():\n",
    "    print(language.title())"
   ]
  },
  {
   "cell_type": "markdown",
   "id": "879991c1",
   "metadata": {},
   "source": [
    "use **set()** wrap around a collection of values to find unique values"
   ]
  },
  {
   "cell_type": "code",
   "execution_count": 66,
   "id": "3ae1b464",
   "metadata": {},
   "outputs": [
    {
     "name": "stdout",
     "output_type": "stream",
     "text": [
      "C\n",
      "Rust\n",
      "Python\n"
     ]
    }
   ],
   "source": [
    "for language in set(favorite_languages.values()):\n",
    "    print(language.title())"
   ]
  },
  {
   "cell_type": "markdown",
   "id": "9532c18b",
   "metadata": {},
   "source": [
    "A set is a collection in which each item must be unique. We can build a set directly using  braces and separating the elements with commas."
   ]
  },
  {
   "cell_type": "code",
   "execution_count": 67,
   "id": "7fcba0f7",
   "metadata": {},
   "outputs": [
    {
     "data": {
      "text/plain": [
       "{'c', 'python', 'rust'}"
      ]
     },
     "execution_count": 67,
     "metadata": {},
     "output_type": "execute_result"
    }
   ],
   "source": [
    "languages = {'python','rust','python','c'}\n",
    "languages"
   ]
  },
  {
   "cell_type": "markdown",
   "id": "a72ab834",
   "metadata": {},
   "source": [
    "**Try it yourself!**"
   ]
  },
  {
   "cell_type": "markdown",
   "id": "524d15d6",
   "metadata": {},
   "source": [
    "6-4 Glossary2:"
   ]
  },
  {
   "cell_type": "code",
   "execution_count": 1,
   "id": "eaa4e625",
   "metadata": {},
   "outputs": [],
   "source": [
    "glossary = {'list':'to store collection of values', \n",
    "            'tuple': 'an immutable list',\n",
    "            'if statement': 'a conditional construct that allows you to execute a block of code if the condition is met',\n",
    "            'loop': 'a programming constuct that allows you to repeatedly execute a block of code until a specific condition is met',\n",
    "            'dictionaries': 'unordered collection of data stored in key-value pairs.',\n",
    "}"
   ]
  },
  {
   "cell_type": "code",
   "execution_count": 4,
   "id": "d3398347",
   "metadata": {},
   "outputs": [
    {
     "name": "stdout",
     "output_type": "stream",
     "text": [
      "list: to store collection of values\n",
      "\n",
      "tuple: an immutable list\n",
      "\n",
      "if statement: a conditional construct that allows you to execute a block of code if the condition is met\n",
      "\n",
      "loop: a programming constuct that allows you to repeatedly execute a block of code until a specific condition is met\n",
      "\n",
      "dictionaries: unordered collection of data stored in key-value pairs.\n",
      "\n"
     ]
    }
   ],
   "source": [
    "for k, v in glossary.items():\n",
    "    print(f\"{k}: {v}\\n\")"
   ]
  },
  {
   "cell_type": "markdown",
   "id": "bd2f1222",
   "metadata": {},
   "source": [
    "6-5:Rivers"
   ]
  },
  {
   "cell_type": "code",
   "execution_count": 5,
   "id": "876f263e",
   "metadata": {},
   "outputs": [],
   "source": [
    "rivers ={\n",
    "    'nile':'egypt',\n",
    "    'amazon':'peru',\n",
    "    'mekong':'thailand',\n",
    "}"
   ]
  },
  {
   "cell_type": "code",
   "execution_count": 6,
   "id": "086062d0",
   "metadata": {},
   "outputs": [
    {
     "name": "stdout",
     "output_type": "stream",
     "text": [
      "The Nile runs through Egypt\n",
      "The Amazon runs through Peru\n",
      "The Mekong runs through Thailand\n"
     ]
    }
   ],
   "source": [
    "for k,v in rivers.items():\n",
    "    print(f'The {k.title()} runs through {v.title()}')"
   ]
  },
  {
   "cell_type": "code",
   "execution_count": 9,
   "id": "3650e6fe",
   "metadata": {},
   "outputs": [
    {
     "name": "stdout",
     "output_type": "stream",
     "text": [
      "Egypt\n",
      "Peru\n",
      "Thailand\n"
     ]
    }
   ],
   "source": [
    "for v in rivers.values():\n",
    "    print(f'{v.title()}')"
   ]
  },
  {
   "cell_type": "code",
   "execution_count": 11,
   "id": "cb192b6c",
   "metadata": {},
   "outputs": [
    {
     "name": "stdout",
     "output_type": "stream",
     "text": [
      "The Nile\n",
      "The Amazon\n",
      "The Mekong\n"
     ]
    }
   ],
   "source": [
    "for k in rivers.keys():\n",
    "    print(f'The {k.title()}')"
   ]
  },
  {
   "cell_type": "markdown",
   "id": "203b29d2",
   "metadata": {},
   "source": [
    "6-6: Polling: "
   ]
  },
  {
   "cell_type": "code",
   "execution_count": 13,
   "id": "a4a8d4aa",
   "metadata": {},
   "outputs": [],
   "source": [
    "favorite_languages = {\n",
    "    'jen': 'python',\n",
    "    'sarah': 'c',\n",
    "    'edward': 'rust',\n",
    "    'phil': 'python',\n",
    "}"
   ]
  },
  {
   "cell_type": "code",
   "execution_count": 24,
   "id": "75bc9419",
   "metadata": {},
   "outputs": [],
   "source": [
    "ppl = ['jen','sarah','edward','phil','chen','zhujun']"
   ]
  },
  {
   "cell_type": "code",
   "execution_count": 26,
   "id": "da7d26f6",
   "metadata": {},
   "outputs": [
    {
     "name": "stdout",
     "output_type": "stream",
     "text": [
      "Jen, Thank you for taking the poll\n",
      "Sarah, Thank you for taking the poll\n",
      "Edward, Thank you for taking the poll\n",
      "Phil, Thank you for taking the poll\n",
      "Chen, please take the time to do the poll\n",
      "Zhujun, please take the time to do the poll\n"
     ]
    }
   ],
   "source": [
    "for name in ppl:\n",
    "    if name in favorite_languages.keys():\n",
    "        print(f'{name.title()}, Thank you for taking the poll')\n",
    "    else:\n",
    "        print(f'{name.title()}, please take the time to do the poll')"
   ]
  },
  {
   "cell_type": "markdown",
   "id": "448b0d75",
   "metadata": {},
   "source": [
    "## Nesting "
   ]
  },
  {
   "cell_type": "markdown",
   "id": "9153d26f",
   "metadata": {},
   "source": [
    "- Embedding one data structure, such as a list, tuple, or dictionary, within another. \n",
    "- This allows for more complex and hierarchical data representations."
   ]
  },
  {
   "cell_type": "markdown",
   "id": "7cb153e1",
   "metadata": {},
   "source": [
    "### 1. A list of Dictionaries"
   ]
  },
  {
   "cell_type": "markdown",
   "id": "d38b69d9",
   "metadata": {},
   "source": [
    "- put dictiories inside a list. ( employee's infor)\n",
    "- create three dictionaries, each representing information of each different alien. \n",
    "- We store each of these dictionries in a list called aliens.\n",
    "- All of the dictionaries in the list should have an identical structure, so you can loop through the list and work with each dictionary object in the same way :D"
   ]
  },
  {
   "cell_type": "code",
   "execution_count": 27,
   "id": "5af920d9",
   "metadata": {},
   "outputs": [
    {
     "name": "stdout",
     "output_type": "stream",
     "text": [
      "{'color': 'green', 'points': 5}\n",
      "{'color': 'yellow', 'points': 10}\n",
      "{'color': 'red', 'points': 15}\n"
     ]
    }
   ],
   "source": [
    "alien_0 = {'color':'green','points':5}\n",
    "alien_1 = {'color':'yellow','points':10}\n",
    "alien_2 = {'color':'red','points':15}\n",
    "\n",
    "aliens = [alien_0,alien_1,alien_2]\n",
    "\n",
    "for alien in aliens:\n",
    "    print(alien)"
   ]
  },
  {
   "cell_type": "code",
   "execution_count": 29,
   "id": "066047b3",
   "metadata": {},
   "outputs": [
    {
     "name": "stdout",
     "output_type": "stream",
     "text": [
      "{'color': 'green', 'points': 5, 'speed': 'slow'}\n",
      "{'color': 'green', 'points': 5, 'speed': 'slow'}\n",
      "{'color': 'green', 'points': 5, 'speed': 'slow'}\n",
      "{'color': 'green', 'points': 5, 'speed': 'slow'}\n",
      "{'color': 'green', 'points': 5, 'speed': 'slow'}\n",
      "Total number of aliens: 30\n"
     ]
    }
   ],
   "source": [
    "aliens = []\n",
    "for alien_number in range(30):\n",
    "    new_alien = {'color':'green', 'points':5, 'speed':'slow'}\n",
    "    aliens.append(new_alien)\n",
    "for alien in aliens[:5]:\n",
    "    print(alien)\n",
    "print(f'Total number of aliens: {len(aliens)}')"
   ]
  },
  {
   "cell_type": "code",
   "execution_count": 37,
   "id": "b39a147f",
   "metadata": {},
   "outputs": [
    {
     "name": "stdout",
     "output_type": "stream",
     "text": [
      "{'color': 'yellow', 'points': 10, 'speed': 'medium'}\n",
      "{'color': 'yellow', 'points': 10, 'speed': 'medium'}\n",
      "{'color': 'yellow', 'points': 10, 'speed': 'medium'}\n",
      "{'color': 'green', 'points': 5, 'speed': 'slow'}\n",
      "{'color': 'green', 'points': 5, 'speed': 'slow'}\n"
     ]
    }
   ],
   "source": [
    "for alien in aliens[:3]:\n",
    "    if alien['color'] == 'green':\n",
    "        alien['color'] = 'yellow'\n",
    "        alien['speed'] = 'medium'\n",
    "        alien['points'] = 10\n",
    "for alien in aliens[:5]: # show the first 5 aliens.\n",
    "    print(alien)"
   ]
  },
  {
   "cell_type": "markdown",
   "id": "0619435d",
   "metadata": {},
   "source": [
    "### 2. A List in a Dictionary "
   ]
  },
  {
   "cell_type": "markdown",
   "id": "26741b28",
   "metadata": {},
   "source": [
    "one of the keys of the dictionary may have > 1 value."
   ]
  },
  {
   "cell_type": "code",
   "execution_count": 44,
   "id": "84fe8d74",
   "metadata": {},
   "outputs": [
    {
     "name": "stdout",
     "output_type": "stream",
     "text": [
      "You ordered a thick-crust pizza with the following toppings:\n",
      "\tmushroom\n",
      "\textra cheese\n"
     ]
    }
   ],
   "source": [
    "pizza = {\n",
    "    'crust': 'thick',\n",
    "    'toppings':['mushroom','extra cheese'],\n",
    "}\n",
    "print(f\"You ordered a {pizza['crust']}-crust pizza \"\n",
    "     \"with the following toppings:\")\n",
    "for topping in pizza['toppings']:\n",
    "    print(f'\\t{topping}')"
   ]
  },
  {
   "cell_type": "markdown",
   "id": "f9dc165c",
   "metadata": {},
   "source": [
    "you need to use '' to define the string and \" \" define f-string ( should be different)"
   ]
  },
  {
   "cell_type": "code",
   "execution_count": 45,
   "id": "f4b780f7",
   "metadata": {},
   "outputs": [
    {
     "name": "stdout",
     "output_type": "stream",
     "text": [
      "\n",
      "Jen's favorite languages are:\n",
      "\tPython\n",
      "\tRust\n",
      "\n",
      "Sarah's favorite languages are:\n",
      "\tC\n",
      "\n",
      "Edward's favorite languages are:\n",
      "\tRust\n",
      "\tGo\n",
      "\n",
      "Phil's favorite languages are:\n",
      "\tPython\n",
      "\tHaskell\n"
     ]
    }
   ],
   "source": [
    "favorite_languages = {\n",
    "    'jen': ['python','rust'],\n",
    "    'sarah':['c'],\n",
    "    'edward':['rust','go'],\n",
    "    'phil':['python','haskell'],\n",
    "}\n",
    "for name, languages in favorite_languages.items():\n",
    "    print(f\"\\n{name.title()}'s favorite languages are:\")\n",
    "    for language in languages:\n",
    "        print(f\"\\t{language.title()}\")"
   ]
  },
  {
   "cell_type": "markdown",
   "id": "3580ac63",
   "metadata": {},
   "source": [
    "### 3. A Dictionary in a Dictionary "
   ]
  },
  {
   "cell_type": "markdown",
   "id": "7335f062",
   "metadata": {},
   "source": [
    "The code can get complicated quickly! For example, Store information about each user by using a dictionary as the value associated with their username."
   ]
  },
  {
   "cell_type": "code",
   "execution_count": 2,
   "id": "456e22b4",
   "metadata": {},
   "outputs": [],
   "source": [
    "users ={\n",
    "    'aeinstein':{\n",
    "        'first':'albert',\n",
    "        'last':'einstein',\n",
    "        'location':'princeton',\n",
    "    },\n",
    "    'mcurie':{\n",
    "        'first':'marie',\n",
    "        'last':'curie',\n",
    "        'location':'paris',\n",
    "    },\n",
    "} # 2 keys with each has dictionary, easier with the same structure for the loop"
   ]
  },
  {
   "cell_type": "code",
   "execution_count": 18,
   "id": "f42d33cc",
   "metadata": {},
   "outputs": [
    {
     "name": "stdout",
     "output_type": "stream",
     "text": [
      "\n",
      "Username: aeinstein\n",
      "\tFull name: Albert Einstein\n",
      "\tLocation: Princeton\n",
      "\n",
      "Username: mcurie\n",
      "\tFull name: Marie Curie\n",
      "\tLocation: Paris\n"
     ]
    }
   ],
   "source": [
    "for username, user_info in users.items():\n",
    "    print(f\"\\nUsername: {username}\")\n",
    "    print(f\"\\tFull name: {user_info['first'].title()} {user_info['last'].title()}\")\n",
    "    print(f\"\\tLocation: {user_info['location'].title()}\")"
   ]
  },
  {
   "cell_type": "markdown",
   "id": "54bf35de",
   "metadata": {},
   "source": [
    "**Try it yourself**"
   ]
  },
  {
   "cell_type": "markdown",
   "id": "d3a31a48",
   "metadata": {},
   "source": [
    "**6-7 people** "
   ]
  },
  {
   "cell_type": "code",
   "execution_count": 19,
   "id": "9add4c88",
   "metadata": {},
   "outputs": [],
   "source": [
    "Chen = {'first_name':'zhujun','last_name':'tan','age':25,'city':'shanghai','height':166,'weight':55}\n",
    "Tong = {'first_name': 'nawaporn','last_name':'trongtanon','age':25,'city':'bangkok','height':160,'weight':60}\n",
    "May = {'first_name':'patchada','last_name':'something','age':25,'city':'bangkok','height':160,'weight':50}\n",
    "people =[Chen,Tong,May]"
   ]
  },
  {
   "cell_type": "code",
   "execution_count": 21,
   "id": "8509d16d",
   "metadata": {},
   "outputs": [
    {
     "name": "stdout",
     "output_type": "stream",
     "text": [
      "{'first_name': 'zhujun', 'last_name': 'tan', 'age': 25, 'city': 'shanghai', 'height': 166, 'weight': 55}\n",
      "{'first_name': 'nawaporn', 'last_name': 'trongtanon', 'age': 25, 'city': 'bangkok', 'height': 160, 'weight': 60}\n",
      "{'first_name': 'patchada', 'last_name': 'something', 'age': 25, 'city': 'bangkok', 'height': 160, 'weight': 50}\n"
     ]
    }
   ],
   "source": [
    "for person in people:\n",
    "    print(person)"
   ]
  },
  {
   "cell_type": "markdown",
   "id": "ae4398bd",
   "metadata": {},
   "source": [
    "**6-8 Pets** "
   ]
  },
  {
   "cell_type": "code",
   "execution_count": 22,
   "id": "c7547539",
   "metadata": {},
   "outputs": [],
   "source": [
    "dog = {'name':'soju','age':2,'weight':3}\n",
    "cat = {'name':'kimchi','age':3,'weight':3.4}\n",
    "rabbit = {'name':'oreo','age':5,'weight':1.2}\n",
    "pets = [dog,cat,rabbit]"
   ]
  },
  {
   "cell_type": "code",
   "execution_count": 23,
   "id": "20438b24",
   "metadata": {},
   "outputs": [
    {
     "name": "stdout",
     "output_type": "stream",
     "text": [
      "{'name': 'soju', 'age': 2, 'weight': 3}\n",
      "{'name': 'kimchi', 'age': 3, 'weight': 3.4}\n",
      "{'name': 'oreo', 'age': 5, 'weight': 1.2}\n"
     ]
    }
   ],
   "source": [
    "for pet in pets:\n",
    "    print(pet)"
   ]
  },
  {
   "cell_type": "markdown",
   "id": "67d5ceee",
   "metadata": {},
   "source": [
    "**6-9 favorite places**"
   ]
  },
  {
   "cell_type": "code",
   "execution_count": 30,
   "id": "724af651",
   "metadata": {},
   "outputs": [
    {
     "name": "stdout",
     "output_type": "stream",
     "text": [
      "Chen ['barcelona', 'krabi', 'cinque terre']\n",
      "Claire ['milan', 'bangkok', 'shanghai']\n",
      "Grace ['mexico', 'paris', 'suzou']\n"
     ]
    }
   ],
   "source": [
    "favorite_places = {'chen':['barcelona','krabi','cinque terre'],\n",
    "                  'claire':['milan','bangkok','shanghai'],\n",
    "                  'grace':['mexico','paris','suzou']}\n",
    "for name,place in favorite_places.items():\n",
    "    print(name.title(),place)"
   ]
  },
  {
   "cell_type": "markdown",
   "id": "9414a74f",
   "metadata": {},
   "source": [
    "**6-10 fav numbers**"
   ]
  },
  {
   "cell_type": "code",
   "execution_count": 32,
   "id": "156bd584",
   "metadata": {},
   "outputs": [
    {
     "name": "stdout",
     "output_type": "stream",
     "text": [
      "Chen [27, 1, 54]\n",
      "Shin [17, 1, 53]\n",
      "Tong [3, 14, 6]\n",
      "Fai [4, 23, 6, 7]\n"
     ]
    }
   ],
   "source": [
    "fav_nm = {'chen':[27,1,54], 'shin':[17,1,53], 'tong':[3,14,6], 'fai':[4,23,6,7],}\n",
    "for name, num in fav_nm.items():\n",
    "    print(name.title(),num)"
   ]
  },
  {
   "cell_type": "markdown",
   "id": "4559aa48",
   "metadata": {},
   "source": [
    "**6-11 cities**"
   ]
  },
  {
   "cell_type": "code",
   "execution_count": 34,
   "id": "5f16224c",
   "metadata": {},
   "outputs": [],
   "source": [
    "cities ={\n",
    "    'barcelona':{\n",
    "        'country':'spain',\n",
    "        'population':1.62,\n",
    "        'fact':'has one of the best churros'\n",
    "    },\n",
    "    'krabi':{\n",
    "        'country':'thailand',\n",
    "        'population':0.47,\n",
    "        'fact':'it is a heaven on earth'\n",
    "    },\n",
    "    'la spezia':{\n",
    "        'country':'italy',\n",
    "        'population':0.09,\n",
    "        'fact':'the best memory has been made here'\n",
    "    },\n",
    "}"
   ]
  },
  {
   "cell_type": "code",
   "execution_count": 42,
   "id": "b9dd62b6",
   "metadata": {},
   "outputs": [
    {
     "name": "stdout",
     "output_type": "stream",
     "text": [
      "Barcelona\n",
      "\tCountry:spain\n",
      "\tPopulation:1.62\n",
      "\tFact:has one of the best churros\n",
      "Krabi\n",
      "\tCountry:thailand\n",
      "\tPopulation:0.47\n",
      "\tFact:it is a heaven on earth\n",
      "La Spezia\n",
      "\tCountry:italy\n",
      "\tPopulation:0.09\n",
      "\tFact:the best memory has been made here\n"
     ]
    }
   ],
   "source": [
    "for name, facts in cities.items():\n",
    "    print(f\"{name.title()}\")\n",
    "    print(f\"\\tCountry:{facts['country']}\")\n",
    "    print(f\"\\tPopulation:{facts['population']}\")\n",
    "    print(f\"\\tFact:{facts['fact']}\")"
   ]
  },
  {
   "cell_type": "markdown",
   "id": "6ce475b2",
   "metadata": {},
   "source": [
    "**6-12 extensions**"
   ]
  },
  {
   "cell_type": "markdown",
   "id": "8bbe51c2",
   "metadata": {},
   "source": [
    "# Chapter 7: User input and while loops "
   ]
  },
  {
   "cell_type": "markdown",
   "id": "2cf57ea0",
   "metadata": {},
   "source": [
    "most programs are written to solve an end user's problem. we usually need to get some information from the user or input so it can determine"
   ]
  },
  {
   "cell_type": "markdown",
   "id": "9e2b141b",
   "metadata": {},
   "source": [
    "## Input() function"
   ]
  },
  {
   "cell_type": "markdown",
   "id": "9dcb7635",
   "metadata": {},
   "source": [
    "The input function takes one argument and displays the input back to the user"
   ]
  },
  {
   "cell_type": "code",
   "execution_count": 43,
   "id": "103d7c1f",
   "metadata": {},
   "outputs": [
    {
     "name": "stdout",
     "output_type": "stream",
     "text": [
      "Tell me something, and I will repeat it back to you: what a life\n",
      "what a life\n"
     ]
    }
   ],
   "source": [
    "message = input(\"Tell me something, and I will repeat it back to you: \")\n",
    "print(message)"
   ]
  },
  {
   "cell_type": "code",
   "execution_count": 44,
   "id": "f52f9ba6",
   "metadata": {},
   "outputs": [
    {
     "name": "stdout",
     "output_type": "stream",
     "text": [
      "please enter your name: chen\n",
      "\n",
      "Hello, chen!\n"
     ]
    }
   ],
   "source": [
    "name = input(\"please enter your name: \")\n",
    "print(f\"\\nHello, {name}!\")"
   ]
  },
  {
   "cell_type": "markdown",
   "id": "a43fd2e7",
   "metadata": {},
   "source": [
    "**Build a multiline string**"
   ]
  },
  {
   "cell_type": "markdown",
   "id": "516e9530",
   "metadata": {},
   "source": [
    "- The first line assigns the first part of the message to the variable prompt. \n",
    "- In the second line, the operator += takes the string that was assigned to prompt and adds the new string onto the end. "
   ]
  },
  {
   "cell_type": "code",
   "execution_count": 47,
   "id": "d0a8ad1d",
   "metadata": {},
   "outputs": [
    {
     "name": "stdout",
     "output_type": "stream",
     "text": [
      "If you share your name, we can personalize the messages you see.\n",
      "What is your first name? Chen\n",
      "\n",
      "Hello, Chen!\n"
     ]
    }
   ],
   "source": [
    "prompt = \"If you share your name, we can personalize the messages you see.\"\n",
    "prompt += \"\\nWhat is your first name? \"\n",
    "\n",
    "name = input(prompt)\n",
    "print(f\"\\nHello, {name}!\")"
   ]
  },
  {
   "cell_type": "markdown",
   "id": "a5ef1e9f",
   "metadata": {},
   "source": [
    "**Using int() to accept numerical input**"
   ]
  },
  {
   "cell_type": "markdown",
   "id": "c48dc008",
   "metadata": {},
   "source": [
    "**input() function** interprets everything the user enters as a string."
   ]
  },
  {
   "cell_type": "code",
   "execution_count": 49,
   "id": "763daaa5",
   "metadata": {},
   "outputs": [
    {
     "name": "stdout",
     "output_type": "stream",
     "text": [
      "How old are you? 25\n"
     ]
    }
   ],
   "source": [
    "age = input(\"How old are you? \")"
   ]
  },
  {
   "cell_type": "code",
   "execution_count": 50,
   "id": "2acbe7fb",
   "metadata": {},
   "outputs": [
    {
     "data": {
      "text/plain": [
       "'25'"
      ]
     },
     "execution_count": 50,
     "metadata": {},
     "output_type": "execute_result"
    }
   ],
   "source": [
    "age"
   ]
  },
  {
   "cell_type": "code",
   "execution_count": 51,
   "id": "a4272305",
   "metadata": {},
   "outputs": [
    {
     "ename": "TypeError",
     "evalue": "'>=' not supported between instances of 'str' and 'int'",
     "output_type": "error",
     "traceback": [
      "\u001b[0;31m---------------------------------------------------------------------------\u001b[0m",
      "\u001b[0;31mTypeError\u001b[0m                                 Traceback (most recent call last)",
      "Cell \u001b[0;32mIn[51], line 1\u001b[0m\n\u001b[0;32m----> 1\u001b[0m \u001b[43mage\u001b[49m\u001b[43m \u001b[49m\u001b[38;5;241;43m>\u001b[39;49m\u001b[38;5;241;43m=\u001b[39;49m\u001b[38;5;241;43m2\u001b[39;49m\n",
      "\u001b[0;31mTypeError\u001b[0m: '>=' not supported between instances of 'str' and 'int'"
     ]
    }
   ],
   "source": [
    "age >=2"
   ]
  },
  {
   "cell_type": "markdown",
   "id": "d07dbcfd",
   "metadata": {},
   "source": [
    "fix by convert it to a numerical representation by **int()**"
   ]
  },
  {
   "cell_type": "code",
   "execution_count": 52,
   "id": "41a5bb50",
   "metadata": {},
   "outputs": [],
   "source": [
    "age = int(age)"
   ]
  },
  {
   "cell_type": "code",
   "execution_count": 53,
   "id": "516dcbf1",
   "metadata": {},
   "outputs": [
    {
     "data": {
      "text/plain": [
       "True"
      ]
     },
     "execution_count": 53,
     "metadata": {},
     "output_type": "execute_result"
    }
   ],
   "source": [
    "age >=2"
   ]
  },
  {
   "cell_type": "markdown",
   "id": "28a1ab50",
   "metadata": {},
   "source": [
    "use int() in an actual program. a program that determines whether people are tall enough to ride a roller coaster"
   ]
  },
  {
   "cell_type": "code",
   "execution_count": 54,
   "id": "67bdd743",
   "metadata": {},
   "outputs": [
    {
     "name": "stdout",
     "output_type": "stream",
     "text": [
      "How tall are you, in inches? 511\n",
      "\n",
      "You're tall enough to ride!\n"
     ]
    }
   ],
   "source": [
    "height = input(\"How tall are you, in inches? \")\n",
    "height = int(height)\n",
    "\n",
    "if height >=48:\n",
    "    print(\"\\nYou're tall enough to ride!\")\n",
    "else:\n",
    "    print(\"\\nYou'll be able to ride when you're a little older.\")"
   ]
  },
  {
   "cell_type": "markdown",
   "id": "5527b4a4",
   "metadata": {},
   "source": [
    "**The Modulo Operator (%)**\n",
    "\n",
    "divides one number by another number and returns the remainder."
   ]
  },
  {
   "cell_type": "code",
   "execution_count": 55,
   "id": "a7e81c7b",
   "metadata": {},
   "outputs": [
    {
     "data": {
      "text/plain": [
       "1"
      ]
     },
     "execution_count": 55,
     "metadata": {},
     "output_type": "execute_result"
    }
   ],
   "source": [
    "4%3"
   ]
  },
  {
   "cell_type": "code",
   "execution_count": 57,
   "id": "f4a68fea",
   "metadata": {},
   "outputs": [
    {
     "name": "stdout",
     "output_type": "stream",
     "text": [
      "Enter a number, and I will tell you if it's even or odd: 599\n",
      "\n",
      "the number 599 is odd.\n"
     ]
    }
   ],
   "source": [
    "number = input(\"Enter a number, and I will tell you if it's even or odd: \")\n",
    "number = int(number)\n",
    "\n",
    "if number % 2 == 0:\n",
    "    print(f\"\\nThe number {number} is even.\")\n",
    "else:\n",
    "    print(f\"\\nthe number {number} is odd.\")"
   ]
  },
  {
   "cell_type": "markdown",
   "id": "2663bf50",
   "metadata": {},
   "source": [
    "**Try it yourself**"
   ]
  },
  {
   "cell_type": "markdown",
   "id": "6077eb93",
   "metadata": {},
   "source": [
    "**7-1 Rental car:**"
   ]
  },
  {
   "cell_type": "code",
   "execution_count": 58,
   "id": "b7b257cb",
   "metadata": {},
   "outputs": [
    {
     "name": "stdout",
     "output_type": "stream",
     "text": [
      "What kind of car would you like?: Honda\n",
      "lemme see if i can find you a Honda\n"
     ]
    }
   ],
   "source": [
    "car = input(\"What kind of car would you like?: \")\n",
    "print(f\"lemme see if i can find you a {car}\")"
   ]
  },
  {
   "cell_type": "markdown",
   "id": "a7c6eb09",
   "metadata": {},
   "source": [
    "**7-2 Restaurant seating:** "
   ]
  },
  {
   "cell_type": "code",
   "execution_count": 59,
   "id": "07c6baaf",
   "metadata": {},
   "outputs": [
    {
     "name": "stdout",
     "output_type": "stream",
     "text": [
      "你们几位：9\n",
      "对不起，你们要等一下\n"
     ]
    }
   ],
   "source": [
    "ppl = input(\"你们几位：\")\n",
    "ppl = int(ppl)\n",
    "if ppl >8:\n",
    "    print(\"对不起，你们要等一下\")\n",
    "else:\n",
    "    print(\"请跟我来\")"
   ]
  },
  {
   "cell_type": "markdown",
   "id": "00b3f047",
   "metadata": {},
   "source": [
    "**7-3 Multiples of ten:**"
   ]
  },
  {
   "cell_type": "code",
   "execution_count": 61,
   "id": "e7202068",
   "metadata": {},
   "outputs": [
    {
     "name": "stdout",
     "output_type": "stream",
     "text": [
      "please give me one number: 400\n",
      "400 is a multiple of 10\n"
     ]
    }
   ],
   "source": [
    "num = input(\"please give me one number: \")\n",
    "num = int(num)\n",
    "if num % 10 == 0:\n",
    "    print(f\"{num} is a multiple of 10\")\n",
    "else:\n",
    "    print(f\"{num} is not a multiple of 10\")"
   ]
  },
  {
   "cell_type": "markdown",
   "id": "d47e7290",
   "metadata": {},
   "source": [
    "## Introducing while loops "
   ]
  },
  {
   "cell_type": "markdown",
   "id": "8743b1b2",
   "metadata": {},
   "source": [
    "**For loop**: takes a collection of items and executes a block of code *once for each item* in the collection. \n",
    "\n",
    "**While loop**: the while loop runs as long as a certain condition is true. ex: the game needs a while loop to keep running as long as you want to keep playing, and so it can stop running as soon as you ask it to quit."
   ]
  },
  {
   "cell_type": "markdown",
   "id": "6a5779bb",
   "metadata": {},
   "source": [
    "**the while loop in action**"
   ]
  },
  {
   "cell_type": "code",
   "execution_count": 62,
   "id": "8749a8e6",
   "metadata": {},
   "outputs": [
    {
     "name": "stdout",
     "output_type": "stream",
     "text": [
      "1\n",
      "2\n",
      "3\n",
      "4\n",
      "5\n"
     ]
    }
   ],
   "source": [
    "current_number = 1\n",
    "while current_number <= 5:\n",
    "    print(current_number)\n",
    "    current_number += 1"
   ]
  },
  {
   "cell_type": "markdown",
   "id": "bdd406a7",
   "metadata": {},
   "source": [
    "- += operator is shorthand for current_number = current_number + 1\n",
    "- Once the value of the current_number is greater than 5, loop stops"
   ]
  },
  {
   "cell_type": "markdown",
   "id": "4abbc7f1",
   "metadata": {},
   "source": [
    "**letting the user choose when to quit**"
   ]
  },
  {
   "cell_type": "markdown",
   "id": "9662f650",
   "metadata": {},
   "source": [
    "- we need to give message an initial value (empty string) for python since it needs to compare the value of message to 'quit' for the first time.\n",
    "- at message = input(prompt)> python displays the prompt and waits for the user to enter their input. \n",
    "- whatever they enter is assigned to message and printed.\n",
    "- then, python reevaluates the condition in the while statement.\n",
    "- The while loop runs as long as the value of message is not 'quit'"
   ]
  },
  {
   "cell_type": "code",
   "execution_count": 1,
   "id": "0fa7ed7a",
   "metadata": {},
   "outputs": [
    {
     "name": "stdout",
     "output_type": "stream",
     "text": [
      "\n",
      "Tell me something, and I will repeat it back to you:\n",
      "Enter 'quit' to end the program. u\n",
      "u\n",
      "\n",
      "Tell me something, and I will repeat it back to you:\n",
      "Enter 'quit' to end the program. sus\n",
      "sus\n",
      "\n",
      "Tell me something, and I will repeat it back to you:\n",
      "Enter 'quit' to end the program. quit\n",
      "quit\n"
     ]
    }
   ],
   "source": [
    "prompt = \"\\nTell me something, and I will repeat it back to you:\"\n",
    "prompt += \"\\nEnter 'quit' to end the program. \"\n",
    "\n",
    "message = \"\" # so python has sth to check the first time it reaches the while line.\n",
    "while message != 'quit':\n",
    "    message = input(prompt)\n",
    "    print(message)"
   ]
  },
  {
   "cell_type": "markdown",
   "id": "66724db4",
   "metadata": {},
   "source": [
    "should not print the word quit as if it were an actual message. fix by only prints the message if it does not match the quit value: "
   ]
  },
  {
   "cell_type": "code",
   "execution_count": 2,
   "id": "1e2ccdae",
   "metadata": {},
   "outputs": [
    {
     "name": "stdout",
     "output_type": "stream",
     "text": [
      "\n",
      "Tell me something, and I will repeat it back to you:\n",
      "Enter 'quit' to end the program. u\n",
      "u\n",
      "\n",
      "Tell me something, and I will repeat it back to you:\n",
      "Enter 'quit' to end the program. sus\n",
      "sus\n",
      "\n",
      "Tell me something, and I will repeat it back to you:\n",
      "Enter 'quit' to end the program. quit\n"
     ]
    }
   ],
   "source": [
    "prompt = \"\\nTell me something, and I will repeat it back to you:\"\n",
    "prompt += \"\\nEnter 'quit' to end the program. \"\n",
    "\n",
    "message = \"\" # so python has sth to check the first time it reaches the while line.\n",
    "while message != 'quit':\n",
    "    message = input(prompt)\n",
    "    \n",
    "    if message != 'quit':\n",
    "        print(message)"
   ]
  },
  {
   "cell_type": "markdown",
   "id": "829b8c6d",
   "metadata": {},
   "source": [
    "**Using a flag** "
   ]
  },
  {
   "cell_type": "markdown",
   "id": "69efeb92",
   "metadata": {},
   "source": [
    "- There are cases when there are more complicated programs in which many different events could cause the program to stop running.\n",
    "- it will be too complicated trying to test all these conditions in one while statement. \n",
    "- can define one variable that determines whether or not the entire program is active (flag)\n",
    "- our overall while statement needs to check only one condition: whether the flag is currently true"
   ]
  },
  {
   "cell_type": "code",
   "execution_count": 4,
   "id": "ee7c41fc",
   "metadata": {},
   "outputs": [
    {
     "name": "stdout",
     "output_type": "stream",
     "text": [
      "\n",
      "Enter 'quit' to end the program.d\n",
      "d\n",
      "\n",
      "Enter 'quit' to end the program.quite\n",
      "quite\n",
      "\n",
      "Enter 'quit' to end the program.quit\n"
     ]
    }
   ],
   "source": [
    "prompt = \"\\nTell me something, and I will repeat it back to you:\"\n",
    "prompt = \"\\nEnter 'quit' to end the program.\"\n",
    "\n",
    "active = True\n",
    "while active:\n",
    "    message = input(prompt)\n",
    "    \n",
    "    if message == 'quit':\n",
    "        active = False\n",
    "    else:\n",
    "        print(message)"
   ]
  },
  {
   "cell_type": "markdown",
   "id": "a77d0f74",
   "metadata": {},
   "source": [
    "As long as the active variable remains True, the loop will continue running. This program has the same output as the previous example where we placed the conditional test directly. But now we have a flag to indicate whether the overall program is in an active state, it would be easy to add more tests (elif statements) for events that should cause active to become False."
   ]
  },
  {
   "cell_type": "markdown",
   "id": "ae20a123",
   "metadata": {},
   "source": [
    "**Using break to exit a loop** "
   ]
  },
  {
   "cell_type": "markdown",
   "id": "1538c6c3",
   "metadata": {},
   "source": [
    "- a loop that starts with **'while True'** will run forever unless it reaches break statement\n",
    "- to exit a while loop immediately without running any reimaining code in the loop, use the break statement."
   ]
  },
  {
   "cell_type": "code",
   "execution_count": 5,
   "id": "00523ddd",
   "metadata": {},
   "outputs": [
    {
     "name": "stdout",
     "output_type": "stream",
     "text": [
      "\n",
      "Please enter the name of a city you have visited\n",
      "(Enter 'quit' when you are finished.) New York\n",
      "I'd love to go to New York!\n",
      "\n",
      "Please enter the name of a city you have visited\n",
      "(Enter 'quit' when you are finished.) Barcelona\n",
      "I'd love to go to Barcelona!\n",
      "\n",
      "Please enter the name of a city you have visited\n",
      "(Enter 'quit' when you are finished.) quit\n"
     ]
    }
   ],
   "source": [
    "prompt = \"\\nPlease enter the name of a city you have visited\"\n",
    "prompt +=\"\\n(Enter 'quit' when you are finished.)\"\n",
    "\n",
    "while True:\n",
    "    city = input(prompt)\n",
    "    \n",
    "    if city == 'quit':\n",
    "        break\n",
    "    else:\n",
    "        print(f\"I'd love to go to {city.title()}!\")"
   ]
  },
  {
   "cell_type": "markdown",
   "id": "3d90354f",
   "metadata": {},
   "source": [
    "**Using continue in a loop** "
   ]
  },
  {
   "cell_type": "markdown",
   "id": "c082fad6",
   "metadata": {},
   "source": [
    "We can use the continue statement to return to the beginning of the loop, based on the result of a conditional test. \n",
    "For example, consider a loop that counts from 1 to 10 but prints only the odd numbers in the range. we set the current to 0 and then it increments by 1. 1 is checked the condition whether the number is divisible by 2. Since the number is not divisible by 2, the rest of the loop is executed and python prints the current number."
   ]
  },
  {
   "cell_type": "code",
   "execution_count": null,
   "id": "38fd91ab",
   "metadata": {},
   "outputs": [],
   "source": [
    "current_number = 0\n",
    "while current_number <10:\n",
    "    current_number += 1\n",
    "    if current_number % 2 == 0:\n",
    "        continue\n",
    "    print(current_number)"
   ]
  },
  {
   "cell_type": "markdown",
   "id": "5a6bc5ce",
   "metadata": {},
   "source": [
    "**Avoiding infinite loops**"
   ]
  },
  {
   "cell_type": "markdown",
   "id": "1a90c437",
   "metadata": {},
   "source": [
    "If we omit the x += 1, the loop will run forever since x = 1 always <= 5. "
   ]
  },
  {
   "cell_type": "code",
   "execution_count": null,
   "id": "9e00d375",
   "metadata": {},
   "outputs": [],
   "source": [
    "x = 1\n",
    "while x <= 5:\n",
    "    print(x)\n",
    "    x += 1"
   ]
  },
  {
   "cell_type": "markdown",
   "id": "15d7a117",
   "metadata": {},
   "source": [
    "**Try it YOURSELF** "
   ]
  },
  {
   "cell_type": "markdown",
   "id": "4b9925ce",
   "metadata": {},
   "source": [
    "**7-4: Pizza Toppings** "
   ]
  },
  {
   "cell_type": "code",
   "execution_count": 4,
   "id": "3fafe53a",
   "metadata": {},
   "outputs": [],
   "source": [
    "prompt = \"\\nEnter the toppings you wanna add on your pizza\"\n",
    "prompt += \"\\n(Enter 'quit' when you are done!)\""
   ]
  },
  {
   "cell_type": "code",
   "execution_count": 5,
   "id": "2be35c75",
   "metadata": {},
   "outputs": [
    {
     "name": "stdout",
     "output_type": "stream",
     "text": [
      "\n",
      "Enter the toppings you wanna add on your pizza\n",
      "(Enter 'quit' when you are done!)cheese\n",
      "cheese\n",
      "\n",
      "Enter the toppings you wanna add on your pizza\n",
      "(Enter 'quit' when you are done!)pepper\n",
      "pepper\n",
      "\n",
      "Enter the toppings you wanna add on your pizza\n",
      "(Enter 'quit' when you are done!)tomatoes \n",
      "tomatoes \n",
      "\n",
      "Enter the toppings you wanna add on your pizza\n",
      "(Enter 'quit' when you are done!)quit\n",
      "quit\n"
     ]
    }
   ],
   "source": [
    "message = \"\"\n",
    "while message != 'quit':\n",
    "    message = input(prompt)\n",
    "    print(message)"
   ]
  },
  {
   "cell_type": "markdown",
   "id": "457cb093",
   "metadata": {},
   "source": [
    "**7-5: Movie Tickets** "
   ]
  },
  {
   "cell_type": "code",
   "execution_count": 7,
   "id": "c914f28a",
   "metadata": {},
   "outputs": [],
   "source": [
    "prompt = \"\\nEnter your age to find out about the ticket prices \""
   ]
  },
  {
   "cell_type": "code",
   "execution_count": 29,
   "id": "ddecc896",
   "metadata": {},
   "outputs": [
    {
     "name": "stdout",
     "output_type": "stream",
     "text": [
      "\n",
      "Enter your age to find out about the ticket prices 6\n",
      "the ticket is $10\n",
      "\n",
      "Enter your age to find out about the ticket prices quit\n"
     ]
    }
   ],
   "source": [
    "message = \"\"\n",
    "while True:\n",
    "    message = input(prompt)\n",
    "    if message == 'quit':\n",
    "        break\n",
    "    message = int(message)\n",
    "    \n",
    "    if message <= 3:\n",
    "        print(\"the ticker is fucking free\")\n",
    "    elif 3 < message < 12:\n",
    "        print(\"the ticket is $10\")\n",
    "    else: \n",
    "        print(\"the ticket is $15\")\n"
   ]
  },
  {
   "cell_type": "code",
   "execution_count": 31,
   "id": "9811aa70",
   "metadata": {},
   "outputs": [
    {
     "name": "stdout",
     "output_type": "stream",
     "text": [
      "\n",
      "Enter your age to find out about the ticket prices quit\n"
     ]
    }
   ],
   "source": [
    "active = True\n",
    "while active:\n",
    "    message = input(prompt)\n",
    "    \n",
    "    if message == 'quit':\n",
    "        active = False\n",
    "    else:\n",
    "        message = int(message)  # Convert input to integer\n",
    "        \n",
    "        if message <= 3:\n",
    "            print(\"the ticket is fucking free\")\n",
    "        elif 3 < message < 12:\n",
    "            print(\"the ticket is $10\")\n",
    "        else: \n",
    "            print(\"the ticket is $15\")"
   ]
  },
  {
   "cell_type": "markdown",
   "id": "b4f39bb3",
   "metadata": {},
   "source": [
    "**7-7: Infinity** "
   ]
  },
  {
   "cell_type": "code",
   "execution_count": null,
   "id": "8b9d62c8",
   "metadata": {},
   "outputs": [],
   "source": [
    "x = 1\n",
    "while True:\n",
    "    x <= 5\n",
    "    print(x)"
   ]
  },
  {
   "cell_type": "markdown",
   "id": "351e3f17",
   "metadata": {},
   "source": [
    "## Using a while loop with lists and dictionaries"
   ]
  },
  {
   "cell_type": "markdown",
   "id": "2b5993b8",
   "metadata": {},
   "source": [
    "- to keep track of many users and pieces of information, we will need to use lists and dictionaries \n",
    "- should not use a for loop: Python might have trouble keeping track of the items in the list because modifying the list changes its length and the index of elements, which can mess up the iteration process."
   ]
  },
  {
   "cell_type": "markdown",
   "id": "1d768b3f",
   "metadata": {},
   "source": [
    "**The difference between a for loop and a while loop**"
   ]
  },
  {
   "cell_type": "markdown",
   "id": "e036c191",
   "metadata": {},
   "source": [
    "a For loop: use when you know the number of iterations beforehand and execute each element in sequence. "
   ]
  },
  {
   "cell_type": "code",
   "execution_count": 34,
   "id": "f5bb51bf",
   "metadata": {},
   "outputs": [
    {
     "name": "stdout",
     "output_type": "stream",
     "text": [
      "1\n",
      "2\n",
      "3\n",
      "4\n",
      "5\n"
     ]
    }
   ],
   "source": [
    "for i in range(1, 6):\n",
    "    print(i)"
   ]
  },
  {
   "cell_type": "markdown",
   "id": "c6355c70",
   "metadata": {},
   "source": [
    "a while loop: repeatedly executes the loop body as long as the condition remains true.  while i <= 5 checks if i is less than or equal to 5. If true, the loop body is executed, printing i, and then i is incremented. The loop continues until i is no longer less than or equal to 5."
   ]
  },
  {
   "cell_type": "code",
   "execution_count": 35,
   "id": "c9205488",
   "metadata": {},
   "outputs": [
    {
     "name": "stdout",
     "output_type": "stream",
     "text": [
      "1\n",
      "2\n",
      "3\n",
      "4\n",
      "5\n"
     ]
    }
   ],
   "source": [
    "i = 1\n",
    "while i <= 5:\n",
    "    print(i)\n",
    "    i += 1"
   ]
  },
  {
   "cell_type": "markdown",
   "id": "d2b41372",
   "metadata": {},
   "source": [
    "**Moving items from one list to another**"
   ]
  },
  {
   "cell_type": "markdown",
   "id": "238b5c77",
   "metadata": {},
   "source": [
    "- **pop()** removes users one at a time from the end of unconfirmed_users. Because Candace is last in the unconfirmed_users list, her name will be first to be removed\n",
    "\n",
    "- the while loop runs as long as the list in the unconfirmed_users is not empty.\n"
   ]
  },
  {
   "cell_type": "code",
   "execution_count": 36,
   "id": "9ac37e51",
   "metadata": {},
   "outputs": [
    {
     "name": "stdout",
     "output_type": "stream",
     "text": [
      "Verifying user:Candace\n",
      "Verifying user:Brain\n",
      "Verifying user:Alice\n",
      "\n",
      "The following users have been confirmed:\n",
      "Candace\n",
      "Brain\n",
      "Alice\n"
     ]
    }
   ],
   "source": [
    "unconfirmed_users =['alice','brain','candace']\n",
    "confirmed_users =[]\n",
    "\n",
    "while unconfirmed_users:\n",
    "    current_user = unconfirmed_users.pop()\n",
    "    \n",
    "    print(f\"Verifying user:{current_user.title()}\")\n",
    "    confirmed_users.append(current_user)\n",
    "print(\"\\nThe following users have been confirmed:\")\n",
    "for confirmed_user in confirmed_users:\n",
    "    print(confirmed_user.title())"
   ]
  },
  {
   "cell_type": "markdown",
   "id": "bb3e5bf4",
   "metadata": {},
   "source": [
    "**Removing all instances of specific values from a list**"
   ]
  },
  {
   "cell_type": "markdown",
   "id": "5ecf7f2e",
   "metadata": {},
   "source": [
    "**remove()** function remove a specific value from a list. if there are repetitive values, they cannot be all removed, but only one instance. you can run a while loop to remove all instances of that value."
   ]
  },
  {
   "cell_type": "code",
   "execution_count": 38,
   "id": "aba5e21a",
   "metadata": {},
   "outputs": [
    {
     "name": "stdout",
     "output_type": "stream",
     "text": [
      "['dog', 'cat', 'dog', 'goldfish', 'cat', 'rabbit', 'cat']\n",
      "['dog', 'dog', 'goldfish', 'rabbit']\n"
     ]
    }
   ],
   "source": [
    "pets = ['dog','cat','dog','goldfish','cat','rabbit','cat']\n",
    "print(pets)\n",
    "\n",
    "while 'cat' in pets:\n",
    "    pets.remove('cat')\n",
    "    \n",
    "print(pets)"
   ]
  },
  {
   "cell_type": "markdown",
   "id": "7159b116",
   "metadata": {},
   "source": [
    " Once inside the loop, Python removes the first instance of **'cat'**, returns to the while line, and then reenters the loop when it finds that **'cat'** is still in the list. It removes each instance of 'cat' until the value is no longer in the list, at which point Python exits the loop and prints the list again"
   ]
  },
  {
   "cell_type": "markdown",
   "id": "6ce44e18",
   "metadata": {},
   "source": [
    "**Filling a Dictionary with User input**"
   ]
  },
  {
   "cell_type": "markdown",
   "id": "e4e43b70",
   "metadata": {},
   "source": [
    "Let's make a polling program in which each pass through the loop prompts for the participant's name and response. "
   ]
  },
  {
   "cell_type": "code",
   "execution_count": 40,
   "id": "aaed3615",
   "metadata": {},
   "outputs": [
    {
     "name": "stdout",
     "output_type": "stream",
     "text": [
      "\n",
      "What is your name? erica\n",
      "Which mountain would you like to climb someday? denali\n",
      "Would you like to let another person respond? (yes/no) yes\n",
      "\n",
      "What is your name? chen\n",
      "Which mountain would you like to climb someday? everest \n",
      "Would you like to let another person respond? (yes/no) no\n",
      "\n",
      "-- Poll Results ---\n",
      "erica would like to climb denali.\n",
      "chen would like to climb everest .\n"
     ]
    }
   ],
   "source": [
    "responses = {} \n",
    "polling_active = True\n",
    "while polling_active: \n",
    "    name = input(\"\\nWhat is your name? \")\n",
    "    response = input(\"Which mountain would you like to climb someday? \")\n",
    "    # store the response in the dictionary \n",
    "    responses[name] = response \n",
    "    \n",
    "    # Find out if anyone else is going to take the poll.\n",
    "    repeat = input(\"Would you like to let another person respond? (yes/no) \")\n",
    "    if repeat == \"no\":\n",
    "        polling_active = False\n",
    "        \n",
    "# Polling is complete. Show the result\n",
    "print(\"\\n-- Poll Results ---\")\n",
    "for name, response in responses.items():\n",
    "    print(f\"{name} would like to climb {response}.\")"
   ]
  },
  {
   "cell_type": "markdown",
   "id": "c08e1dbf",
   "metadata": {},
   "source": [
    "**try it yourself**"
   ]
  },
  {
   "cell_type": "markdown",
   "id": "1a23bbf1",
   "metadata": {},
   "source": [
    "7-8 Deli:"
   ]
  },
  {
   "cell_type": "code",
   "execution_count": 41,
   "id": "03a9b1b9",
   "metadata": {},
   "outputs": [
    {
     "name": "stdout",
     "output_type": "stream",
     "text": [
      " Your Chicken Sandwich is ready to be pick up! \n",
      " Your Grilled Cheese Sandwich is ready to be pick up! \n",
      " Your Egg Sandwich is ready to be pick up! \n",
      "\n",
      " The following sandwiches are ready:\n",
      "Chicken Sandwich\n",
      "Grilled Cheese Sandwich\n",
      "Egg Sandwich\n"
     ]
    }
   ],
   "source": [
    "sandwich_orders = ['Egg Sandwich','Grilled Cheese Sandwich','Chicken Sandwich']\n",
    "finished_sandwiches = []\n",
    "\n",
    "while sandwich_orders:\n",
    "    finish_orders = sandwich_orders.pop()\n",
    "    \n",
    "    print(f\" Your {finish_orders} is ready to be pick up! \")\n",
    "    finished_sandwiches.append(finish_orders)\n",
    "print(\"\\n The following sandwiches are ready:\")\n",
    "for sandwich in finished_sandwiches:\n",
    "    print(sandwich)\n",
    "    "
   ]
  },
  {
   "cell_type": "markdown",
   "id": "63eede3b",
   "metadata": {},
   "source": [
    "7-9 No pastrami:"
   ]
  },
  {
   "cell_type": "code",
   "execution_count": 47,
   "id": "8a707dab",
   "metadata": {},
   "outputs": [
    {
     "name": "stdout",
     "output_type": "stream",
     "text": [
      "We run out of pastrami :(\n",
      "\n",
      "\n",
      "Your chicken sandwich is ready!\n",
      "Your grilled cheese sandwich is ready!\n",
      "Your egg sandwich is ready!\n",
      "\n",
      " The following sandwiches are ready:\n",
      "chicken sandwich\n",
      "grilled cheese sandwich\n",
      "egg sandwich\n"
     ]
    }
   ],
   "source": [
    "sandwich_orders = ['pastrami','egg sandwich','pastrami','grilled cheese sandwich','pastrami','chicken sandwich','pastrami']\n",
    "finished_sandwiches = []\n",
    "print(\"We run out of pastrami :(\")\n",
    "\n",
    "while 'pastrami' in sandwich_orders:\n",
    "    sandwich_orders.remove('pastrami')\n",
    "\n",
    "print(\"\\n\")\n",
    "\n",
    "while sandwich_orders:\n",
    "    finish_orders = sandwich_orders.pop()\n",
    "\n",
    "    print(f\"Your {finish_orders} is ready!\")\n",
    "    finished_sandwiches.append(finish_orders)\n",
    "print(\"\\n The following sandwiches are ready:\")\n",
    "for sandwich in finished_sandwiches:\n",
    "    print(sandwich)\n",
    "\n",
    "    \n",
    "\n"
   ]
  },
  {
   "cell_type": "markdown",
   "id": "a99131ed",
   "metadata": {},
   "source": [
    "7-10 Dream Vacation:"
   ]
  },
  {
   "cell_type": "code",
   "execution_count": 50,
   "id": "356ea466",
   "metadata": {},
   "outputs": [
    {
     "name": "stdout",
     "output_type": "stream",
     "text": [
      "\n",
      "What is your name? chen\n",
      "Where is your dream vacation? turkey\n",
      "would you want others to respond (yes/no)yes\n",
      "\n",
      "What is your name? ma\n",
      "Where is your dream vacation? d\n",
      "would you want others to respond (yes/no)no\n",
      "\n",
      "Poll results\n",
      "chen want to visit turkey\n",
      "ma want to visit d\n"
     ]
    }
   ],
   "source": [
    "responses ={}\n",
    "polling_active = True \n",
    "while polling_active:\n",
    "    name = input(\"\\nWhat is your name? \")\n",
    "    response = input(\"Where is your dream vacation? \")\n",
    "    responses[name] = response\n",
    "    repeat = input(\"would you want others to respond (yes/no)\")\n",
    "    if repeat == 'no':\n",
    "        polling_active = False\n",
    "print(\"\\nPoll results\")\n",
    "for name, response in responses.items():\n",
    "    print(f\"{name} want to visit {response}\")"
   ]
  },
  {
   "cell_type": "code",
   "execution_count": 54,
   "id": "642e2d04",
   "metadata": {},
   "outputs": [
    {
     "name": "stdout",
     "output_type": "stream",
     "text": [
      "\n",
      "What is your name? Chen\n",
      "Where is your dream vacation? Turkey\n",
      "\n",
      "Select 'no' if you have no friends to help us fill the pollyes\n",
      "\n",
      "What is your name? shin\n",
      "Where is your dream vacation? Italy\n",
      "\n",
      "Select 'no' if you have no friends to help us fill the pollyes\n",
      "\n",
      "What is your name? May\n",
      "Where is your dream vacation? Italy\n",
      "\n",
      "Select 'no' if you have no friends to help us fill the pollno\n",
      "\n",
      "Poll results\n",
      "Chen want to visit Turkey\n",
      "Shin want to visit Italy\n",
      "May want to visit Italy\n"
     ]
    }
   ],
   "source": [
    "name_prompt = \"\\nWhat is your name? \"\n",
    "place_prompt = \"Where is your dream vacation? \"\n",
    "repeat_prompt = \"\\nSelect 'no' if you have no friends to help us fill the poll\"\n",
    "\n",
    "responses = {}\n",
    "\n",
    "while True:\n",
    "    name = input(name_prompt)\n",
    "    place = input(place_prompt)\n",
    "    responses[name] = place\n",
    "    repeat = input(repeat_prompt)\n",
    "    if repeat == 'no':\n",
    "        break\n",
    "print(\"\\nPoll results\")\n",
    "for name, place in responses.items():\n",
    "    print(f\"{name.title()} wants to visit {place.title()}\")\n"
   ]
  },
  {
   "cell_type": "markdown",
   "id": "a6123482",
   "metadata": {},
   "source": [
    "#  Chapter 8: Functions "
   ]
  },
  {
   "cell_type": "markdown",
   "id": "6d45f2de",
   "metadata": {},
   "source": [
    "## Difining a function "
   ]
  },
  {
   "cell_type": "markdown",
   "id": "ee5347cc",
   "metadata": {},
   "source": [
    "Functions are named blocks of code designed to perform a particular task."
   ]
  },
  {
   "cell_type": "code",
   "execution_count": 55,
   "id": "6df2a57a",
   "metadata": {},
   "outputs": [
    {
     "name": "stdout",
     "output_type": "stream",
     "text": [
      "Hello!\n"
     ]
    }
   ],
   "source": [
    "def greet_user():\n",
    "    \"\"\"Display a simple greeting.\"\"\"\n",
    "    print(\"Hello!\")\n",
    "greet_user()"
   ]
  },
  {
   "cell_type": "markdown",
   "id": "31f15c96",
   "metadata": {},
   "source": [
    "- **def**: function definition\n",
    "- Any indented lines that follows def greet_user(): make up the body of the function. \n",
    "- docstring: describe what the function does and enclosed in triple quotes."
   ]
  },
  {
   "cell_type": "markdown",
   "id": "62ac4eb2",
   "metadata": {},
   "source": [
    "**Passing Information to a Function**\n",
    "\n",
    "modify the function greet_user() to greet the user by name by adding username here. The function now expects you to provide a value for username each time you call it. "
   ]
  },
  {
   "cell_type": "code",
   "execution_count": 56,
   "id": "f1b3677a",
   "metadata": {},
   "outputs": [
    {
     "name": "stdout",
     "output_type": "stream",
     "text": [
      "Hello, Chen!\n"
     ]
    }
   ],
   "source": [
    "def greet_user(username):\n",
    "    \"\"\"Display a simple greeting.\"\"\"\n",
    "    print(f\"Hello, {username.title()}!\")\n",
    "greet_user('chen')"
   ]
  },
  {
   "cell_type": "markdown",
   "id": "30e17b7c",
   "metadata": {},
   "source": [
    "**Arguments and Parameters**"
   ]
  },
  {
   "cell_type": "markdown",
   "id": "888f9efe",
   "metadata": {},
   "source": [
    "- The variable *username* is a parameter\n",
    "- we call 'chen' as an argement since it is a piece of informtation that's passed from a function call to a function and the value was assigned to the parameter *username*.\n",
    "- people use argements and parameters interchangeably! "
   ]
  },
  {
   "cell_type": "markdown",
   "id": "39f093b2",
   "metadata": {},
   "source": [
    "**Try it yourself**"
   ]
  },
  {
   "cell_type": "markdown",
   "id": "61d80240",
   "metadata": {},
   "source": [
    "**8-1: Message**"
   ]
  },
  {
   "cell_type": "code",
   "execution_count": 57,
   "id": "67770565",
   "metadata": {},
   "outputs": [
    {
     "name": "stdout",
     "output_type": "stream",
     "text": [
      "I learned components of the function\n"
     ]
    }
   ],
   "source": [
    "def display_message():\n",
    "    \"\"\"display a message what i learned.\"\"\"\n",
    "    print(\"I learned components of the function\")\n",
    "display_message()"
   ]
  },
  {
   "cell_type": "markdown",
   "id": "8ca49e85",
   "metadata": {},
   "source": [
    "**8-2: Favorite Book**"
   ]
  },
  {
   "cell_type": "code",
   "execution_count": 58,
   "id": "834cc52c",
   "metadata": {},
   "outputs": [
    {
     "name": "stdout",
     "output_type": "stream",
     "text": [
      "One of my favorite books is Man'S Search For Meaning\n"
     ]
    }
   ],
   "source": [
    "def favorite_book(title):\n",
    "    \"\"\"display the name of books.\"\"\"\n",
    "    print(f\"One of my favorite books is {title.title()}\")\n",
    "favorite_book(\"Man's Search for Meaning\")"
   ]
  },
  {
   "cell_type": "markdown",
   "id": "3105ae5b",
   "metadata": {},
   "source": [
    "## Passing Arguments"
   ]
  },
  {
   "cell_type": "markdown",
   "id": "e0ba29ba",
   "metadata": {},
   "source": [
    "### 1. Positional Arguments"
   ]
  },
  {
   "cell_type": "markdown",
   "id": "70f50649",
   "metadata": {},
   "source": [
    "**Positional arguments**: Python match each argument in the function call based on the order of the arguments provided. "
   ]
  },
  {
   "cell_type": "code",
   "execution_count": 60,
   "id": "1aa1def7",
   "metadata": {},
   "outputs": [
    {
     "name": "stdout",
     "output_type": "stream",
     "text": [
      "\n",
      "I have a kitty.\n",
      "My kitty's name is Soju.\n"
     ]
    }
   ],
   "source": [
    "def describe_pet(animal_type,pet_name):\n",
    "    \"\"\"Display information about a pet.\"\"\"\n",
    "    print(f\"\\nI have a {animal_type}.\")\n",
    "    print(f\"My {animal_type}'s name is {pet_name.title()}.\")\n",
    "\n",
    "describe_pet('kitty','soju')"
   ]
  },
  {
   "cell_type": "markdown",
   "id": "aa3702b8",
   "metadata": {},
   "source": [
    "The definition shows that this function needs a type of animal and the animal's name in the order."
   ]
  },
  {
   "cell_type": "markdown",
   "id": "02e3fa08",
   "metadata": {},
   "source": [
    "**Multiple function calls**: can call a function as many times as needed! This is why function is an efficient way to work!"
   ]
  },
  {
   "cell_type": "code",
   "execution_count": 61,
   "id": "4b19ae2f",
   "metadata": {},
   "outputs": [
    {
     "name": "stdout",
     "output_type": "stream",
     "text": [
      "\n",
      "I have a cat.\n",
      "My cat's name is Soju.\n",
      "\n",
      "I have a dog.\n",
      "My dog's name is Willie.\n"
     ]
    }
   ],
   "source": [
    "describe_pet('cat','soju')\n",
    "describe_pet('dog','willie')"
   ]
  },
  {
   "cell_type": "markdown",
   "id": "ce62aca8",
   "metadata": {},
   "source": [
    "**Order matters in positional arguments**: make sure the order of the arguments in your function call matches the order of the parameters in the function's definition. "
   ]
  },
  {
   "cell_type": "code",
   "execution_count": 62,
   "id": "703419d2",
   "metadata": {},
   "outputs": [
    {
     "name": "stdout",
     "output_type": "stream",
     "text": [
      "\n",
      "I have a soju.\n",
      "My soju's name is Cat.\n"
     ]
    }
   ],
   "source": [
    "describe_pet('soju','cat')"
   ]
  },
  {
   "cell_type": "markdown",
   "id": "cede7ebc",
   "metadata": {},
   "source": [
    "### 2. Keyword Arguments \n",
    "\n",
    "put a name-value pair that you pass to a function. associate the name and the value within the argument. But you should be sure to use the exact names of the parameters in the function's definition!"
   ]
  },
  {
   "cell_type": "code",
   "execution_count": 63,
   "id": "0d2974c4",
   "metadata": {},
   "outputs": [
    {
     "name": "stdout",
     "output_type": "stream",
     "text": [
      "\n",
      "I have a cat.\n",
      "My cat's name is Soju.\n"
     ]
    }
   ],
   "source": [
    "describe_pet(pet_name = 'soju',animal_type='cat')"
   ]
  },
  {
   "cell_type": "markdown",
   "id": "7cc557f5",
   "metadata": {},
   "source": [
    "### 3. Default values \n",
    "\n",
    "We can provide the default value. Python uses it when a parameter is not provided. Using a default values simplify the function calls and clarify the ways the functions are typically used. "
   ]
  },
  {
   "cell_type": "code",
   "execution_count": 67,
   "id": "b9a95e33",
   "metadata": {},
   "outputs": [
    {
     "name": "stdout",
     "output_type": "stream",
     "text": [
      "\n",
      "I have a cat.\n",
      "My cat's name is Soju.\n",
      "\n",
      "I have a cat.\n",
      "My cat's name is Soju.\n",
      "\n",
      "I have a cat.\n",
      "My cat's name is Soju.\n"
     ]
    }
   ],
   "source": [
    "def describe_pet(pet_name, animal_type='cat'):\n",
    "    \"\"\"Display infor abt a pet.\"\"\"\n",
    "    print(f\"\\nI have a {animal_type}.\")\n",
    "    print(f\"My {animal_type}'s name is {pet_name.title()}.\")\n",
    "describe_pet(pet_name='soju')\n",
    "describe_pet('soju')\n",
    "describe_pet('soju','cat')"
   ]
  },
  {
   "cell_type": "markdown",
   "id": "2309b1b5",
   "metadata": {},
   "source": [
    "the two results are the same. The default value makes it unnecessary to specify a type of animal as an argument."
   ]
  },
  {
   "cell_type": "markdown",
   "id": "c76ddea8",
   "metadata": {},
   "source": [
    "### 3. Avoiding argument errors \n",
    "\n",
    "Unmatched arguments occur when you provide fewer or more arguments thn a function needs to do its work."
   ]
  },
  {
   "cell_type": "code",
   "execution_count": 68,
   "id": "99a87a16",
   "metadata": {},
   "outputs": [
    {
     "ename": "TypeError",
     "evalue": "describe_pet() missing 1 required positional argument: 'pet_name'",
     "output_type": "error",
     "traceback": [
      "\u001b[0;31m---------------------------------------------------------------------------\u001b[0m",
      "\u001b[0;31mTypeError\u001b[0m                                 Traceback (most recent call last)",
      "Cell \u001b[0;32mIn[68], line 1\u001b[0m\n\u001b[0;32m----> 1\u001b[0m \u001b[43mdescribe_pet\u001b[49m\u001b[43m(\u001b[49m\u001b[43m)\u001b[49m\n",
      "\u001b[0;31mTypeError\u001b[0m: describe_pet() missing 1 required positional argument: 'pet_name'"
     ]
    }
   ],
   "source": [
    "describe_pet() "
   ]
  },
  {
   "cell_type": "markdown",
   "id": "be8fc58f",
   "metadata": {},
   "source": [
    "- Miss one required positional argument since there is one default value as you can see in the type error that it report the name of the missing argument.\n",
    "- Giving your variables and functions names are useful for others who might use your code. "
   ]
  },
  {
   "cell_type": "markdown",
   "id": "d28c5ba7",
   "metadata": {},
   "source": [
    "**Try it your self!2**"
   ]
  },
  {
   "cell_type": "markdown",
   "id": "191822f7",
   "metadata": {},
   "source": [
    "**8-3: T-shirt**"
   ]
  },
  {
   "cell_type": "code",
   "execution_count": 70,
   "id": "71c0bb31",
   "metadata": {},
   "outputs": [
    {
     "name": "stdout",
     "output_type": "stream",
     "text": [
      "the size is M\n"
     ]
    }
   ],
   "source": [
    "def make_shirt(size):\n",
    "    \"\"\"Display the size of a shirt\"\"\"\n",
    "    print(f\"the size is {size.title()}\")\n",
    "\n",
    "make_shirt('m')"
   ]
  },
  {
   "cell_type": "markdown",
   "id": "fa6187e6",
   "metadata": {},
   "source": [
    "**8-4: Large shirts**"
   ]
  },
  {
   "cell_type": "code",
   "execution_count": 73,
   "id": "9cd4cde2",
   "metadata": {},
   "outputs": [
    {
     "name": "stdout",
     "output_type": "stream",
     "text": [
      "the size is Large and the message on the shirt is I love Python\n",
      "the size is Medium and the message on the shirt is I love Python\n",
      "the size is Medium and the message on the shirt is I Love Chinese\n"
     ]
    }
   ],
   "source": [
    "def make_shirt(size='Large',message='I love Python'):\n",
    "    \"\"\"Display the information of a shirt\"\"\"\n",
    "    print(f\"the size is {size.title()} and the message on the shirt is {message}\")\n",
    "\n",
    "make_shirt()\n",
    "make_shirt(size='medium')\n",
    "make_shirt('medium','I Love Chinese')"
   ]
  },
  {
   "cell_type": "markdown",
   "id": "454a554b",
   "metadata": {},
   "source": [
    "**8-5: Cities**"
   ]
  },
  {
   "cell_type": "code",
   "execution_count": 74,
   "id": "e20f9479",
   "metadata": {},
   "outputs": [
    {
     "name": "stdout",
     "output_type": "stream",
     "text": [
      "Barcelona is in Spain\n",
      "Bangkok is in Thailand\n",
      "Phuket is in Thailand\n"
     ]
    }
   ],
   "source": [
    "def describe_city(city,country='thailand'):\n",
    "    \"\"\"Display city and the country\"\"\"\n",
    "    print(f\"{city.title()} is in {country.title()}\")\n",
    "    \n",
    "describe_city('barcelona','spain')\n",
    "describe_city('bangkok')\n",
    "describe_city('phuket')"
   ]
  },
  {
   "cell_type": "markdown",
   "id": "6589806d",
   "metadata": {},
   "source": [
    "## Return values\n",
    "\n",
    "A function can also process some data and then return a value or set of values. The value function returns is called a *return value*."
   ]
  },
  {
   "cell_type": "markdown",
   "id": "0c82b5d8",
   "metadata": {},
   "source": [
    "### 1. Returning a simple value"
   ]
  },
  {
   "cell_type": "code",
   "execution_count": 75,
   "id": "d5e604f8",
   "metadata": {},
   "outputs": [
    {
     "name": "stdout",
     "output_type": "stream",
     "text": [
      "Jimi Hendrix\n"
     ]
    }
   ],
   "source": [
    "def get_formatted_name(first_name,last_name):\n",
    "    \"\"\"Return a full name, neatly formatted.\"\"\"\n",
    "    full_name = f\"{first_name} {last_name}\"\n",
    "    return full_name.title()\n",
    "\n",
    "musician = get_formatted_name('jimi', 'hendrix')\n",
    "print(musician)"
   ]
  },
  {
   "cell_type": "markdown",
   "id": "d8adf697",
   "metadata": {},
   "source": [
    "### 2. Making an argument optional \n",
    "- give the middle_name argument an **empty string** as a default value andignore the argument unless the user provides a value\n",
    "- move it to the end of the list of parameters.\n",
    "- Optional values allow functions to handle a wide range of use cases and letting function calls remain as simple as possible."
   ]
  },
  {
   "cell_type": "code",
   "execution_count": 79,
   "id": "3e987fd6",
   "metadata": {},
   "outputs": [
    {
     "name": "stdout",
     "output_type": "stream",
     "text": [
      "Jimi Hendrix\n",
      "Jimi Lee Hendrix\n"
     ]
    }
   ],
   "source": [
    "def get_formatted_name(first_name,last_name,middle_name=''):\n",
    "    \"\"\"Return a full name, neatly formatted.\"\"\"\n",
    "    if middle_name:\n",
    "        full_name = f\"{first_name} {middle_name} {last_name}\"\n",
    "    else:\n",
    "        full_name = f\"{first_name} {last_name}\"\n",
    "    return full_name.title()\n",
    "\n",
    "print(get_formatted_name('jimi','hendrix'))\n",
    "print(get_formatted_name('jimi','hendrix','lee'))"
   ]
  },
  {
   "cell_type": "markdown",
   "id": "86f4ac44",
   "metadata": {},
   "source": [
    "If no middle name is provided, the empty string fails the if test and the else block runs. We have to make sure the middle name is the last argument passed so Python will match up the positional arguments correctly "
   ]
  },
  {
   "cell_type": "markdown",
   "id": "5f54c4f7",
   "metadata": {},
   "source": [
    "### 3. Returning a Dictionary \n",
    "return any kind of value you need it to. For example, let's put the values into the dictionary."
   ]
  },
  {
   "cell_type": "code",
   "execution_count": 81,
   "id": "94f4a5cf",
   "metadata": {},
   "outputs": [],
   "source": [
    "def build_person(first_name, last_name):\n",
    "    \"\"\"Return a dictionary of information about a person\"\"\"\n",
    "    person = {'first':first_name, 'last':last_name}\n",
    "    return person # cannot use .title() since it is a dictionary!"
   ]
  },
  {
   "cell_type": "code",
   "execution_count": 82,
   "id": "b5d52f1a",
   "metadata": {},
   "outputs": [
    {
     "name": "stdout",
     "output_type": "stream",
     "text": [
      "{'first': 'jimi', 'last': 'hendrix'}\n"
     ]
    }
   ],
   "source": [
    "musician = build_person('jimi','hendrix')\n",
    "print(musician)"
   ]
  },
  {
   "cell_type": "markdown",
   "id": "78229aad",
   "metadata": {},
   "source": [
    "- also can add a new optional parameter **age** to the function definition and assigne the parameter the special value **None**, which is used when a variable has no specific value assigned to it.\n",
    "- In conditional tests, None evaluates to False. If the function call includes a value for age, that value is stored in the dictionary. "
   ]
  },
  {
   "cell_type": "code",
   "execution_count": 85,
   "id": "9aefa978",
   "metadata": {},
   "outputs": [
    {
     "name": "stdout",
     "output_type": "stream",
     "text": [
      "{'first': 'jimi', 'last': 'hedn'}\n",
      "{'first': 'Joey', 'last': 'Lee', 'age': 27}\n"
     ]
    }
   ],
   "source": [
    "def build_person(first_name, last_name, age=None):\n",
    "    \"\"\"Return a dictionary of information about a person.\"\"\"\n",
    "    person = {'first': first_name,'last':last_name}\n",
    "    if age:\n",
    "        person['age'] = age\n",
    "    return person \n",
    "\n",
    "print(build_person('jimi','hedn'))\n",
    "print(build_person('Joey','Lee',age=27))"
   ]
  },
  {
   "cell_type": "markdown",
   "id": "544b0c8e",
   "metadata": {},
   "source": [
    "### 4. Using a function with a while loop\n",
    "- can use while loop to greet users more formally."
   ]
  },
  {
   "cell_type": "code",
   "execution_count": null,
   "id": "8256987b",
   "metadata": {},
   "outputs": [],
   "source": [
    "def get_formatted_name(first_name,last_name):\n",
    "    \"\"\"Return a full name,neatly formatted.\"\"\"\n",
    "    full_name = f\"{first_name} {last_name}\"\n",
    "    return full_name.title()\n",
    "\n",
    "while True:\n",
    "    print(\"\\nPlease tell me your name:\")\n",
    "    f_name = input(\"First name: \")\n",
    "    l_name = input(\"Last name: \")\n",
    "    \n",
    "    formatted_name = get_formatted_name(f_name, l_name)\n",
    "    print(f\"\\nHello, {formatted_name}!\")"
   ]
  },
  {
   "cell_type": "markdown",
   "id": "8700d917",
   "metadata": {},
   "source": [
    "but this is an infinite loop. let's adjust to let the user quit as easily as possible by adding a way to quit in each prompt."
   ]
  },
  {
   "cell_type": "code",
   "execution_count": 87,
   "id": "1eb16745",
   "metadata": {},
   "outputs": [
    {
     "name": "stdout",
     "output_type": "stream",
     "text": [
      "\n",
      "Please tell me your name:\n",
      "enter 'q' to quit\n",
      "First name: Theo\n",
      "Last name: James\n",
      "\n",
      "Hello, Theo James!\n",
      "\n",
      "Please tell me your name:\n",
      "enter 'q' to quit\n",
      "First name: Shailene \n",
      "Last name: Woodley\n",
      "\n",
      "Hello, Shailene  Woodley!\n",
      "\n",
      "Please tell me your name:\n",
      "enter 'q' to quit\n",
      "First name: q\n"
     ]
    }
   ],
   "source": [
    "def get_formatted_name(first_name,last_name):\n",
    "    \"\"\"Return a full name,neatly formatted.\"\"\"\n",
    "    full_name = f\"{first_name} {last_name}\"\n",
    "    return full_name.title()\n",
    "\n",
    "while True:\n",
    "    print(\"\\nPlease tell me your name:\")\n",
    "    print(\"enter 'q' to quit\")\n",
    "    \n",
    "    f_name = input(\"First name: \")\n",
    "    if f_name == 'q':\n",
    "        break\n",
    "        \n",
    "    l_name = input(\"Last name: \")\n",
    "    if l_name == 'q':\n",
    "        break\n",
    "    \n",
    "    formatted_name = get_formatted_name(f_name, l_name)\n",
    "    print(f\"\\nHello, {formatted_name}!\")"
   ]
  },
  {
   "cell_type": "markdown",
   "id": "dcb9af53",
   "metadata": {},
   "source": [
    "**Try it yourself 3**"
   ]
  },
  {
   "cell_type": "markdown",
   "id": "ce8e7951",
   "metadata": {},
   "source": [
    "8-6 City Names:"
   ]
  },
  {
   "cell_type": "code",
   "execution_count": 1,
   "id": "9296c8fd",
   "metadata": {},
   "outputs": [],
   "source": [
    "def city_country(city,country):\n",
    "    \"\"\"Return formatted city and country\"\"\"\n",
    "    full = f\"{city}, {country}\"\n",
    "    return full.title()    "
   ]
  },
  {
   "cell_type": "code",
   "execution_count": 5,
   "id": "2316167f",
   "metadata": {},
   "outputs": [
    {
     "name": "stdout",
     "output_type": "stream",
     "text": [
      "Bangkok, Thailand\n",
      "Barcelona, Spain\n",
      "Valletta, Malta\n"
     ]
    }
   ],
   "source": [
    "print(city_country('bangkok','thailand'))\n",
    "print(city_country('barcelona','spain'))\n",
    "print(city_country('valletta','malta'))"
   ]
  },
  {
   "cell_type": "markdown",
   "id": "b14a4457",
   "metadata": {},
   "source": [
    "8-7 Album:"
   ]
  },
  {
   "cell_type": "code",
   "execution_count": 15,
   "id": "f3c36219",
   "metadata": {},
   "outputs": [],
   "source": [
    "def make_album(name,title):\n",
    "    \"\"\"Return formatted album\"\"\"\n",
    "    full={'artist_name':name, 'album_title':title}\n",
    "    return full"
   ]
  },
  {
   "cell_type": "code",
   "execution_count": 16,
   "id": "8be009f4",
   "metadata": {},
   "outputs": [
    {
     "name": "stdout",
     "output_type": "stream",
     "text": [
      "{'artist_name': 'LImpératrice', 'album_title': 'Odyssée'}\n",
      "{'artist_name': 'the strokes', 'album_title': 'the new abnormal'}\n"
     ]
    }
   ],
   "source": [
    "print(make_album('LImpératrice','Odyssée' ))\n",
    "print(make_album('the strokes','the new abnormal'))"
   ]
  },
  {
   "cell_type": "code",
   "execution_count": 2,
   "id": "525f91d4",
   "metadata": {},
   "outputs": [],
   "source": [
    "def make_album(name,title,n=None):\n",
    "    \"\"\"Return formatted album\"\"\"\n",
    "    full={'artist_name': name, 'album_title':title}\n",
    "    if n:\n",
    "        full['n']=n\n",
    "    return full"
   ]
  },
  {
   "cell_type": "code",
   "execution_count": 21,
   "id": "4de1d33c",
   "metadata": {},
   "outputs": [
    {
     "data": {
      "text/plain": [
       "{'artist_name': 'the strokes', 'album_title': 'the new abnormal', 'n': 10}"
      ]
     },
     "execution_count": 21,
     "metadata": {},
     "output_type": "execute_result"
    }
   ],
   "source": [
    "make_album('the strokes', 'the new abnormal',n=10)"
   ]
  },
  {
   "cell_type": "markdown",
   "id": "04b15958",
   "metadata": {},
   "source": [
    "8-8 User Albums:"
   ]
  },
  {
   "cell_type": "code",
   "execution_count": 4,
   "id": "ab273f47",
   "metadata": {},
   "outputs": [
    {
     "name": "stdout",
     "output_type": "stream",
     "text": [
      "\n",
      "please enter the name of the artist\n",
      "enter quit if you want to end\n",
      "The artist: the strokes \n",
      "\n",
      "please enter the name of the album\n",
      "The album: the new abnormal \n",
      "{'artist_name': 'the strokes ', 'album_title': 'the new abnormal '}\n",
      "\n",
      "please enter the name of the artist\n",
      "enter quit if you want to end\n",
      "The artist: quit\n"
     ]
    }
   ],
   "source": [
    "while True:\n",
    "    print(\"\\nplease enter the name of the artist\")\n",
    "    print(\"enter quit if you want to end\")\n",
    "    \n",
    "    name = input(\"The artist: \")\n",
    "    if name == 'quit':\n",
    "        break \n",
    "    \n",
    "    \n",
    "    print(\"\\nplease enter the name of the album\")\n",
    "    title = input(\"The album: \")\n",
    "    if title == 'quit':\n",
    "        break\n",
    "        \n",
    "    print(make_album(name,title))\n",
    "    "
   ]
  },
  {
   "cell_type": "markdown",
   "id": "0dd1e067",
   "metadata": {},
   "source": [
    "## Passing a list \n",
    "\n",
    "it is useful/efficient to pass a list to a function and work with the information."
   ]
  },
  {
   "cell_type": "code",
   "execution_count": 5,
   "id": "c113b8fe",
   "metadata": {},
   "outputs": [
    {
     "name": "stdout",
     "output_type": "stream",
     "text": [
      "Hello, Hannah!\n",
      "Hello, Ty!\n",
      "Hello, Margot!\n"
     ]
    }
   ],
   "source": [
    "def greet_users(names):\n",
    "    \"\"\"Print a simple greeting to each user in the list.\"\"\"\n",
    "    for name in names:\n",
    "        msg = f\"Hello, {name.title()}!\"\n",
    "        print(msg)\n",
    "usernames = ['hannah','ty','margot']\n",
    "greet_users(usernames)"
   ]
  },
  {
   "cell_type": "markdown",
   "id": "45780c61",
   "metadata": {},
   "source": [
    "define function to expect as a list of names, which it assigns to the parameter names. the function loops through the list it receives and prints a greeting to each other."
   ]
  },
  {
   "cell_type": "markdown",
   "id": "f59aa945",
   "metadata": {},
   "source": [
    "### 1. Modifying a list in a function \n",
    "\n",
    "- Task: Designs that need to be printed are stored in a list, and after being printed they are moved to a sepearate list.\n",
    "- the while loop remove each design from the end of the list and store it in current_design, and display a message that the current design is being printed!\n",
    "- adds the current design to the list of completed models.\n",
    "- the loop is finished running when there is nothing left in unprinted_designs. a list of the designs that have been printed is displayed. "
   ]
  },
  {
   "cell_type": "code",
   "execution_count": 6,
   "id": "4c10372c",
   "metadata": {},
   "outputs": [
    {
     "name": "stdout",
     "output_type": "stream",
     "text": [
      "Printing model: dodecahedron\n",
      "Printing model: robot pendant\n",
      "Printing model: phone case\n",
      "\n",
      "The following models have been printed:\n",
      "dodecahedron\n",
      "robot pendant\n",
      "phone case\n"
     ]
    }
   ],
   "source": [
    "unprinted_designs = ['phone case','robot pendant','dodecahedron']\n",
    "completed_models = []\n",
    "\n",
    "while unprinted_designs:\n",
    "    current_design = unprinted_designs.pop()\n",
    "    print(f\"Printing model: {current_design}\")\n",
    "    completed_models.append(current_design)\n",
    "    \n",
    "# Display all completed models\n",
    "print(\"\\nThe following models have been printed:\")\n",
    "for completed_model in completed_models:\n",
    "    print(completed_model)"
   ]
  },
  {
   "cell_type": "markdown",
   "id": "44666a04",
   "metadata": {},
   "source": [
    "**Change them to functions**\n",
    "- We define print_models() with two parameters: a list of designs that need to be printed and a list of completed models. \n",
    "- we then define the function show_completed_models() with one parameter: the lsit of completed models and displays the name of each models that was printed. \n",
    "- same output as the version w/ functions, but the code now is much more organized\n",
    "- every function should have one specifc job, so you could call first function to print the design and the second to display the completed models. "
   ]
  },
  {
   "cell_type": "code",
   "execution_count": 7,
   "id": "8995daeb",
   "metadata": {},
   "outputs": [
    {
     "name": "stdout",
     "output_type": "stream",
     "text": [
      "Printing model: dodecahedron\n",
      "Printing model: robot pendant\n",
      "Printing model: phone case\n",
      "\n",
      "The following models have been printed: \n",
      "dodecahedron\n",
      "robot pendant\n",
      "phone case\n"
     ]
    }
   ],
   "source": [
    "def print_models(unprinted_designs, completed_models):\n",
    "    \"\"\"\n",
    "    Simulate printing each design, until none are left.\n",
    "    Move each design to completed_models after printing.\n",
    "    \"\"\"\n",
    "    while unprinted_designs:\n",
    "        current_design = unprinted_designs.pop()\n",
    "        print(f\"Printing model: {current_design}\")\n",
    "        completed_models.append(current_design)\n",
    "\n",
    "def show_completed_models(completed_models):\n",
    "    \"\"\"Show all the models that were printed.\"\"\"\n",
    "    print(\"\\nThe following models have been printed: \")\n",
    "    for completed_model in completed_models:\n",
    "        print(completed_model)\n",
    "unprinted_designs = ['phone case','robot pendant','dodecahedron']\n",
    "completed_models = []\n",
    "\n",
    "print_models(unprinted_designs,completed_models)\n",
    "show_completed_models(completed_models)"
   ]
  },
  {
   "cell_type": "markdown",
   "id": "4b85764d",
   "metadata": {},
   "source": [
    "### 2. Preventing a function from modifying a list\n",
    "\n",
    "you want to keep the original list. For example, you may want to keep the original list of unprinted designs for your records not the empty one. we can pass the function a copy of the list, not the original."
   ]
  },
  {
   "cell_type": "code",
   "execution_count": 8,
   "id": "c3270cfb",
   "metadata": {},
   "outputs": [],
   "source": [
    "print_models(unprinted_designs[:],completed_models)"
   ]
  },
  {
   "cell_type": "markdown",
   "id": "6cfe88b4",
   "metadata": {},
   "source": [
    "- the slice notion [:] makes a copy of the list to send to the function.\n",
    "- It is more efficient for a function to work with an existing list to avoid using the time and the memory needed to make a separate copy.  "
   ]
  },
  {
   "cell_type": "markdown",
   "id": "ad779760",
   "metadata": {},
   "source": [
    "**Try it yourself 4**"
   ]
  },
  {
   "cell_type": "markdown",
   "id": "1d565f01",
   "metadata": {},
   "source": [
    "**8-9 Messages**"
   ]
  },
  {
   "cell_type": "code",
   "execution_count": 9,
   "id": "ae458dff",
   "metadata": {},
   "outputs": [
    {
     "name": "stdout",
     "output_type": "stream",
     "text": [
      "I hope this will work in the end\n",
      "I am so tired every day\n",
      "I guess that is life\n"
     ]
    }
   ],
   "source": [
    "life_quotes = ['I hope this will work in the end','I am so tired every day','I guess that is life']\n",
    "\n",
    "def show_message(quotes):\n",
    "    for quote in quotes:\n",
    "        print(quote)\n",
    "\n",
    "show_message(life_quotes)"
   ]
  },
  {
   "cell_type": "markdown",
   "id": "c539f689",
   "metadata": {},
   "source": [
    "**8-10 Sending messages**"
   ]
  },
  {
   "cell_type": "code",
   "execution_count": 15,
   "id": "5e5df9a0",
   "metadata": {},
   "outputs": [],
   "source": [
    "life_quotes = ['I hope this will work in the end','I am so tired every day','I guess that is life']\n",
    "sent_messages=[]\n",
    "def send_message(quotes):\n",
    "    \"\"\"\n",
    "    move the messages to sent and print all messages\n",
    "    \"\"\"\n",
    "    while quotes:\n",
    "        messages = quotes.pop()\n",
    "        print(f\"Current messages: {messages}\")\n",
    "        sent_messages.append(messages)\n",
    "    print(\"\\nThe following messages are: \")\n",
    "    for message in sent_messages:\n",
    "        print(message)"
   ]
  },
  {
   "cell_type": "code",
   "execution_count": 16,
   "id": "fdd35fbb",
   "metadata": {},
   "outputs": [
    {
     "name": "stdout",
     "output_type": "stream",
     "text": [
      "Current messages: I guess that is life\n",
      "Current messages: I am so tired every day\n",
      "Current messages: I hope this will work in the end\n",
      "\n",
      "The following messages are: \n",
      "I guess that is life\n",
      "I am so tired every day\n",
      "I hope this will work in the end\n"
     ]
    }
   ],
   "source": [
    "send_message(life_quotes)"
   ]
  },
  {
   "cell_type": "code",
   "execution_count": 17,
   "id": "aaf36067",
   "metadata": {},
   "outputs": [
    {
     "data": {
      "text/plain": [
       "[]"
      ]
     },
     "execution_count": 17,
     "metadata": {},
     "output_type": "execute_result"
    }
   ],
   "source": [
    "life_quotes"
   ]
  },
  {
   "cell_type": "code",
   "execution_count": 18,
   "id": "febe8433",
   "metadata": {},
   "outputs": [
    {
     "data": {
      "text/plain": [
       "['I guess that is life',\n",
       " 'I am so tired every day',\n",
       " 'I hope this will work in the end']"
      ]
     },
     "execution_count": 18,
     "metadata": {},
     "output_type": "execute_result"
    }
   ],
   "source": [
    "sent_messages"
   ]
  },
  {
   "cell_type": "markdown",
   "id": "d8a8ae36",
   "metadata": {},
   "source": [
    "**8-11 Archived Messages**"
   ]
  },
  {
   "cell_type": "code",
   "execution_count": 20,
   "id": "d9b206f2",
   "metadata": {},
   "outputs": [
    {
     "name": "stdout",
     "output_type": "stream",
     "text": [
      "Current messages: I guess that is life\n",
      "Current messages: I am so tired every day\n",
      "Current messages: I hope this will work in the end\n",
      "\n",
      "The following messages are: \n",
      "I guess that is life\n",
      "I am so tired every day\n",
      "I hope this will work in the end\n"
     ]
    }
   ],
   "source": [
    "life_quotes = ['I hope this will work in the end','I am so tired every day','I guess that is life']\n",
    "sent_messages=[]\n",
    "send_message(life_quotes[:])"
   ]
  },
  {
   "cell_type": "code",
   "execution_count": 21,
   "id": "af192974",
   "metadata": {},
   "outputs": [
    {
     "data": {
      "text/plain": [
       "['I hope this will work in the end',\n",
       " 'I am so tired every day',\n",
       " 'I guess that is life']"
      ]
     },
     "execution_count": 21,
     "metadata": {},
     "output_type": "execute_result"
    }
   ],
   "source": [
    "life_quotes"
   ]
  },
  {
   "cell_type": "code",
   "execution_count": 22,
   "id": "2a7a3323",
   "metadata": {},
   "outputs": [
    {
     "data": {
      "text/plain": [
       "['I guess that is life',\n",
       " 'I am so tired every day',\n",
       " 'I hope this will work in the end']"
      ]
     },
     "execution_count": 22,
     "metadata": {},
     "output_type": "execute_result"
    }
   ],
   "source": [
    "sent_messages"
   ]
  },
  {
   "cell_type": "markdown",
   "id": "7a5b0317",
   "metadata": {},
   "source": [
    "## Passing an Arbitrary number of arguments "
   ]
  },
  {
   "cell_type": "markdown",
   "id": "e2fa5bf3",
   "metadata": {},
   "source": [
    "Sometimes we won't know how many arguments a function needs to accept. Python allows a function to collect an arbitrary number of arguments from the calling statement."
   ]
  },
  {
   "cell_type": "code",
   "execution_count": 23,
   "id": "e5261cd0",
   "metadata": {},
   "outputs": [
    {
     "name": "stdout",
     "output_type": "stream",
     "text": [
      "('pepperoni',)\n",
      "('mushrooms', 'green peppers', 'extra cheese')\n"
     ]
    }
   ],
   "source": [
    "def make_pizza(*toppings):\n",
    "    \"\"\"Print the list of toppings that have been requested.\"\"\"\n",
    "    print(toppings)\n",
    "\n",
    "make_pizza('pepperoni')\n",
    "make_pizza('mushrooms','green peppers','extra cheese')"
   ]
  },
  {
   "cell_type": "markdown",
   "id": "fad3781a",
   "metadata": {},
   "source": [
    "The * in the parameter tells Python to make a tuple called toppings, containing all the values this function receives. It packs the arguments into a tuple, even if the function receives only one value."
   ]
  },
  {
   "cell_type": "code",
   "execution_count": 24,
   "id": "311b80c0",
   "metadata": {},
   "outputs": [
    {
     "name": "stdout",
     "output_type": "stream",
     "text": [
      "\n",
      "Making a pizza with the following toppings:\n",
      "- pepperoni\n",
      "\n",
      "Making a pizza with the following toppings:\n",
      "- mushroom\n",
      "- green peppers\n",
      "- extra cheese\n"
     ]
    }
   ],
   "source": [
    "def make_pizza(*toppings):\n",
    "    \"\"\"Summarize the pizza we are about to make.\"\"\"\n",
    "    print(\"\\nMaking a pizza with the following toppings:\")\n",
    "    for topping in toppings:\n",
    "        print(f\"- {topping}\")\n",
    "        \n",
    "make_pizza('pepperoni')\n",
    "make_pizza('mushroom','green peppers','extra cheese')"
   ]
  },
  {
   "cell_type": "markdown",
   "id": "25491594",
   "metadata": {},
   "source": [
    "### 1. Mixing Positional and Arbitrary Arguments "
   ]
  },
  {
   "cell_type": "markdown",
   "id": "99dfa39e",
   "metadata": {},
   "source": [
    "If we want a function to accept several arguments, the parameter that accepts an arbitrary number of arguments must be placed last in the function definition. \n",
    "\n",
    "Python mataches positional and keyword arguments first and then **collects any remaining arguments** in the final parameter!"
   ]
  },
  {
   "cell_type": "code",
   "execution_count": 26,
   "id": "201daf7c",
   "metadata": {},
   "outputs": [
    {
     "name": "stdout",
     "output_type": "stream",
     "text": [
      "\n",
      "Making a 16-inch pizza with the following toppings:\n",
      "- pepperoni\n",
      "\n",
      "Making a 12-inch pizza with the following toppings:\n",
      "- mushroom\n",
      "- green peppers\n",
      "- extra cheese\n"
     ]
    }
   ],
   "source": [
    "def make_pizza(size, *toppings):\n",
    "    \"\"\"Summarize the pizza we are about to make.\"\"\"\n",
    "    print(f\"\\nMaking a {size}-inch pizza with the following toppings:\")\n",
    "    for topping in toppings:\n",
    "        print(f\"- {topping}\")\n",
    "make_pizza(16, 'pepperoni')\n",
    "make_pizza(12, 'mushroom','green peppers','extra cheese')"
   ]
  },
  {
   "cell_type": "markdown",
   "id": "fde01007",
   "metadata": {},
   "source": [
    "Python assigns the first value it receives to the parameter size. all other values that come after are stored in the tuple toppings. \n",
    "\n",
    "We will often see the generic parameter name **args* which collects arbitrary positional arguments like this!"
   ]
  },
  {
   "cell_type": "markdown",
   "id": "0547a18a",
   "metadata": {},
   "source": [
    "### 2. Using Arbitrary Keyword Arguments "
   ]
  },
  {
   "cell_type": "markdown",
   "id": "2d9cc543",
   "metadata": {},
   "source": [
    "Sometimes we will not know ahead of time what kind of information will be passed to the function. We can write functions that accept many **key-value pairs** as the calling statement provides"
   ]
  },
  {
   "cell_type": "code",
   "execution_count": 27,
   "id": "876d4625",
   "metadata": {},
   "outputs": [
    {
     "name": "stdout",
     "output_type": "stream",
     "text": [
      "{'location': 'princeton', 'field': 'physics', 'first_name': 'albert', 'last_name': 'einstein'}\n"
     ]
    }
   ],
   "source": [
    "def build_profile(first, last, **user_info):\n",
    "    \"\"\"Build a dictionary containing everything we know abt a user.\"\"\"\n",
    "    user_info['first_name'] = first\n",
    "    user_info['last_name'] = last\n",
    "    return user_info\n",
    "\n",
    "user_profile = build_profile('albert','einstein',\n",
    "                             location ='princeton',\n",
    "                             field='physics')\n",
    "print(user_profile)\n",
    "    "
   ]
  },
  {
   "cell_type": "markdown",
   "id": "079e4c06",
   "metadata": {},
   "source": [
    "- the double asterisks before the parameter *\\*user_info cause Python to create a dictionary called user_info containing all the extra name-value paris the function receives.\n",
    "- We assigns the additional key-value pairs later. \n",
    "- People like to use the parameter name *\\*\\*kwargs* to collect nonspecific keyword arguments."
   ]
  },
  {
   "cell_type": "markdown",
   "id": "9ac4ba2e",
   "metadata": {},
   "source": [
    "**Try it yourself 4**"
   ]
  },
  {
   "cell_type": "markdown",
   "id": "1c87c626",
   "metadata": {},
   "source": [
    "8-12 sandwiches:"
   ]
  },
  {
   "cell_type": "code",
   "execution_count": 31,
   "id": "d2a71cbb",
   "metadata": {},
   "outputs": [
    {
     "name": "stdout",
     "output_type": "stream",
     "text": [
      "The sandwich I'll order When I am on my cheat day\n",
      "the following toppings are:\n",
      "tomatoes\n",
      "lettuce\n",
      "cheese\n",
      "more cheese\n",
      "mayo\n",
      "cream cheese\n",
      "\n",
      "The sandwich I'll order when I am on my normay days!\n",
      "the following toppings are:\n",
      "tomatoes\n",
      "lettuce\n",
      "shreded chicken\n",
      "mustard\n",
      "salt\n"
     ]
    }
   ],
   "source": [
    "def sandwich_toppings(*toppings):\n",
    "    \"\"\"print a summary of the sandwich that's being ordered.\"\"\"\n",
    "    print(\"the following toppings are:\")\n",
    "    for topping in toppings:\n",
    "        print(topping)\n",
    "print(\"The sandwich I'll order When I am on my cheat day\")\n",
    "sandwich_toppings('tomatoes','lettuce','cheese','more cheese','mayo','cream cheese')\n",
    "print(\"\\nThe sandwich I'll order when I am on my normay days!\")\n",
    "sandwich_toppings('tomatoes','lettuce','shreded chicken','mustard','salt')"
   ]
  },
  {
   "cell_type": "markdown",
   "id": "19273ff9",
   "metadata": {},
   "source": [
    "8-13 user profile"
   ]
  },
  {
   "cell_type": "code",
   "execution_count": 33,
   "id": "195748af",
   "metadata": {},
   "outputs": [],
   "source": [
    "def build_profile(first, last, **user_info):\n",
    "    \"\"\"Build a dictionary containing everything we know about a user.\"\"\"\n",
    "    user_info['first_name'] = first\n",
    "    user_info['last_name'] = last\n",
    "    return user_info\n",
    "me = build_profile('Francesca','Tan',location = 'shanghai',height = 167,\n",
    "                   weight=56,status='broke',age=25,\n",
    "                   mental_status='Not stable',mbti='ENTJ',\n",
    "                   favorite_quotes='I guess it is too late')"
   ]
  },
  {
   "cell_type": "code",
   "execution_count": 34,
   "id": "faca041b",
   "metadata": {},
   "outputs": [
    {
     "data": {
      "text/plain": [
       "{'location': 'shanghai',\n",
       " 'height': 167,\n",
       " 'weight': 56,\n",
       " 'status': 'broke',\n",
       " 'age': 25,\n",
       " 'mental_status': 'Not stable',\n",
       " 'mbti': 'ENTJ',\n",
       " 'favorite_quotes': 'I guess it is too late',\n",
       " 'first_name': 'Francesca',\n",
       " 'last_name': 'Tan'}"
      ]
     },
     "execution_count": 34,
     "metadata": {},
     "output_type": "execute_result"
    }
   ],
   "source": [
    "me"
   ]
  },
  {
   "cell_type": "markdown",
   "id": "49665cd0",
   "metadata": {},
   "source": [
    "8-14 cars"
   ]
  },
  {
   "cell_type": "code",
   "execution_count": 35,
   "id": "8bb31292",
   "metadata": {},
   "outputs": [
    {
     "data": {
      "text/plain": [
       "{'color': 'blue',\n",
       " 'tow_package': True,\n",
       " 'manufacturer': 'subaru',\n",
       " 'model': 'outback'}"
      ]
     },
     "execution_count": 35,
     "metadata": {},
     "output_type": "execute_result"
    }
   ],
   "source": [
    "def make_car(manufacturer,model,**car_info):\n",
    "    \"\"\"Build a dictionary to store the information about a car\"\"\"\n",
    "    car_info['manufacturer'] = manufacturer\n",
    "    car_info['model']= model\n",
    "    return car_info\n",
    "make_car('subaru','outback',color='blue',tow_package=True)\n",
    "    "
   ]
  },
  {
   "cell_type": "markdown",
   "id": "74d312b3",
   "metadata": {},
   "source": [
    "## Storing your functions in modules "
   ]
  },
  {
   "cell_type": "markdown",
   "id": "6fb877ed",
   "metadata": {},
   "source": [
    "A **module** is a file ending in .py that contains the code you want to import in the program.\n",
    "- why it is useful?: store your functions in separate file allows you to focus on its higher-level logic not the detail of the code and reuse them in many different programs."
   ]
  },
  {
   "cell_type": "code",
   "execution_count": null,
   "id": "9dcbbf90",
   "metadata": {},
   "outputs": [],
   "source": [
    "def make_pizza(size,*toppings):\n",
    "    \"\"\"Summarize the pizza we are about to make.\"\"\"\n",
    "    print(f\"\\nMaking a {size}-inch pizza with the following toppings:\")\n",
    "    for topping in toppings:\n",
    "        print(f\"-{topping}\")"
   ]
  },
  {
   "cell_type": "markdown",
   "id": "ce4f252c",
   "metadata": {},
   "source": [
    "### 1. importing an entire module "
   ]
  },
  {
   "cell_type": "markdown",
   "id": "ff15f311",
   "metadata": {},
   "source": [
    "The line import pizza tells python to open the file pizza.py and copy all the functions from it into this program we are working. \n",
    "- call a function by enter the name of the module you imported, pizza, followed by the name of the function, make_pizza(), separated by a dot.\n",
    "- *module_name*.*function_name()*"
   ]
  },
  {
   "cell_type": "code",
   "execution_count": null,
   "id": "4f48a9b9",
   "metadata": {},
   "outputs": [],
   "source": [
    "import pizza\n",
    "pizza.make_pizza(16,'pep')"
   ]
  },
  {
   "cell_type": "markdown",
   "id": "2ab865f6",
   "metadata": {},
   "source": [
    "### 2. importing specific functions "
   ]
  },
  {
   "cell_type": "markdown",
   "id": "ed7f4ea0",
   "metadata": {},
   "source": [
    "- we dont need to use the dot notation since we have explicitly imported the function make_pizza() in the import statement.\n",
    "\n",
    "- from *module_name* import *function_name*"
   ]
  },
  {
   "cell_type": "code",
   "execution_count": null,
   "id": "0ffe9c08",
   "metadata": {},
   "outputs": [],
   "source": [
    "from pizza import make_pizza\n",
    "make_pizza(16,'pep')"
   ]
  },
  {
   "cell_type": "markdown",
   "id": "2afe864d",
   "metadata": {},
   "source": [
    "### 3. Using as to give a function an Alias"
   ]
  },
  {
   "cell_type": "markdown",
   "id": "58c1d44e",
   "metadata": {},
   "source": [
    "- allows you to focus on more the function names and what they do. increase readability of your code!\n",
    "- import *module_name* as mn"
   ]
  },
  {
   "cell_type": "code",
   "execution_count": null,
   "id": "f817dfeb",
   "metadata": {},
   "outputs": [],
   "source": [
    "import pizza as p\n",
    "p.make_pizza(16,'pep')"
   ]
  },
  {
   "cell_type": "markdown",
   "id": "20ac527b",
   "metadata": {},
   "source": [
    "### 4. Importing all functions in a module"
   ]
  },
  {
   "cell_type": "markdown",
   "id": "5441d4a1",
   "metadata": {},
   "source": [
    "- import every function in a module by using the * operator\n",
    "- from *module_name* import *\n",
    "- it is best not to use this when we work with larger modules that we did not write.\n",
    "- Python can overwrite the functions if we have the same function names."
   ]
  },
  {
   "cell_type": "code",
   "execution_count": null,
   "id": "0ca086ff",
   "metadata": {},
   "outputs": [],
   "source": [
    "from pizza import *\n",
    "make_pizza(16,'pep')"
   ]
  },
  {
   "cell_type": "markdown",
   "id": "2692d2bc",
   "metadata": {},
   "source": [
    "## Styling Functions "
   ]
  },
  {
   "cell_type": "markdown",
   "id": "a5a5d466",
   "metadata": {},
   "source": [
    "1. Functions should have descriptive names, and these names should use lowercase letters and underscores. \n",
    "2. Every function should have a comment that explains what the function does with docstring format and appear immediately after the function definition. \n",
    "3. If you specify a default value for a parameter, no spaces should be used on either side of the equal sign:"
   ]
  },
  {
   "cell_type": "code",
   "execution_count": null,
   "id": "84b6810a",
   "metadata": {},
   "outputs": [],
   "source": [
    "def function_name(parameter_0, parameter_1='default value')"
   ]
  },
  {
   "cell_type": "markdown",
   "id": "ef0962c6",
   "metadata": {},
   "source": [
    "4. limit lines of code to 79 characters, press ENTER after the opening parenthesis and press the TAB key twice to seperate the list of arguments from the body of the function."
   ]
  },
  {
   "cell_type": "code",
   "execution_count": null,
   "id": "d503cc2f",
   "metadata": {},
   "outputs": [],
   "source": [
    "def function_name(\n",
    "        param0,param1,param2,\n",
    "        param3,param4,param5):\n",
    "    function body...."
   ]
  },
  {
   "cell_type": "markdown",
   "id": "3670006e",
   "metadata": {},
   "source": [
    "5. if have more than one function, separate each by two blank lines to make it easier to see where one function ends and the next one begins.\n",
    "6. all *import* statements should be written at the beginning of a file except when you have comments at the beginning of your file. "
   ]
  },
  {
   "cell_type": "markdown",
   "id": "6a2e67b4",
   "metadata": {},
   "source": [
    "**Try it yourself5**"
   ]
  },
  {
   "cell_type": "markdown",
   "id": "8fe19c4a",
   "metadata": {},
   "source": [
    "8-15: printing models:"
   ]
  },
  {
   "cell_type": "code",
   "execution_count": 36,
   "id": "20af2bb3",
   "metadata": {},
   "outputs": [
    {
     "name": "stdout",
     "output_type": "stream",
     "text": [
      "Writing printing_functions.py\n"
     ]
    }
   ],
   "source": [
    "%%writefile printing_functions.py\n",
    "def print_models(unprinted_designs, completed_models):\n",
    "    \"\"\"\n",
    "    Simulate printing each design, until none are left.\n",
    "    Move each design to completed_models after printing.\n",
    "    \"\"\"\n",
    "    while unprinted_designs:\n",
    "        current_design = unprinted_designs.pop()\n",
    "        print(f\"Printing model: {current_design}\")\n",
    "        completed_models.append(current_design)\n",
    "\n",
    "def show_completed_models(completed_models):\n",
    "    \"\"\"Show all the models that were printed.\"\"\"\n",
    "    print(\"\\nThe following models have been printed: \")\n",
    "    for completed_model in completed_models:\n",
    "        print(completed_model)"
   ]
  },
  {
   "cell_type": "code",
   "execution_count": 38,
   "id": "2b35c320",
   "metadata": {},
   "outputs": [
    {
     "name": "stdout",
     "output_type": "stream",
     "text": [
      "Printing model: denim\n",
      "Printing model: cats\n",
      "Printing model: flower\n"
     ]
    }
   ],
   "source": [
    "import printing_functions as pf\n",
    "pf.print_models(['flower','cats','denim'],[])"
   ]
  },
  {
   "cell_type": "markdown",
   "id": "9ca242ea",
   "metadata": {},
   "source": [
    "8-16 Imports:"
   ]
  },
  {
   "cell_type": "code",
   "execution_count": 1,
   "id": "ba0a584d",
   "metadata": {},
   "outputs": [
    {
     "name": "stdout",
     "output_type": "stream",
     "text": [
      "Printing model: dogs\n",
      "Printing model: hat\n",
      "Printing model: flower\n"
     ]
    }
   ],
   "source": [
    "from printing_functions import print_models\n",
    "from printing_functions import print_models as pm\n",
    "print_models(['flower','hat','dogs'],[])"
   ]
  },
  {
   "cell_type": "code",
   "execution_count": null,
   "id": "facd7188",
   "metadata": {},
   "outputs": [],
   "source": [
    "import printing_functions as pf\n",
    "from printing_functions import *"
   ]
  },
  {
   "cell_type": "markdown",
   "id": "bbb25f8c",
   "metadata": {},
   "source": [
    "8-17: styling functions!"
   ]
  }
 ],
 "metadata": {
  "kernelspec": {
   "display_name": "Python 3 (ipykernel)",
   "language": "python",
   "name": "python3"
  },
  "language_info": {
   "codemirror_mode": {
    "name": "ipython",
    "version": 3
   },
   "file_extension": ".py",
   "mimetype": "text/x-python",
   "name": "python",
   "nbconvert_exporter": "python",
   "pygments_lexer": "ipython3",
   "version": "3.8.18"
  }
 },
 "nbformat": 4,
 "nbformat_minor": 5
}
